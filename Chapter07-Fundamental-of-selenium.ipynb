{
 "cells": [
  {
   "cell_type": "markdown",
   "metadata": {},
   "source": [
    "# Selenium\n",
    "\n",
    "自动化测试工具，支持多种浏览器。主要用来解决JavaScript渲染问题\n",
    "\n",
    "本章内容：\n",
    "- [基本使用](#基本使用)\n",
    "- [声明浏览器对象](#声明浏览器对象)\n",
    "- [访问页面](#访问页面)\n",
    "- [查找元素](#查找元素)\n",
    "    - [单个元素](#单个元素)\n",
    "    - [多个元素](#多个元素)"
   ]
  },
  {
   "cell_type": "markdown",
   "metadata": {},
   "source": [
    "## 基本使用"
   ]
  },
  {
   "cell_type": "code",
   "execution_count": 6,
   "metadata": {},
   "outputs": [
    {
     "name": "stdout",
     "output_type": "stream",
     "text": [
      "https://www.baidu.com/s?ie=utf-8&f=8&rsv_bp=1&rsv_idx=1&tn=baidu&wd=English%20speeking&rsv_pq=cf299b8a006d756a&rsv_t=a13fD6g4fnCt0fOzBd1mVq%2FBu8l2wTZnSL1Y1pCA9TIwZZdwnM9a0jvUVrE&rqlang=cn&rsv_enter=1&rsv_dl=tb&rsv_sug3=16&rsv_sug2=0&inputT=159&rsv_sug4=159\n",
      "[{'domain': 'baidu.com', 'httpOnly': False, 'secure': False, 'value': '1', 'name': 'PSINO', 'path': '/'}, {'domain': 'www.baidu.com', 'httpOnly': False, 'secure': False, 'value': '1', 'name': 'BD_CK_SAM', 'path': '/'}, {'domain': 'baidu.com', 'httpOnly': False, 'secure': False, 'value': '1441_21083_29074_29522_29519_28518_29098_29567_28832_29220_26350', 'name': 'H_PS_PSSID', 'path': '/'}, {'domain': 'baidu.com', 'httpOnly': False, 'secure': False, 'value': '15DD077A47532A30579D7BDED3DBECF3', 'expiry': 3711934537.317591, 'name': 'BIDUPSID', 'path': '/'}, {'domain': 'baidu.com', 'httpOnly': False, 'secure': False, 'value': '0', 'name': 'delPer', 'path': '/'}, {'domain': 'baidu.com', 'httpOnly': False, 'secure': False, 'value': '1564450891', 'expiry': 3711934537.317607, 'name': 'PSTM', 'path': '/'}, {'domain': 'www.baidu.com', 'httpOnly': False, 'secure': False, 'value': 'b28e0Dh2RwijSbY%2FN01WIeVF4pDNEcx1uoNOqK6j2X8B2WneUWZ%2BmlcfIKk', 'expiry': 1564453483, 'name': 'H_PS_645EC', 'path': '/'}, {'domain': 'baidu.com', 'httpOnly': False, 'secure': False, 'value': 'B490B5EBF6F3CD402E515D22BCDA1598', 'expiry': 1564537291.404056, 'name': 'BDORZ', 'path': '/'}, {'domain': 'www.baidu.com', 'httpOnly': False, 'secure': False, 'value': '12314753', 'expiry': 1565314890, 'name': 'BD_UPN', 'path': '/'}, {'domain': 'www.baidu.com', 'httpOnly': False, 'secure': False, 'value': '0', 'name': 'BD_HOME', 'path': '/'}, {'domain': 'baidu.com', 'httpOnly': False, 'secure': False, 'value': '15DD077A47532A30579D7BDED3DBECF3:FG=1', 'expiry': 3711934537.317541, 'name': 'BAIDUID', 'path': '/'}]\n"
     ]
    }
   ],
   "source": [
    "from selenium import webdriver\n",
    "from selenium.webdriver.common.by import By\n",
    "from selenium.webdriver.common.keys import Keys\n",
    "from selenium.webdriver.support import expected_conditions as EC\n",
    "from selenium.webdriver.support.wait import WebDriverWait\n",
    "\n",
    "browser = webdriver.Chrome()\n",
    "try:\n",
    "    browser.get(\"https://www.baidu.com\")\n",
    "    input = browser.find_element_by_id('kw') # 找到搜索框\n",
    "    input.send_keys('English speeking' + Keys.ENTER) # 输入'English speeking'，并发送回车键\n",
    "    wait = WebDriverWait(browser, 10) # 等待10秒\n",
    "    wait.until(EC.presence_of_element_located((By.ID, 'content_left'))) # 直到 DOM元素的ID为‘content_left’出现\n",
    "    print(browser.current_url)   # 打印当前的url\n",
    "    print(browser.get_cookies()) # 打印cookies\n",
    "#     print(browser.page_source) # 打印网页源代码\n",
    "finally:\n",
    "    browser.close() # 关闭浏览器"
   ]
  },
  {
   "cell_type": "markdown",
   "metadata": {},
   "source": [
    "## 声明浏览器对象"
   ]
  },
  {
   "cell_type": "code",
   "execution_count": null,
   "metadata": {},
   "outputs": [],
   "source": [
    "from selenium import webdriver\n",
    "\n",
    "chrome = webdriver.Chrome()\n",
    "firfox = webdriver.Firfox()\n",
    "safari = webdriver.Safari()\n",
    "edge = webdriver.Edge()\n",
    "ie = webdriver.Ie()\n",
    "opera = webdriver.Opera()\n",
    "phantomjs = webdriver.PhantomJS()"
   ]
  },
  {
   "cell_type": "markdown",
   "metadata": {},
   "source": [
    "## 访问页面"
   ]
  },
  {
   "cell_type": "code",
   "execution_count": 13,
   "metadata": {},
   "outputs": [
    {
     "name": "stdout",
     "output_type": "stream",
     "text": [
      "浏览器已打开\n",
      "https://www.taobao.com/\n",
      "[{'domain': 'taobao.com', 'httpOnly': True, 'secure': False, 'value': '18797bf8924c663deb1192f8be8a1629', 'name': 'cookie2', 'path': '/'}, {'domain': 'taobao.com', 'httpOnly': False, 'secure': False, 'value': '3ee3e05766768', 'name': '_tb_token_', 'path': '/'}, {'domain': 'taobao.com', 'httpOnly': False, 'secure': False, 'value': 'BJOTxcIlyoVhsobRhV0YNWAgKRe9SCcKaQfcykWw77LpxLNmzRi3WvEW-j2q5H8C', 'expiry': 1580007101, 'name': 'isg', 'path': '/'}, {'domain': 'taobao.com', 'httpOnly': False, 'secure': False, 'value': 'vp7GFcy+H2ICAXWt2d7cAhP/', 'expiry': 2195175102, 'name': 'cna', 'path': '/'}, {'domain': 'taobao.com', 'httpOnly': False, 'secure': False, 'value': 'cn', 'expiry': 1595991101.682661, 'name': 'thw', 'path': '/'}, {'domain': 'taobao.com', 'httpOnly': False, 'secure': False, 'value': '0', 'name': 'v', 'path': '/'}, {'domain': 'taobao.com', 'httpOnly': False, 'secure': False, 'value': 'd3c715564224a95806681b074dfe771b', 'expiry': 1572231102.270123, 'name': 't', 'path': '/'}]\n",
      "浏览器已关闭\n"
     ]
    }
   ],
   "source": [
    "from selenium import webdriver\n",
    "from selenium.webdriver.chrome.options import Options\n",
    "\n",
    "# 设置Chrome的headless模式\n",
    "chrome_options = Options()\n",
    "chrome_options.add_argument(\"--headless\")\n",
    "\n",
    "chrome = webdriver.Chrome(options=chrome_options)\n",
    "\n",
    "chrome.get(\"https://www.taobao.com\")\n",
    "print(\"浏览器已打开\")\n",
    "print(chrome.current_url)\n",
    "print(chrome.get_cookies())\n",
    "chrome.close()\n",
    "print(\"浏览器已关闭\")"
   ]
  },
  {
   "cell_type": "markdown",
   "metadata": {},
   "source": [
    "## 查找元素\n",
    "\n",
    "### 单个元素"
   ]
  },
  {
   "cell_type": "code",
   "execution_count": 18,
   "metadata": {},
   "outputs": [
    {
     "name": "stdout",
     "output_type": "stream",
     "text": [
      "浏览器已打开\n",
      "<selenium.webdriver.remote.webelement.WebElement (session=\"cd631433c4d7db1dc02eb5e7791fefde\", element=\"d5965a52-b5a3-4671-a254-8b5b22742eb1\")>\n",
      "<selenium.webdriver.remote.webelement.WebElement (session=\"cd631433c4d7db1dc02eb5e7791fefde\", element=\"d5965a52-b5a3-4671-a254-8b5b22742eb1\")>\n",
      "<selenium.webdriver.remote.webelement.WebElement (session=\"cd631433c4d7db1dc02eb5e7791fefde\", element=\"d5965a52-b5a3-4671-a254-8b5b22742eb1\")>\n",
      "浏览器已关闭\n"
     ]
    }
   ],
   "source": [
    "from selenium import webdriver\n",
    "from selenium.webdriver.chrome.options import Options\n",
    "\n",
    "# 设置Chrome的headless模式\n",
    "chrome_options = Options()\n",
    "chrome_options.add_argument(\"--headless\")\n",
    "\n",
    "chrome = webdriver.Chrome(options=chrome_options)\n",
    "\n",
    "chrome.get(\"https://www.taobao.com\")\n",
    "print(\"浏览器已打开\")\n",
    "\n",
    "input_first = chrome.find_element_by_id('q')\n",
    "input_second = chrome.find_element_by_css_selector('#q')\n",
    "input_third = chrome.find_element_by_xpath('//*[@id=\"q\"]')\n",
    "print(input_first, input_second, input_third, sep=\"\\n\")\n",
    "chrome.close()\n",
    "print(\"浏览器已关闭\")"
   ]
  },
  {
   "cell_type": "markdown",
   "metadata": {},
   "source": [
    "查找单个元素的一些方法：\n",
    "- find_element(by='id', value=None)\n",
    "- find_element_by_name(name)\n",
    "- find_element_by_css_selector(css_selector)\n",
    "- find_element_by_id(id_)\n",
    "- find_element_by_link_text(link_text)\n",
    "- find_element_by_class_name(name)\n",
    "- find_element_by_xpath(xpath)\n",
    "- find_element_by_tag_name(name)\n",
    "- find_element_by_partial_link_text(link_text)\n"
   ]
  },
  {
   "cell_type": "code",
   "execution_count": 1,
   "metadata": {},
   "outputs": [
    {
     "name": "stdout",
     "output_type": "stream",
     "text": [
      "浏览器已打开\n",
      "<selenium.webdriver.remote.webelement.WebElement (session=\"a7a96c27fd3c41d606d52d6f4e5709cb\", element=\"02306ff5-b97a-45bb-a24a-9d51400bd9af\")>\n",
      "浏览器已关闭\n",
      "6.9 s ± 0 ns per loop (mean ± std. dev. of 1 run, 1 loop each)\n"
     ]
    }
   ],
   "source": [
    "%%timeit -n1 -r1\n",
    "from selenium import webdriver\n",
    "from selenium.webdriver.chrome.options import Options\n",
    "from selenium.webdriver.common.by import By\n",
    "\n",
    "# 设置Chrome的headless模式\n",
    "chrome_options = Options()\n",
    "chrome_options.add_argument(\"--headless\")\n",
    "\n",
    "chrome = webdriver.Chrome(options=chrome_options)\n",
    "\n",
    "chrome.get(\"https://www.taobao.com\")\n",
    "print(\"浏览器已打开\")\n",
    "\n",
    "input_first = chrome.find_element(By.ID, 'q')\n",
    "print(input_first)\n",
    "chrome.close()\n",
    "print(\"浏览器已关闭\")"
   ]
  },
  {
   "cell_type": "markdown",
   "metadata": {},
   "source": [
    "### 多个元素"
   ]
  },
  {
   "cell_type": "code",
   "execution_count": 2,
   "metadata": {},
   "outputs": [
    {
     "name": "stdout",
     "output_type": "stream",
     "text": [
      "浏览器已打开\n",
      "[<selenium.webdriver.remote.webelement.WebElement (session=\"d13a09d3b42f962a09d986c5f4ed1b73\", element=\"83a4d19a-22f5-4c84-83a5-2420497c77e5\")>, <selenium.webdriver.remote.webelement.WebElement (session=\"d13a09d3b42f962a09d986c5f4ed1b73\", element=\"9768ecf1-ba49-4239-b647-dac52a28d258\")>, <selenium.webdriver.remote.webelement.WebElement (session=\"d13a09d3b42f962a09d986c5f4ed1b73\", element=\"d7a2c8a8-c78a-45d2-8d38-8ad620d6c398\")>, <selenium.webdriver.remote.webelement.WebElement (session=\"d13a09d3b42f962a09d986c5f4ed1b73\", element=\"abb20f48-50f0-4b56-97c8-8efbec8b0a63\")>, <selenium.webdriver.remote.webelement.WebElement (session=\"d13a09d3b42f962a09d986c5f4ed1b73\", element=\"79168711-a072-4d34-b9d2-49409c45b3c1\")>, <selenium.webdriver.remote.webelement.WebElement (session=\"d13a09d3b42f962a09d986c5f4ed1b73\", element=\"00b73105-872a-410e-a6b7-ed5b65292082\")>, <selenium.webdriver.remote.webelement.WebElement (session=\"d13a09d3b42f962a09d986c5f4ed1b73\", element=\"bcaffff4-e292-4fdf-9dc1-0cb012be5561\")>, <selenium.webdriver.remote.webelement.WebElement (session=\"d13a09d3b42f962a09d986c5f4ed1b73\", element=\"b9bdee5a-2025-4d12-9a8d-e4555f569131\")>, <selenium.webdriver.remote.webelement.WebElement (session=\"d13a09d3b42f962a09d986c5f4ed1b73\", element=\"8fb9353a-89a6-43e4-b089-4a152ca12098\")>, <selenium.webdriver.remote.webelement.WebElement (session=\"d13a09d3b42f962a09d986c5f4ed1b73\", element=\"f499384f-b109-4f32-b4d1-a8692840f309\")>, <selenium.webdriver.remote.webelement.WebElement (session=\"d13a09d3b42f962a09d986c5f4ed1b73\", element=\"ed24c12c-8be3-4d66-b1fe-9c6c24361a3f\")>, <selenium.webdriver.remote.webelement.WebElement (session=\"d13a09d3b42f962a09d986c5f4ed1b73\", element=\"3e46231b-c66d-4ca4-8f30-6e355df4f82e\")>, <selenium.webdriver.remote.webelement.WebElement (session=\"d13a09d3b42f962a09d986c5f4ed1b73\", element=\"903103a7-b3d4-41b5-b44b-286e36640176\")>, <selenium.webdriver.remote.webelement.WebElement (session=\"d13a09d3b42f962a09d986c5f4ed1b73\", element=\"4861862f-88b4-440c-92ba-43778a497f92\")>, <selenium.webdriver.remote.webelement.WebElement (session=\"d13a09d3b42f962a09d986c5f4ed1b73\", element=\"45a753df-fada-4e65-ab32-ab344b168eae\")>, <selenium.webdriver.remote.webelement.WebElement (session=\"d13a09d3b42f962a09d986c5f4ed1b73\", element=\"bf9a971b-e2df-4426-bb0c-2bcce3d135a4\")>]\n",
      "浏览器已关闭\n",
      "6.45 s ± 0 ns per loop (mean ± std. dev. of 1 run, 1 loop each)\n"
     ]
    }
   ],
   "source": [
    "%%timeit -n1 -r1\n",
    "from selenium import webdriver\n",
    "from selenium.webdriver.chrome.options import Options\n",
    "\n",
    "# 设置Chrome的headless模式\n",
    "chrome_options = Options()\n",
    "chrome_options.add_argument(\"--headless\")\n",
    "\n",
    "chrome = webdriver.Chrome(options=chrome_options)\n",
    "\n",
    "chrome.get(\"https://www.taobao.com\")\n",
    "print(\"浏览器已打开\")\n",
    "\n",
    "input_first = chrome.find_elements_by_css_selector('.service-bd li')\n",
    "print(input_first)\n",
    "chrome.close()\n",
    "print(\"浏览器已关闭\")"
   ]
  },
  {
   "cell_type": "code",
   "execution_count": 8,
   "metadata": {},
   "outputs": [
    {
     "name": "stdout",
     "output_type": "stream",
     "text": [
      "浏览器已打开\n",
      "[('女装 / 男装 / 内衣\\n\\ue62e', {'height': 32, 'width': 189}), ('鞋靴 / 箱包 / 配件\\n\\ue62e', {'height': 32, 'width': 189}), ('童装玩具 / 孕产 / 用品\\n\\ue62e', {'height': 32, 'width': 189}), ('家电 / 数码 / 手机\\n\\ue62e', {'height': 32, 'width': 189}), ('美妆 / 洗护 / 保健品\\n\\ue62e', {'height': 32, 'width': 189}), ('珠宝 / 眼镜 / 手表\\n\\ue62e', {'height': 32, 'width': 189}), ('运动 / 户外 / 乐器\\n\\ue62e', {'height': 32, 'width': 189}), ('游戏 / 动漫 / 影视\\n\\ue62e', {'height': 32, 'width': 189}), ('美食 / 生鲜 / 零食\\n\\ue62e', {'height': 32, 'width': 189}), ('鲜花 / 宠物 / 农资\\n\\ue62e', {'height': 32, 'width': 189}), ('工具 / 装修 / 建材\\n\\ue62e', {'height': 32, 'width': 189}), ('家具 / 家饰 / 家纺\\n\\ue62e', {'height': 32, 'width': 189}), ('汽车 / 二手车 / 用品\\n\\ue62e', {'height': 32, 'width': 189}), ('办公 / DIY / 五金电子\\n\\ue62e', {'height': 32, 'width': 189}), ('百货 / 餐厨 / 家庭保健\\n\\ue62e', {'height': 32, 'width': 189}), ('学习 / 卡券 / 本地服务\\n\\ue62e', {'height': 32, 'width': 189})]\n",
      "浏览器已关闭\n",
      "11.3 s ± 0 ns per loop (mean ± std. dev. of 1 run, 1 loop each)\n"
     ]
    }
   ],
   "source": [
    "%%timeit -n1 -r1\n",
    "from selenium import webdriver\n",
    "from selenium.webdriver.chrome.options import Options\n",
    "from selenium.webdriver.common.by import By\n",
    "\n",
    "# 设置Chrome的headless模式\n",
    "chrome_options = Options()\n",
    "chrome_options.add_argument(\"--headless\")\n",
    "\n",
    "chrome = webdriver.Chrome(options=chrome_options)\n",
    "\n",
    "chrome.get(\"https://www.taobao.com\")\n",
    "print(\"浏览器已打开\")\n",
    "\n",
    "input_first = chrome.find_elements(By.CSS_SELECTOR,'.service-bd li')\n",
    "print([(item.text,item.size) for item in input_first])\n",
    "for i in range(len(input_first)):\n",
    "    input_first[i].screenshot(\"output/%6d.png\"%i)\n",
    "chrome.close()\n",
    "print(\"浏览器已关闭\")"
   ]
  },
  {
   "cell_type": "markdown",
   "metadata": {},
   "source": [
    "查找多个元素的一些方法：\n",
    "- find_elements(by='id', value=None)\n",
    "- find_elements_by_name(name)\n",
    "- find_elements_by_css_selector(css_selector)\n",
    "- find_elements_by_id(id_)\n",
    "- find_elements_by_link_text(link_text)\n",
    "- find_elements_by_class_name(name)\n",
    "- find_elements_by_xpath(xpath)\n",
    "- find_elements_by_tag_name(name)\n",
    "- find_elements_by_partial_link_text(link_text)\n"
   ]
  },
  {
   "cell_type": "code",
   "execution_count": null,
   "metadata": {},
   "outputs": [],
   "source": []
  }
 ],
 "metadata": {
  "kernelspec": {
   "display_name": "Python 3",
   "language": "python",
   "name": "python3"
  },
  "language_info": {
   "codemirror_mode": {
    "name": "ipython",
    "version": 3
   },
   "file_extension": ".py",
   "mimetype": "text/x-python",
   "name": "python",
   "nbconvert_exporter": "python",
   "pygments_lexer": "ipython3",
   "version": "3.5.0"
  }
 },
 "nbformat": 4,
 "nbformat_minor": 4
}
