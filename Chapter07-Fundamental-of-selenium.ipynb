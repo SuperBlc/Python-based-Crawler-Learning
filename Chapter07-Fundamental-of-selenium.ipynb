{
 "cells": [
  {
   "cell_type": "markdown",
   "metadata": {},
   "source": [
    "# Selenium\n",
    "\n",
    "自动化测试工具，支持多种浏览器。主要用来解决JavaScript渲染问题\n",
    "\n",
    "本章内容：\n",
    "- [基本使用](#基本使用)\n",
    "- [声明浏览器对象](#声明浏览器对象)\n",
    "- [访问页面](#访问页面)\n",
    "- [查找元素](#查找元素)\n",
    "    - [单个元素](#单个元素)\n",
    "    - [多个元素](#多个元素)\n",
    "- [元素交互操作](#元素交互操作)\n",
    "- [交互动作](#交互动作)\n",
    "- [执行Javascript](#执行Javascript)\n",
    "- [获取元素信息](#获取元素信息)\n",
    "    - [获取属性](#获取属性)\n",
    "    - [获取文本值](#获取文本值)"
   ]
  },
  {
   "cell_type": "markdown",
   "metadata": {},
   "source": [
    "## 基本使用"
   ]
  },
  {
   "cell_type": "code",
   "execution_count": 6,
   "metadata": {},
   "outputs": [
    {
     "name": "stdout",
     "output_type": "stream",
     "text": [
      "https://www.baidu.com/s?ie=utf-8&f=8&rsv_bp=1&rsv_idx=1&tn=baidu&wd=English%20speeking&rsv_pq=cf299b8a006d756a&rsv_t=a13fD6g4fnCt0fOzBd1mVq%2FBu8l2wTZnSL1Y1pCA9TIwZZdwnM9a0jvUVrE&rqlang=cn&rsv_enter=1&rsv_dl=tb&rsv_sug3=16&rsv_sug2=0&inputT=159&rsv_sug4=159\n",
      "[{'domain': 'baidu.com', 'httpOnly': False, 'secure': False, 'value': '1', 'name': 'PSINO', 'path': '/'}, {'domain': 'www.baidu.com', 'httpOnly': False, 'secure': False, 'value': '1', 'name': 'BD_CK_SAM', 'path': '/'}, {'domain': 'baidu.com', 'httpOnly': False, 'secure': False, 'value': '1441_21083_29074_29522_29519_28518_29098_29567_28832_29220_26350', 'name': 'H_PS_PSSID', 'path': '/'}, {'domain': 'baidu.com', 'httpOnly': False, 'secure': False, 'value': '15DD077A47532A30579D7BDED3DBECF3', 'expiry': 3711934537.317591, 'name': 'BIDUPSID', 'path': '/'}, {'domain': 'baidu.com', 'httpOnly': False, 'secure': False, 'value': '0', 'name': 'delPer', 'path': '/'}, {'domain': 'baidu.com', 'httpOnly': False, 'secure': False, 'value': '1564450891', 'expiry': 3711934537.317607, 'name': 'PSTM', 'path': '/'}, {'domain': 'www.baidu.com', 'httpOnly': False, 'secure': False, 'value': 'b28e0Dh2RwijSbY%2FN01WIeVF4pDNEcx1uoNOqK6j2X8B2WneUWZ%2BmlcfIKk', 'expiry': 1564453483, 'name': 'H_PS_645EC', 'path': '/'}, {'domain': 'baidu.com', 'httpOnly': False, 'secure': False, 'value': 'B490B5EBF6F3CD402E515D22BCDA1598', 'expiry': 1564537291.404056, 'name': 'BDORZ', 'path': '/'}, {'domain': 'www.baidu.com', 'httpOnly': False, 'secure': False, 'value': '12314753', 'expiry': 1565314890, 'name': 'BD_UPN', 'path': '/'}, {'domain': 'www.baidu.com', 'httpOnly': False, 'secure': False, 'value': '0', 'name': 'BD_HOME', 'path': '/'}, {'domain': 'baidu.com', 'httpOnly': False, 'secure': False, 'value': '15DD077A47532A30579D7BDED3DBECF3:FG=1', 'expiry': 3711934537.317541, 'name': 'BAIDUID', 'path': '/'}]\n"
     ]
    }
   ],
   "source": [
    "from selenium import webdriver\n",
    "from selenium.webdriver.common.by import By\n",
    "from selenium.webdriver.common.keys import Keys\n",
    "from selenium.webdriver.support import expected_conditions as EC\n",
    "from selenium.webdriver.support.wait import WebDriverWait\n",
    "\n",
    "browser = webdriver.Chrome()\n",
    "try:\n",
    "    browser.get(\"https://www.baidu.com\")\n",
    "    input = browser.find_element_by_id('kw') # 找到搜索框\n",
    "    input.send_keys('English speeking' + Keys.ENTER) # 输入'English speeking'，并发送回车键\n",
    "    wait = WebDriverWait(browser, 10) # 等待10秒\n",
    "    wait.until(EC.presence_of_element_located((By.ID, 'content_left'))) # 直到 DOM元素的ID为‘content_left’出现\n",
    "    print(browser.current_url)   # 打印当前的url\n",
    "    print(browser.get_cookies()) # 打印cookies\n",
    "#     print(browser.page_source) # 打印网页源代码\n",
    "finally:\n",
    "    browser.close() # 关闭浏览器"
   ]
  },
  {
   "cell_type": "markdown",
   "metadata": {},
   "source": [
    "## 声明浏览器对象"
   ]
  },
  {
   "cell_type": "code",
   "execution_count": null,
   "metadata": {},
   "outputs": [],
   "source": [
    "from selenium import webdriver\n",
    "\n",
    "chrome = webdriver.Chrome()\n",
    "firfox = webdriver.Firfox()\n",
    "safari = webdriver.Safari()\n",
    "edge = webdriver.Edge()\n",
    "ie = webdriver.Ie()\n",
    "opera = webdriver.Opera()\n",
    "phantomjs = webdriver.PhantomJS()"
   ]
  },
  {
   "cell_type": "markdown",
   "metadata": {},
   "source": [
    "## 访问页面"
   ]
  },
  {
   "cell_type": "code",
   "execution_count": 13,
   "metadata": {},
   "outputs": [
    {
     "name": "stdout",
     "output_type": "stream",
     "text": [
      "浏览器已打开\n",
      "https://www.taobao.com/\n",
      "[{'domain': 'taobao.com', 'httpOnly': True, 'secure': False, 'value': '18797bf8924c663deb1192f8be8a1629', 'name': 'cookie2', 'path': '/'}, {'domain': 'taobao.com', 'httpOnly': False, 'secure': False, 'value': '3ee3e05766768', 'name': '_tb_token_', 'path': '/'}, {'domain': 'taobao.com', 'httpOnly': False, 'secure': False, 'value': 'BJOTxcIlyoVhsobRhV0YNWAgKRe9SCcKaQfcykWw77LpxLNmzRi3WvEW-j2q5H8C', 'expiry': 1580007101, 'name': 'isg', 'path': '/'}, {'domain': 'taobao.com', 'httpOnly': False, 'secure': False, 'value': 'vp7GFcy+H2ICAXWt2d7cAhP/', 'expiry': 2195175102, 'name': 'cna', 'path': '/'}, {'domain': 'taobao.com', 'httpOnly': False, 'secure': False, 'value': 'cn', 'expiry': 1595991101.682661, 'name': 'thw', 'path': '/'}, {'domain': 'taobao.com', 'httpOnly': False, 'secure': False, 'value': '0', 'name': 'v', 'path': '/'}, {'domain': 'taobao.com', 'httpOnly': False, 'secure': False, 'value': 'd3c715564224a95806681b074dfe771b', 'expiry': 1572231102.270123, 'name': 't', 'path': '/'}]\n",
      "浏览器已关闭\n"
     ]
    }
   ],
   "source": [
    "from selenium import webdriver\n",
    "from selenium.webdriver.chrome.options import Options\n",
    "\n",
    "# 设置Chrome的headless模式\n",
    "chrome_options = Options()\n",
    "chrome_options.add_argument(\"--headless\")\n",
    "\n",
    "chrome = webdriver.Chrome(options=chrome_options)\n",
    "\n",
    "chrome.get(\"https://www.taobao.com\")\n",
    "print(\"浏览器已打开\")\n",
    "print(chrome.current_url)\n",
    "print(chrome.get_cookies())\n",
    "chrome.close()\n",
    "print(\"浏览器已关闭\")"
   ]
  },
  {
   "cell_type": "markdown",
   "metadata": {},
   "source": [
    "## 查找元素\n",
    "\n",
    "### 单个元素"
   ]
  },
  {
   "cell_type": "code",
   "execution_count": 18,
   "metadata": {},
   "outputs": [
    {
     "name": "stdout",
     "output_type": "stream",
     "text": [
      "浏览器已打开\n",
      "<selenium.webdriver.remote.webelement.WebElement (session=\"cd631433c4d7db1dc02eb5e7791fefde\", element=\"d5965a52-b5a3-4671-a254-8b5b22742eb1\")>\n",
      "<selenium.webdriver.remote.webelement.WebElement (session=\"cd631433c4d7db1dc02eb5e7791fefde\", element=\"d5965a52-b5a3-4671-a254-8b5b22742eb1\")>\n",
      "<selenium.webdriver.remote.webelement.WebElement (session=\"cd631433c4d7db1dc02eb5e7791fefde\", element=\"d5965a52-b5a3-4671-a254-8b5b22742eb1\")>\n",
      "浏览器已关闭\n"
     ]
    }
   ],
   "source": [
    "from selenium import webdriver\n",
    "from selenium.webdriver.chrome.options import Options\n",
    "\n",
    "# 设置Chrome的headless模式\n",
    "chrome_options = Options()\n",
    "chrome_options.add_argument(\"--headless\")\n",
    "\n",
    "chrome = webdriver.Chrome(options=chrome_options)\n",
    "\n",
    "chrome.get(\"https://www.taobao.com\")\n",
    "print(\"浏览器已打开\")\n",
    "\n",
    "input_first = chrome.find_element_by_id('q')\n",
    "input_second = chrome.find_element_by_css_selector('#q')\n",
    "input_third = chrome.find_element_by_xpath('//*[@id=\"q\"]')\n",
    "print(input_first, input_second, input_third, sep=\"\\n\")\n",
    "chrome.close()\n",
    "print(\"浏览器已关闭\")"
   ]
  },
  {
   "cell_type": "markdown",
   "metadata": {},
   "source": [
    "查找单个元素的一些方法：\n",
    "- find_element(by='id', value=None)\n",
    "- find_element_by_name(name)\n",
    "- find_element_by_css_selector(css_selector)\n",
    "- find_element_by_id(id_)\n",
    "- find_element_by_link_text(link_text)\n",
    "- find_element_by_class_name(name)\n",
    "- find_element_by_xpath(xpath)\n",
    "- find_element_by_tag_name(name)\n",
    "- find_element_by_partial_link_text(link_text)\n"
   ]
  },
  {
   "cell_type": "code",
   "execution_count": 1,
   "metadata": {},
   "outputs": [
    {
     "name": "stdout",
     "output_type": "stream",
     "text": [
      "浏览器已打开\n",
      "<selenium.webdriver.remote.webelement.WebElement (session=\"a7a96c27fd3c41d606d52d6f4e5709cb\", element=\"02306ff5-b97a-45bb-a24a-9d51400bd9af\")>\n",
      "浏览器已关闭\n",
      "6.9 s ± 0 ns per loop (mean ± std. dev. of 1 run, 1 loop each)\n"
     ]
    }
   ],
   "source": [
    "%%timeit -n1 -r1\n",
    "from selenium import webdriver\n",
    "from selenium.webdriver.chrome.options import Options\n",
    "from selenium.webdriver.common.by import By\n",
    "\n",
    "# 设置Chrome的headless模式\n",
    "chrome_options = Options()\n",
    "chrome_options.add_argument(\"--headless\")\n",
    "\n",
    "chrome = webdriver.Chrome(options=chrome_options)\n",
    "\n",
    "chrome.get(\"https://www.taobao.com\")\n",
    "print(\"浏览器已打开\")\n",
    "\n",
    "input_first = chrome.find_element(By.ID, 'q')\n",
    "print(input_first)\n",
    "chrome.close()\n",
    "print(\"浏览器已关闭\")"
   ]
  },
  {
   "cell_type": "markdown",
   "metadata": {},
   "source": [
    "### 多个元素"
   ]
  },
  {
   "cell_type": "code",
   "execution_count": 2,
   "metadata": {},
   "outputs": [
    {
     "name": "stdout",
     "output_type": "stream",
     "text": [
      "浏览器已打开\n",
      "[<selenium.webdriver.remote.webelement.WebElement (session=\"d13a09d3b42f962a09d986c5f4ed1b73\", element=\"83a4d19a-22f5-4c84-83a5-2420497c77e5\")>, <selenium.webdriver.remote.webelement.WebElement (session=\"d13a09d3b42f962a09d986c5f4ed1b73\", element=\"9768ecf1-ba49-4239-b647-dac52a28d258\")>, <selenium.webdriver.remote.webelement.WebElement (session=\"d13a09d3b42f962a09d986c5f4ed1b73\", element=\"d7a2c8a8-c78a-45d2-8d38-8ad620d6c398\")>, <selenium.webdriver.remote.webelement.WebElement (session=\"d13a09d3b42f962a09d986c5f4ed1b73\", element=\"abb20f48-50f0-4b56-97c8-8efbec8b0a63\")>, <selenium.webdriver.remote.webelement.WebElement (session=\"d13a09d3b42f962a09d986c5f4ed1b73\", element=\"79168711-a072-4d34-b9d2-49409c45b3c1\")>, <selenium.webdriver.remote.webelement.WebElement (session=\"d13a09d3b42f962a09d986c5f4ed1b73\", element=\"00b73105-872a-410e-a6b7-ed5b65292082\")>, <selenium.webdriver.remote.webelement.WebElement (session=\"d13a09d3b42f962a09d986c5f4ed1b73\", element=\"bcaffff4-e292-4fdf-9dc1-0cb012be5561\")>, <selenium.webdriver.remote.webelement.WebElement (session=\"d13a09d3b42f962a09d986c5f4ed1b73\", element=\"b9bdee5a-2025-4d12-9a8d-e4555f569131\")>, <selenium.webdriver.remote.webelement.WebElement (session=\"d13a09d3b42f962a09d986c5f4ed1b73\", element=\"8fb9353a-89a6-43e4-b089-4a152ca12098\")>, <selenium.webdriver.remote.webelement.WebElement (session=\"d13a09d3b42f962a09d986c5f4ed1b73\", element=\"f499384f-b109-4f32-b4d1-a8692840f309\")>, <selenium.webdriver.remote.webelement.WebElement (session=\"d13a09d3b42f962a09d986c5f4ed1b73\", element=\"ed24c12c-8be3-4d66-b1fe-9c6c24361a3f\")>, <selenium.webdriver.remote.webelement.WebElement (session=\"d13a09d3b42f962a09d986c5f4ed1b73\", element=\"3e46231b-c66d-4ca4-8f30-6e355df4f82e\")>, <selenium.webdriver.remote.webelement.WebElement (session=\"d13a09d3b42f962a09d986c5f4ed1b73\", element=\"903103a7-b3d4-41b5-b44b-286e36640176\")>, <selenium.webdriver.remote.webelement.WebElement (session=\"d13a09d3b42f962a09d986c5f4ed1b73\", element=\"4861862f-88b4-440c-92ba-43778a497f92\")>, <selenium.webdriver.remote.webelement.WebElement (session=\"d13a09d3b42f962a09d986c5f4ed1b73\", element=\"45a753df-fada-4e65-ab32-ab344b168eae\")>, <selenium.webdriver.remote.webelement.WebElement (session=\"d13a09d3b42f962a09d986c5f4ed1b73\", element=\"bf9a971b-e2df-4426-bb0c-2bcce3d135a4\")>]\n",
      "浏览器已关闭\n",
      "6.45 s ± 0 ns per loop (mean ± std. dev. of 1 run, 1 loop each)\n"
     ]
    }
   ],
   "source": [
    "%%timeit -n1 -r1\n",
    "from selenium import webdriver\n",
    "from selenium.webdriver.chrome.options import Options\n",
    "\n",
    "# 设置Chrome的headless模式\n",
    "chrome_options = Options()\n",
    "chrome_options.add_argument(\"--headless\")\n",
    "\n",
    "chrome = webdriver.Chrome(options=chrome_options)\n",
    "\n",
    "chrome.get(\"https://www.taobao.com\")\n",
    "print(\"浏览器已打开\")\n",
    "\n",
    "input_first = chrome.find_elements_by_css_selector('.service-bd li')\n",
    "print(input_first)\n",
    "chrome.close()\n",
    "print(\"浏览器已关闭\")"
   ]
  },
  {
   "cell_type": "code",
   "execution_count": 8,
   "metadata": {},
   "outputs": [
    {
     "name": "stdout",
     "output_type": "stream",
     "text": [
      "浏览器已打开\n",
      "[('女装 / 男装 / 内衣\\n\\ue62e', {'height': 32, 'width': 189}), ('鞋靴 / 箱包 / 配件\\n\\ue62e', {'height': 32, 'width': 189}), ('童装玩具 / 孕产 / 用品\\n\\ue62e', {'height': 32, 'width': 189}), ('家电 / 数码 / 手机\\n\\ue62e', {'height': 32, 'width': 189}), ('美妆 / 洗护 / 保健品\\n\\ue62e', {'height': 32, 'width': 189}), ('珠宝 / 眼镜 / 手表\\n\\ue62e', {'height': 32, 'width': 189}), ('运动 / 户外 / 乐器\\n\\ue62e', {'height': 32, 'width': 189}), ('游戏 / 动漫 / 影视\\n\\ue62e', {'height': 32, 'width': 189}), ('美食 / 生鲜 / 零食\\n\\ue62e', {'height': 32, 'width': 189}), ('鲜花 / 宠物 / 农资\\n\\ue62e', {'height': 32, 'width': 189}), ('工具 / 装修 / 建材\\n\\ue62e', {'height': 32, 'width': 189}), ('家具 / 家饰 / 家纺\\n\\ue62e', {'height': 32, 'width': 189}), ('汽车 / 二手车 / 用品\\n\\ue62e', {'height': 32, 'width': 189}), ('办公 / DIY / 五金电子\\n\\ue62e', {'height': 32, 'width': 189}), ('百货 / 餐厨 / 家庭保健\\n\\ue62e', {'height': 32, 'width': 189}), ('学习 / 卡券 / 本地服务\\n\\ue62e', {'height': 32, 'width': 189})]\n",
      "浏览器已关闭\n",
      "11.3 s ± 0 ns per loop (mean ± std. dev. of 1 run, 1 loop each)\n"
     ]
    }
   ],
   "source": [
    "%%timeit -n1 -r1\n",
    "from selenium import webdriver\n",
    "from selenium.webdriver.chrome.options import Options\n",
    "from selenium.webdriver.common.by import By\n",
    "\n",
    "# 设置Chrome的headless模式\n",
    "chrome_options = Options()\n",
    "chrome_options.add_argument(\"--headless\")\n",
    "\n",
    "chrome = webdriver.Chrome(options=chrome_options)\n",
    "\n",
    "chrome.get(\"https://www.taobao.com\")\n",
    "print(\"浏览器已打开\")\n",
    "\n",
    "input_first = chrome.find_elements(By.CSS_SELECTOR,'.service-bd li')\n",
    "print([(item.text,item.size) for item in input_first])\n",
    "for i in range(len(input_first)):\n",
    "    input_first[i].screenshot(\"output/%6d.png\"%i)\n",
    "chrome.close()\n",
    "print(\"浏览器已关闭\")"
   ]
  },
  {
   "cell_type": "markdown",
   "metadata": {},
   "source": [
    "查找多个元素的一些方法：\n",
    "- find_elements(by='id', value=None)\n",
    "- find_elements_by_name(name)\n",
    "- find_elements_by_css_selector(css_selector)\n",
    "- find_elements_by_id(id_)\n",
    "- find_elements_by_link_text(link_text)\n",
    "- find_elements_by_class_name(name)\n",
    "- find_elements_by_xpath(xpath)\n",
    "- find_elements_by_tag_name(name)\n",
    "- find_elements_by_partial_link_text(link_text)\n"
   ]
  },
  {
   "cell_type": "markdown",
   "metadata": {},
   "source": [
    "## 元素交互操作\n",
    "\n",
    "对获取的元素调用交互操作方法"
   ]
  },
  {
   "cell_type": "code",
   "execution_count": 12,
   "metadata": {},
   "outputs": [
    {
     "name": "stdout",
     "output_type": "stream",
     "text": [
      "浏览器已打开\n"
     ]
    }
   ],
   "source": [
    "from selenium import webdriver\n",
    "from selenium.webdriver.common.by import By\n",
    "import time\n",
    "\n",
    "chrome = webdriver.Chrome()\n",
    "\n",
    "chrome.get(\"https://www.jd.com\")\n",
    "\n",
    "taobao_searchbox = chrome.find_element(By.ID,'key')\n",
    "taobao_searchbox.send_keys('万历十年')  #taobao_searchbox中输入内容\n",
    "time.sleep(3) # 等待3秒\n",
    "taobao_searchbox.clear() # 清空taobao_searchbox中内容\n",
    "taobao_searchbox.send_keys('HIFI')\n",
    "taobao_btn_search= chrome.find_element_by_class_name('button')\n",
    "taobao_btn_search.click() # 触发点击动作"
   ]
  },
  {
   "cell_type": "markdown",
   "metadata": {},
   "source": [
    "更多：https://selenium-python.readthedocs.io/api.html#module-selenium.webdriver.remote.webelement"
   ]
  },
  {
   "cell_type": "markdown",
   "metadata": {},
   "source": [
    "## 交互动作\n",
    "\n",
    "将动作附加到动作链中串行执行"
   ]
  },
  {
   "cell_type": "code",
   "execution_count": 13,
   "metadata": {},
   "outputs": [],
   "source": [
    "from selenium import webdriver\n",
    "from selenium.webdriver.common.action_chains import ActionChains\n",
    "\n",
    "chrome = webdriver.Chrome()\n",
    "url = \"https://www.runoob.com/try/try.php?filename=jqueryui-api-droppable\"\n",
    "chrome.get(url)\n",
    "chrome.switch_to.frame('iframeResult')\n",
    "source = chrome.find_element_by_css_selector(\"#draggable\")\n",
    "target = chrome.find_element_by_css_selector(\"#droppable\")\n",
    "\n",
    "actions = ActionChains(chrome)\n",
    "actions.drag_and_drop(source, target)\n",
    "actions.perform()"
   ]
  },
  {
   "cell_type": "markdown",
   "metadata": {},
   "source": [
    "更多：https://selenium-python.readthedocs.io/api.html#module-selenium.webdriver.common.action_chains"
   ]
  },
  {
   "cell_type": "markdown",
   "metadata": {},
   "source": [
    "## 执行Javascript"
   ]
  },
  {
   "cell_type": "code",
   "execution_count": 15,
   "metadata": {},
   "outputs": [],
   "source": [
    "from selenium import webdriver\n",
    "import time\n",
    "chrome = webdriver.Chrome()\n",
    "chrome.get('https://bilibili.com')\n",
    "chrome.execute_script('window.scrollTo(0, document.body.scrollHeight)')\n",
    "time.sleep(3)\n",
    "chrome.execute_script('alert(\"Arrived Bottom\")')"
   ]
  },
  {
   "cell_type": "markdown",
   "metadata": {},
   "source": [
    "## 获取元素信息\n",
    "\n",
    "### 获取属性"
   ]
  },
  {
   "cell_type": "code",
   "execution_count": 2,
   "metadata": {},
   "outputs": [
    {
     "name": "stdout",
     "output_type": "stream",
     "text": [
      "https://pic1.zhimg.com/50/v2-c46cdf8fdd833972914b62fa3083539e_200x112.jpg https://pic1.zhimg.com/50/v2-c46cdf8fdd833972914b62fa3083539e_r.jpg\n",
      "https://pic1.zhimg.com/50/v2-4686a033e66355ff0891a5d5409e418d_200x112.jpg https://pic1.zhimg.com/50/v2-4686a033e66355ff0891a5d5409e418d_r.jpg\n",
      "https://pic4.zhimg.com/50/v2-d414f1017c282dde54b1bb5f388f954b_200x112.jpg https://pic4.zhimg.com/50/v2-d414f1017c282dde54b1bb5f388f954b_r.jpg\n",
      "https://pic3.zhimg.com/50/v2-09cce112726066108ab769ed5c9697ab_200x112.jpg https://pic3.zhimg.com/50/v2-09cce112726066108ab769ed5c9697ab_r.jpg\n",
      "https://pic3.zhimg.com/50/v2-dcfc1c96419d7b7be02c6a4109055141_200x112.jpg https://pic3.zhimg.com/50/v2-dcfc1c96419d7b7be02c6a4109055141_r.jpg\n",
      "https://pic1.zhimg.com/50/v2-d3999da07157123b00e4e3ac735da3d9_200x112.jpg https://pic1.zhimg.com/50/v2-d3999da07157123b00e4e3ac735da3d9_r.jpg\n",
      "https://pic1.zhimg.com/50/v2-f8084e5084b2a4c621e8d143e19bf7b3_200x112.jpg https://pic1.zhimg.com/50/v2-f8084e5084b2a4c621e8d143e19bf7b3_r.jpg\n"
     ]
    }
   ],
   "source": [
    "from selenium import webdriver\n",
    "\n",
    "chrome = webdriver.Chrome()\n",
    "chrome.get(\"https://www.zhihu.com/explore\")\n",
    "elements = chrome.find_elements_by_class_name('zh-lightbox-thumb')\n",
    "for item in elements:\n",
    "    print(item.get_attribute('src'),item.get_attribute('data-original'))\n",
    "chrome.close()"
   ]
  },
  {
   "cell_type": "markdown",
   "metadata": {},
   "source": [
    "### 获取文本值\n"
   ]
  },
  {
   "cell_type": "code",
   "execution_count": 24,
   "metadata": {},
   "outputs": [
    {
     "name": "stdout",
     "output_type": "stream",
     "text": [
      "狗是否知道自己是狗？\n",
      "MeanGia\n",
      "\n",
      "--------------------------------------------------\n",
      "如何评价王俊凯在第三季中餐厅的表现？\n",
      "幸福的拾荒者\n",
      "\n",
      "--------------------------------------------------\n",
      "有没有一读就会惊叹“哇，好温柔啊”的句子？\n",
      "犬槐\n",
      "\n",
      "--------------------------------------------------\n",
      "医院里的科研岗是怎样一种存在？\n",
      "邓铂鋆\n",
      "\n",
      "--------------------------------------------------\n",
      "淘宝有哪些好看的裙子？\n",
      "Brown酱\n",
      "\n",
      "--------------------------------------------------\n",
      "\n",
      "\n",
      "\n",
      "--------------------------------------------------\n",
      "\n",
      "\n",
      "\n",
      "--------------------------------------------------\n",
      "\n",
      "\n",
      "\n",
      "--------------------------------------------------\n",
      "\n",
      "\n",
      "\n",
      "--------------------------------------------------\n",
      "\n",
      "\n",
      "\n",
      "--------------------------------------------------\n"
     ]
    }
   ],
   "source": [
    "from selenium import webdriver\n",
    "\n",
    "try:\n",
    "    chrome = webdriver.Chrome()\n",
    "    chrome.get(\"https://www.zhihu.com/explore\")\n",
    "    div_container = chrome.find_elements_by_class_name('explore-feed')\n",
    "    for item in div_container:\n",
    "        question_link = item.find_element_by_class_name('question_link')\n",
    "        author_link = item.find_element_by_class_name('author-link')\n",
    "        content = item.find_element_by_class_name('content')\n",
    "        print(question_link.text,author_link.text,content.text,sep='\\n')\n",
    "        print('-----'*10)\n",
    "finally:\n",
    "        chrome.close()"
   ]
  },
  {
   "cell_type": "code",
   "execution_count": 25,
   "metadata": {},
   "outputs": [
    {
     "name": "stdout",
     "output_type": "stream",
     "text": [
      "狗是否知道自己是狗？\n",
      "MeanGia\n",
      "<p>他应该一直觉得他是我男朋友。</p><p>我家狗子是我捡回来的流浪狗，高中一次在外边玩儿，喂了他一根火腿肠，他就一直跟着我走回了家。捡到他的地方离我家大概四五站路吧，真的就一直跟着我走回家了。</p><p>本来爸妈上班我又要住校，怕没人照顾他，想送人的，但是家里老人都觉得“狗来财”，而且他特别聪明可爱，就先寄养在奶奶家了。我高中毕业以后他搬进了我家，现在已经三年多啦。</p><figure><img src=\"https://pic4.zhimg.com/50/v2-f5e9fe0b3d160388b1b89249c0f0e1fb_b.jpg\" data-rawwidth=\"717\" data-rawheight=\"716\" data-size=\"normal\" data-default-watermark-src=\"https://pic2.zhimg.com/50/v2-d567f16fac428c820cf47b7aeb9db258_b.jpg\" class=\"origin_image zh-lightbox-thumb\" width=\"717\" data-original=\"https://pic4.zhimg.com/50/v2-f5e9fe0b3d160388b1b89249c0f0e1fb_r.jpg\"></figure><p>我经常发现他老是这样偷偷看我…而且我跟别人打电话的时候，他会特别不高兴，一直想抢我手机。</p><p>高中毕业的时候帮班主任发学校的证件，就有不少男同学来我家小区找我拿，我送下去的时候会顺便遛狗。他就一定要站在我和男生中间，如果他觉得我们有点亲密行为(我把东西递过去他觉得我们牵手了)，就会去踩人家脚，如果是女生，就一点也不会。</p><p>他最喜欢的东西是我睡过的一个旧枕头，我妈收拾东西的时候放在了沙发上，他就用上了…</p><figure><img src=\"https://pic4.zhimg.com/50/v2-9b44ef30680e0aa0296d617801d8c570_b.jpg\" data-rawwidth=\"2048\" data-rawheight=\"1536\" data-size=\"normal\" data-default-watermark-src=\"https://pic3.zhimg.com/50/v2-6998b3b003f687ef5cca32b9ae3d5511_b.jpg\" class=\"origin_image zh-lightbox-thumb\" width=\"2048\" data-original=\"https://pic4.zhimg.com/50/v2-9b44ef30680e0aa0296d617801d8c570_r.jpg\"></figure><p><br></p><figure><img src=\"https://pic1.zhimg.com/50/v2-0e388d55f6ae7f254fcebfb3dec84a2f_b.jpg\" data-rawwidth=\"2048\" data-rawheight=\"1536\" data-size=\"normal\" data-default-watermark-src=\"https://pic4.zhimg.com/50/v2-9b6b7d17671804f4ac0bc2a5ef63e6f0_b.jpg\" class=\"origin_image zh-lightbox-thumb\" width=\"2048\" data-original=\"https://pic1.zhimg.com/50/v2-0e388d55f6ae7f254fcebfb3dec84a2f_r.jpg\"></figure><p>他应该是我见过最聪明的狗，看得懂眼色，读的懂心情，甚至在我爸骂我的时候还会跑过来摸我的背(是真的一只爪子抬起来摸，而我们从来没教过他握手之类的)</p><p>我初中高中都离我家很近，同学啥的都很喜欢他，经常会来小区找他玩，他会经常跟漂亮姐姐玩儿，但是一定会在玩过之后过来撒娇，可能怕我吃醋吧~</p><p>我大学离开家的那天↓</p><figure><img src=\"https://pic4.zhimg.com/50/v2-9b67b58e97f559f4dfa93d097692b582_b.jpg\" data-rawwidth=\"960\" data-rawheight=\"1920\" data-size=\"normal\" data-default-watermark-src=\"https://pic3.zhimg.com/50/v2-0daed74a6354c4979bf0b8f8712acea2_b.jpg\" class=\"origin_image zh-lightbox-thumb\" width=\"960\" data-original=\"https://pic4.zhimg.com/50/v2-9b67b58e97f559f4dfa93d097692b582_r.jpg\"></figure><p>我觉得我这辈子遇见他真的超级超级幸运啦，我的小男朋友❤</p><p>————————分割线————————</p><p>想更一点。</p><p>前两天重庆暴雨还打雷了，这只胆小狗就一定要钻到我怀里要我抱着，我上个厕所也一定要跟着我。</p><p>我妈不让他上床，但是我喜欢抱他，他就会在我妈要出门的时候晃悠到我卧室坐着，听见关门声的一瞬间立刻熟练蹿上来钻进被窝。</p><p>狗子的爱好几乎跟我一样，爱喝酸奶，要吃蛋挞，每次我在外面摸了别的狗别的猫回来他闻见了，就会怄气，只有跟他说好买蛋挞，他才会消气。</p><p>有一次有个姐妹来我家里，聊到了某某大牌口红，我说我最近比较穷买不起，狗子就在旁边特别专心地听。我就拿出一张钱逗他跟他说我要这个，然后…他从沙发垫下特别隐蔽的地方掏出了不知道啥时候藏的三块钱，给了我一块…想了想…又给了我一块，把最后一块钱特别小心的藏好…我快感动哭了。</p><p>被我妈逮住跑床上玩儿↓</p><figure><img src=\"https://pic2.zhimg.com/50/v2-ea52589b1c5f88778e3f4c5012238a70_b.jpg\" data-rawwidth=\"599\" data-rawheight=\"252\" data-size=\"normal\" data-default-watermark-src=\"https://pic3.zhimg.com/50/v2-28249b30e800efb24136e6b482969caa_b.jpg\" class=\"origin_image zh-lightbox-thumb\" width=\"599\" data-original=\"https://pic2.zhimg.com/50/v2-ea52589b1c5f88778e3f4c5012238a70_r.jpg\"></figure><p><br></p><figure><img src=\"https://pic4.zhimg.com/50/v2-5bacdf5a02ed4e3e51bfe4042eaa3f99_b.jpg\" data-rawwidth=\"1499\" data-rawheight=\"1264\" data-size=\"normal\" data-default-watermark-src=\"https://pic3.zhimg.com/50/v2-fa6bc452387b114f12de6c850c8e3b14_b.jpg\" class=\"origin_image zh-lightbox-thumb\" width=\"1499\" data-original=\"https://pic4.zhimg.com/50/v2-5bacdf5a02ed4e3e51bfe4042eaa3f99_r.jpg\"></figure><p>这一张有好长一段时间是我微信头像↓</p><figure><img src=\"https://pic4.zhimg.com/50/v2-fdb169ed5c74f08917474af4ff0d1ea7_b.jpg\" data-rawwidth=\"608\" data-rawheight=\"651\" data-size=\"normal\" data-default-watermark-src=\"https://pic3.zhimg.com/50/v2-194e196493fbf942364eb172ae00b1d3_b.jpg\" class=\"origin_image zh-lightbox-thumb\" width=\"608\" data-original=\"https://pic4.zhimg.com/50/v2-fdb169ed5c74f08917474af4ff0d1ea7_r.jpg\"></figure><p>刚刚找到了遇见他那天他抱我腿的照片↓</p><figure><img src=\"https://pic3.zhimg.com/50/v2-0a3bef1dba5b51fd0b755bfb25e21a5c_b.jpg\" data-rawwidth=\"853\" data-rawheight=\"640\" data-size=\"normal\" data-default-watermark-src=\"https://pic1.zhimg.com/50/v2-41f34b91c999764f26596c31f9e43874_b.jpg\" class=\"origin_image zh-lightbox-thumb\" width=\"853\" data-original=\"https://pic3.zhimg.com/50/v2-0a3bef1dba5b51fd0b755bfb25e21a5c_r.jpg\"></figure><p>狐狸本狸↓</p><figure><img src=\"https://pic1.zhimg.com/50/v2-4bb8eaafe8e9ffa35845480d01c02f2a_b.jpg\" data-rawwidth=\"1536\" data-rawheight=\"2048\" data-size=\"normal\" data-default-watermark-src=\"https://pic4.zhimg.com/50/v2-3035c378d61dd64c5e190f09f3bc0c69_b.jpg\" class=\"origin_image zh-lightbox-thumb\" width=\"1536\" data-original=\"https://pic1.zhimg.com/50/v2-4bb8eaafe8e9ffa35845480d01c02f2a_r.jpg\"></figure><p>他老喜欢吃我的手或者jio，但是从来不会弄疼我，反而我经常把jio塞进他嘴里，他就用爪子轻轻拨出来拍拍我</p><a class=\"video-box\" href=\"//link.zhihu.com/?target=https%3A//www.zhihu.com/video/1139300049472282624\" target=\"_blank\" data-video-id=\"\" data-video-playable=\"\" data-name=\"\" data-poster=\"https://pic3.zhimg.com/v2-e357f10bfb7b083b53e74cba54b4443f.jpeg\" data-lens-id=\"1139300049472282624\">              <img class=\"thumbnail\" src=\"https://pic3.zhimg.com/v2-e357f10bfb7b083b53e74cba54b4443f.jpeg\"><span class=\"content\">                <span class=\"title\"><span class=\"z-ico-extern-gray\"></span><span class=\"z-ico-extern-blue\"></span></span>                <span class=\"url\"><span class=\"z-ico-video\"></span>https://www.zhihu.com/video/1139300049472282624</span>              </span>            </a><p>看到大家这么喜欢他我更想秀了哈哈哈我就是一秀狗狂魔</p><p>——————————分割线———————</p><p>我又来了哈哈哈</p><p>想回复一下大家对于他是我上辈子的情人的评论。</p><p>我很小的是时候养过一只小京巴，跟我特别亲，但是他大概两三岁的时候出了车祸 ，那会儿我太小记不清具体是什么时候了，只记得那一年我的生日愿望是希望他能回来找我 </p><p>当初碰见现在这只狗子的时候，他坐在一棵树下到处张望，我在离他二三十米的地方坐下之后他就径直走过来闻我，像是特意在等我一样。那个地方就在当初我们买小京巴的市场附近，所以我比较愿意认为他是小京巴的转世回来找我的 </p><p>我一般会跟别人说他是我弟弟，提到我家猫猫狗狗的时候也会用到他或者她而不是它，因为我总觉得用它会有一种等级观念，用他或者她会显得我们真的是一家人，当然只是个人看法</p><p>还有我有对象的哈哈哈，这是带对象回家见他的时候↓</p><p>明显不想搭理我对象，但是态度已经很好了没有吐口水没有踩他脚 </p><figure><img src=\"https://pic4.zhimg.com/50/v2-f094c04f3469db310b017be11676a098_b.jpg\" data-rawwidth=\"1499\" data-rawheight=\"1262\" data-size=\"normal\" data-default-watermark-src=\"https://pic3.zhimg.com/50/v2-a8dc84757b2a6f58b152e85dab4f4c69_b.jpg\" class=\"origin_image zh-lightbox-thumb\" width=\"1499\" data-original=\"https://pic4.zhimg.com/50/v2-f094c04f3469db310b017be11676a098_r.jpg\"></figure><p><br></p><p>以上描述绝对真实，藏钱可能是因为他经常看见我拿钱换吃的知道了啥吧…</p>\n",
      "------------------------------\n",
      "如何评价王俊凯在第三季中餐厅的表现？\n",
      "幸福的拾荒者\n",
      "<p>绝！</p><p>中餐厅的他真的让我痴迷，虽然这一季中餐厅有他认识的人但刚开始他依旧是那羞涩的男孩，话不多，但却总能在关键时刻发表最正确的观点。他出现的每一个点都很戳</p><p>1、hxm说用东西换钱，而他说的是让老板用钱来买，瞬间把自己从被动变成主动，哇就突然觉得这男孩真的，反正我是不如他。</p><p>2、和吧台小哥学意大利语谢谢并马上学以致用感谢小哥免费提供的饮料，这情商！</p><p>3、他不是富家少爷，他是个在平凡家庭长大的男孩，在qhl表示用蜂蜜换白糖时他能马上阻止，有了备用资金后嘉宾提出去吃一顿好吃的，他也马上拒绝，为餐厅省钱，真的是个居家过日子的好男人啊！</p><p>4、厨师大哥晚餐只给大家准备了一只梨，全场陷入尴尬局面，他主动打破僵局感谢厨师大哥的晚餐，并进行了一系列的凯言凯语来活跃气氛，一头啃向那梨的时候简直把人笑死。一开始挺气厨师大哥的，大家累了一天才给一只梨后来看plus 版才知道冤枉了人家，是有几位嘉宾自己说可以让厨师不准备他俩的晚饭，所以厨师好心好意做了可以减肥的晚餐，只是苦了正在长身体的王俊凯 </p><p>5、厨师大哥不太适应四处的摄影机，他会主动去安慰，因为那种感觉他一直都有，感同身受</p><p>6、他总是在角落里默默地干着工作，洗盘子，整理餐厅一天的垃圾</p><p>7、农贸市场结束买菜时那气氛更是相当尴尬了，他轻轻的皮了一下轻松缓解气氛，不能太服他</p><p>8、他听yz说manager 一直cue qhl ，所以从餐厅出来后他会和大家说感谢海璐姐，走廊的画被碰掉，厨师大哥帮忙，他会称赞厨师大哥是他的英雄，他从不吝啬自己的感谢！</p><p>9、不论是和市长还是餐厅合伙人，碰杯的时候他永远低于别人，好有礼貌的男孩 </p><p>        有yxh 说他是雨我无瓜不敢反驳三个大人的xfxy流量，里面有些词我实在无法苟同，他给我一种感觉，他像是掌控全局的大boss，你们爱吵吵爱闹闹，只要不出大差错就行，他总能在众人要走弯路的时候把大家拽回正道然后接着自己的雨我无瓜。(告知hxm 7号开业，农贸市场8-9点营业，收银员无法做决定，把粽子卖给manage有了启动资金，可以说有了王俊凯，大家少走了很多弯路)</p><p>         王俊凯是一个只要是正式比赛就会很认真的男孩，无疑他把这次市长交代给他们的任务当做了一场挑战，所以第一天即使不开业，他也随时想着宣传，为以后增长营业额做下铺垫</p><p>虽然这一季的中餐厅有点迷，但不得不承认王俊凯真的很圈粉！！！</p><figure><img src=\"https://pic4.zhimg.com/50/v2-82d772a5815670b8a75ad5e98dca3bb5_b.jpg\" data-rawwidth=\"762\" data-rawheight=\"762\" data-size=\"normal\" data-default-watermark-src=\"https://pic4.zhimg.com/50/v2-138c749e4d46b39146ceb71d7e95e244_b.jpg\" class=\"origin_image zh-lightbox-thumb\" width=\"762\" data-original=\"https://pic4.zhimg.com/50/v2-82d772a5815670b8a75ad5e98dca3bb5_r.jpg\"></figure><p></p>\n",
      "------------------------------\n",
      "有没有一读就会惊叹“哇，好温柔啊”的句子？\n",
      "犬槐\n",
      "<p>1</p><p>如果可以 当然让你永远围着果酱罐 尝着蜂蜜糖 站在象牙塔 光明正大晒月亮<br>人间是个什么玩意儿 你看也不要看</p><p><br></p><p>2</p><p>“很喜欢那一类拥有独立人格的人。懂得照顾自己，在事情处理妥帖后能尽情享受生活。他们不常倾诉，因自己的苦难自己有能力消释。他们很少表现出攻击性，因内心强大而生出一种体恤式的温柔。他们不被廉价的言论与情感煽动，坚持自己的判断不后悔。喜欢这些人，也因他们并不在乎别人是否喜欢他们。”</p><p><br></p><p>3</p><p>“要我说女孩子呀，各有各的漂亮法。 <br><br>有的眉目清泠，像是一整季的雪水都融在了她的眼睛里。 <br><br>有的酒窝甜蜜，她笑一笑漫山遍野的风声都要消息。 <br><br>有的天生绵软，你朝她挨过去，像碰着了一团云。 <br><br>有的发汗时竟能生出浅浅的香气，散在天地间顿觉云销雨霁。 <br><br>如何不漂亮呢? 她若是瘦，你便看她伸懒腰时优雅得像天鹅抻颈。 <br><br>她若丰盈，你便看她日光底下肌肤亮起时有多绮丽。 <br><br>她若生斑，你便赞她漂亮得发光上帝这才在她的眼角鼻翼投下了淡淡的影。 <br><br>她若佝偻，你便赞她小小只多秀气刚刚好搂在怀里。 <br><br>你瞧，女孩子生来就漂亮得不讲道理。” </p><p>——林鹤连</p><p><br></p><p>4</p><p>我的院子里有四万万朵玫瑰花 <br>每天清晨 我捧一本书坐在院子里 <br>路过的路人都会称赞我的玫瑰 也有想要折去一两朵的 <br>我通通不理不睬 <br>直到有一天你来 笑眼眯成月牙 问我 看的什么书啊 <br>我就知道 这四万万玫瑰花 <br>统统是你的</p><p><br></p><p>5</p><p>“把酒祝东风，且祝山河与共的从容，似这清风明月，凌霜傲雪，最清澈双眼。 ”是在说你吧。好像很久违，又好像每天都在耳边。你出现了，别人叫什么名字啊？我什么都不知道了，只知道你最好了，你是天下第一。</p><p>——《东风志》网易评论</p><p>6</p><p>狐狸用尾巴扫干净蘑菇上的灰尘 刺猬们也把肚子露了出来 蜗牛也害羞的钻进自己的壳里 长颈鹿不停地吃掉颜色不好的叶子 因为你到我的森林里来了。</p><p><br></p><p>7</p><p>“我记得你笑起来的下垂眼，为数不多几句话的温柔嗓音。你发的一个语气词，都让我甜得冒泡。你是我，最最喜欢的小兔子。”</p><p><br></p><p>8</p><p>无论你现在多难 能不能去看你想去的风景 都不用担心 你力所能及的地方 一定会带给你预想不到的惊喜 你会遇见一些人觉得相见恨晚 或者遇到一个人觉得在那里值得 这是命 遇见你该遇见的 接受你所不能改变的其实不错 生活的迷人之处 不是如愿以偿 而是阴差阳错</p><p><br></p><p>9</p><p>不要在泥泞的生活里打滚<br>不要跟自己说要安天命<br>不要被生活的鸡零狗碎碾压<br>最后过着连自己都觉得可悲的日子 <br>还会再见的 再相逢希望我们都在更高处 <br>如若不能 我就仰望你</p><p><br></p><p>10</p><p>“你要原谅中途离开、变卦说谎的人， <br>原谅他们越来越少的出场， <br>原谅他们所剩不多的虚荣和时间； <br>原谅爱、纪律和荣誉， <br>不确定的开始，确定的结局； <br>原谅漂浮的命运，衰竭的神经； <br>黄莲和苦瓜，都要原谅。”</p><p> ——李小洛《要原谅》</p><p><br></p><p>11</p><p>我希望你被打磨 永远光明磊落 我希望你能走过山山水水 写温柔的字 坦荡地爱 我希望你被阅读 不被辜负 你要飘摇着美丽 活得丰盛 或庄重</p><p><br></p><p>12</p><p>无论长成什么坚硬的模样 心里最爱的还是温柔的故事</p><p><br></p><figure><img src=\"https://pic3.zhimg.com/50/v2-e87a82b00c2d71b9cbf3dca042d4dd9d_b.jpg\" data-rawwidth=\"828\" data-rawheight=\"819\" data-size=\"normal\" data-default-watermark-src=\"https://pic4.zhimg.com/50/v2-30b2a1df0b9bcce08baedfc97e31fad4_b.jpg\" class=\"origin_image zh-lightbox-thumb\" width=\"828\" data-original=\"https://pic3.zhimg.com/50/v2-e87a82b00c2d71b9cbf3dca042d4dd9d_r.jpg\"></figure><p><br></p><hr><p>大部分的句子都是以前到处搜罗来的，有很多都查不到来源和作者  知道的都已经加上出处拉</p><p>没想到会有那么多小宝贝点赞 真的很开心自己喜欢的句子能够被大家也同样喜欢|˄·͈༝·͈˄₎.｡oO搓手手</p><p>大部分小宝贝好像对其中一段文字中的佝偻一词有些争议  经过评论区某位小可爱的科普我才了解这个词所代表的意思 个人也觉得在这里用上这个词是有些不太妥当(挠头)我对原文的作者不太了解   以下是自己对这段文字的见解“世界上很少有人是完美的 每个人都或多或少有些缺点和不足 但是在爱你的人心中 那或许也同样是你的美丽之处”</p><p>…不知道有没有讲清楚自己的想法 |˄·͈༝·͈˄₎.｡oO 不过再次感谢大家的点赞和评论！！自己喜欢的东西被大家同样的喜欢着 也有一种被承认的感觉 嘿嘿 有点暗爽</p><p>不过那位在评论区评论说这些是舔狗语录的哈哈哈哈你好欠揍哦！！ 吃我一拳！</p>\n",
      "------------------------------\n",
      "医院里的科研岗是怎样一种存在？\n",
      "邓铂鋆\n",
      "<p>科研岗是大型医疗机构加强自身垄断的必然手段。通过深化分工，搞一批人专门刷科研指标KPI，在主观和客观上推动了转化医学研究与发展。</p><p>至于成果归属和回报问题……</p><p>老板雇佣你上班，你的所有劳动成果就都是你的么？计划经济，生产资料全民所有，成果那是集体的。市场经济也讲究职务创作——中科院的比尔·盖茨院士他懂核电么？这不照样靠雇员做出的、花钱买来的核电技术成果评院士嘛。上学的时候没学过跑电泳的院士多了，现在论文里照样用的6，高手还要用一批出了实验室啥也不会的博士堆冷冻电镜小时数呢。项目是总包商拿下的的，分包的工头、民工就是拿钱干活的。反正本地有科研岗的同志要求待遇，领导通常说你再累累不过看门诊的、写病历的，耗子养死了的风险也比不上临床一线。虽然本质上这种回答跟“脑力劳动再辛苦也没有扫马路累，你拿的比扫马路多，还有什么抱怨的”没啥区别，但事实就是如此。任何一个经营性机构，你不做带来主要营收的主业，又没有权力，做的再好也只是一个缺少议价权点缀。</p><p>科学研究是发现，技术研究是发明。纯理论研究者在情商和社会活动能力上赶不上从事跟人打交道的应用工程技术的人，这很正常。于是搞应用工程技术的人负责化缘，搞理论研究的人负责干活，然后各取所需，这是很正常的分工不同。科研岗在医院里确实没多少实惠，也就是学生和低年资医生做课题的时候有求于你，再就是混的好了手里有委员会的投票权了，每年能收一次简历。科研岗最重要的问题不是“钱少”，而是上升空间窄，你做的再多，在医院里没有话语权，“说了不算”。但是想想，贵生化环材劝退行业的岗位少，鹅害鹅式的内卷，菜鸡互啄一般的无效竞争，能聘用的起科研岗的医院，至少待遇不太差，竞争也没那么激烈吧？（虽然成长性确实不佳，还容易被主流学术界边缘化。）嫌不爽，当初就不该入这行！毕业就该转CS！发了大文章就该去企业！现在的委屈都是当初脑子进水啊。</p><p>不管是临床岗还是科研岗，都是资本异化下“工具人”。下一个五年计划，老板准备不惜你们这些代价，把所有新猿工都改造成能发SCI的青年科学家，白嫖五年不给编、未必留，推动世界一流大学建设。临床看似有肉吃，其实也有辛苦不为外人知。就别分三六九等，通过伤害对方寻找优越感了。</p>\n",
      "------------------------------\n",
      "淘宝有哪些好看的裙子？\n",
      "Brown酱\n",
      "<p>啊啊啊！</p><p>这个我必须回答一下！！</p><p>平常闲着没事做的时候，总会逛淘宝，也许买买买是女生的天性吧~</p><p>不给自己买多几条裙子怎么对得起这个夏天呀~~</p><figure><img src=\"https://pic2.zhimg.com/50/v2-d50ea10ee874ddac62cea31472668283_b.jpg\" data-caption=\"\" data-size=\"normal\" data-rawwidth=\"449\" data-rawheight=\"400\" data-default-watermark-src=\"https://pic4.zhimg.com/50/v2-fd4e0c8a2a49ffa468093fa0ae01afbf_b.jpg\" class=\"origin_image zh-lightbox-thumb\" width=\"449\" data-original=\"https://pic2.zhimg.com/50/v2-d50ea10ee874ddac62cea31472668283_r.jpg\"></figure><p>从初中就开始网购，收藏了很多店铺，也取关了很多店铺，留下来的都是信得过的店铺呀~</p><p>下面推荐的都是质量好，性价比高的小裙裙~</p><p>顺便把价格标上，大家可以根据自己的需求买买买，嘻嘻~</p><p><b>此文章推荐的所有店铺与本人无任何利益关系！</b></p><p><b>好多盆友私信我说搜不到店铺，复制图片下方口令可直达淘宝店铺~</b></p><p><br></p><p><b>1.风尚家</b></p><p>下面这个裙子我买啦，面料很舒服，质感很好，穿上身超级显瘦呀~￥135</p><figure><img src=\"https://pic2.zhimg.com/50/v2-9dde9fe017323d9dd63e9dac414cd4d5_b.jpg\" data-size=\"normal\" data-rawwidth=\"750\" data-rawheight=\"1000\" data-default-watermark-src=\"https://pic2.zhimg.com/50/v2-df048239ca980e038f23ba1ded49b1f1_b.jpg\" class=\"origin_image zh-lightbox-thumb\" width=\"750\" data-original=\"https://pic2.zhimg.com/50/v2-9dde9fe017323d9dd63e9dac414cd4d5_r.jpg\"><figcaption>复制￥AyMpYijJ6Ys￥打开淘宝直达</figcaption></figure><p><br></p><p>这款裙子最最喜欢的就是裙摆的拼接设计，整体穿起来有点小成熟却不失优雅气质 ￥145</p><figure><img src=\"https://pic1.zhimg.com/50/v2-bacf8667334b6a8e809ab7f865688e17_b.jpg\" data-size=\"normal\" data-rawwidth=\"750\" data-rawheight=\"1000\" data-default-watermark-src=\"https://pic3.zhimg.com/50/v2-f968814d606c6579dd1069ae8d527f6a_b.jpg\" class=\"origin_image zh-lightbox-thumb\" width=\"750\" data-original=\"https://pic1.zhimg.com/50/v2-bacf8667334b6a8e809ab7f865688e17_r.jpg\"><figcaption>复制￥b3AUYijtKw5￥打开淘宝直达</figcaption></figure><p><br></p><p><b>2.BOCCA家</b></p><p>好喜欢这个鱼尾开叉长裙，很有设计感，胯宽的也可以穿噢~非常适合拍照凹造型~￥109</p><figure><img src=\"https://pic3.zhimg.com/50/v2-50b13bddc8c833ffb6268c7363f03a1b_b.jpg\" data-size=\"normal\" data-rawwidth=\"750\" data-rawheight=\"750\" data-default-watermark-src=\"https://pic1.zhimg.com/50/v2-32b959c952e9a5d9fac45a7c85510971_b.jpg\" class=\"origin_image zh-lightbox-thumb\" width=\"750\" data-original=\"https://pic3.zhimg.com/50/v2-50b13bddc8c833ffb6268c7363f03a1b_r.jpg\"><figcaption>复制￥UlNNYijGk4a￥打开淘宝直达</figcaption></figure><p><br></p><figure><img src=\"https://pic2.zhimg.com/50/v2-918e9a0706aabebc793e909245299c60_b.jpg\" data-size=\"normal\" data-rawwidth=\"800\" data-rawheight=\"1200\" data-default-watermark-src=\"https://pic3.zhimg.com/50/v2-3032bd19e71e90bc7fdd3d2696dcd2a9_b.jpg\" class=\"origin_image zh-lightbox-thumb\" width=\"800\" data-original=\"https://pic2.zhimg.com/50/v2-918e9a0706aabebc793e909245299c60_r.jpg\"><figcaption>复制￥UlNNYijGk4a￥打开淘宝直达</figcaption></figure><p><br></p><p><b>3.猫泞家</b></p><p>妈呀~这款奶油色的吊带长裙第一眼就看上了，也太仙了吧~~￥159</p><figure><img src=\"https://pic3.zhimg.com/50/v2-f6743511042f009da6a4c9580d673155_b.jpg\" data-size=\"normal\" data-rawwidth=\"800\" data-rawheight=\"1016\" data-default-watermark-src=\"https://pic1.zhimg.com/50/v2-ccc77cbef41a26b8e31c1c9e35df51bb_b.jpg\" class=\"origin_image zh-lightbox-thumb\" width=\"800\" data-original=\"https://pic3.zhimg.com/50/v2-f6743511042f009da6a4c9580d673155_r.jpg\"><figcaption>复制￥V4JNYijuyI4￥打开淘宝直达</figcaption></figure><p>这款杏色连衣裙真的吼吼看啊！穿上身特别显气质，布料很柔软，做工很精致~￥179</p><figure><img src=\"https://pic1.zhimg.com/50/v2-4a54f19c28c2ee6a76b2e4f0e1f6fd0f_b.jpg\" data-size=\"normal\" data-rawwidth=\"800\" data-rawheight=\"781\" data-default-watermark-src=\"https://pic1.zhimg.com/50/v2-3cdbea3fa5e0a9c44fc3715769bd675e_b.jpg\" class=\"origin_image zh-lightbox-thumb\" width=\"800\" data-original=\"https://pic1.zhimg.com/50/v2-4a54f19c28c2ee6a76b2e4f0e1f6fd0f_r.jpg\"><figcaption>复制￥wk1WYijFvb7￥打开淘宝直达</figcaption></figure><p><br></p><p><b>4.hollyii家</b></p><p>这家的价格相对便宜一点，款式偏软妹学院风的那种，学生党一定要去收藏哦！！￥99</p><figure><img src=\"https://pic3.zhimg.com/50/v2-2fede7f624d454b7bd269f2d114e524e_b.jpg\" data-size=\"normal\" data-rawwidth=\"800\" data-rawheight=\"800\" data-default-watermark-src=\"https://pic4.zhimg.com/50/v2-a4ec563a2d96b80a1edaf1f8e6cc5efd_b.jpg\" class=\"origin_image zh-lightbox-thumb\" width=\"800\" data-original=\"https://pic3.zhimg.com/50/v2-2fede7f624d454b7bd269f2d114e524e_r.jpg\"><figcaption>复制￥WS8bYijEacH￥打开淘宝直达</figcaption></figure><p><br></p><p>这款带点法式宫廷风，中间裹胸设计，修腰更显瘦哦~￥93</p><figure><img src=\"https://pic1.zhimg.com/50/v2-1d206408761b6ee708a27e14bdb96cf3_b.jpg\" data-size=\"normal\" data-rawwidth=\"800\" data-rawheight=\"800\" data-default-watermark-src=\"https://pic4.zhimg.com/50/v2-7ffaaad35abe59e6bbae1e192276da44_b.jpg\" class=\"origin_image zh-lightbox-thumb\" width=\"800\" data-original=\"https://pic1.zhimg.com/50/v2-1d206408761b6ee708a27e14bdb96cf3_r.jpg\"><figcaption>复制￥Xl7EYijETql￥打开淘宝直达</figcaption></figure><p><br></p><p><br></p><p><b>5.sweet家</b></p><p>这家有好多好仙好仙的连衣裙！！裙子的颜色看起来都超级温柔的，特别的显气质！！￥98</p><figure><img src=\"https://pic1.zhimg.com/50/v2-40d4c2f1bb9b3ec8fa2cfcd9b06a71a1_b.jpg\" data-size=\"normal\" data-rawwidth=\"1500\" data-rawheight=\"1498\" data-default-watermark-src=\"https://pic3.zhimg.com/50/v2-1a32bf20a89096c5cff496b0ea5e6d9f_b.jpg\" class=\"origin_image zh-lightbox-thumb\" width=\"1500\" data-original=\"https://pic1.zhimg.com/50/v2-40d4c2f1bb9b3ec8fa2cfcd9b06a71a1_r.jpg\"><figcaption>复制￥doI0YijwlZt￥打开淘宝直达</figcaption></figure><p><br></p><p>这条特别适合穿去度假！然后发个美美的朋友圈，嘻嘻~￥138</p><figure><img src=\"https://pic3.zhimg.com/50/v2-fdcfe237d54c4948743137146536a539_b.jpg\" data-size=\"normal\" data-rawwidth=\"650\" data-rawheight=\"650\" data-default-watermark-src=\"https://pic2.zhimg.com/50/v2-0f326eae5a9792bdca32837d858c291e_b.jpg\" class=\"origin_image zh-lightbox-thumb\" width=\"650\" data-original=\"https://pic3.zhimg.com/50/v2-fdcfe237d54c4948743137146536a539_r.jpg\"><figcaption>复制￥mpzQYijwyv9￥打开淘宝直达</figcaption></figure><p><br></p><p><b>6.ANNZ家</b></p><p>这家主打原创设计，每个款式多很独特，衣服超级显气质！穿出去不撞款~￥219</p><figure><img src=\"https://pic1.zhimg.com/50/v2-a18d2fb645d245063e558e81dca5e77f_b.jpg\" data-size=\"normal\" data-rawwidth=\"800\" data-rawheight=\"800\" data-default-watermark-src=\"https://pic3.zhimg.com/50/v2-d0fb6af2d9f8b090906fd413c30eb8b3_b.jpg\" class=\"origin_image zh-lightbox-thumb\" width=\"800\" data-original=\"https://pic1.zhimg.com/50/v2-a18d2fb645d245063e558e81dca5e77f_r.jpg\"><figcaption>复制￥BYhdYijDzYl￥打开淘宝直达</figcaption></figure><p>这条碎花裙很好看，衣服细节做得很好，非常气质的一款~￥228</p><figure><img src=\"https://pic4.zhimg.com/50/v2-0ad113eb1e158e20bc0a5360d8475b0b_b.jpg\" data-size=\"normal\" data-rawwidth=\"800\" data-rawheight=\"800\" data-default-watermark-src=\"https://pic2.zhimg.com/50/v2-dd1a1d6f09de939ff1389aeadd5115e7_b.jpg\" class=\"origin_image zh-lightbox-thumb\" width=\"800\" data-original=\"https://pic4.zhimg.com/50/v2-0ad113eb1e158e20bc0a5360d8475b0b_r.jpg\"><figcaption>复制￥agw2Yijxaug￥打开淘宝直达</figcaption></figure><p><br></p><p><b>7.木冉家</b></p><p>今年非常流行牛油果色~然后我就买了这条，穿上身真的很棒，质量也很好哦~￥149</p><figure><img src=\"https://pic3.zhimg.com/50/v2-714e504752bc38fbe79d06e006c819b2_b.jpg\" data-size=\"normal\" data-rawwidth=\"750\" data-rawheight=\"1000\" data-default-watermark-src=\"https://pic4.zhimg.com/50/v2-ecfe9cc0f2e551cbeb3e302995ac2046_b.jpg\" class=\"origin_image zh-lightbox-thumb\" width=\"750\" data-original=\"https://pic3.zhimg.com/50/v2-714e504752bc38fbe79d06e006c819b2_r.jpg\"><figcaption>复制￥qpZQYijxrsE￥打开淘宝直达</figcaption></figure><p>这家的款式有点偏轻熟风，上班族快收藏吧~~￥189</p><figure><img src=\"https://pic4.zhimg.com/50/v2-fc1a42546cce479bed28d222cdf9651d_b.jpg\" data-size=\"normal\" data-rawwidth=\"750\" data-rawheight=\"1000\" data-default-watermark-src=\"https://pic3.zhimg.com/50/v2-3341051d5cd98db58057f79f5d267ed6_b.jpg\" class=\"origin_image zh-lightbox-thumb\" width=\"750\" data-original=\"https://pic4.zhimg.com/50/v2-fc1a42546cce479bed28d222cdf9651d_r.jpg\"><figcaption>复制￥fwjeYijCqMe￥打开淘宝直达</figcaption></figure><p><br></p><p><b>8.AMB家</b></p><p>超喜欢这家的衣服风格，偏日系，款式真的是深得我心呀~~￥128</p><figure><img src=\"https://pic1.zhimg.com/50/v2-85a874927d16686723fa18321c1bd782_b.jpg\" data-size=\"normal\" data-rawwidth=\"795\" data-rawheight=\"1062\" data-default-watermark-src=\"https://pic3.zhimg.com/50/v2-a7cdb4990685742973ac0c766ade354e_b.jpg\" class=\"origin_image zh-lightbox-thumb\" width=\"795\" data-original=\"https://pic1.zhimg.com/50/v2-85a874927d16686723fa18321c1bd782_r.jpg\"><figcaption>复制￥1LdEYijyKP2￥打开淘宝直达</figcaption></figure><p>偶尔穿一下露背的裙子，出门绝对亮眼~~￥79</p><figure><img src=\"https://pic4.zhimg.com/50/v2-afc333f376b31c3cdfef496de151767f_b.jpg\" data-size=\"normal\" data-rawwidth=\"800\" data-rawheight=\"800\" data-default-watermark-src=\"https://pic3.zhimg.com/50/v2-4c4ba357ad0fa4542bb718eef01b65b3_b.jpg\" class=\"origin_image zh-lightbox-thumb\" width=\"800\" data-original=\"https://pic4.zhimg.com/50/v2-afc333f376b31c3cdfef496de151767f_r.jpg\"><figcaption>复制￥1LdEYijyKP2￥打开淘宝直达</figcaption></figure><p><br></p><p><br></p><p><b>9.DIUDIU家</b></p><p>穿一件长T恤当裙子，既休闲又舒服，还特显腿长~~喜欢休闲风的赶紧收藏吧！！￥78</p><figure><img src=\"https://pic1.zhimg.com/50/v2-e46d1a7030f8f48a8a4a2e512b4aa2ff_b.jpg\" data-size=\"normal\" data-rawwidth=\"750\" data-rawheight=\"1000\" data-default-watermark-src=\"https://pic3.zhimg.com/50/v2-d7221addefca445b3a1777408a555b77_b.jpg\" class=\"origin_image zh-lightbox-thumb\" width=\"750\" data-original=\"https://pic1.zhimg.com/50/v2-e46d1a7030f8f48a8a4a2e512b4aa2ff_r.jpg\"><figcaption>复制￥lpU2YijzODo￥打开淘宝直达</figcaption></figure><p><br></p><p>超级遮肉肉的T恤裙，侧边打结设计凸显腰身，既显瘦又休闲，舒服！￥108</p><figure><img src=\"https://pic3.zhimg.com/50/v2-af80d75a918503a3dc16164b3e764747_b.jpg\" data-size=\"normal\" data-rawwidth=\"750\" data-rawheight=\"1000\" data-default-watermark-src=\"https://pic2.zhimg.com/50/v2-3bb74efaf9cd982d21b333d9ff89c9ef_b.jpg\" class=\"origin_image zh-lightbox-thumb\" width=\"750\" data-original=\"https://pic3.zhimg.com/50/v2-af80d75a918503a3dc16164b3e764747_r.jpg\"><figcaption>复制￥Eq5PYijzHGH￥打开淘宝直达</figcaption></figure><p><br></p><p><b>10.猫酱家</b></p><p>这个裙子特别显白显瘦，简约又不失气质，红色黑色都好看~~￥128</p><figure><img src=\"https://pic3.zhimg.com/50/v2-277ca5aed692b22719bc99d95927ecc1_b.jpg\" data-size=\"normal\" data-rawwidth=\"750\" data-rawheight=\"1000\" data-default-watermark-src=\"https://pic4.zhimg.com/50/v2-fc4c51097c699dc526173d53d8ffc223_b.jpg\" class=\"origin_image zh-lightbox-thumb\" width=\"750\" data-original=\"https://pic3.zhimg.com/50/v2-277ca5aed692b22719bc99d95927ecc1_r.jpg\"><figcaption>复制￥TpcoYijAFnX￥打开淘宝直达</figcaption></figure><p>这款无袖长裙很小清新，适合走可爱风的盆友们穿~￥138</p><figure><img src=\"https://pic4.zhimg.com/50/v2-e26c010397d6f0ff8ff25ff388f482a2_b.jpg\" data-size=\"normal\" data-rawwidth=\"750\" data-rawheight=\"1000\" data-default-watermark-src=\"https://pic2.zhimg.com/50/v2-ef71645046f4a79818ca2d4de688c520_b.jpg\" class=\"origin_image zh-lightbox-thumb\" width=\"750\" data-original=\"https://pic4.zhimg.com/50/v2-e26c010397d6f0ff8ff25ff388f482a2_r.jpg\"><figcaption>复制￥fW62YiQaKEd￥打开淘宝直达</figcaption></figure><p><br></p><p><b>11.BABY冷月家</b></p><p>泡泡袖的格子连衣短裙吼吼看啊！！带点复古feel,特别显瘦显高哦~~￥199</p><figure><img src=\"https://pic2.zhimg.com/50/v2-bb64653a3e5f08e1e53e59c3ac91c61e_b.jpg\" data-size=\"normal\" data-rawwidth=\"750\" data-rawheight=\"1000\" data-default-watermark-src=\"https://pic4.zhimg.com/50/v2-215f4c331aa71855e795eb3724f2ac0c_b.jpg\" class=\"origin_image zh-lightbox-thumb\" width=\"750\" data-original=\"https://pic2.zhimg.com/50/v2-bb64653a3e5f08e1e53e59c3ac91c61e_r.jpg\"><figcaption>复制￥eTBNYiQZfNe￥打开淘宝直达</figcaption></figure><figure><img src=\"https://pic1.zhimg.com/50/v2-b30c87fffeba757d8d7b5f165091acad_b.jpg\" data-size=\"normal\" data-rawwidth=\"750\" data-rawheight=\"1000\" data-default-watermark-src=\"https://pic4.zhimg.com/50/v2-41c315c38f512604da2f8cb37066cc2a_b.jpg\" class=\"origin_image zh-lightbox-thumb\" width=\"750\" data-original=\"https://pic1.zhimg.com/50/v2-b30c87fffeba757d8d7b5f165091acad_r.jpg\"><figcaption>复制￥eTBNYiQZfNe￥打开淘宝直达</figcaption></figure><p><br></p><p><b>12.忠犬家</b></p><p>喜欢日系风必须去看看！！模特是很小清新的那种类型，价格也超适合学生党~￥109</p><figure><img src=\"https://pic1.zhimg.com/50/v2-c112487ec1ddbffb705e55d6ad6a3ba5_b.jpg\" data-size=\"normal\" data-rawwidth=\"750\" data-rawheight=\"1000\" data-default-watermark-src=\"https://pic4.zhimg.com/50/v2-5d7c48022685c84165376e99a6693ed1_b.jpg\" class=\"origin_image zh-lightbox-thumb\" width=\"750\" data-original=\"https://pic1.zhimg.com/50/v2-c112487ec1ddbffb705e55d6ad6a3ba5_r.jpg\"><figcaption>复制￥rgyTYiQ0AGu￥打开淘宝直达</figcaption></figure><figure><img src=\"https://pic1.zhimg.com/50/v2-48b7ed40b128e29396632843dd3d08a9_b.jpg\" data-size=\"normal\" data-rawwidth=\"750\" data-rawheight=\"1000\" data-default-watermark-src=\"https://pic4.zhimg.com/50/v2-c4bc815a38ea56330bd76ce2a5449d5f_b.jpg\" class=\"origin_image zh-lightbox-thumb\" width=\"750\" data-original=\"https://pic1.zhimg.com/50/v2-48b7ed40b128e29396632843dd3d08a9_r.jpg\"><figcaption>复制￥InIsYiQ0ihi￥打开淘宝直达</figcaption></figure><p><br></p><p><b>13.鱼不二家</b></p><p>一直以来都好喜欢这种蕾丝裙，穿上身blingbling的，感觉自己就是仙女  哈哈哈哈 ￥139</p><figure><img src=\"https://pic4.zhimg.com/50/v2-e0c85f1c601da70f196e2652e94cee6b_b.jpg\" data-size=\"normal\" data-rawwidth=\"800\" data-rawheight=\"800\" data-default-watermark-src=\"https://pic1.zhimg.com/50/v2-4cd7dfcc44c082e4e00d14e9747887d8_b.jpg\" class=\"origin_image zh-lightbox-thumb\" width=\"800\" data-original=\"https://pic4.zhimg.com/50/v2-e0c85f1c601da70f196e2652e94cee6b_r.jpg\"><figcaption>复制￥N2GtYiQYJtx￥打开淘宝直达</figcaption></figure><figure><img src=\"https://pic3.zhimg.com/50/v2-e2e18f7c782714294f1a122cd69ec8bf_b.jpg\" data-size=\"normal\" data-rawwidth=\"800\" data-rawheight=\"800\" data-default-watermark-src=\"https://pic1.zhimg.com/50/v2-e197f2004a2a18b09f87663e6b3b825c_b.jpg\" class=\"origin_image zh-lightbox-thumb\" width=\"800\" data-original=\"https://pic3.zhimg.com/50/v2-e2e18f7c782714294f1a122cd69ec8bf_r.jpg\"><figcaption>复制￥1ynQYiQYLte￥打开淘宝直达</figcaption></figure><p><br></p><p><b>14.Allyn家</b></p><p>喜欢法式连衣裙的盆友们！这家款式超级多哦！今年法式风真的是太流行了~￥158</p><figure><img src=\"https://pic3.zhimg.com/50/v2-ff305425aac80fc4cd03412ba206727a_b.jpg\" data-size=\"normal\" data-rawwidth=\"800\" data-rawheight=\"800\" data-default-watermark-src=\"https://pic2.zhimg.com/50/v2-1eb2671d2cb03c67254313bbd09aa883_b.jpg\" class=\"origin_image zh-lightbox-thumb\" width=\"800\" data-original=\"https://pic3.zhimg.com/50/v2-ff305425aac80fc4cd03412ba206727a_r.jpg\"><figcaption>复制￥utHwYiQcVBx￥打开淘宝直达</figcaption></figure><figure><img src=\"https://pic3.zhimg.com/50/v2-dacb301d4b5a61497c9c543c9d8a7440_b.jpg\" data-size=\"normal\" data-rawwidth=\"800\" data-rawheight=\"800\" data-default-watermark-src=\"https://pic3.zhimg.com/50/v2-30e945d5fcb299b194e264252fc08ca4_b.jpg\" class=\"origin_image zh-lightbox-thumb\" width=\"800\" data-original=\"https://pic3.zhimg.com/50/v2-dacb301d4b5a61497c9c543c9d8a7440_r.jpg\"><figcaption>复制￥enzoYiQ1yz2￥打开淘宝直达</figcaption></figure><p><br></p><p><b>15.北冥有渔 </b></p><p>喜欢穿旗袍类的小姐姐，快！去！收！藏！有好多设计得很好看的衣服哦~</p><figure><img src=\"https://pic4.zhimg.com/50/v2-76ff1fc46b97d7784e7d4fc8102a6aef_b.jpg\" data-size=\"normal\" data-rawwidth=\"750\" data-rawheight=\"1000\" data-default-watermark-src=\"https://pic1.zhimg.com/50/v2-6a4ae1f97c0b3f88329b681a85cbc279_b.jpg\" class=\"origin_image zh-lightbox-thumb\" width=\"750\" data-original=\"https://pic4.zhimg.com/50/v2-76ff1fc46b97d7784e7d4fc8102a6aef_r.jpg\"><figcaption>复制￥RfysYiQXY8m￥打开淘宝直达</figcaption></figure><figure><img src=\"https://pic2.zhimg.com/50/v2-94d7d6887920b3444ae0fec22e459fc5_b.jpg\" data-size=\"normal\" data-rawwidth=\"750\" data-rawheight=\"1000\" data-default-watermark-src=\"https://pic3.zhimg.com/50/v2-2812d5af76e18b1a181dff6bfdc9878c_b.jpg\" class=\"origin_image zh-lightbox-thumb\" width=\"750\" data-original=\"https://pic2.zhimg.com/50/v2-94d7d6887920b3444ae0fec22e459fc5_r.jpg\"><figcaption>复制￥QxgQYiQXRUX￥打开淘宝直达</figcaption></figure><p><br></p><p><b>无私地把我收藏的小裙裙贡献出来给小姐姐们，只求你们的一赞呀呀~~</b></p><p><b>今天就写到这里吧，过几天来更新，笔芯~</b></p>\n",
      "------------------------------\n",
      "一年过去，怎样评价腾讯“大文娱”布局下，哇唧唧哇对火箭少女101的运营？\n",
      "兰溪陈道明\n",
      "<p>哇唧唧哇，小微企业(天眼查可查)。草台班子，关系户，还莫名的带有国企的傲慢，对于她的各种不专业，无能，短视，我不想在这个问题下赘述。我相信你会在其他回答里看个够。</p><p>腾讯对其能力不足其实是有认知的。然而，在当前形势下，国内对于偶像团体的运营公司，各大平台，不仅仅是腾讯，其实都没有大多的选择。腾讯选择哇唧唧哇是现实而无奈的决定。</p><p>哇唧唧哇不行，换成谁呢？</p><p>乐华，首先看关系。不是一条心的，一票否决了。</p><p>其次，看运营能力。你看乐华自己的男团，乐华七子，还有优酷视频以团之名交给他运营的那个男团，太糊了，我就懒得百度叫什么了，乐华的运营更倾向于量产大量新星割韭菜，职业营销团队可以全公司公用降低成本，还有各种韭菜资源共享，俗称乐华大礼包。</p><p>最后，运营公司自带艺人参加选秀，这样的综艺节目和成团组合，先天性不足。你看创造营哇唧唧哇带六进五还拿C位，节目和男团的效果如何就知道了。</p><p>除了乐华，还有谁?爱豆世纪?爱奇艺的偶像练习生出道组合NPC，组合名存实亡，偶妹对爱豆世纪的控诉罄竹难书，有兴趣可移步微博搜adsj，包你满意。然而第二季青春有你，成团的unien，还是交由他们运营。这不就是爱奇艺的哇唧唧哇嘛。</p><p>创造101节目火爆超乎寻常，价值远超赛前预期，腾讯出手把两年归属约放到海南周天这个皮包公司，然后再由海南周天委托哇唧唧哇运营。但是关系户的情绪还是要照顾的，所以你就看到了创造营2019，哇唧唧哇既当裁判又当运动员。假设创造营节目大火，出来天选之子，腾讯还是会动用海南周天占为己有。这就是腾讯，这就是哇唧唧哇。</p><p>粉丝很像买房的业主，全家辛辛苦苦半辈子的积蓄，买了套房，爱若珍宝，总想装修的漂亮，实用，经久耐用。运营公司就像搞装修的，话说的很好听，其实都是要坑你的钱的。哪怕你找亲戚熟人装修也免不了。你说多花钱没事，活给我干好就行。对不起，办不到的。</p><p>腾讯家大业大，就是那土豪开发商，火箭少女只不过是一个项目而已，楼盘要精装修?那当然要找熟人龙老板啦，糊弄事很正常，别捅出大篓子就行。</p><p></p><p></p>\n",
      "------------------------------\n",
      "怎么样客观看待张云雷现象？\n",
      "mushu\n",
      "<p>我就是被张云雷现象吸引过来的。远观现象和身为当局者是两种完全不同的感受，按照一般的说法，这就是路人和粉丝的界限。</p><p>第一次听说张云雷是在去年底的一次家庭聚会上，外甥女强行播放探清水河，说此曲甚火。</p><p>我不混音乐圈儿，但我猜想音乐界应该也有鄙视链，比如我这种拿发烧音响听纯音乐的，就有理由鄙视拿手机外放听网红小曲儿的。</p><p>所以我出于早年间对德云社的喜爱，礼貌的了解了一下南京南的往事，大概断定颜值、事故和网红小曲儿是张云雷红起来的三要素，然后默默判定很快他就会被新的热点替代。</p><p>不久，一位记者朋友写了一篇力挺张云雷和德云社的文章。她的身份比较有趣，正好来自一个不友好媒体阵营。所以在微信公众号里，支持她的占绝大多数，但是在另一个平台上，她却被骂的很惨。</p><p>这一次真的勾起了我的好奇心，因为作者是一位很有声望的记者，这个咖位的宣传毕竟不同于未涉世事的小姑娘的力度。于是有一天我就认真的去探了探清水河。</p><p>以上就是我在路人期所认知到的张云雷现象，确切的说那根本就不叫认知，那只是盲人摸象，一不小心摸到了大象打出的喷嚏。而这正是路人的权利和优势，他们无需承受任何压力，来去自由，自带高贵属性。</p><p>我怀念自己当路人的那段时光。但如果有机会穿越回去，我会在穿越之前带个锦囊，告诉自己在2019年的某一天，一定不要忘记去探一探那条清水河。</p><p>我粗略的把周围的人分成两种，一种是看了探清水河会哭，或者至少会伤感的。另一种是看完完，之后再没有交集的。</p><p>这两种人，前者大概率会成为张云雷现象的推手，比如我。后者多半成为这一现象的观众，比如我妈。所以我判断张云雷是很容易被一见钟情的，而且不是因为颜值，真的不是。一见钟情的原因，孙利军老师的这篇文章很能说明问题：<a href=\"https://www.zhihu.com/question/314732374/answer/707777284\" class=\"internal\"><span class=\"invisible\">https://www.</span><span class=\"visible\">zhihu.com/question/3147</span><span class=\"invisible\">32374/answer/707777284</span><span class=\"ellipsis\"></span></a></p><p>我是第一种。一见钟情之后，我就进入了下一个阶段，叫做坑内躺平。</p><p>通常情况下，一首网红歌能够让自己成为一个时代的记忆点已是不易。有时我们传唱了很久的歌却不知道原唱是谁也是有的。但是张云雷能够以现象论，仅靠一首网红歌肯定不行。</p><p>我被探清水河洗脑的第二天就遇上了照花台。</p><a class=\"video-box\" href=\"//link.zhihu.com/?target=https%3A//www.zhihu.com/video/1128615038747086848\" target=\"_blank\" data-video-id=\"\" data-video-playable=\"\" data-name=\"看小抄被抓包的小可爱\" data-poster=\"https://pic1.zhimg.com/v2-ff47a5e3d7069077af44222cfa9439dc.jpeg\" data-lens-id=\"1128615038747086848\">              <img class=\"thumbnail\" src=\"https://pic1.zhimg.com/v2-ff47a5e3d7069077af44222cfa9439dc.jpeg\"><span class=\"content\">                <span class=\"title\">看小抄被抓包的小可爱<span class=\"z-ico-extern-gray\"></span><span class=\"z-ico-extern-blue\"></span></span>                <span class=\"url\"><span class=\"z-ico-video\"></span>https://www.zhihu.com/video/1128615038747086848</span>              </span>            </a><p>眼泪还没擦干就笑出了腹肌，前一天痴情公子的人设被瞬间推翻。我就是在这一瞬间发现自己着了道儿的。</p><p>可能很多人走了其他的路径，某段相声也可以达到同样的效果，或者是流行歌曲，京剧，大鼓，是什么不重要，只要你从探清水河进来，主动发现了另外一件不同的作品，最保险是2017年以后的，那你坑内躺平的概率就已经极高了。</p><p>然后剩下的事可以交给大数据。各种推送一步步让我们去了解风格各异的作品，直到有一天在某一个点上，发现这种挖掘和喜欢忽然有了质的飞跃。</p><p>我的这个点是在20170707的窦公训女里，当张云雷被台下观众的快车甩飞时，登时红了脸，又羞涩又宠溺又无奈的连连指着这一群妇女，一时语塞。</p><p>他的舞台风格最具魅力的就是这种反差萌，刚柔并济和荤素搭配总是那么恰到好处，不咸不辣又不寡淡，如茉莉花茶的香气，清新而又馥郁。</p><p>到了这个时候，我对张云雷的喜欢已经达到了情感层面，通常我觉得这是喜欢一个人的最高境界。</p><p>然而事实上还有一层是我没想到的，那是在我看了20170415的九艺闹公堂，20180821的锁麟囊和20181201的百山图之后。自此我真正变成了他的才艺粉，我粉上了他所热爱的东西，这种感觉才是真的奇妙。</p><a class=\"video-box\" href=\"//link.zhihu.com/?target=https%3A//www.zhihu.com/video/1128751722394357760\" target=\"_blank\" data-video-id=\"\" data-video-playable=\"\" data-name=\"张云雷2018天津专场百山图首亮相\" data-poster=\"https://pic3.zhimg.com/v2-6313a4f10f0cd1f16c41a5f23ee9ad12.jpeg\" data-lens-id=\"1128751722394357760\">              <img class=\"thumbnail\" src=\"https://pic3.zhimg.com/v2-6313a4f10f0cd1f16c41a5f23ee9ad12.jpeg\"><span class=\"content\">                <span class=\"title\">张云雷2018天津专场百山图首亮相<span class=\"z-ico-extern-gray\"></span><span class=\"z-ico-extern-blue\"></span></span>                <span class=\"url\"><span class=\"z-ico-video\"></span>https://www.zhihu.com/video/1128751722394357760</span>              </span>            </a><p><b>前面说了我粉上张云雷的历程，为什么要说这个呢？因为我要回答如何客观看待张云雷现象。</b></p><p>现象，就是一种表象。当一种表象变得有规模了之后，就成了现象。但它归根结底还是表象。</p><p><b>爆红，死忠粉</b>，这应该是张云雷现象中的两个关键词，其他任何词汇都不会比它们更具代表性。</p><p>首先，为什么会爆红？这肯定是网络时代的产物。特别是抖音时代，一夜之间社会关注点发生天翻地覆的变化已经成为常态。所以人们说张云雷一夜爆红，这是很真实的表象，任何人也无需辩驳。</p><p><b>但关键在于，张云雷为什么会爆红？就因为一首探清水河？</b></p><p>你唱了一首脍炙人口的歌而已，可是你凭什么爆红？爆红的不该是你的歌么？我觉得，两个原因：</p><p>第一，这首歌本身很特别，它不是一首网红歌那么简单，它背后连接着很多其他属性，比如相声、曲艺、大褂、吉他、荧光棒，它有让人想要一探究竟的冲动。说白了，它带来了一些新奇感，克服了我们对于流行歌曲的审美疲劳。所以从探清水河到张云雷，这几乎是一个必然的探究过程。</p><p>第二，也是更重要的，就是这首歌背后有宝藏。探清水河只是一个入口，最后真正把大家留住的，是我们优秀的传统文化。</p><p>在今年6月8日大船的专场上，师爷谢金问张云雷，你不就是会点儿太平歌词、流行歌曲、小曲小调、京评梆之类的么，你还会什么？</p><p>这是个包袱，该是说给那些叫嚷着张云雷只会唱一首探清水河的人听的。如果拿出他的经典曲目，随便列举就不知道会有多少。</p><p>白蛇传、太公卖面、韩信算卦、鹬蚌相争、层层见喜、游西湖、王二姐思夫、杨二舍化缘、照花台、百山图、华容道、黛玉焚稿、孟姜女、高亮赶水、五龙捧圣、锁麟囊、乾坤带、秦香莲、夸月娥、大西厢、拆西厢……哎呦喂，歌单太长了，不查了，就这样吧。</p><p>你逃过白蛇传，未必能躲过照花台，你躲过照花台，未必能弃得了百山图。最后，左右是个躺平，自然也就不挣扎了。</p><p>我知道有人会说，张云雷不就是会唱么，他还会什么？</p><p>那我就在这里附加一个回答：当我们探讨张云雷现象的时候，并不是在探讨张云雷距离一个完人还有多远的距离，而是在说，他到底具备什么样的优势，使他拥有了这样一种现象。</p><p>其实传统文化的复兴和增强民族自信本就是大势所趋。一向痴迷于境外游的我，最近几年国内游的比例明显提升，因为我越来越发现了祖国山河之美与历史文化积淀之深厚。</p><p>过去一直看美剧，近几年也开始看国剧了，对美国大片也失去了兴趣，近年来的国产动画片倒是一个没落的都进了影院观看。</p><p>科技上，华为的崛起也是一个很好的例子。</p><p>我不是搞宣传的，虽然我说了一些特别主旋律的话，但没人说发表个人见解的时候不许靠近主旋律，就像没人说不骂娘的网言网语就是缺乏社会责任感一样。</p><p>说回到传统文化的复兴，这一方面是zf所提倡的，另一方面也是民心所向。</p><p>我是70后，我的成长伴随着改革开放，所以我们和60后是主动吸收外来文化的第一代人。我们对这种文化的渴望与崇拜其实远胜于今天的90后、00后。</p><p>几十年过去了，国际形势在变，我们自己也在变，我们也认识到了引进外来文化的矫枉过正，也会静下心来体会自己生存的这片土地上所孕育的文明。</p><p>就在这样的时候，在传统文化方面，我们找到了一个入口，我们被引进来时完全不着痕迹，甚至还带着愉悦，一个又一个宝藏令我们流连忘返。什么是宝藏男孩？是说那个男孩怀揣着宝藏。什么是宝藏？传统文化才是宝藏。</p><p>所以，张云雷为什么爆红？因为他有宝藏。但这宝藏不是他一夜之间变出来的，而是他花了十几年的时间一点一点攒出来的。只是一夜之间我们发现了他和他的宝藏，是我们发现太晚，却并非他刚刚成为暴发户。</p><p><b>至于死忠粉，这个张云雷现象的第二要素，说来是很有些喜感的。不是他们生来死忠，而是命运造就了他们的品格。</b></p><p>我没赶上2016，可想想也知道，在那个生死边缘的时刻，有多少人在害怕着失去。失而复得最容易培养出患得患失，他的早期粉丝该是有这样心理的一群人。</p><p>而后来进入的一大批新人，除了脑补当年的故事，也产生类似的患得患失之外，还会亲眼看到这位小祖宗的种种出人意表的举动。</p><p>带伤演出，硬刚黄牛，对粉丝的真宠，对同事的真诚，山后练鞭肉眼可见的进步……他永远都是那个不完美的张云雷，却又永远带给你预料之外的惊喜。</p><p>然而，只有这些就让粉丝们如此死忠还是有些说不过去，<b>这里有一股神秘的力量真的功不可没。</b>黑，无条件无底线的黑，让粉丝们越发想把阳光交还给他。</p><p>所以，打造死忠粉的，恰是最不愿意看到死忠粉的黑人自己。</p><p>凡事须有度，善意的客观的批评，如512以后的GM，自然有利于犯了错的张云雷及其追随者的反思与进步。</p><p>但为了一己的利益去恶意中伤，甚至恨其不死的某些幕后操纵者的蛇蝎之心，却会换来人人得而诛之的下场。这些人一天不下岗，粉丝的死忠之心就一天不会亡。</p><p>所以，张云雷现象的有力推手之一，正是唯恐天下不乱的这一群小人。偏偏是天道不可违，邪不压正，便是天道。</p><p>回到这个问题本身，怎么样看待张云雷现象？这应该是几个月前的问题了吧，到此时，张云雷现象已经有了一些本质的变化。</p><p>如果说几个月之前，张云雷现象还只是围绕他的爆红的讨论，那么到今天，有两个关键词必须要加入进来，即：<b>正能量偶像、曲艺传承。</b></p><p>可能有人会说，一个犯了错的人凭什么叫做正能量偶像？诶，我就先论证一下这个观点，好堵了这些人的嘴。</p><p>我活了四十多年，没见过没犯过错的人，不只没亲眼见过，连书里也没见过。听说孔子挺完美的，但作为一个教育家，他没有教出一个优秀的儿子，这同样可以成为他的人生污点。</p><p>既然不犯错不可能，那人与人之间的差距，就在于犯错之后的表现了。</p><p>知错能改，善莫大焉。但凡diss这句话的，定是对中国传统文化缺乏了解。这句话来源于《左传》，原文是：人非圣贤，孰能无过，过而能改，善莫大焉。</p><p>与之相通的是，佛教中亦有“放下屠刀，立地成佛”之说。</p><p>这两种说法，都是在劝人向善，是在以发展的眼光看问题。而小恶大惩，无非是以大恶治小恶，是引人向恶，是野蛮性与原始性的体现。</p><p>现代文明社会，自然该是劝人向善的社会。因此，知错能改，善莫大焉是没有理由被质疑的。</p><p>张云雷有没有改错？从61石家庄场到616北展场，不仅改了，而且改的很彻底，很成功。</p><p>比改错更具有正能量意义的，是张云雷在遭遇如此大的打击之后，还能淡然笑对，潇潇洒洒走上台来。</p><p>你以为他27岁了，不是小孩子了，他本该有能力承受这一切。我想请问，你在27岁的时候能否做到？如能做到，你今天又何苦来做一个口嗨之人？你若不足27岁，又有什么资格判断27岁的人应该如何？（这个你，特指黑子）</p><p>别小看6月1号的那一次上台，那是给多少舞台下，屏幕前哭成狗的粉丝注入了巨大能量的一次上台啊！</p><p>从此，他的粉丝们学会了直面困难，笑对人生，学会了但行好事，莫问前程。你以为他们凭什么成长得如此之快？凭的就是正能量偶像那一个坚定的微笑，一个没有悲伤，没有愤怒，充满阳光的微笑。</p><figure><img src=\"https://pic3.zhimg.com/50/v2-054a4fa65bc14486d315f1b9fb735195_b.jpg\" data-rawwidth=\"1080\" data-rawheight=\"1440\" data-size=\"normal\" data-default-watermark-src=\"https://pic3.zhimg.com/50/v2-0ca26886977290cd5f217decc913fb89_b.jpg\" class=\"origin_image zh-lightbox-thumb\" width=\"1080\" data-original=\"https://pic3.zhimg.com/50/v2-054a4fa65bc14486d315f1b9fb735195_r.jpg\"></figure><p><br></p><figure><img src=\"https://pic4.zhimg.com/50/v2-1efb065b79d0d4ca8de29ea2bad26f51_b.jpg\" data-rawwidth=\"1080\" data-rawheight=\"1620\" data-size=\"normal\" data-default-watermark-src=\"https://pic2.zhimg.com/50/v2-5bde446706f83e243a44dff8b3349524_b.jpg\" class=\"origin_image zh-lightbox-thumb\" width=\"1080\" data-original=\"https://pic4.zhimg.com/50/v2-1efb065b79d0d4ca8de29ea2bad26f51_r.jpg\"></figure><p><br></p><figure><img src=\"https://pic4.zhimg.com/50/v2-aac8736f8f688c909a7d694c26fc9fa3_b.jpg\" data-rawwidth=\"1280\" data-rawheight=\"1920\" data-size=\"normal\" data-default-watermark-src=\"https://pic2.zhimg.com/50/v2-2349b44b8bfebde0b2223c51625e17a7_b.jpg\" class=\"origin_image zh-lightbox-thumb\" width=\"1280\" data-original=\"https://pic4.zhimg.com/50/v2-aac8736f8f688c909a7d694c26fc9fa3_r.jpg\"></figure><p><b>另一个关键词，叫做曲艺传承。如果说正能量偶像来自于偶像的自觉，那么曲艺传承则是来自于粉丝的自觉。</b></p><p>我不知道有多少人和我一样，在512之后第一时间想到的是传统曲艺。那天我以泪洗面，心里想的一直是，还有好多小曲儿没演过呢，好歹演完了录完像了再封杀啊。</p><p>别打我，我是真粉，那天我可能是急昏了头。</p><p>就是在即将失去时，才知道什么最是珍贵。此前我们或许被他的相声逗笑，或许八卦过各种CP，也或许磕过他的颜，但此时我们发现唯有曲艺才是他带给我们的最可贵的财富。</p><p>所以，我们开始在剧场安静下来认真的听他唱。我们开始举办比赛并且踊跃参与。我们更加努力的学习以及宣传曲艺。</p><p>回报我们的，是他每一场精彩纷呈的曲艺作品。</p><a class=\"video-box\" href=\"//link.zhihu.com/?target=https%3A//www.zhihu.com/video/1129160365753384960\" target=\"_blank\" data-video-id=\"\" data-video-playable=\"\" data-name=\"浩然正气孟姜女\" data-poster=\"https://pic2.zhimg.com/v2-6fd3dfc0fbec562593291809b5532d33.jpeg\" data-lens-id=\"1129160365753384960\">              <img class=\"thumbnail\" src=\"https://pic2.zhimg.com/v2-6fd3dfc0fbec562593291809b5532d33.jpeg\"><span class=\"content\">                <span class=\"title\">浩然正气孟姜女<span class=\"z-ico-extern-gray\"></span><span class=\"z-ico-extern-blue\"></span></span>                <span class=\"url\"><span class=\"z-ico-video\"></span>https://www.zhihu.com/video/1129160365753384960</span>              </span>            </a><p><br></p><a class=\"video-box\" href=\"//link.zhihu.com/?target=https%3A//www.zhihu.com/video/1129161138205745152\" target=\"_blank\" data-video-id=\"\" data-video-playable=\"\" data-name=\"娇俏玲珑夸月娥\" data-poster=\"https://pic3.zhimg.com/v2-c6db5c5f63d3a013270e010018b57381.jpeg\" data-lens-id=\"1129161138205745152\">              <img class=\"thumbnail\" src=\"https://pic3.zhimg.com/v2-c6db5c5f63d3a013270e010018b57381.jpeg\"><span class=\"content\">                <span class=\"title\">娇俏玲珑夸月娥<span class=\"z-ico-extern-gray\"></span><span class=\"z-ico-extern-blue\"></span></span>                <span class=\"url\"><span class=\"z-ico-video\"></span>https://www.zhihu.com/video/1129161138205745152</span>              </span>            </a><p><br></p><a class=\"video-box\" href=\"//link.zhihu.com/?target=https%3A//www.zhihu.com/video/1129160775201443840\" target=\"_blank\" data-video-id=\"\" data-video-playable=\"\" data-name=\"意外之喜百山图\" data-poster=\"https://pic4.zhimg.com/v2-aa977899aaaf0fadc3639fa6bae81bc8.jpeg\" data-lens-id=\"1129160775201443840\">              <img class=\"thumbnail\" src=\"https://pic4.zhimg.com/v2-aa977899aaaf0fadc3639fa6bae81bc8.jpeg\"><span class=\"content\">                <span class=\"title\">意外之喜百山图<span class=\"z-ico-extern-gray\"></span><span class=\"z-ico-extern-blue\"></span></span>                <span class=\"url\"><span class=\"z-ico-video\"></span>https://www.zhihu.com/video/1129160775201443840</span>              </span>            </a><p>如何客观看待张云雷现象？爆红，死忠粉，正能量偶像，曲艺传承。够客观了吧？</p>\n",
      "------------------------------\n",
      "勇士篮网先签后换，4 年 1.17 亿美元拿下德安吉洛·拉塞尔，如何评价这笔操作？\n",
      "静易墨\n",
      "<p><b>谢邀。</b></p><p><br></p><figure><img src=\"https://pic4.zhimg.com/50/v2-77a579f500e677e19faab859f54cf92b_b.jpg\" data-caption=\"\" data-size=\"normal\" data-rawwidth=\"600\" data-rawheight=\"314\" data-default-watermark-src=\"https://pic2.zhimg.com/50/v2-715f0ca09774fe040c99c7e025babe38_b.jpg\" class=\"origin_image zh-lightbox-thumb\" width=\"600\" data-original=\"https://pic4.zhimg.com/50/v2-77a579f500e677e19faab859f54cf92b_r.jpg\"></figure><p><br></p><p><br></p><p>不谈感情，单纯从篮球和生意角度看勇士这波操作，其实迈尔斯做的很不错，他基本把杜兰特离队的损失降到最低，能得到拉塞尔对勇士有巨大意义——或者说，这笔交易里各方都达到了目的，杜兰特去篮网的结果没有改变，拉塞尔拿到了顶薪，勇士得到了止损，而篮网实现了利益最大化。</p><p><br></p><p>有几个问题：</p><p><br></p><p><b>问题1：为什么会是这种形式？不是说杜兰特可以以自由球员加盟篮网么？临走为勇士留资产的目的在哪？</b></p><p><br></p><p>因为篮网的薪资距离完全吃下杜兰特和欧文的顶薪合同还差一点点，并且篮网还要给小乔丹1000万的起薪，那么篮网光靠自由球员签约是做不到的，欧文和杜兰特之一必须有一人以交易形式加入球队。<br></p><p><br></p><p>篮网有多少薪资空间呢？在放弃所有自由球员鸟权占位和非保障合同的情况下，有大约6880万薪资空间，而杜兰特的顶薪合同的起薪是3815万，欧文则是3270万，合计是7085万，篮网还差大约205万的薪资，即使不签约小乔丹，篮网也需要再送走一个球员。又因为篮网是一支帽下球队，靠签约自由球员无法实现超帽，手里就只有空间中产特例的470万可用，这个签小乔丹不够，篮网就只能让杜欧降薪靠空间吃下小乔丹，那么杜欧要分别降大约600万才行，这个损失太大了。</p><p><br></p><p>而现在篮网是怎么操作的呢？</p><p><br></p><p>保留拉塞尔鸟权，保留内皮尔和格拉汉姆的非保障合同，这样篮网还有4770万空间，签约欧文+小乔丹一共需要4270万空间，完全够用了。然后给拉塞尔一份顶薪合同（拉塞尔的球龄，能签25%工资帽起薪的顶薪，起薪大约2728万），带着内皮尔和格拉汉姆打包，合计薪资是3077万，比杜兰特的合同小738万，而篮网在交易后薪资是在工资帽上了——这没问题，因为超帽交易配平有25%的允许差价，这笔交易依然在配平范围内。这样，篮网就顺利的实现了超冒补强，成功拿下杜兰特、欧文和小乔丹，几乎没有付出代价。</p><p><br></p><p>除了杜兰特和欧文，篮网还拿到了3D配角坦普尔，花了2年1000万，第二年是球队选项——很公道的价格了，如果坦普尔状态下滑还可以不执行第二年合同。这样想，前面用空间吃掉欧文+小乔丹后，剩下那500万空间，可能就是为了这个合同了。</p><p><br></p><p>篮网在下个赛季还没有立刻竞争东部冠军的实力，但20-21赛季杜兰特复出后，篮网将拥有两个顶级球星+一票极有深度的配角阵容，他们将立刻成为东部冠军的热门候选，篮网的苦日子终于到头了。</p><p><br></p><p><b>问题2：为什么勇士必须送走伊戈达拉？</b><br></p><p><br></p><p>因为先签后换交易，要求接受先签后换球员的一方工资总额控制在土豪线以下（土豪线=奢侈税线+600万，也就是1.389亿）——这笔交易里，两边都是接受先签后换球员的一方，所以都需要控制在土豪线以下，但篮网薪资很低，涉及不到这个问题，只有勇士有这个问题，并且勇士19-20赛季都不能再超越土豪线。<br></p><p><br></p><p>如果勇士不送走伊戈达拉，那么得到拉塞尔后，勇士的薪资将达到1.58亿，远远超出了土豪线，所以必须把伊戈达拉1720万的最后一年合同送走为拉塞尔清空间，于是选择了搭一个2024年的选秀权，把一哥给了灰熊。</p><p><br></p><p><b>问题3：勇士为了拉塞尔值得么？</b></p><p><br></p><p>在谈拉塞尔之前，我们先得搞清楚，如果杜兰特以自由球员身份离队，对勇士来说意味着什么——勇士的总薪资将降至大约1.274亿水平，还在工资帽（1.091亿）以上，勇士依然无法补强。利文斯顿和伊戈达拉的合同倒是可以作为交易筹码去市场上逛逛，但因为他们都是只剩一年合同的老将，勇士没有可能用他们换来比他们本身战力更强的即战力，更加不用说潜力年轻人或选秀权——也就是说，如果未来继续以库汤追建队，勇士除了培养新秀，已经没有了补强渠道。</p><p><br></p><p>用先签后换的形式，从杜兰特离队中拿到一些资产，是勇士战力止损的唯一办法——刚好篮网也有这个需求，那么迈尔斯没有理由不去把握。</p><p><br></p><p>没错，有这样两个情况事实：<br><br></p><p><b>第一，勇士没有了杜兰特，锋线实力大减，再失去伊戈达拉，勇士已经不是锋线强队，甚至在汤普森复出前，库里有机会成为勇士最好的首发外线防守球员；</b></p><p><br></p><p><b>第二，拉塞尔现在的实力不到2728万，给他顶薪略有溢价。</b></p><p><br></p><p>但是，从长远利益看，勇士这么做依然有价值，因为伊戈达拉只剩一年合同，离队只是时间问题，他到下赛季中期就36岁了，下赛季还能维持什么水平的竞技状态本身也是问号。并且无论如何，19-20赛季对勇士来说都很艰难，没有伊戈达拉也只是让艰难再加剧一点——汤神还要养伤，勇士没啥外线防守尖兵了——但如果没有换来拉塞尔，在汤神复出前，告诉我，库里之外，勇士还有什么能自主开发进攻的球员么？不要指望大概率也留不住的考辛斯。</p><p><br></p><p><br></p><p>你绝对不想看库里每场比赛都面对一盯四联，勇士很难成为防守强队了，现在能保住进攻，也起码比赛观赏性上对得起新球馆的球迷——勇士会复兴的，但那需要汤神回归之后，所以攻防均衡还不是现在要想的事情。<br></p><p><br></p><p>有了拉塞尔，勇士起码可以保证48分钟都有一个主攻大神在场carry了——拉塞尔是一个回合占有率31.1%的可以大量吃球权的主攻手，挡拆大神，可以大量带动队友，有无球能力结合的很好，并且我以前在文章里也提过，提升无球产量也是拉塞尔实现进步的很重要环节，勇士刚好可以帮他实现。</p><p><br></p><p>拉塞尔的溢价也不会持续整个合同期间，他只有23岁，还有成长空间，也许上限不会很高，但他拿的是25%工资帽顶薪，不是35%或者30%，这个合同最后一年是3137万不是4000万，想要匹配身价，拉塞尔需要进步的幅度没有那么大。</p><p><br></p><p>另外，对于拉塞尔合同的溢价程度，不同球队之间的判断也是不同的——勇士不会是唯一一支愿意为拉塞尔开顶薪的球队，只要他保持健康，在勇士能基本维持住在篮网最后一季的表现（这不难），那么拉塞尔未来也可以作为一个筹码，在某个时间被勇士用来交易更需要的锋线球员。</p><p><br></p><p>这里提一个概念——<b>每支球队可以使用的薪资战力是不一样的</b>。虽然工资帽是固定的，但每支球队超过工资帽的程度却不能随意控制，工资帽只有1.091亿，而只有发生鸟权续约和高差价配平交易，才能让一支球队的薪资实现帽上增长——1.09亿跟1.38亿的薪资完全是两个世界——除非你要清出大量空间吸引自由球员超巨加盟，不然超帽并不总是坏事，只要不是垃圾合同乱堆出来的高薪资，更高的薪资意味着你可使用的战力更高。</p><p><br></p><p>所以这笔交易实际是勇士在给自己留一个机会，既然无法靠空间补强，那么让球队始终维持在高薪资水平（勇士现在要交的税也很少了）保证战力，手握一个进可做即战力，退可交易的年轻球员，当然是一笔值得肯定的操作。</p><p><br></p><p>另外，内皮尔是个可以用的后卫，他有无球都能打一打，进攻水平在开拓者和篮网都说得过去，防守能力比体型看起来好，不过因为库里和拉塞尔可以覆盖1号位出场时间，内皮尔作为第三控卫机会不会太多。格拉汉姆是个3不怎样的3D侧翼，他需要跟埃文斯和麦金尼竞争时间。</p><p><br></p><p><b>问题4：勇士还需要哪些后续操作？</b></p><p><br></p><p>勇士还需要送走利文斯顿。<br></p><p><br></p><p>交易后，勇士现在手握合同的球员有库里、汤普森、格林、拉塞尔、麦金尼、琼斯、普尔、埃文斯、内皮尔、格拉汉姆、利文斯顿，已经11人，这11人合同加一块大约1.377亿，还在土豪线1.389亿以下，但只有120万空间，已经岌岌可危，而勇士还需要有这样几件事要做：</p><p><br></p><p><b>第一，续约卢尼；</b></p><p><br></p><p><b>第二，已经给了库克、贝尔和达米恩李资质报价，多半会留下（库克可能会走）；</b><br><br></p><p><b>第三，两个二轮秀还没签约。</b><br></p><p><br></p><p>所以勇士只能送走利文斯顿（本来也在计划中），再清出770万合同，合计有890万空间来保证完成这三件事——勇士没钱留考辛斯了，甚至不能用迷你中产合同，但考辛斯可能原本就留不住，而迷你中产合同只是这赛季不能用——这些是得到拉塞尔的间接代价。<br></p><p><br></p><p>有关勇士阵容、打法、攻防预期方面的深入探讨，还需要等阵容基本确定后。</p><p><br></p><p>封存在蓝金色记忆宝箱里的死亡五小时代终结了，从情感上讲，这是令勇士球迷难过的一天，虽然有心理准备，但一切最终还是不可避免的发生了。</p><p><br></p><p>在勇士最需要援手的时候，杜兰特为这支球队带来了无法阻挡的统治性力量，让过去三个赛季的勇士成了席卷联盟的巨无霸，杜兰特帮助勇士将两个总冠军奖杯揽入怀中，没有什么比这样的贡献更值得勇士球迷歌颂；为了三连冠赌上一切的复出，也没有什么比这更让勇士球迷感恩。他是勇士王朝历史上浓墨重彩的主人公之一，是金州勇士需要铭记的超级英雄。</p><p><br></p><p>同样的，人人都爱伊戈达拉，勇士王朝的另一个FMVP，完成了守护金州幼儿园的最后一程，在所有人的不舍中离开了这支球队——不能看到身着勇士球衣的一哥切球一条龙反击扣篮，那将是新球馆最大的遗憾。</p><p><br></p><p>一个时代结束了，但一切也会重新开始，祝福杜兰特，祝福伊戈达拉。</p><p><br></p><p><b>操作评级：</b><br><br></p><p><b>篮网：A+</b></p><p><b>勇士：A-</b></p>\n",
      "------------------------------\n",
      "是罗云熙成就了润玉，还是润玉成就了罗云熙？\n",
      "小杯可乐\n",
      "<p>我换一个角度来答题。谨以此答献给润玉生日。</p><p>沉没成本，是指以往发生的，但与当前决策无关的费用。从决策的角度看，以往发生的费用只是造成当前状态的某个因素，当前决策所要考虑的是未来可能发生的费用及所带来的收益，而不考虑已往发生的费用。</p><p>人们在决定是否去做一件事情的时候，不仅是看这件事对自己有没有好处，而且也看过去是不是已经在这件事情上有过投入。我们把这些已经发生不可收回的支出，如时间、金钱、精力等称为“沉没成本”。</p><p>当香蜜剧组启动的一瞬间，昨天的投入就是今天的成本。今天的投入，正在成为明天的成本。时钟一圈圈转动，香蜜车轮骨碌碌往前滚。资金，人员。摆在明面上的场景搭设，服化道纷纷就位。不摆在明面上的设计，开会，讨论，争辩，找资料，修改。。惊才绝艳的各路人才在这小小剧组风云际会，认真严谨精益求精的工作态度让他们对每一个环节都严密把关，每一个细节都反复斟酌。</p><p>选角，是重中之重。这一切看的到的硬件，和看不到的软件，都将由选出来的人展示。选角这个事情，毫无疑问是一项决策。不管是哪种途径选择，内定，介绍，面试，海选，网络投票。还有我不知道的种种选角途径，结果都会走到决策这一步。不管最后定的是谁演这个角色，为这个角色花的成本都是一样的。</p><p>不会有人和我抬杠，个子高的花的衣料多，个子矮的花的衣料少吧？那我也可以说脸大的扑的粉多，脸小的扑的粉少。呵呵题外话答主皮一下，我们继续。</p><p>当香蜜的润玉定下了罗云熙的时候，那么在香蜜拍摄完成的时候，所有为润玉一角所付出的所投入的，都成为了润玉选角这一决策的沉没成本。为什么说呢？润玉由罗云熙演，还是李云熙王云熙演，其实对于成本的影响都是一样的。当香蜜拍摄完成时为润玉选角这个决策发生的成本，是以往发生的，但与当前决策无关的费用。从决策的角度看，以往发生的费用只是造成当前状态的某个因素，当前润玉选角决策所要考虑的是未来可能发生的费用（选的这个人太笨，专门又请了个老师教一教）及所带来的收益（选的这个人听话肯吃苦又聪明又好看），而不考虑已往发生的费用。</p><p>润玉不管是由罗云熙还是李云熙还是王云熙演，该花的钱一分都不会少。基本上像香蜜这样的态度这样的人才济济，不管谁演润玉，只要不是太不靠谱。呃，以香蜜的认真也不会找不靠谱的演员。要是世界上没有罗云熙这个人，难不成香蜜还不开机了，世上哪有这样的道理撒。</p><p>那么，我们来看看会有哪几种可能。李云熙的润玉，八十分。王云熙的润玉，一百分。罗云熙的润玉，一百二十分。那么，在一定会有一个润玉面世的情况下，是罗云熙让润玉超值。罗云熙成就润玉，成立。</p><p>那润玉是不是成就了罗云熙？当然也是成立的。没有润玉这个机会，罗云熙什么时候才能碰上适合自己的角色？就凭他那个不妥协的脾气和玩儿似的工作室？听说这次罗云熙的上官透终于能好好骑上马了，我瞬间悲喜难辨。这么一个为古装而生的怪胎（是爱称，爱称，我不是黑粉），终于能有机会好好拍一场马戏，不是容齐小咳嗽包坐在马背上小踱，是真正的金戈铁马，快意江湖。</p><p>没有香蜜，他有可能这次容齐小小的引人注意。不，可能连这个也不一定。香蜜的润玉之于罗云熙，远不是一个机会这么简单。和老戏骨的学习，做了天帝对本人气质和修养的改变，对他塑造少年天子容齐，起了很大的作用。居移气养移体，做过天帝的罗云熙，连沙雕都和人家的沙雕不一样，是有型有款有特色的沙雕。</p><p>感谢润玉和罗云熙的相遇。金鳞岂是池中物，一遇风云变化龙。润玉是风罗云熙是云。化学反应就是罗玉的飞龙在天。</p><figure><img src=\"https://pic2.zhimg.com/50/v2-a9c858290b16037d90384f47a5f5326f_b.jpg\" data-rawwidth=\"694\" data-rawheight=\"1440\" data-size=\"normal\" data-default-watermark-src=\"https://pic1.zhimg.com/50/v2-fcc930c31319b9a99ebbebad33da5eca_b.jpg\" class=\"origin_image zh-lightbox-thumb\" width=\"694\" data-original=\"https://pic2.zhimg.com/50/v2-a9c858290b16037d90384f47a5f5326f_r.jpg\"></figure><p><br></p><figure><img src=\"https://pic1.zhimg.com/50/v2-dc36e5b0e92a5f83c60551794e4d11b5_b.jpg\" data-rawwidth=\"2036\" data-rawheight=\"1080\" data-size=\"normal\" data-default-watermark-src=\"https://pic3.zhimg.com/50/v2-944a18318dcf13f6022e5c9a071603bc_b.jpg\" class=\"origin_image zh-lightbox-thumb\" width=\"2036\" data-original=\"https://pic1.zhimg.com/50/v2-dc36e5b0e92a5f83c60551794e4d11b5_r.jpg\"></figure><p><br></p><figure><img src=\"https://pic1.zhimg.com/50/v2-4b06f4399fb74c9d62eeaca8ce9be849_b.jpg\" data-rawwidth=\"1080\" data-rawheight=\"1921\" data-size=\"normal\" data-default-watermark-src=\"https://pic1.zhimg.com/50/v2-4ffd6086d94152d1d964ecccdc60643b_b.jpg\" class=\"origin_image zh-lightbox-thumb\" width=\"1080\" data-original=\"https://pic1.zhimg.com/50/v2-4b06f4399fb74c9d62eeaca8ce9be849_r.jpg\"></figure><p><br></p><figure><img src=\"https://pic2.zhimg.com/50/v2-1408aaf87f6e851ee0645f29d30c8573_b.jpg\" data-rawwidth=\"600\" data-rawheight=\"800\" data-size=\"normal\" data-default-watermark-src=\"https://pic1.zhimg.com/50/v2-02cdec4c186f01f1b024cda27dc0d51f_b.jpg\" class=\"origin_image zh-lightbox-thumb\" width=\"600\" data-original=\"https://pic2.zhimg.com/50/v2-1408aaf87f6e851ee0645f29d30c8573_r.jpg\"></figure><p><br></p><figure><img src=\"https://pic3.zhimg.com/50/v2-441d6918691eb5e4dd96f23dbf8f7fdd_b.jpg\" data-rawwidth=\"805\" data-rawheight=\"804\" data-size=\"normal\" data-default-watermark-src=\"https://pic4.zhimg.com/50/v2-3c3567db595acd4f82d311c3ab0f9ef8_b.jpg\" class=\"origin_image zh-lightbox-thumb\" width=\"805\" data-original=\"https://pic3.zhimg.com/50/v2-441d6918691eb5e4dd96f23dbf8f7fdd_r.jpg\"></figure><p><br></p><figure><img src=\"https://pic4.zhimg.com/50/v2-3ea5cfb84315e496c5ed388a9e5c45b8_b.jpg\" data-rawwidth=\"1215\" data-rawheight=\"1080\" data-size=\"normal\" data-default-watermark-src=\"https://pic3.zhimg.com/50/v2-c62f64c00d0d5f68187507b557958f80_b.jpg\" class=\"origin_image zh-lightbox-thumb\" width=\"1215\" data-original=\"https://pic4.zhimg.com/50/v2-3ea5cfb84315e496c5ed388a9e5c45b8_r.jpg\"></figure><p><br></p><figure><img src=\"https://pic3.zhimg.com/50/v2-5529f4767312c8f66e4e39a8d57898cd_b.jpg\" data-rawwidth=\"1298\" data-rawheight=\"1080\" data-size=\"normal\" data-default-watermark-src=\"https://pic2.zhimg.com/50/v2-6d1f3e24e71458b42e6c6f0502264a83_b.jpg\" class=\"origin_image zh-lightbox-thumb\" width=\"1298\" data-original=\"https://pic3.zhimg.com/50/v2-5529f4767312c8f66e4e39a8d57898cd_r.jpg\"></figure><p><br></p><figure><img src=\"https://pic1.zhimg.com/50/v2-5bd69b3fc159788bb88ecf1273c0ef70_b.jpg\" data-rawwidth=\"1440\" data-rawheight=\"806\" data-size=\"normal\" data-default-watermark-src=\"https://pic2.zhimg.com/50/v2-f149fc0a67a6bfe1e0fef18915cebfca_b.jpg\" class=\"origin_image zh-lightbox-thumb\" width=\"1440\" data-original=\"https://pic1.zhimg.com/50/v2-5bd69b3fc159788bb88ecf1273c0ef70_r.jpg\"></figure><p></p>\n",
      "------------------------------\n",
      "罗云熙在白发中饰演的容齐与香蜜中润玉的妆容造型区别在哪里？\n",
      "一羊欠抽\n",
      "<p>第一，头套</p><p>香蜜玉鹅的发型即使到了后期的天帝玉，整体发型还是偏蓬松的，颅顶拉高，显得整个发型很饱满，发际线很好的露出罗小叔叔本来就很好看的额头， 鬓角相对较长，更能修饰脸型，而且前额发型一缕一缕梳上去，能看出头发的质感来，看起来不死板。</p><figure><img src=\"https://pic2.zhimg.com/50/v2-39ead6161b82a390dbdf2b8c0a80d7e9_b.jpg\" data-rawwidth=\"958\" data-rawheight=\"1192\" data-size=\"normal\" data-default-watermark-src=\"https://pic2.zhimg.com/50/v2-175013f3847316e624ea9317681a2a5d_b.jpg\" class=\"origin_image zh-lightbox-thumb\" width=\"958\" data-original=\"https://pic2.zhimg.com/50/v2-39ead6161b82a390dbdf2b8c0a80d7e9_r.jpg\"><figcaption>都可以看出来发丝的走向，很自然蓬松的发套，发际线很好不压眉眼，三庭比例很合适。</figcaption></figure><p>齐鹅就不同了，发套比较紧，贴头皮，最要紧的是它居然把小叔叔的额头给贴毁了，他本人的额头就很好看了，大大方方露出来就好，结果，聪明反被聪明误的弄了个不知所以的【弯角】出来，结果整个额头比下方的脸窄了好多，形成了【脸包头】的错觉，【脸包头】就容易看起来脸大，正确的审美应该是【头包脸】小叔叔本人的头脸没问题，是发套的锅，鬓角也短了，使得本来就因为【脸包头】看起来脸大的齐鹅，愣是比玉鹅脸大了一圈…</p><figure><img src=\"https://pic3.zhimg.com/50/v2-2c60951defa1820049e84dfcc8632a2c_b.jpg\" data-rawwidth=\"467\" data-rawheight=\"624\" data-size=\"normal\" data-default-watermark-src=\"https://pic2.zhimg.com/50/v2-3fc55ba809937090bc2d559fbf805950_b.jpg\" class=\"origin_image zh-lightbox-thumb\" width=\"467\" data-original=\"https://pic3.zhimg.com/50/v2-2c60951defa1820049e84dfcc8632a2c_r.jpg\"><figcaption>因为他本人脸确实很小，所以脸大脸小问题并不明显，重要的是这个发际线…有点压眉眼，额头被修饰的怪怪的。</figcaption></figure><p>第二，眉毛</p><p>玉鹅的眉毛我早就想拿出来夸一夸，简直是古装美男造型的一大突破，不同于以往千篇一律的剑眉，玉鹅的眉毛眉头偏低，整体往上走，到了眉尾处完全不下压，斜斜的飞入鬓角，眉尾非常干净锐利，这个眉型的整体走势和【妲己眉】略像，但是化在男人脸上看起来很英气，眉毛整体不算长，粗细也很合适，非常适合秋水为神玉为骨的玉鹅。</p><figure><img src=\"https://pic1.zhimg.com/50/v2-7d647ff3b58bb37bee93ef0b2f9d74af_b.jpg\" data-rawwidth=\"753\" data-rawheight=\"720\" data-size=\"normal\" data-default-watermark-src=\"https://pic2.zhimg.com/50/v2-931eba1e7b0d1ec547a48d5b2adc24a6_b.jpg\" class=\"origin_image zh-lightbox-thumb\" width=\"753\" data-original=\"https://pic1.zhimg.com/50/v2-7d647ff3b58bb37bee93ef0b2f9d74af_r.jpg\"><figcaption>大家好，我是玉鹅的眉毛，今天起，我要独自出道了。</figcaption></figure><p>齐鹅的眉毛无功无过，绝对不难看，就是比较普通的剑眉，眉尾比较钝，不是很锐利，整体眉毛走势比较平缓，好像比玉鹅的眉毛要短一些，好看是好看的，不过确实没玉鹅那么惊艳。</p><figure><img src=\"https://pic4.zhimg.com/50/v2-f2116350a69e5f5e9ad8202426f544a8_b.jpg\" data-rawwidth=\"1246\" data-rawheight=\"995\" data-size=\"normal\" data-default-watermark-src=\"https://pic4.zhimg.com/50/v2-563d4d858f45cd849c9e81dbbb281626_b.jpg\" class=\"origin_image zh-lightbox-thumb\" width=\"1246\" data-original=\"https://pic4.zhimg.com/50/v2-f2116350a69e5f5e9ad8202426f544a8_r.jpg\"><figcaption>大家好，我是齐鹅的眉毛，我…我…我至少很自然！！</figcaption></figure><p>罗小叔叔是有名的建模脸，我也发现了，有的二次元人物的眉毛并非普通的剑眉，而是玉鹅那种整体往上走的比较凌厉的眉毛，显然这种脸型更适合这种眉毛。</p><figure><img src=\"https://pic4.zhimg.com/50/v2-a08ddc77fe1f8c8715d45accad71fbac_b.jpg\" data-rawwidth=\"552\" data-rawheight=\"366\" data-size=\"normal\" data-default-watermark-src=\"https://pic2.zhimg.com/50/v2-eafb365a74a1593b98b86ff01af1bb46_b.jpg\" class=\"origin_image zh-lightbox-thumb\" width=\"552\" data-original=\"https://pic4.zhimg.com/50/v2-a08ddc77fe1f8c8715d45accad71fbac_r.jpg\"><figcaption>建模脸不是吹的…眉头偏低，眉尾上走不下垂，这种脸型才能驾驭的眉毛！</figcaption></figure><p>第三，服装</p><p>玉鹅的设定是神仙，还是个一看就不食人间烟火，为人清冷淡漠的神仙，他的服装主色为白色，青色之类的素色，前期夜神的时候，整体服装就是白色的轻纱为主，没什么多余的花纹配饰，宽袍大袖，打斗的时候非常飘逸轻盈。后期的天帝玉，因为发达了【划掉】地位上升，服饰多了繁复的花纹，还有精致的发冠，但整体还是比较素淡的颜色，材质也没有变得很厚重，还是以轻纱为主的。</p><figure><img src=\"https://pic4.zhimg.com/50/v2-1bc24b8850d24c250c734558fc1206e8_b.jpg\" data-rawwidth=\"530\" data-rawheight=\"268\" data-size=\"normal\" class=\"origin_image zh-lightbox-thumb\" width=\"530\" data-original=\"https://pic4.zhimg.com/50/v2-1bc24b8850d24c250c734558fc1206e8_r.jpg\"><figcaption>性感玉鹅，在线索命</figcaption></figure><p><br></p><figure><img src=\"https://pic4.zhimg.com/50/v2-9872e26e96d21961db1337f5dde859c1_b.jpg\" data-rawwidth=\"1332\" data-rawheight=\"1931\" data-size=\"normal\" data-default-watermark-src=\"https://pic4.zhimg.com/50/v2-3db24b6b85e3246a4d2c57c7504367ab_b.jpg\" class=\"origin_image zh-lightbox-thumb\" width=\"1332\" data-original=\"https://pic4.zhimg.com/50/v2-9872e26e96d21961db1337f5dde859c1_r.jpg\"><figcaption>大家好，我是天帝玉鹅，我发达了，所以我的衣服上也有小发发了哟~~</figcaption></figure><p>齐鹅的设定是人间的帝王，所以他的服装设计的其实是没有问题的，华贵的绸缎，繁重的花纹，精美的配饰，这些出现在这个人物身上原本没有问题，不过，小叔叔本人体格其实比较单薄，轻纱类的衣服更适合他，绸缎，尤其是穿了好几层的绸缎类服装使得他有些弱不胜衣，不过貌似齐鹅本身设定就是天生体弱多病，这么穿其实是对的。另外，齐鹅的服装不仅有白色，浅蓝之类的素色，也有金色，棕色之类的暖色，在我看来，小叔叔本人皮肤色调偏冷，他更适合冷色调的服装，金色并不适合他。但人间的帝王，设定在那里摆着，自然不能穿太素淡的颜色。</p><figure><img src=\"https://pic2.zhimg.com/50/v2-119a84bec5fded733d5b9cb8b3d90332_b.jpg\" data-rawwidth=\"720\" data-rawheight=\"1219\" data-size=\"normal\" data-default-watermark-src=\"https://pic1.zhimg.com/50/v2-d6726797f4d115381a1461df6a5ba0e8_b.jpg\" class=\"origin_image zh-lightbox-thumb\" width=\"720\" data-original=\"https://pic2.zhimg.com/50/v2-119a84bec5fded733d5b9cb8b3d90332_r.jpg\"><figcaption>我是齐鹅，看我的腰带~~爱龙仕2019夏季限定版哟~~~做皇帝就是舒服(^_^)</figcaption></figure><p><br></p><figure><img src=\"https://pic2.zhimg.com/50/v2-12a082b530d83e09481291dd3f872eb2_b.jpg\" data-rawwidth=\"864\" data-rawheight=\"1330\" data-size=\"normal\" data-default-watermark-src=\"https://pic4.zhimg.com/50/v2-1cc97a2772ac388d4edfa0b4b7f26f57_b.jpg\" class=\"origin_image zh-lightbox-thumb\" width=\"864\" data-original=\"https://pic2.zhimg.com/50/v2-12a082b530d83e09481291dd3f872eb2_r.jpg\"><figcaption>衣服好重好大好累人…我要风扇空调冰淇淋T^T</figcaption></figure><p>可以看出来，素色，冷色更合适小叔叔的皮肤。</p><p>我们讨论的仅仅是玉鹅和齐鹅的造型不同，可以总结出来，罗小叔叔更适合斜眉入鬓，蓬松的发套，轻纱材质，偏冷，偏素的服装，然而服装如何总是要贴近人物的，不能一昧的去贴合演员或者观众的偏好，齐鹅的造型除了发套以外的设计其实都很符合这个人物，而且…齐鹅也很好看的不是嘛~~~玉鹅齐鹅都是好鹅【好像怪怪的…】左手心和右手心都是肉，对吧？</p><p>关于称呼他小叔叔这个问题…emmmm我就这么叫我就这么叫略略略罗叔叔有本事你就亲自打我呀╮(╯▽╰)╭</p><figure><img src=\"https://pic1.zhimg.com/50/v2-4def9912bc6d36f331145c29c06723b0_b.jpg\" data-rawwidth=\"400\" data-rawheight=\"402\" data-size=\"normal\" data-default-watermark-src=\"https://pic2.zhimg.com/50/v2-83afb6afc287fe65af540fae55037549_b.jpg\" class=\"content_image\" width=\"400\"></figure><p></p>\n",
      "------------------------------\n"
     ]
    }
   ],
   "source": [
    "\"\"\"\n",
    "    配合使用PyQuery解析\n",
    "\"\"\"\n",
    "from selenium import webdriver\n",
    "from pyquery import PyQuery as pq\n",
    "\n",
    "try:\n",
    "    chrome = webdriver.Chrome()\n",
    "    chrome.get(\"https://www.zhihu.com/explore\")\n",
    "\n",
    "    doc = pq(chrome.page_source)\n",
    "    for div in doc.items('.explore-feed'):\n",
    "        print(div('.question_link').text(), \n",
    "              div('.author-link').text(),\n",
    "             div('.content').html(), sep='\\n')\n",
    "        print('---'*10)\n",
    "finally:\n",
    "        chrome.close()"
   ]
  },
  {
   "cell_type": "code",
   "execution_count": 26,
   "metadata": {},
   "outputs": [
    {
     "name": "stdout",
     "output_type": "stream",
     "text": [
      "狗是否知道自己是狗？\n",
      "MeanGia\n",
      "['他应该一直觉得他是我男朋友。', '我家狗子是我捡回来的流浪狗，高中一次在外边玩儿，喂了他一根火腿肠，他就一直跟着我走回了家。捡到他的地方离我家大概四五站路吧，真的就一直跟着我走回家了。', '本来爸妈上班我又要住校，怕没人照顾他，想送人的，但是家里老人都觉得“狗来财”，而且他特别聪明可爱，就先寄养在奶奶家了。我高中毕业以后他搬进了我家，现在已经三年多啦。', '我经常发现他老是这样偷偷看我…而且我跟别人打电话的时候，他会特别不高兴，一直想抢我手机。', '高中毕业的时候帮班主任发学校的证件，就有不少男同学来我家小区找我拿，我送下去的时候会顺便遛狗。他就一定要站在我和男生中间，如果他觉得我们有点亲密行为', '我把东西递过去他觉得我们牵手了', '，就会去踩人家脚，如果是女生，就一点也不会。', '他最喜欢的东西是我睡过的一个旧枕头，我妈收拾东西的时候放在了沙发上，他就用上了…', '他应该是我见过最聪明的狗，看得懂眼色，读的懂心情，甚至在我爸骂我的时候还会跑过来摸我的背', '是真的一只爪子抬起来摸，而我们从来没教过他握手之类的', '我初中高中都离我家很近，同学啥的都很喜欢他，经常会来小区找他玩，他会经常跟漂亮姐姐玩儿，但是一定会在玩过之后过来撒娇，可能怕我吃醋吧', '我大学离开家的那天↓', '我觉得我这辈子遇见他真的超级超级幸运啦，我的小男朋友❤', '————————分割线————————', '想更一点。', '前两天重庆暴雨还打雷了，这只胆小狗就一定要钻到我怀里要我抱着，我上个厕所也一定要跟着我。', '我妈不让他上床，但是我喜欢抱他，他就会在我妈要出门的时候晃悠到我卧室坐着，听见关门声的一瞬间立刻熟练蹿上来钻进被窝。', '狗子的爱好几乎跟我一样，爱喝酸奶，要吃蛋挞，每次我在外面摸了别的狗别的猫回来他闻见了，就会怄气，只有跟他说好买蛋挞，他才会消气。', '有一次有个姐妹来我家里，聊到了某某大牌口红，我说我最近比较穷买不起，狗子就在旁边特别专心地听。我就拿出一张钱逗他跟他说我要这个，然后…他从沙发垫下特别隐蔽的地方掏出了不知道啥时候藏的三块钱，给了我一块…想了想…又给了我一块，把最后一块钱特别小心的藏好…我快感动哭了。', '被我妈逮住跑床上玩儿↓', '这一张有好长一段时间是我微信头像↓', '刚刚找到了遇见他那天他抱我腿的照片↓', '狐狸本狸↓', '他老喜欢吃我的手或者', '，但是从来不会弄疼我，反而我经常把', '塞进他嘴里，他就用爪子轻轻拨出来拍拍我', '看到大家这么喜欢他我更想秀了哈哈哈我就是一秀狗狂魔', '——————————分割线———————', '我又来了哈哈哈', '想回复一下大家对于他是我上辈子的情人的评论。', '我很小的是时候养过一只小京巴，跟我特别亲，但是他大概两三岁的时候出了车祸', '，那会儿我太小记不清具体是什么时候了，只记得那一年我的生日愿望是希望他能回来找我', '当初碰见现在这只狗子的时候，他坐在一棵树下到处张望，我在离他二三十米的地方坐下之后他就径直走过来闻我，像是特意在等我一样。那个地方就在当初我们买小京巴的市场附近，所以我比较愿意认为他是小京巴的转世回来找我的', '我一般会跟别人说他是我弟弟，提到我家猫猫狗狗的时候也会用到他或者她而不是它，因为我总觉得用它会有一种等级观念，用他或者她会显得我们真的是一家人，当然只是个人看法', '还有我有对象的哈哈哈，这是带对象回家见他的时候↓', '明显不想搭理我对象，但是态度已经很好了没有吐口水没有踩他脚', '以上描述绝对真实，藏钱可能是因为他经常看见我拿钱换吃的知道了啥吧…']\n",
      "------------------------------\n",
      "如何评价王俊凯在第三季中餐厅的表现？\n",
      "幸福的拾荒者\n",
      "['绝！', '中餐厅的他真的让我痴迷，虽然这一季中餐厅有他认识的人但刚开始他依旧是那羞涩的男孩，话不多，但却总能在关键时刻发表最正确的观点。他出现的每一个点都很戳', '、', '说用东西换钱，而他说的是让老板用钱来买，瞬间把自己从被动变成主动，哇就突然觉得这男孩真的，反正我是不如他。', '、和吧台小哥学意大利语谢谢并马上学以致用感谢小哥免费提供的饮料，这情商！', '、他不是富家少爷，他是个在平凡家庭长大的男孩，在', '表示用蜂蜜换白糖时他能马上阻止，有了备用资金后嘉宾提出去吃一顿好吃的，他也马上拒绝，为餐厅省钱，真的是个居家过日子的好男人啊！', '、厨师大哥晚餐只给大家准备了一只梨，全场陷入尴尬局面，他主动打破僵局感谢厨师大哥的晚餐，并进行了一系列的凯言凯语来活跃气氛，一头啃向那梨的时候简直把人笑死。一开始挺气厨师大哥的，大家累了一天才给一只梨后来看', '版才知道冤枉了人家，是有几位嘉宾自己说可以让厨师不准备他俩的晚饭，所以厨师好心好意做了可以减肥的晚餐，只是苦了正在长身体的王俊凯', '、厨师大哥不太适应四处的摄影机，他会主动去安慰，因为那种感觉他一直都有，感同身受', '、他总是在角落里默默地干着工作，洗盘子，整理餐厅一天的垃圾', '、农贸市场结束买菜时那气氛更是相当尴尬了，他轻轻的皮了一下轻松缓解气氛，不能太服他', '、他听', '说', '一直', '，所以从餐厅出来后他会和大家说感谢海璐姐，走廊的画被碰掉，厨师大哥帮忙，他会称赞厨师大哥是他的英雄，他从不吝啬自己的感谢！', '、不论是和市长还是餐厅合伙人，碰杯的时候他永远低于别人，好有礼貌的男孩', '有', '说他是雨我无瓜不敢反驳三个大人的', '流量，里面有些词我实在无法苟同，他给我一种感觉，他像是掌控全局的大', '，你们爱吵吵爱闹闹，只要不出大差错就行，他总能在众人要走弯路的时候把大家拽回正道然后接着自己的雨我无瓜。', '告知', '号开业，农贸市场', '点营业，收银员无法做决定，把粽子卖给', '有了启动资金，可以说有了王俊凯，大家少走了很多弯路', '王俊凯是一个只要是正式比赛就会很认真的男孩，无疑他把这次市长交代给他们的任务当做了一场挑战，所以第一天即使不开业，他也随时想着宣传，为以后增长营业额做下铺垫', '虽然这一季的中餐厅有点迷，但不得不承认王俊凯真的很圈粉！！！']\n",
      "------------------------------\n",
      "有没有一读就会惊叹“哇，好温柔啊”的句子？\n",
      "犬槐\n",
      "['如果可以', '当然让你永远围着果酱罐', '尝着蜂蜜糖', '站在象牙塔', '光明正大晒月亮', '人间是个什么玩意儿', '你看也不要看', '“很喜欢那一类拥有独立人格的人。懂得照顾自己，在事情处理妥帖后能尽情享受生活。他们不常倾诉，因自己的苦难自己有能力消释。他们很少表现出攻击性，因内心强大而生出一种体恤式的温柔。他们不被廉价的言论与情感煽动，坚持自己的判断不后悔。喜欢这些人，也因他们并不在乎别人是否喜欢他们。”', '“要我说女孩子呀，各有各的漂亮法。', '有的眉目清泠，像是一整季的雪水都融在了她的眼睛里。', '有的酒窝甜蜜，她笑一笑漫山遍野的风声都要消息。', '有的天生绵软，你朝她挨过去，像碰着了一团云。', '有的发汗时竟能生出浅浅的香气，散在天地间顿觉云销雨霁。', '如何不漂亮呢', '她若是瘦，你便看她伸懒腰时优雅得像天鹅抻颈。', '她若丰盈，你便看她日光底下肌肤亮起时有多绮丽。', '她若生斑，你便赞她漂亮得发光上帝这才在她的眼角鼻翼投下了淡淡的影。', '她若佝偻，你便赞她小小只多秀气刚刚好搂在怀里。', '你瞧，女孩子生来就漂亮得不讲道理。”', '——林鹤连', '我的院子里有四万万朵玫瑰花', '每天清晨', '我捧一本书坐在院子里', '路过的路人都会称赞我的玫瑰', '也有想要折去一两朵的', '我通通不理不睬', '直到有一天你来', '笑眼眯成月牙', '问我', '看的什么书啊', '我就知道', '这四万万玫瑰花', '统统是你的', '“把酒祝东风，且祝山河与共的从容，似这清风明月，凌霜傲雪，最清澈双眼。', '”是在说你吧。好像很久违，又好像每天都在耳边。你出现了，别人叫什么名字啊？我什么都不知道了，只知道你最好了，你是天下第一。', '——《东风志》网易评论', '狐狸用尾巴扫干净蘑菇上的灰尘', '刺猬们也把肚子露了出来', '蜗牛也害羞的钻进自己的壳里', '长颈鹿不停地吃掉颜色不好的叶子', '因为你到我的森林里来了。', '“我记得你笑起来的下垂眼，为数不多几句话的温柔嗓音。你发的一个语气词，都让我甜得冒泡。你是我，最最喜欢的小兔子。”', '无论你现在多难', '能不能去看你想去的风景', '都不用担心', '你力所能及的地方', '一定会带给你预想不到的惊喜', '你会遇见一些人觉得相见恨晚', '或者遇到一个人觉得在那里值得', '这是命', '遇见你该遇见的', '接受你所不能改变的其实不错', '生活的迷人之处', '不是如愿以偿', '而是阴差阳错', '不要在泥泞的生活里打滚', '不要跟自己说要安天命', '不要被生活的鸡零狗碎碾压', '最后过着连自己都觉得可悲的日子', '还会再见的', '再相逢希望我们都在更高处', '如若不能', '我就仰望你', '“你要原谅中途离开、变卦说谎的人，', '原谅他们越来越少的出场，', '原谅他们所剩不多的虚荣和时间；', '原谅爱、纪律和荣誉，', '不确定的开始，确定的结局；', '原谅漂浮的命运，衰竭的神经；', '黄莲和苦瓜，都要原谅。”', '——李小洛《要原谅》', '我希望你被打磨', '永远光明磊落', '我希望你能走过山山水水', '写温柔的字', '坦荡地爱', '我希望你被阅读', '不被辜负', '你要飘摇着美丽', '活得丰盛', '或庄重', '无论长成什么坚硬的模样', '心里最爱的还是温柔的故事', '大部分的句子都是以前到处搜罗来的，有很多都查不到来源和作者', '知道的都已经加上出处拉', '没想到会有那么多小宝贝点赞', '真的很开心自己喜欢的句子能够被大家也同样喜欢', '˄', '͈༝', '͈˄₎', '｡', '搓手手', '大部分小宝贝好像对其中一段文字中的佝偻一词有些争议', '经过评论区某位小可爱的科普我才了解这个词所代表的意思', '个人也觉得在这里用上这个词是有些不太妥当', '挠头', '我对原文的作者不太了解', '以下是自己对这段文字的见解“世界上很少有人是完美的', '每个人都或多或少有些缺点和不足', '但是在爱你的人心中', '那或许也同样是你的美丽之处”', '…不知道有没有讲清楚自己的想法', '˄', '͈༝', '͈˄₎', '｡', '不过再次感谢大家的点赞和评论！！自己喜欢的东西被大家同样的喜欢着', '也有一种被承认的感觉', '嘿嘿', '有点暗爽', '不过那位在评论区评论说这些是舔狗语录的哈哈哈哈你好欠揍哦！！', '吃我一拳！']\n",
      "------------------------------\n",
      "医院里的科研岗是怎样一种存在？\n",
      "邓铂鋆\n",
      "['科研岗是大型医疗机构加强自身垄断的必然手段。通过深化分工，搞一批人专门刷科研指标', '，在主观和客观上推动了转化医学研究与发展。', '至于成果归属和回报问题……', '老板雇佣你上班，你的所有劳动成果就都是你的么？计划经济，生产资料全民所有，成果那是集体的。市场经济也讲究职务创作——中科院的比尔', '盖茨院士他懂核电么？这不照样靠雇员做出的、花钱买来的核电技术成果评院士嘛。上学的时候没学过跑电泳的院士多了，现在论文里照样用的', '，高手还要用一批出了实验室啥也不会的博士堆冷冻电镜小时数呢。项目是总包商拿下的的，分包的工头、民工就是拿钱干活的。反正本地有科研岗的同志要求待遇，领导通常说你再累累不过看门诊的、写病历的，耗子养死了的风险也比不上临床一线。虽然本质上这种回答跟“脑力劳动再辛苦也没有扫马路累，你拿的比扫马路多，还有什么抱怨的”没啥区别，但事实就是如此。任何一个经营性机构，你不做带来主要营收的主业，又没有权力，做的再好也只是一个缺少议价权点缀。', '科学研究是发现，技术研究是发明。纯理论研究者在情商和社会活动能力上赶不上从事跟人打交道的应用工程技术的人，这很正常。于是搞应用工程技术的人负责化缘，搞理论研究的人负责干活，然后各取所需，这是很正常的分工不同。科研岗在医院里确实没多少实惠，也就是学生和低年资医生做课题的时候有求于你，再就是混的好了手里有委员会的投票权了，每年能收一次简历。科研岗最重要的问题不是“钱少”，而是上升空间窄，你做的再多，在医院里没有话语权，“说了不算”。但是想想，贵生化环材劝退行业的岗位少，鹅害鹅式的内卷，菜鸡互啄一般的无效竞争，能聘用的起科研岗的医院，至少待遇不太差，竞争也没那么激烈吧？（虽然成长性确实不佳，还容易被主流学术界边缘化。）嫌不爽，当初就不该入这行！毕业就该转', '！发了大文章就该去企业！现在的委屈都是当初脑子进水啊。', '不管是临床岗还是科研岗，都是资本异化下“工具人”。下一个五年计划，老板准备不惜你们这些代价，把所有新猿工都改造成能发', '的青年科学家，白嫖五年不给编、未必留，推动世界一流大学建设。临床看似有肉吃，其实也有辛苦不为外人知。就别分三六九等，通过伤害对方寻找优越感了。']\n",
      "------------------------------\n",
      "淘宝有哪些好看的裙子？\n",
      "Brown酱\n",
      "['啊啊啊！', '这个我必须回答一下！！', '平常闲着没事做的时候，总会逛淘宝，也许买买买是女生的天性吧', '不给自己买多几条裙子怎么对得起这个夏天呀', '从初中就开始网购，收藏了很多店铺，也取关了很多店铺，留下来的都是信得过的店铺呀', '下面推荐的都是质量好，性价比高的小裙裙', '顺便把价格标上，大家可以根据自己的需求买买买，嘻嘻', '此文章推荐的所有店铺与本人无任何利益关系！', '好多盆友私信我说搜不到店铺，复制图片下方口令可直达淘宝店铺', '风尚家', '下面这个裙子我买啦，面料很舒服，质感很好，穿上身超级显瘦呀', '￥', '复制￥', '￥打开淘宝直达', '这款裙子最最喜欢的就是裙摆的拼接设计，整体穿起来有点小成熟却不失优雅气质', '￥', '复制￥', '￥打开淘宝直达', '家', '好喜欢这个鱼尾开叉长裙，很有设计感，胯宽的也可以穿噢', '非常适合拍照凹造型', '￥', '复制￥', '￥打开淘宝直达', '复制￥', '￥打开淘宝直达', '猫泞家', '妈呀', '这款奶油色的吊带长裙第一眼就看上了，也太仙了吧', '￥', '复制￥', '￥打开淘宝直达', '这款杏色连衣裙真的吼吼看啊！穿上身特别显气质，布料很柔软，做工很精致', '￥', '复制￥', '￥打开淘宝直达', '家', '这家的价格相对便宜一点，款式偏软妹学院风的那种，学生党一定要去收藏哦！！￥', '复制￥', '￥打开淘宝直达', '这款带点法式宫廷风，中间裹胸设计，修腰更显瘦哦', '￥', '复制￥', '￥打开淘宝直达', '家', '这家有好多好仙好仙的连衣裙！！裙子的颜色看起来都超级温柔的，特别的显气质！！￥', '复制￥', '￥打开淘宝直达', '这条特别适合穿去度假！然后发个美美的朋友圈，嘻嘻', '￥', '复制￥', '￥打开淘宝直达', '家', '这家主打原创设计，每个款式多很独特，衣服超级显气质！穿出去不撞款', '￥', '复制￥', '￥打开淘宝直达', '这条碎花裙很好看，衣服细节做得很好，非常气质的一款', '￥', '复制￥', '￥打开淘宝直达', '木冉家', '今年非常流行牛油果色', '然后我就买了这条，穿上身真的很棒，质量也很好哦', '￥', '复制￥', '￥打开淘宝直达', '这家的款式有点偏轻熟风，上班族快收藏吧', '￥', '复制￥', '￥打开淘宝直达', '家', '超喜欢这家的衣服风格，偏日系，款式真的是深得我心呀', '￥', '复制￥', '￥打开淘宝直达', '偶尔穿一下露背的裙子，出门绝对亮眼', '￥', '复制￥', '￥打开淘宝直达', '家', '穿一件长', '恤当裙子，既休闲又舒服，还特显腿长', '喜欢休闲风的赶紧收藏吧！！￥', '复制￥', '￥打开淘宝直达', '超级遮肉肉的', '恤裙，侧边打结设计凸显腰身，既显瘦又休闲，舒服！￥', '复制￥', '￥打开淘宝直达', '猫酱家', '这个裙子特别显白显瘦，简约又不失气质，红色黑色都好看', '￥', '复制￥', '￥打开淘宝直达', '这款无袖长裙很小清新，适合走可爱风的盆友们穿', '￥', '复制￥', '￥打开淘宝直达', '冷月家', '泡泡袖的格子连衣短裙吼吼看啊！！带点复古', '特别显瘦显高哦', '￥', '复制￥', '￥打开淘宝直达', '复制￥', '￥打开淘宝直达', '忠犬家', '喜欢日系风必须去看看！！模特是很小清新的那种类型，价格也超适合学生党', '￥', '复制￥', '￥打开淘宝直达', '复制￥', '￥打开淘宝直达', '鱼不二家', '一直以来都好喜欢这种蕾丝裙，穿上身', '的，感觉自己就是仙女', '哈哈哈哈', '￥', '复制￥', '￥打开淘宝直达', '复制￥', '￥打开淘宝直达', '家', '喜欢法式连衣裙的盆友们！这家款式超级多哦！今年法式风真的是太流行了', '￥', '复制￥', '￥打开淘宝直达', '复制￥', '￥打开淘宝直达', '北冥有渔', '喜欢穿旗袍类的小姐姐，快！去！收！藏！有好多设计得很好看的衣服哦', '复制￥', '￥打开淘宝直达', '复制￥', '￥打开淘宝直达', '无私地把我收藏的小裙裙贡献出来给小姐姐们，只求你们的一赞呀呀', '今天就写到这里吧，过几天来更新，笔芯']\n",
      "------------------------------\n",
      "一年过去，怎样评价腾讯“大文娱”布局下，哇唧唧哇对火箭少女101的运营？\n",
      "兰溪陈道明\n",
      "['哇唧唧哇，小微企业', '天眼查可查', '。草台班子，关系户，还莫名的带有国企的傲慢，对于她的各种不专业，无能，短视，我不想在这个问题下赘述。我相信你会在其他回答里看个够。', '腾讯对其能力不足其实是有认知的。然而，在当前形势下，国内对于偶像团体的运营公司，各大平台，不仅仅是腾讯，其实都没有大多的选择。腾讯选择哇唧唧哇是现实而无奈的决定。', '哇唧唧哇不行，换成谁呢？', '乐华，首先看关系。不是一条心的，一票否决了。', '其次，看运营能力。你看乐华自己的男团，乐华七子，还有优酷视频以团之名交给他运营的那个男团，太糊了，我就懒得百度叫什么了，乐华的运营更倾向于量产大量新星割韭菜，职业营销团队可以全公司公用降低成本，还有各种韭菜资源共享，俗称乐华大礼包。', '最后，运营公司自带艺人参加选秀，这样的综艺节目和成团组合，先天性不足。你看创造营哇唧唧哇带六进五还拿', '位，节目和男团的效果如何就知道了。', '除了乐华，还有谁', '爱豆世纪', '爱奇艺的偶像练习生出道组合', '，组合名存实亡，偶妹对爱豆世纪的控诉罄竹难书，有兴趣可移步微博搜', '，包你满意。然而第二季青春有你，成团的', '，还是交由他们运营。这不就是爱奇艺的哇唧唧哇嘛。', '创造', '节目火爆超乎寻常，价值远超赛前预期，腾讯出手把两年归属约放到海南周天这个皮包公司，然后再由海南周天委托哇唧唧哇运营。但是关系户的情绪还是要照顾的，所以你就看到了创造营', '，哇唧唧哇既当裁判又当运动员。假设创造营节目大火，出来天选之子，腾讯还是会动用海南周天占为己有。这就是腾讯，这就是哇唧唧哇。', '粉丝很像买房的业主，全家辛辛苦苦半辈子的积蓄，买了套房，爱若珍宝，总想装修的漂亮，实用，经久耐用。运营公司就像搞装修的，话说的很好听，其实都是要坑你的钱的。哪怕你找亲戚熟人装修也免不了。你说多花钱没事，活给我干好就行。对不起，办不到的。', '腾讯家大业大，就是那土豪开发商，火箭少女只不过是一个项目而已，楼盘要精装修', '那当然要找熟人龙老板啦，糊弄事很正常，别捅出大篓子就行。']\n",
      "------------------------------\n",
      "怎么样客观看待张云雷现象？\n",
      "mushu\n",
      "['我就是被张云雷现象吸引过来的。远观现象和身为当局者是两种完全不同的感受，按照一般的说法，这就是路人和粉丝的界限。', '第一次听说张云雷是在去年底的一次家庭聚会上，外甥女强行播放探清水河，说此曲甚火。', '我不混音乐圈儿，但我猜想音乐界应该也有鄙视链，比如我这种拿发烧音响听纯音乐的，就有理由鄙视拿手机外放听网红小曲儿的。', '所以我出于早年间对德云社的喜爱，礼貌的了解了一下南京南的往事，大概断定颜值、事故和网红小曲儿是张云雷红起来的三要素，然后默默判定很快他就会被新的热点替代。', '不久，一位记者朋友写了一篇力挺张云雷和德云社的文章。她的身份比较有趣，正好来自一个不友好媒体阵营。所以在微信公众号里，支持她的占绝大多数，但是在另一个平台上，她却被骂的很惨。', '这一次真的勾起了我的好奇心，因为作者是一位很有声望的记者，这个咖位的宣传毕竟不同于未涉世事的小姑娘的力度。于是有一天我就认真的去探了探清水河。', '以上就是我在路人期所认知到的张云雷现象，确切的说那根本就不叫认知，那只是盲人摸象，一不小心摸到了大象打出的喷嚏。而这正是路人的权利和优势，他们无需承受任何压力，来去自由，自带高贵属性。', '我怀念自己当路人的那段时光。但如果有机会穿越回去，我会在穿越之前带个锦囊，告诉自己在', '年的某一天，一定不要忘记去探一探那条清水河。', '我粗略的把周围的人分成两种，一种是看了探清水河会哭，或者至少会伤感的。另一种是看完完，之后再没有交集的。', '这两种人，前者大概率会成为张云雷现象的推手，比如我。后者多半成为这一现象的观众，比如我妈。所以我判断张云雷是很容易被一见钟情的，而且不是因为颜值，真的不是。一见钟情的原因，孙利军老师的这篇文章很能说明问题：', '我是第一种。一见钟情之后，我就进入了下一个阶段，叫做坑内躺平。', '通常情况下，一首网红歌能够让自己成为一个时代的记忆点已是不易。有时我们传唱了很久的歌却不知道原唱是谁也是有的。但是张云雷能够以现象论，仅靠一首网红歌肯定不行。', '我被探清水河洗脑的第二天就遇上了照花台。', '看小抄被抓包的小可爱', '看小抄被抓包的小可爱', '眼泪还没擦干就笑出了腹肌，前一天痴情公子的人设被瞬间推翻。我就是在这一瞬间发现自己着了道儿的。', '可能很多人走了其他的路径，某段相声也可以达到同样的效果，或者是流行歌曲，京剧，大鼓，是什么不重要，只要你从探清水河进来，主动发现了另外一件不同的作品，最保险是', '年以后的，那你坑内躺平的概率就已经极高了。', '然后剩下的事可以交给大数据。各种推送一步步让我们去了解风格各异的作品，直到有一天在某一个点上，发现这种挖掘和喜欢忽然有了质的飞跃。', '我的这个点是在', '的窦公训女里，当张云雷被台下观众的快车甩飞时，登时红了脸，又羞涩又宠溺又无奈的连连指着这一群妇女，一时语塞。', '他的舞台风格最具魅力的就是这种反差萌，刚柔并济和荤素搭配总是那么恰到好处，不咸不辣又不寡淡，如茉莉花茶的香气，清新而又馥郁。', '到了这个时候，我对张云雷的喜欢已经达到了情感层面，通常我觉得这是喜欢一个人的最高境界。', '然而事实上还有一层是我没想到的，那是在我看了', '的九艺闹公堂，', '的锁麟囊和', '的百山图之后。自此我真正变成了他的才艺粉，我粉上了他所热爱的东西，这种感觉才是真的奇妙。', '张云雷', '天津专场百山图首亮相', '张云雷', '天津专场百山图首亮相', '前面说了我粉上张云雷的历程，为什么要说这个呢？因为我要回答如何客观看待张云雷现象。', '现象，就是一种表象。当一种表象变得有规模了之后，就成了现象。但它归根结底还是表象。', '爆红，死忠粉', '，这应该是张云雷现象中的两个关键词，其他任何词汇都不会比它们更具代表性。', '首先，为什么会爆红？这肯定是网络时代的产物。特别是抖音时代，一夜之间社会关注点发生天翻地覆的变化已经成为常态。所以人们说张云雷一夜爆红，这是很真实的表象，任何人也无需辩驳。', '但关键在于，张云雷为什么会爆红？就因为一首探清水河？', '你唱了一首脍炙人口的歌而已，可是你凭什么爆红？爆红的不该是你的歌么？我觉得，两个原因：', '第一，这首歌本身很特别，它不是一首网红歌那么简单，它背后连接着很多其他属性，比如相声、曲艺、大褂、吉他、荧光棒，它有让人想要一探究竟的冲动。说白了，它带来了一些新奇感，克服了我们对于流行歌曲的审美疲劳。所以从探清水河到张云雷，这几乎是一个必然的探究过程。', '第二，也是更重要的，就是这首歌背后有宝藏。探清水河只是一个入口，最后真正把大家留住的，是我们优秀的传统文化。', '在今年', '月', '日大船的专场上，师爷谢金问张云雷，你不就是会点儿太平歌词、流行歌曲、小曲小调、京评梆之类的么，你还会什么？', '这是个包袱，该是说给那些叫嚷着张云雷只会唱一首探清水河的人听的。如果拿出他的经典曲目，随便列举就不知道会有多少。', '白蛇传、太公卖面、韩信算卦、鹬蚌相争、层层见喜、游西湖、王二姐思夫、杨二舍化缘、照花台、百山图、华容道、黛玉焚稿、孟姜女、高亮赶水、五龙捧圣、锁麟囊、乾坤带、秦香莲、夸月娥、大西厢、拆西厢……哎呦喂，歌单太长了，不查了，就这样吧。', '你逃过白蛇传，未必能躲过照花台，你躲过照花台，未必能弃得了百山图。最后，左右是个躺平，自然也就不挣扎了。', '我知道有人会说，张云雷不就是会唱么，他还会什么？', '那我就在这里附加一个回答：当我们探讨张云雷现象的时候，并不是在探讨张云雷距离一个完人还有多远的距离，而是在说，他到底具备什么样的优势，使他拥有了这样一种现象。', '其实传统文化的复兴和增强民族自信本就是大势所趋。一向痴迷于境外游的我，最近几年国内游的比例明显提升，因为我越来越发现了祖国山河之美与历史文化积淀之深厚。', '过去一直看美剧，近几年也开始看国剧了，对美国大片也失去了兴趣，近年来的国产动画片倒是一个没落的都进了影院观看。', '科技上，华为的崛起也是一个很好的例子。', '我不是搞宣传的，虽然我说了一些特别主旋律的话，但没人说发表个人见解的时候不许靠近主旋律，就像没人说不骂娘的网言网语就是缺乏社会责任感一样。', '说回到传统文化的复兴，这一方面是', '所提倡的，另一方面也是民心所向。', '我是', '后，我的成长伴随着改革开放，所以我们和', '后是主动吸收外来文化的第一代人。我们对这种文化的渴望与崇拜其实远胜于今天的', '后、', '后。', '几十年过去了，国际形势在变，我们自己也在变，我们也认识到了引进外来文化的矫枉过正，也会静下心来体会自己生存的这片土地上所孕育的文明。', '就在这样的时候，在传统文化方面，我们找到了一个入口，我们被引进来时完全不着痕迹，甚至还带着愉悦，一个又一个宝藏令我们流连忘返。什么是宝藏男孩？是说那个男孩怀揣着宝藏。什么是宝藏？传统文化才是宝藏。', '所以，张云雷为什么爆红？因为他有宝藏。但这宝藏不是他一夜之间变出来的，而是他花了十几年的时间一点一点攒出来的。只是一夜之间我们发现了他和他的宝藏，是我们发现太晚，却并非他刚刚成为暴发户。', '至于死忠粉，这个张云雷现象的第二要素，说来是很有些喜感的。不是他们生来死忠，而是命运造就了他们的品格。', '我没赶上', '，可想想也知道，在那个生死边缘的时刻，有多少人在害怕着失去。失而复得最容易培养出患得患失，他的早期粉丝该是有这样心理的一群人。', '而后来进入的一大批新人，除了脑补当年的故事，也产生类似的患得患失之外，还会亲眼看到这位小祖宗的种种出人意表的举动。', '带伤演出，硬刚黄牛，对粉丝的真宠，对同事的真诚，山后练鞭肉眼可见的进步……他永远都是那个不完美的张云雷，却又永远带给你预料之外的惊喜。', '然而，只有这些就让粉丝们如此死忠还是有些说不过去，', '这里有一股神秘的力量真的功不可没。', '黑，无条件无底线的黑，让粉丝们越发想把阳光交还给他。', '所以，打造死忠粉的，恰是最不愿意看到死忠粉的黑人自己。', '凡事须有度，善意的客观的批评，如', '以后的', '，自然有利于犯了错的张云雷及其追随者的反思与进步。', '但为了一己的利益去恶意中伤，甚至恨其不死的某些幕后操纵者的蛇蝎之心，却会换来人人得而诛之的下场。这些人一天不下岗，粉丝的死忠之心就一天不会亡。', '所以，张云雷现象的有力推手之一，正是唯恐天下不乱的这一群小人。偏偏是天道不可违，邪不压正，便是天道。', '回到这个问题本身，怎么样看待张云雷现象？这应该是几个月前的问题了吧，到此时，张云雷现象已经有了一些本质的变化。', '如果说几个月之前，张云雷现象还只是围绕他的爆红的讨论，那么到今天，有两个关键词必须要加入进来，即：', '正能量偶像、曲艺传承。', '可能有人会说，一个犯了错的人凭什么叫做正能量偶像？诶，我就先论证一下这个观点，好堵了这些人的嘴。', '我活了四十多年，没见过没犯过错的人，不只没亲眼见过，连书里也没见过。听说孔子挺完美的，但作为一个教育家，他没有教出一个优秀的儿子，这同样可以成为他的人生污点。', '既然不犯错不可能，那人与人之间的差距，就在于犯错之后的表现了。', '知错能改，善莫大焉。但凡', '这句话的，定是对中国传统文化缺乏了解。这句话来源于《左传》，原文是：人非圣贤，孰能无过，过而能改，善莫大焉。', '与之相通的是，佛教中亦有“放下屠刀，立地成佛”之说。', '这两种说法，都是在劝人向善，是在以发展的眼光看问题。而小恶大惩，无非是以大恶治小恶，是引人向恶，是野蛮性与原始性的体现。', '现代文明社会，自然该是劝人向善的社会。因此，知错能改，善莫大焉是没有理由被质疑的。', '张云雷有没有改错？从', '石家庄场到', '北展场，不仅改了，而且改的很彻底，很成功。', '比改错更具有正能量意义的，是张云雷在遭遇如此大的打击之后，还能淡然笑对，潇潇洒洒走上台来。', '你以为他', '岁了，不是小孩子了，他本该有能力承受这一切。我想请问，你在', '岁的时候能否做到？如能做到，你今天又何苦来做一个口嗨之人？你若不足', '岁，又有什么资格判断', '岁的人应该如何？（这个你，特指黑子）', '别小看', '月', '号的那一次上台，那是给多少舞台下，屏幕前哭成狗的粉丝注入了巨大能量的一次上台啊！', '从此，他的粉丝们学会了直面困难，笑对人生，学会了但行好事，莫问前程。你以为他们凭什么成长得如此之快？凭的就是正能量偶像那一个坚定的微笑，一个没有悲伤，没有愤怒，充满阳光的微笑。', '另一个关键词，叫做曲艺传承。如果说正能量偶像来自于偶像的自觉，那么曲艺传承则是来自于粉丝的自觉。', '我不知道有多少人和我一样，在', '之后第一时间想到的是传统曲艺。那天我以泪洗面，心里想的一直是，还有好多小曲儿没演过呢，好歹演完了录完像了再封杀啊。', '别打我，我是真粉，那天我可能是急昏了头。', '就是在即将失去时，才知道什么最是珍贵。此前我们或许被他的相声逗笑，或许八卦过各种', '，也或许磕过他的颜，但此时我们发现唯有曲艺才是他带给我们的最可贵的财富。', '所以，我们开始在剧场安静下来认真的听他唱。我们开始举办比赛并且踊跃参与。我们更加努力的学习以及宣传曲艺。', '回报我们的，是他每一场精彩纷呈的曲艺作品。', '浩然正气孟姜女', '浩然正气孟姜女', '娇俏玲珑夸月娥', '娇俏玲珑夸月娥', '意外之喜百山图', '意外之喜百山图', '如何客观看待张云雷现象？爆红，死忠粉，正能量偶像，曲艺传承。够客观了吧？']\n",
      "------------------------------\n",
      "勇士篮网先签后换，4年1.17亿美元拿下德安吉洛·拉塞尔，如何评价这笔操作？\n",
      "静易墨\n",
      "['谢邀。', '不谈感情，单纯从篮球和生意角度看勇士这波操作，其实迈尔斯做的很不错，他基本把杜兰特离队的损失降到最低，能得到拉塞尔对勇士有巨大意义——或者说，这笔交易里各方都达到了目的，杜兰特去篮网的结果没有改变，拉塞尔拿到了顶薪，勇士得到了止损，而篮网实现了利益最大化。', '有几个问题：', '问题', '：为什么会是这种形式？不是说杜兰特可以以自由球员加盟篮网么？临走为勇士留资产的目的在哪？', '因为篮网的薪资距离完全吃下杜兰特和欧文的顶薪合同还差一点点，并且篮网还要给小乔丹', '万的起薪，那么篮网光靠自由球员签约是做不到的，欧文和杜兰特之一必须有一人以交易形式加入球队。', '篮网有多少薪资空间呢？在放弃所有自由球员鸟权占位和非保障合同的情况下，有大约', '万薪资空间，而杜兰特的顶薪合同的起薪是', '万，欧文则是', '万，合计是', '万，篮网还差大约', '万的薪资，即使不签约小乔丹，篮网也需要再送走一个球员。又因为篮网是一支帽下球队，靠签约自由球员无法实现超帽，手里就只有空间中产特例的', '万可用，这个签小乔丹不够，篮网就只能让杜欧降薪靠空间吃下小乔丹，那么杜欧要分别降大约', '万才行，这个损失太大了。', '而现在篮网是怎么操作的呢？', '保留拉塞尔鸟权，保留内皮尔和格拉汉姆的非保障合同，这样篮网还有', '万空间，签约欧文', '小乔丹一共需要', '万空间，完全够用了。然后给拉塞尔一份顶薪合同（拉塞尔的球龄，能签', '工资帽起薪的顶薪，起薪大约', '万），带着内皮尔和格拉汉姆打包，合计薪资是', '万，比杜兰特的合同小', '万，而篮网在交易后薪资是在工资帽上了——这没问题，因为超帽交易配平有', '的允许差价，这笔交易依然在配平范围内。这样，篮网就顺利的实现了超冒补强，成功拿下杜兰特、欧文和小乔丹，几乎没有付出代价。', '除了杜兰特和欧文，篮网还拿到了', '配角坦普尔，花了', '年', '万，第二年是球队选项——很公道的价格了，如果坦普尔状态下滑还可以不执行第二年合同。这样想，前面用空间吃掉欧文', '小乔丹后，剩下那', '万空间，可能就是为了这个合同了。', '篮网在下个赛季还没有立刻竞争东部冠军的实力，但', '赛季杜兰特复出后，篮网将拥有两个顶级球星', '一票极有深度的配角阵容，他们将立刻成为东部冠军的热门候选，篮网的苦日子终于到头了。', '问题', '：为什么勇士必须送走伊戈达拉？', '因为先签后换交易，要求接受先签后换球员的一方工资总额控制在土豪线以下（土豪线', '奢侈税线', '万，也就是', '亿）——这笔交易里，两边都是接受先签后换球员的一方，所以都需要控制在土豪线以下，但篮网薪资很低，涉及不到这个问题，只有勇士有这个问题，并且勇士', '赛季都不能再超越土豪线。', '如果勇士不送走伊戈达拉，那么得到拉塞尔后，勇士的薪资将达到', '亿，远远超出了土豪线，所以必须把伊戈达拉', '万的最后一年合同送走为拉塞尔清空间，于是选择了搭一个', '年的选秀权，把一哥给了灰熊。', '问题', '：勇士为了拉塞尔值得么？', '在谈拉塞尔之前，我们先得搞清楚，如果杜兰特以自由球员身份离队，对勇士来说意味着什么——勇士的总薪资将降至大约', '亿水平，还在工资帽（', '亿）以上，勇士依然无法补强。利文斯顿和伊戈达拉的合同倒是可以作为交易筹码去市场上逛逛，但因为他们都是只剩一年合同的老将，勇士没有可能用他们换来比他们本身战力更强的即战力，更加不用说潜力年轻人或选秀权——也就是说，如果未来继续以库汤追建队，勇士除了培养新秀，已经没有了补强渠道。', '用先签后换的形式，从杜兰特离队中拿到一些资产，是勇士战力止损的唯一办法——刚好篮网也有这个需求，那么迈尔斯没有理由不去把握。', '没错，有这样两个情况事实：', '第一，勇士没有了杜兰特，锋线实力大减，再失去伊戈达拉，勇士已经不是锋线强队，甚至在汤普森复出前，库里有机会成为勇士最好的首发外线防守球员；', '第二，拉塞尔现在的实力不到', '万，给他顶薪略有溢价。', '但是，从长远利益看，勇士这么做依然有价值，因为伊戈达拉只剩一年合同，离队只是时间问题，他到下赛季中期就', '岁了，下赛季还能维持什么水平的竞技状态本身也是问号。并且无论如何，', '赛季对勇士来说都很艰难，没有伊戈达拉也只是让艰难再加剧一点——汤神还要养伤，勇士没啥外线防守尖兵了——但如果没有换来拉塞尔，在汤神复出前，告诉我，库里之外，勇士还有什么能自主开发进攻的球员么？不要指望大概率也留不住的考辛斯。', '你绝对不想看库里每场比赛都面对一盯四联，勇士很难成为防守强队了，现在能保住进攻，也起码比赛观赏性上对得起新球馆的球迷——勇士会复兴的，但那需要汤神回归之后，所以攻防均衡还不是现在要想的事情。', '有了拉塞尔，勇士起码可以保证', '分钟都有一个主攻大神在场', '了——拉塞尔是一个回合占有率', '的可以大量吃球权的主攻手，挡拆大神，可以大量带动队友，有无球能力结合的很好，并且我以前在文章里也提过，提升无球产量也是拉塞尔实现进步的很重要环节，勇士刚好可以帮他实现。', '拉塞尔的溢价也不会持续整个合同期间，他只有', '岁，还有成长空间，也许上限不会很高，但他拿的是', '工资帽顶薪，不是', '或者', '，这个合同最后一年是', '万不是', '万，想要匹配身价，拉塞尔需要进步的幅度没有那么大。', '另外，对于拉塞尔合同的溢价程度，不同球队之间的判断也是不同的——勇士不会是唯一一支愿意为拉塞尔开顶薪的球队，只要他保持健康，在勇士能基本维持住在篮网最后一季的表现（这不难），那么拉塞尔未来也可以作为一个筹码，在某个时间被勇士用来交易更需要的锋线球员。', '这里提一个概念——', '每支球队可以使用的薪资战力是不一样的', '。虽然工资帽是固定的，但每支球队超过工资帽的程度却不能随意控制，工资帽只有', '亿，而只有发生鸟权续约和高差价配平交易，才能让一支球队的薪资实现帽上增长——', '亿跟', '亿的薪资完全是两个世界——除非你要清出大量空间吸引自由球员超巨加盟，不然超帽并不总是坏事，只要不是垃圾合同乱堆出来的高薪资，更高的薪资意味着你可使用的战力更高。', '所以这笔交易实际是勇士在给自己留一个机会，既然无法靠空间补强，那么让球队始终维持在高薪资水平（勇士现在要交的税也很少了）保证战力，手握一个进可做即战力，退可交易的年轻球员，当然是一笔值得肯定的操作。', '另外，内皮尔是个可以用的后卫，他有无球都能打一打，进攻水平在开拓者和篮网都说得过去，防守能力比体型看起来好，不过因为库里和拉塞尔可以覆盖', '号位出场时间，内皮尔作为第三控卫机会不会太多。格拉汉姆是个', '不怎样的', '侧翼，他需要跟埃文斯和麦金尼竞争时间。', '问题', '：勇士还需要哪些后续操作？', '勇士还需要送走利文斯顿。', '交易后，勇士现在手握合同的球员有库里、汤普森、格林、拉塞尔、麦金尼、琼斯、普尔、埃文斯、内皮尔、格拉汉姆、利文斯顿，已经', '人，这', '人合同加一块大约', '亿，还在土豪线', '亿以下，但只有', '万空间，已经岌岌可危，而勇士还需要有这样几件事要做：', '第一，续约卢尼；', '第二，已经给了库克、贝尔和达米恩李资质报价，多半会留下（库克可能会走）；', '第三，两个二轮秀还没签约。', '所以勇士只能送走利文斯顿（本来也在计划中），再清出', '万合同，合计有', '万空间来保证完成这三件事——勇士没钱留考辛斯了，甚至不能用迷你中产合同，但考辛斯可能原本就留不住，而迷你中产合同只是这赛季不能用——这些是得到拉塞尔的间接代价。', '有关勇士阵容、打法、攻防预期方面的深入探讨，还需要等阵容基本确定后。', '封存在蓝金色记忆宝箱里的死亡五小时代终结了，从情感上讲，这是令勇士球迷难过的一天，虽然有心理准备，但一切最终还是不可避免的发生了。', '在勇士最需要援手的时候，杜兰特为这支球队带来了无法阻挡的统治性力量，让过去三个赛季的勇士成了席卷联盟的巨无霸，杜兰特帮助勇士将两个总冠军奖杯揽入怀中，没有什么比这样的贡献更值得勇士球迷歌颂；为了三连冠赌上一切的复出，也没有什么比这更让勇士球迷感恩。他是勇士王朝历史上浓墨重彩的主人公之一，是金州勇士需要铭记的超级英雄。', '同样的，人人都爱伊戈达拉，勇士王朝的另一个', '，完成了守护金州幼儿园的最后一程，在所有人的不舍中离开了这支球队——不能看到身着勇士球衣的一哥切球一条龙反击扣篮，那将是新球馆最大的遗憾。', '一个时代结束了，但一切也会重新开始，祝福杜兰特，祝福伊戈达拉。', '操作评级：', '篮网：', '勇士：']\n",
      "------------------------------\n",
      "是罗云熙成就了润玉，还是润玉成就了罗云熙？\n",
      "小杯可乐\n",
      "['我换一个角度来答题。谨以此答献给润玉生日。', '沉没成本，是指以往发生的，但与当前决策无关的费用。从决策的角度看，以往发生的费用只是造成当前状态的某个因素，当前决策所要考虑的是未来可能发生的费用及所带来的收益，而不考虑已往发生的费用。', '人们在决定是否去做一件事情的时候，不仅是看这件事对自己有没有好处，而且也看过去是不是已经在这件事情上有过投入。我们把这些已经发生不可收回的支出，如时间、金钱、精力等称为“沉没成本”。', '当香蜜剧组启动的一瞬间，昨天的投入就是今天的成本。今天的投入，正在成为明天的成本。时钟一圈圈转动，香蜜车轮骨碌碌往前滚。资金，人员。摆在明面上的场景搭设，服化道纷纷就位。不摆在明面上的设计，开会，讨论，争辩，找资料，修改。。惊才绝艳的各路人才在这小小剧组风云际会，认真严谨精益求精的工作态度让他们对每一个环节都严密把关，每一个细节都反复斟酌。', '选角，是重中之重。这一切看的到的硬件，和看不到的软件，都将由选出来的人展示。选角这个事情，毫无疑问是一项决策。不管是哪种途径选择，内定，介绍，面试，海选，网络投票。还有我不知道的种种选角途径，结果都会走到决策这一步。不管最后定的是谁演这个角色，为这个角色花的成本都是一样的。', '不会有人和我抬杠，个子高的花的衣料多，个子矮的花的衣料少吧？那我也可以说脸大的扑的粉多，脸小的扑的粉少。呵呵题外话答主皮一下，我们继续。', '当香蜜的润玉定下了罗云熙的时候，那么在香蜜拍摄完成的时候，所有为润玉一角所付出的所投入的，都成为了润玉选角这一决策的沉没成本。为什么说呢？润玉由罗云熙演，还是李云熙王云熙演，其实对于成本的影响都是一样的。当香蜜拍摄完成时为润玉选角这个决策发生的成本，是以往发生的，但与当前决策无关的费用。从决策的角度看，以往发生的费用只是造成当前状态的某个因素，当前润玉选角决策所要考虑的是未来可能发生的费用（选的这个人太笨，专门又请了个老师教一教）及所带来的收益（选的这个人听话肯吃苦又聪明又好看），而不考虑已往发生的费用。', '润玉不管是由罗云熙还是李云熙还是王云熙演，该花的钱一分都不会少。基本上像香蜜这样的态度这样的人才济济，不管谁演润玉，只要不是太不靠谱。呃，以香蜜的认真也不会找不靠谱的演员。要是世界上没有罗云熙这个人，难不成香蜜还不开机了，世上哪有这样的道理撒。', '那么，我们来看看会有哪几种可能。李云熙的润玉，八十分。王云熙的润玉，一百分。罗云熙的润玉，一百二十分。那么，在一定会有一个润玉面世的情况下，是罗云熙让润玉超值。罗云熙成就润玉，成立。', '那润玉是不是成就了罗云熙？当然也是成立的。没有润玉这个机会，罗云熙什么时候才能碰上适合自己的角色？就凭他那个不妥协的脾气和玩儿似的工作室？听说这次罗云熙的上官透终于能好好骑上马了，我瞬间悲喜难辨。这么一个为古装而生的怪胎（是爱称，爱称，我不是黑粉），终于能有机会好好拍一场马戏，不是容齐小咳嗽包坐在马背上小踱，是真正的金戈铁马，快意江湖。', '没有香蜜，他有可能这次容齐小小的引人注意。不，可能连这个也不一定。香蜜的润玉之于罗云熙，远不是一个机会这么简单。和老戏骨的学习，做了天帝对本人气质和修养的改变，对他塑造少年天子容齐，起了很大的作用。居移气养移体，做过天帝的罗云熙，连沙雕都和人家的沙雕不一样，是有型有款有特色的沙雕。', '感谢润玉和罗云熙的相遇。金鳞岂是池中物，一遇风云变化龙。润玉是风罗云熙是云。化学反应就是罗玉的飞龙在天。']\n",
      "------------------------------\n",
      "罗云熙在白发中饰演的容齐与香蜜中润玉的妆容造型区别在哪里？\n",
      "一羊欠抽\n",
      "['第一，头套', '香蜜玉鹅的发型即使到了后期的天帝玉，整体发型还是偏蓬松的，颅顶拉高，显得整个发型很饱满，发际线很好的露出罗小叔叔本来就很好看的额头，', '鬓角相对较长，更能修饰脸型，而且前额发型一缕一缕梳上去，能看出头发的质感来，看起来不死板。', '都可以看出来发丝的走向，很自然蓬松的发套，发际线很好不压眉眼，三庭比例很合适。', '齐鹅就不同了，发套比较紧，贴头皮，最要紧的是它居然把小叔叔的额头给贴毁了，他本人的额头就很好看了，大大方方露出来就好，结果，聪明反被聪明误的弄了个不知所以的【弯角】出来，结果整个额头比下方的脸窄了好多，形成了【脸包头】的错觉，【脸包头】就容易看起来脸大，正确的审美应该是【头包脸】小叔叔本人的头脸没问题，是发套的锅，鬓角也短了，使得本来就因为【脸包头】看起来脸大的齐鹅，愣是比玉鹅脸大了一圈…', '因为他本人脸确实很小，所以脸大脸小问题并不明显，重要的是这个发际线…有点压眉眼，额头被修饰的怪怪的。', '第二，眉毛', '玉鹅的眉毛我早就想拿出来夸一夸，简直是古装美男造型的一大突破，不同于以往千篇一律的剑眉，玉鹅的眉毛眉头偏低，整体往上走，到了眉尾处完全不下压，斜斜的飞入鬓角，眉尾非常干净锐利，这个眉型的整体走势和【妲己眉】略像，但是化在男人脸上看起来很英气，眉毛整体不算长，粗细也很合适，非常适合秋水为神玉为骨的玉鹅。', '大家好，我是玉鹅的眉毛，今天起，我要独自出道了。', '齐鹅的眉毛无功无过，绝对不难看，就是比较普通的剑眉，眉尾比较钝，不是很锐利，整体眉毛走势比较平缓，好像比玉鹅的眉毛要短一些，好看是好看的，不过确实没玉鹅那么惊艳。', '大家好，我是齐鹅的眉毛，我…我…我至少很自然！！', '罗小叔叔是有名的建模脸，我也发现了，有的二次元人物的眉毛并非普通的剑眉，而是玉鹅那种整体往上走的比较凌厉的眉毛，显然这种脸型更适合这种眉毛。', '建模脸不是吹的…眉头偏低，眉尾上走不下垂，这种脸型才能驾驭的眉毛！', '第三，服装', '玉鹅的设定是神仙，还是个一看就不食人间烟火，为人清冷淡漠的神仙，他的服装主色为白色，青色之类的素色，前期夜神的时候，整体服装就是白色的轻纱为主，没什么多余的花纹配饰，宽袍大袖，打斗的时候非常飘逸轻盈。后期的天帝玉，因为发达了【划掉】地位上升，服饰多了繁复的花纹，还有精致的发冠，但整体还是比较素淡的颜色，材质也没有变得很厚重，还是以轻纱为主的。', '性感玉鹅，在线索命', '大家好，我是天帝玉鹅，我发达了，所以我的衣服上也有小发发了哟', '齐鹅的设定是人间的帝王，所以他的服装设计的其实是没有问题的，华贵的绸缎，繁重的花纹，精美的配饰，这些出现在这个人物身上原本没有问题，不过，小叔叔本人体格其实比较单薄，轻纱类的衣服更适合他，绸缎，尤其是穿了好几层的绸缎类服装使得他有些弱不胜衣，不过貌似齐鹅本身设定就是天生体弱多病，这么穿其实是对的。另外，齐鹅的服装不仅有白色，浅蓝之类的素色，也有金色，棕色之类的暖色，在我看来，小叔叔本人皮肤色调偏冷，他更适合冷色调的服装，金色并不适合他。但人间的帝王，设定在那里摆着，自然不能穿太素淡的颜色。', '我是齐鹅，看我的腰带', '爱龙仕', '夏季限定版哟', '做皇帝就是舒服', '衣服好重好大好累人…我要风扇空调冰淇淋', '可以看出来，素色，冷色更合适小叔叔的皮肤。', '我们讨论的仅仅是玉鹅和齐鹅的造型不同，可以总结出来，罗小叔叔更适合斜眉入鬓，蓬松的发套，轻纱材质，偏冷，偏素的服装，然而服装如何总是要贴近人物的，不能一昧的去贴合演员或者观众的偏好，齐鹅的造型除了发套以外的设计其实都很符合这个人物，而且…齐鹅也很好看的不是嘛', '玉鹅齐鹅都是好鹅【好像怪怪的…】左手心和右手心都是肉，对吧？', '关于称呼他小叔叔这个问题…', '我就这么叫我就这么叫略略略罗叔叔有本事你就亲自打我呀╮', '╯▽╰', '╭']\n",
      "------------------------------\n"
     ]
    }
   ],
   "source": [
    "\"\"\"\n",
    "    配合使用BeautifulSoup4解析\n",
    "\"\"\"\n",
    "from selenium import webdriver\n",
    "from bs4 import BeautifulSoup\n",
    "import re\n",
    "\n",
    "new_line = re.compile('\\s+')\n",
    "p = re.compile('([^\\x00-\\xff]+)')\n",
    "\n",
    "try:\n",
    "    chrome = webdriver.Chrome()\n",
    "    chrome.get(\"https://www.zhihu.com/explore\")\n",
    "\n",
    "    doc = BeautifulSoup(chrome.page_source, 'lxml')\n",
    "    for div in doc.select('.explore-feed'):\n",
    "        question = div.find(class_='question_link')\n",
    "        author = div.find(class_='author-link')\n",
    "        content = div.find(class_=\"content\")\n",
    "#         if not question and not author and not content:\n",
    "        print(re.sub(new_line,\"\",question.text), author.string, re.findall(p,content.string),sep='\\n')\n",
    "        print('---'*10)\n",
    "finally:\n",
    "        chrome.close()"
   ]
  },
  {
   "cell_type": "code",
   "execution_count": null,
   "metadata": {},
   "outputs": [],
   "source": []
  }
 ],
 "metadata": {
  "kernelspec": {
   "display_name": "Python 3",
   "language": "python",
   "name": "python3"
  },
  "language_info": {
   "codemirror_mode": {
    "name": "ipython",
    "version": 3
   },
   "file_extension": ".py",
   "mimetype": "text/x-python",
   "name": "python",
   "nbconvert_exporter": "python",
   "pygments_lexer": "ipython3",
   "version": "3.5.0"
  }
 },
 "nbformat": 4,
 "nbformat_minor": 4
}
