{
 "cells": [
  {
   "cell_type": "markdown",
   "metadata": {},
   "source": [
    "# Selenium\n",
    "\n",
    "自动化测试工具，支持多种浏览器。主要用来解决JavaScript渲染问题\n",
    "\n",
    "本章内容：\n",
    "- [基本使用](#基本使用)\n",
    "- [声明浏览器对象](#声明浏览器对象)\n",
    "- [访问页面](#访问页面)\n",
    "- [查找元素](#查找元素)\n",
    "    - [单个元素](#单个元素)\n",
    "    - [多个元素](#多个元素)\n",
    "- [元素交互操作](#元素交互操作)\n",
    "- [交互动作](#交互动作)\n",
    "- [执行Javascript](#执行Javascript)\n",
    "- [获取元素信息](#获取元素信息)\n",
    "    - [获取属性](#获取属性)\n",
    "    - [获取文本值](#获取文本值)\n",
    "    - [获取ID、位置、标签名、大小](#获取ID、位置、标签名、大小)\n",
    "- [Frame](#Frame)\n",
    "- [等待](#等待)\n",
    "    - [隐式等待](#隐式等待)\n",
    "    - [显式等待](#显式等待)\n",
    "- [前进后退](#前进后退)\n",
    "- [Cookies](#Cookies)\n",
    "- [选项卡管理](#选项卡管理)"
   ]
  },
  {
   "cell_type": "markdown",
   "metadata": {},
   "source": [
    "## 基本使用"
   ]
  },
  {
   "cell_type": "code",
   "execution_count": 6,
   "metadata": {},
   "outputs": [
    {
     "name": "stdout",
     "output_type": "stream",
     "text": [
      "https://www.baidu.com/s?ie=utf-8&f=8&rsv_bp=1&rsv_idx=1&tn=baidu&wd=English%20speeking&rsv_pq=cf299b8a006d756a&rsv_t=a13fD6g4fnCt0fOzBd1mVq%2FBu8l2wTZnSL1Y1pCA9TIwZZdwnM9a0jvUVrE&rqlang=cn&rsv_enter=1&rsv_dl=tb&rsv_sug3=16&rsv_sug2=0&inputT=159&rsv_sug4=159\n",
      "[{'domain': 'baidu.com', 'httpOnly': False, 'secure': False, 'value': '1', 'name': 'PSINO', 'path': '/'}, {'domain': 'www.baidu.com', 'httpOnly': False, 'secure': False, 'value': '1', 'name': 'BD_CK_SAM', 'path': '/'}, {'domain': 'baidu.com', 'httpOnly': False, 'secure': False, 'value': '1441_21083_29074_29522_29519_28518_29098_29567_28832_29220_26350', 'name': 'H_PS_PSSID', 'path': '/'}, {'domain': 'baidu.com', 'httpOnly': False, 'secure': False, 'value': '15DD077A47532A30579D7BDED3DBECF3', 'expiry': 3711934537.317591, 'name': 'BIDUPSID', 'path': '/'}, {'domain': 'baidu.com', 'httpOnly': False, 'secure': False, 'value': '0', 'name': 'delPer', 'path': '/'}, {'domain': 'baidu.com', 'httpOnly': False, 'secure': False, 'value': '1564450891', 'expiry': 3711934537.317607, 'name': 'PSTM', 'path': '/'}, {'domain': 'www.baidu.com', 'httpOnly': False, 'secure': False, 'value': 'b28e0Dh2RwijSbY%2FN01WIeVF4pDNEcx1uoNOqK6j2X8B2WneUWZ%2BmlcfIKk', 'expiry': 1564453483, 'name': 'H_PS_645EC', 'path': '/'}, {'domain': 'baidu.com', 'httpOnly': False, 'secure': False, 'value': 'B490B5EBF6F3CD402E515D22BCDA1598', 'expiry': 1564537291.404056, 'name': 'BDORZ', 'path': '/'}, {'domain': 'www.baidu.com', 'httpOnly': False, 'secure': False, 'value': '12314753', 'expiry': 1565314890, 'name': 'BD_UPN', 'path': '/'}, {'domain': 'www.baidu.com', 'httpOnly': False, 'secure': False, 'value': '0', 'name': 'BD_HOME', 'path': '/'}, {'domain': 'baidu.com', 'httpOnly': False, 'secure': False, 'value': '15DD077A47532A30579D7BDED3DBECF3:FG=1', 'expiry': 3711934537.317541, 'name': 'BAIDUID', 'path': '/'}]\n"
     ]
    }
   ],
   "source": [
    "from selenium import webdriver\n",
    "from selenium.webdriver.common.by import By\n",
    "from selenium.webdriver.common.keys import Keys\n",
    "from selenium.webdriver.support import expected_conditions as EC\n",
    "from selenium.webdriver.support.wait import WebDriverWait\n",
    "\n",
    "browser = webdriver.Chrome()\n",
    "try:\n",
    "    browser.get(\"https://www.baidu.com\")\n",
    "    input = browser.find_element_by_id('kw') # 找到搜索框\n",
    "    input.send_keys('English speeking' + Keys.ENTER) # 输入'English speeking'，并发送回车键\n",
    "    wait = WebDriverWait(browser, 10) # 等待10秒\n",
    "    wait.until(EC.presence_of_element_located((By.ID, 'content_left'))) # 直到 DOM元素的ID为‘content_left’出现\n",
    "    print(browser.current_url)   # 打印当前的url\n",
    "    print(browser.get_cookies()) # 打印cookies\n",
    "#     print(browser.page_source) # 打印网页源代码\n",
    "finally:\n",
    "    browser.close() # 关闭浏览器"
   ]
  },
  {
   "cell_type": "markdown",
   "metadata": {},
   "source": [
    "## 声明浏览器对象"
   ]
  },
  {
   "cell_type": "code",
   "execution_count": null,
   "metadata": {},
   "outputs": [],
   "source": [
    "from selenium import webdriver\n",
    "\n",
    "chrome = webdriver.Chrome()\n",
    "firfox = webdriver.Firfox()\n",
    "safari = webdriver.Safari()\n",
    "edge = webdriver.Edge()\n",
    "ie = webdriver.Ie()\n",
    "opera = webdriver.Opera()\n",
    "phantomjs = webdriver.PhantomJS()"
   ]
  },
  {
   "cell_type": "markdown",
   "metadata": {},
   "source": [
    "## 访问页面"
   ]
  },
  {
   "cell_type": "code",
   "execution_count": 13,
   "metadata": {},
   "outputs": [
    {
     "name": "stdout",
     "output_type": "stream",
     "text": [
      "浏览器已打开\n",
      "https://www.taobao.com/\n",
      "[{'domain': 'taobao.com', 'httpOnly': True, 'secure': False, 'value': '18797bf8924c663deb1192f8be8a1629', 'name': 'cookie2', 'path': '/'}, {'domain': 'taobao.com', 'httpOnly': False, 'secure': False, 'value': '3ee3e05766768', 'name': '_tb_token_', 'path': '/'}, {'domain': 'taobao.com', 'httpOnly': False, 'secure': False, 'value': 'BJOTxcIlyoVhsobRhV0YNWAgKRe9SCcKaQfcykWw77LpxLNmzRi3WvEW-j2q5H8C', 'expiry': 1580007101, 'name': 'isg', 'path': '/'}, {'domain': 'taobao.com', 'httpOnly': False, 'secure': False, 'value': 'vp7GFcy+H2ICAXWt2d7cAhP/', 'expiry': 2195175102, 'name': 'cna', 'path': '/'}, {'domain': 'taobao.com', 'httpOnly': False, 'secure': False, 'value': 'cn', 'expiry': 1595991101.682661, 'name': 'thw', 'path': '/'}, {'domain': 'taobao.com', 'httpOnly': False, 'secure': False, 'value': '0', 'name': 'v', 'path': '/'}, {'domain': 'taobao.com', 'httpOnly': False, 'secure': False, 'value': 'd3c715564224a95806681b074dfe771b', 'expiry': 1572231102.270123, 'name': 't', 'path': '/'}]\n",
      "浏览器已关闭\n"
     ]
    }
   ],
   "source": [
    "from selenium import webdriver\n",
    "from selenium.webdriver.chrome.options import Options\n",
    "\n",
    "# 设置Chrome的headless模式\n",
    "chrome_options = Options()\n",
    "chrome_options.add_argument(\"--headless\")\n",
    "\n",
    "chrome = webdriver.Chrome(options=chrome_options)\n",
    "\n",
    "chrome.get(\"https://www.taobao.com\")\n",
    "print(\"浏览器已打开\")\n",
    "print(chrome.current_url)\n",
    "print(chrome.get_cookies())\n",
    "chrome.close()\n",
    "print(\"浏览器已关闭\")"
   ]
  },
  {
   "cell_type": "markdown",
   "metadata": {},
   "source": [
    "## 查找元素\n",
    "\n",
    "### 单个元素"
   ]
  },
  {
   "cell_type": "code",
   "execution_count": 18,
   "metadata": {},
   "outputs": [
    {
     "name": "stdout",
     "output_type": "stream",
     "text": [
      "浏览器已打开\n",
      "<selenium.webdriver.remote.webelement.WebElement (session=\"cd631433c4d7db1dc02eb5e7791fefde\", element=\"d5965a52-b5a3-4671-a254-8b5b22742eb1\")>\n",
      "<selenium.webdriver.remote.webelement.WebElement (session=\"cd631433c4d7db1dc02eb5e7791fefde\", element=\"d5965a52-b5a3-4671-a254-8b5b22742eb1\")>\n",
      "<selenium.webdriver.remote.webelement.WebElement (session=\"cd631433c4d7db1dc02eb5e7791fefde\", element=\"d5965a52-b5a3-4671-a254-8b5b22742eb1\")>\n",
      "浏览器已关闭\n"
     ]
    }
   ],
   "source": [
    "from selenium import webdriver\n",
    "from selenium.webdriver.chrome.options import Options\n",
    "\n",
    "# 设置Chrome的headless模式\n",
    "chrome_options = Options()\n",
    "chrome_options.add_argument(\"--headless\")\n",
    "\n",
    "chrome = webdriver.Chrome(options=chrome_options)\n",
    "\n",
    "chrome.get(\"https://www.taobao.com\")\n",
    "print(\"浏览器已打开\")\n",
    "\n",
    "input_first = chrome.find_element_by_id('q')\n",
    "input_second = chrome.find_element_by_css_selector('#q')\n",
    "input_third = chrome.find_element_by_xpath('//*[@id=\"q\"]')\n",
    "print(input_first, input_second, input_third, sep=\"\\n\")\n",
    "chrome.close()\n",
    "print(\"浏览器已关闭\")"
   ]
  },
  {
   "cell_type": "markdown",
   "metadata": {},
   "source": [
    "查找单个元素的一些方法：\n",
    "- find_element(by='id', value=None)\n",
    "- find_element_by_name(name)\n",
    "- find_element_by_css_selector(css_selector)\n",
    "- find_element_by_id(id_)\n",
    "- find_element_by_link_text(link_text)\n",
    "- find_element_by_class_name(name)\n",
    "- find_element_by_xpath(xpath)\n",
    "- find_element_by_tag_name(name)\n",
    "- find_element_by_partial_link_text(link_text)\n"
   ]
  },
  {
   "cell_type": "code",
   "execution_count": 1,
   "metadata": {},
   "outputs": [
    {
     "name": "stdout",
     "output_type": "stream",
     "text": [
      "浏览器已打开\n",
      "<selenium.webdriver.remote.webelement.WebElement (session=\"a7a96c27fd3c41d606d52d6f4e5709cb\", element=\"02306ff5-b97a-45bb-a24a-9d51400bd9af\")>\n",
      "浏览器已关闭\n",
      "6.9 s ± 0 ns per loop (mean ± std. dev. of 1 run, 1 loop each)\n"
     ]
    }
   ],
   "source": [
    "%%timeit -n1 -r1\n",
    "from selenium import webdriver\n",
    "from selenium.webdriver.chrome.options import Options\n",
    "from selenium.webdriver.common.by import By\n",
    "\n",
    "# 设置Chrome的headless模式\n",
    "chrome_options = Options()\n",
    "chrome_options.add_argument(\"--headless\")\n",
    "\n",
    "chrome = webdriver.Chrome(options=chrome_options)\n",
    "\n",
    "chrome.get(\"https://www.taobao.com\")\n",
    "print(\"浏览器已打开\")\n",
    "\n",
    "input_first = chrome.find_element(By.ID, 'q')\n",
    "print(input_first)\n",
    "chrome.close()\n",
    "print(\"浏览器已关闭\")"
   ]
  },
  {
   "cell_type": "markdown",
   "metadata": {},
   "source": [
    "### 多个元素"
   ]
  },
  {
   "cell_type": "code",
   "execution_count": 2,
   "metadata": {},
   "outputs": [
    {
     "name": "stdout",
     "output_type": "stream",
     "text": [
      "浏览器已打开\n",
      "[<selenium.webdriver.remote.webelement.WebElement (session=\"d13a09d3b42f962a09d986c5f4ed1b73\", element=\"83a4d19a-22f5-4c84-83a5-2420497c77e5\")>, <selenium.webdriver.remote.webelement.WebElement (session=\"d13a09d3b42f962a09d986c5f4ed1b73\", element=\"9768ecf1-ba49-4239-b647-dac52a28d258\")>, <selenium.webdriver.remote.webelement.WebElement (session=\"d13a09d3b42f962a09d986c5f4ed1b73\", element=\"d7a2c8a8-c78a-45d2-8d38-8ad620d6c398\")>, <selenium.webdriver.remote.webelement.WebElement (session=\"d13a09d3b42f962a09d986c5f4ed1b73\", element=\"abb20f48-50f0-4b56-97c8-8efbec8b0a63\")>, <selenium.webdriver.remote.webelement.WebElement (session=\"d13a09d3b42f962a09d986c5f4ed1b73\", element=\"79168711-a072-4d34-b9d2-49409c45b3c1\")>, <selenium.webdriver.remote.webelement.WebElement (session=\"d13a09d3b42f962a09d986c5f4ed1b73\", element=\"00b73105-872a-410e-a6b7-ed5b65292082\")>, <selenium.webdriver.remote.webelement.WebElement (session=\"d13a09d3b42f962a09d986c5f4ed1b73\", element=\"bcaffff4-e292-4fdf-9dc1-0cb012be5561\")>, <selenium.webdriver.remote.webelement.WebElement (session=\"d13a09d3b42f962a09d986c5f4ed1b73\", element=\"b9bdee5a-2025-4d12-9a8d-e4555f569131\")>, <selenium.webdriver.remote.webelement.WebElement (session=\"d13a09d3b42f962a09d986c5f4ed1b73\", element=\"8fb9353a-89a6-43e4-b089-4a152ca12098\")>, <selenium.webdriver.remote.webelement.WebElement (session=\"d13a09d3b42f962a09d986c5f4ed1b73\", element=\"f499384f-b109-4f32-b4d1-a8692840f309\")>, <selenium.webdriver.remote.webelement.WebElement (session=\"d13a09d3b42f962a09d986c5f4ed1b73\", element=\"ed24c12c-8be3-4d66-b1fe-9c6c24361a3f\")>, <selenium.webdriver.remote.webelement.WebElement (session=\"d13a09d3b42f962a09d986c5f4ed1b73\", element=\"3e46231b-c66d-4ca4-8f30-6e355df4f82e\")>, <selenium.webdriver.remote.webelement.WebElement (session=\"d13a09d3b42f962a09d986c5f4ed1b73\", element=\"903103a7-b3d4-41b5-b44b-286e36640176\")>, <selenium.webdriver.remote.webelement.WebElement (session=\"d13a09d3b42f962a09d986c5f4ed1b73\", element=\"4861862f-88b4-440c-92ba-43778a497f92\")>, <selenium.webdriver.remote.webelement.WebElement (session=\"d13a09d3b42f962a09d986c5f4ed1b73\", element=\"45a753df-fada-4e65-ab32-ab344b168eae\")>, <selenium.webdriver.remote.webelement.WebElement (session=\"d13a09d3b42f962a09d986c5f4ed1b73\", element=\"bf9a971b-e2df-4426-bb0c-2bcce3d135a4\")>]\n",
      "浏览器已关闭\n",
      "6.45 s ± 0 ns per loop (mean ± std. dev. of 1 run, 1 loop each)\n"
     ]
    }
   ],
   "source": [
    "%%timeit -n1 -r1\n",
    "from selenium import webdriver\n",
    "from selenium.webdriver.chrome.options import Options\n",
    "\n",
    "# 设置Chrome的headless模式\n",
    "chrome_options = Options()\n",
    "chrome_options.add_argument(\"--headless\")\n",
    "\n",
    "chrome = webdriver.Chrome(options=chrome_options)\n",
    "\n",
    "chrome.get(\"https://www.taobao.com\")\n",
    "print(\"浏览器已打开\")\n",
    "\n",
    "input_first = chrome.find_elements_by_css_selector('.service-bd li')\n",
    "print(input_first)\n",
    "chrome.close()\n",
    "print(\"浏览器已关闭\")"
   ]
  },
  {
   "cell_type": "code",
   "execution_count": 8,
   "metadata": {},
   "outputs": [
    {
     "name": "stdout",
     "output_type": "stream",
     "text": [
      "浏览器已打开\n",
      "[('女装 / 男装 / 内衣\\n\\ue62e', {'height': 32, 'width': 189}), ('鞋靴 / 箱包 / 配件\\n\\ue62e', {'height': 32, 'width': 189}), ('童装玩具 / 孕产 / 用品\\n\\ue62e', {'height': 32, 'width': 189}), ('家电 / 数码 / 手机\\n\\ue62e', {'height': 32, 'width': 189}), ('美妆 / 洗护 / 保健品\\n\\ue62e', {'height': 32, 'width': 189}), ('珠宝 / 眼镜 / 手表\\n\\ue62e', {'height': 32, 'width': 189}), ('运动 / 户外 / 乐器\\n\\ue62e', {'height': 32, 'width': 189}), ('游戏 / 动漫 / 影视\\n\\ue62e', {'height': 32, 'width': 189}), ('美食 / 生鲜 / 零食\\n\\ue62e', {'height': 32, 'width': 189}), ('鲜花 / 宠物 / 农资\\n\\ue62e', {'height': 32, 'width': 189}), ('工具 / 装修 / 建材\\n\\ue62e', {'height': 32, 'width': 189}), ('家具 / 家饰 / 家纺\\n\\ue62e', {'height': 32, 'width': 189}), ('汽车 / 二手车 / 用品\\n\\ue62e', {'height': 32, 'width': 189}), ('办公 / DIY / 五金电子\\n\\ue62e', {'height': 32, 'width': 189}), ('百货 / 餐厨 / 家庭保健\\n\\ue62e', {'height': 32, 'width': 189}), ('学习 / 卡券 / 本地服务\\n\\ue62e', {'height': 32, 'width': 189})]\n",
      "浏览器已关闭\n",
      "11.3 s ± 0 ns per loop (mean ± std. dev. of 1 run, 1 loop each)\n"
     ]
    }
   ],
   "source": [
    "%%timeit -n1 -r1\n",
    "from selenium import webdriver\n",
    "from selenium.webdriver.chrome.options import Options\n",
    "from selenium.webdriver.common.by import By\n",
    "\n",
    "# 设置Chrome的headless模式\n",
    "chrome_options = Options()\n",
    "chrome_options.add_argument(\"--headless\")\n",
    "\n",
    "chrome = webdriver.Chrome(options=chrome_options)\n",
    "\n",
    "chrome.get(\"https://www.taobao.com\")\n",
    "print(\"浏览器已打开\")\n",
    "\n",
    "input_first = chrome.find_elements(By.CSS_SELECTOR,'.service-bd li')\n",
    "print([(item.text,item.size) for item in input_first])\n",
    "for i in range(len(input_first)):\n",
    "    input_first[i].screenshot(\"output/%6d.png\"%i)\n",
    "chrome.close()\n",
    "print(\"浏览器已关闭\")"
   ]
  },
  {
   "cell_type": "markdown",
   "metadata": {},
   "source": [
    "查找多个元素的一些方法：\n",
    "- find_elements(by='id', value=None)\n",
    "- find_elements_by_name(name)\n",
    "- find_elements_by_css_selector(css_selector)\n",
    "- find_elements_by_id(id_)\n",
    "- find_elements_by_link_text(link_text)\n",
    "- find_elements_by_class_name(name)\n",
    "- find_elements_by_xpath(xpath)\n",
    "- find_elements_by_tag_name(name)\n",
    "- find_elements_by_partial_link_text(link_text)\n"
   ]
  },
  {
   "cell_type": "markdown",
   "metadata": {},
   "source": [
    "## 元素交互操作\n",
    "\n",
    "对获取的元素调用交互操作方法"
   ]
  },
  {
   "cell_type": "code",
   "execution_count": 12,
   "metadata": {},
   "outputs": [
    {
     "name": "stdout",
     "output_type": "stream",
     "text": [
      "浏览器已打开\n"
     ]
    }
   ],
   "source": [
    "from selenium import webdriver\n",
    "from selenium.webdriver.common.by import By\n",
    "import time\n",
    "\n",
    "chrome = webdriver.Chrome()\n",
    "\n",
    "chrome.get(\"https://www.jd.com\")\n",
    "\n",
    "taobao_searchbox = chrome.find_element(By.ID,'key')\n",
    "taobao_searchbox.send_keys('万历十年')  #taobao_searchbox中输入内容\n",
    "time.sleep(3) # 等待3秒\n",
    "taobao_searchbox.clear() # 清空taobao_searchbox中内容\n",
    "taobao_searchbox.send_keys('HIFI')\n",
    "taobao_btn_search= chrome.find_element_by_class_name('button')\n",
    "taobao_btn_search.click() # 触发点击动作"
   ]
  },
  {
   "cell_type": "markdown",
   "metadata": {},
   "source": [
    "更多：https://selenium-python.readthedocs.io/api.html#module-selenium.webdriver.remote.webelement"
   ]
  },
  {
   "cell_type": "markdown",
   "metadata": {},
   "source": [
    "## 交互动作\n",
    "\n",
    "将动作附加到动作链中串行执行"
   ]
  },
  {
   "cell_type": "code",
   "execution_count": 13,
   "metadata": {},
   "outputs": [],
   "source": [
    "from selenium import webdriver\n",
    "from selenium.webdriver.common.action_chains import ActionChains\n",
    "\n",
    "chrome = webdriver.Chrome()\n",
    "url = \"https://www.runoob.com/try/try.php?filename=jqueryui-api-droppable\"\n",
    "chrome.get(url)\n",
    "chrome.switch_to.frame('iframeResult')\n",
    "source = chrome.find_element_by_css_selector(\"#draggable\")\n",
    "target = chrome.find_element_by_css_selector(\"#droppable\")\n",
    "\n",
    "actions = ActionChains(chrome)\n",
    "actions.drag_and_drop(source, target)\n",
    "actions.perform()"
   ]
  },
  {
   "cell_type": "markdown",
   "metadata": {},
   "source": [
    "更多：https://selenium-python.readthedocs.io/api.html#module-selenium.webdriver.common.action_chains"
   ]
  },
  {
   "cell_type": "markdown",
   "metadata": {},
   "source": [
    "## 执行Javascript"
   ]
  },
  {
   "cell_type": "code",
   "execution_count": 15,
   "metadata": {},
   "outputs": [],
   "source": [
    "from selenium import webdriver\n",
    "import time\n",
    "chrome = webdriver.Chrome()\n",
    "chrome.get('https://bilibili.com')\n",
    "chrome.execute_script('window.scrollTo(0, document.body.scrollHeight)')\n",
    "time.sleep(3)\n",
    "chrome.execute_script('alert(\"Arrived Bottom\")')"
   ]
  },
  {
   "cell_type": "markdown",
   "metadata": {},
   "source": [
    "## 获取元素信息\n",
    "\n",
    "### 获取属性"
   ]
  },
  {
   "cell_type": "code",
   "execution_count": 2,
   "metadata": {},
   "outputs": [
    {
     "name": "stdout",
     "output_type": "stream",
     "text": [
      "https://pic1.zhimg.com/50/v2-c46cdf8fdd833972914b62fa3083539e_200x112.jpg https://pic1.zhimg.com/50/v2-c46cdf8fdd833972914b62fa3083539e_r.jpg\n",
      "https://pic1.zhimg.com/50/v2-4686a033e66355ff0891a5d5409e418d_200x112.jpg https://pic1.zhimg.com/50/v2-4686a033e66355ff0891a5d5409e418d_r.jpg\n",
      "https://pic4.zhimg.com/50/v2-d414f1017c282dde54b1bb5f388f954b_200x112.jpg https://pic4.zhimg.com/50/v2-d414f1017c282dde54b1bb5f388f954b_r.jpg\n",
      "https://pic3.zhimg.com/50/v2-09cce112726066108ab769ed5c9697ab_200x112.jpg https://pic3.zhimg.com/50/v2-09cce112726066108ab769ed5c9697ab_r.jpg\n",
      "https://pic3.zhimg.com/50/v2-dcfc1c96419d7b7be02c6a4109055141_200x112.jpg https://pic3.zhimg.com/50/v2-dcfc1c96419d7b7be02c6a4109055141_r.jpg\n",
      "https://pic1.zhimg.com/50/v2-d3999da07157123b00e4e3ac735da3d9_200x112.jpg https://pic1.zhimg.com/50/v2-d3999da07157123b00e4e3ac735da3d9_r.jpg\n",
      "https://pic1.zhimg.com/50/v2-f8084e5084b2a4c621e8d143e19bf7b3_200x112.jpg https://pic1.zhimg.com/50/v2-f8084e5084b2a4c621e8d143e19bf7b3_r.jpg\n"
     ]
    }
   ],
   "source": [
    "from selenium import webdriver\n",
    "\n",
    "chrome = webdriver.Chrome()\n",
    "chrome.get(\"https://www.zhihu.com/explore\")\n",
    "elements = chrome.find_elements_by_class_name('zh-lightbox-thumb')\n",
    "for item in elements:\n",
    "    print(item.get_attribute('src'),item.get_attribute('data-original'))\n",
    "chrome.close()"
   ]
  },
  {
   "cell_type": "markdown",
   "metadata": {},
   "source": [
    "### 获取文本值\n"
   ]
  },
  {
   "cell_type": "code",
   "execution_count": 24,
   "metadata": {},
   "outputs": [
    {
     "name": "stdout",
     "output_type": "stream",
     "text": [
      "狗是否知道自己是狗？\n",
      "MeanGia\n",
      "\n",
      "--------------------------------------------------\n",
      "如何评价王俊凯在第三季中餐厅的表现？\n",
      "幸福的拾荒者\n",
      "\n",
      "--------------------------------------------------\n",
      "有没有一读就会惊叹“哇，好温柔啊”的句子？\n",
      "犬槐\n",
      "\n",
      "--------------------------------------------------\n",
      "医院里的科研岗是怎样一种存在？\n",
      "邓铂鋆\n",
      "\n",
      "--------------------------------------------------\n",
      "淘宝有哪些好看的裙子？\n",
      "Brown酱\n",
      "\n",
      "--------------------------------------------------\n",
      "\n",
      "\n",
      "\n",
      "--------------------------------------------------\n",
      "\n",
      "\n",
      "\n",
      "--------------------------------------------------\n",
      "\n",
      "\n",
      "\n",
      "--------------------------------------------------\n",
      "\n",
      "\n",
      "\n",
      "--------------------------------------------------\n",
      "\n",
      "\n",
      "\n",
      "--------------------------------------------------\n"
     ]
    }
   ],
   "source": [
    "from selenium import webdriver\n",
    "\n",
    "try:\n",
    "    chrome = webdriver.Chrome()\n",
    "    chrome.get(\"https://www.zhihu.com/explore\")\n",
    "    div_container = chrome.find_elements_by_class_name('explore-feed')\n",
    "    for item in div_container:\n",
    "        question_link = item.find_element_by_class_name('question_link')\n",
    "        author_link = item.find_element_by_class_name('author-link')\n",
    "        content = item.find_element_by_class_name('content')\n",
    "        print(question_link.text,author_link.text,content.text,sep='\\n')\n",
    "        print('-----'*10)\n",
    "finally:\n",
    "        chrome.close()"
   ]
  },
  {
   "cell_type": "code",
   "execution_count": null,
   "metadata": {},
   "outputs": [],
   "source": [
    "\"\"\"\n",
    "    配合使用PyQuery解析\n",
    "\"\"\"\n",
    "from selenium import webdriver\n",
    "from pyquery import PyQuery as pq\n",
    "\n",
    "try:\n",
    "    chrome = webdriver.Chrome()\n",
    "    chrome.get(\"https://www.zhihu.com/explore\")\n",
    "\n",
    "    doc = pq(chrome.page_source)\n",
    "    for div in doc.items('.explore-feed'):\n",
    "        print(div('.question_link').text(), \n",
    "              div('.author-link').text(),\n",
    "             div('.content').html(), sep='\\n')\n",
    "        print('---'*10)\n",
    "finally:\n",
    "        chrome.close()"
   ]
  },
  {
   "cell_type": "code",
   "execution_count": null,
   "metadata": {},
   "outputs": [],
   "source": [
    "\"\"\"\n",
    "    配合使用BeautifulSoup4解析\n",
    "\"\"\"\n",
    "from selenium import webdriver\n",
    "from bs4 import BeautifulSoup\n",
    "import re\n",
    "\n",
    "new_line = re.compile('\\s+')\n",
    "p = re.compile('([^\\x00-\\xff]+)')\n",
    "\n",
    "try:\n",
    "    chrome = webdriver.Chrome()\n",
    "    chrome.get(\"https://www.zhihu.com/explore\")\n",
    "\n",
    "    doc = BeautifulSoup(chrome.page_source, 'lxml')\n",
    "    for div in doc.select('.explore-feed'):\n",
    "        question = div.find(class_='question_link')\n",
    "        author = div.find(class_='author-link')\n",
    "        content = div.find(class_=\"content\")\n",
    "#         if not question and not author and not content:\n",
    "        print(re.sub(new_line,\"\",question.text), author.string, re.findall(p,content.string),sep='\\n')\n",
    "        print('---'*10)\n",
    "finally:\n",
    "        chrome.close()"
   ]
  },
  {
   "cell_type": "markdown",
   "metadata": {},
   "source": [
    "### 获取ID、位置、标签名、大小"
   ]
  },
  {
   "cell_type": "code",
   "execution_count": 29,
   "metadata": {},
   "outputs": [
    {
     "name": "stdout",
     "output_type": "stream",
     "text": [
      "id: 84d846ad-1e2f-4c4a-bffc-00da2263fbb7\n",
      "tag name: button\n",
      "location {'x': 675, 'y': 7}\n",
      "size: {'width': 66, 'height': 32}\n"
     ]
    }
   ],
   "source": [
    "from selenium import webdriver\n",
    "try:\n",
    "    chrome = webdriver.Chrome()\n",
    "    url = 'https://www.zhihu.com/explore'\n",
    "    chrome.get(url)\n",
    "    input = chrome.find_element_by_class_name('zu-top-add-question')\n",
    "    print('id:',input.id)\n",
    "    print('tag name:', input.tag_name)\n",
    "    print('location',input.location)\n",
    "    print('size:',input.size)\n",
    "finally:\n",
    "    chrome.close()"
   ]
  },
  {
   "cell_type": "markdown",
   "metadata": {},
   "source": [
    "### Frame"
   ]
  },
  {
   "cell_type": "code",
   "execution_count": 32,
   "metadata": {},
   "outputs": [
    {
     "name": "stdout",
     "output_type": "stream",
     "text": [
      "<selenium.webdriver.remote.webelement.WebElement (session=\"25bd6be20e101994cea9f9f86d675a56\", element=\"eca43ebc-4a4c-41e3-9b2a-38917943d4f3\")>\n",
      "No Logo\n",
      "<selenium.webdriver.remote.webelement.WebElement (session=\"25bd6be20e101994cea9f9f86d675a56\", element=\"9290c3c8-0b66-497a-ae03-ee2b7c02c092\")>\n",
      "RUNOOB.COM\n"
     ]
    }
   ],
   "source": [
    "from selenium import webdriver\n",
    "from selenium.common.exceptions import NoSuchElementException\n",
    "\n",
    "chrome = webdriver.Chrome()\n",
    "url = \"https://www.runoob.com/try/try.php?filename=jqueryui-api-droppable\"\n",
    "chrome.get(url)\n",
    "chrome.switch_to.frame('iframeResult') # 切换到iframeResult这个frame上\n",
    "source = chrome.find_element_by_css_selector(\"#draggable\")\n",
    "print(source)\n",
    "try:\n",
    "    logo = chrome.find_element_by_class_name('logo')\n",
    "except NoSuchElementException:\n",
    "    print('No Logo')\n",
    "chrome.switch_to.parent_frame() # 切换到父frame\n",
    "logo = chrome.find_element_by_class_name('logo')\n",
    "print(logo)\n",
    "print(logo.text)\n",
    "chrome.close()"
   ]
  },
  {
   "cell_type": "markdown",
   "metadata": {},
   "source": [
    "## 等待\n",
    "\n",
    "### 隐式等待\n",
    "\n",
    "当使用隐式等待执行测试时，如果WebDriver没有在DOM中找到元素，就会继续等待，直到设定的超过时间，并爆出找不到元素的异常。"
   ]
  },
  {
   "cell_type": "code",
   "execution_count": null,
   "metadata": {},
   "outputs": [],
   "source": [
    "from selenium import webdriver\n",
    "\n",
    "browser = webdriver.Chrome()\n",
    "browser.implicity_wait(10)\n",
    "browser.get('https://www.zhihu.com/explore')\n",
    "input = browser.find_element_by_class_name('zu-top-add-question')"
   ]
  },
  {
   "cell_type": "markdown",
   "metadata": {},
   "source": [
    "### 显式等待"
   ]
  },
  {
   "cell_type": "code",
   "execution_count": 38,
   "metadata": {},
   "outputs": [
    {
     "name": "stdout",
     "output_type": "stream",
     "text": [
      "<selenium.webdriver.remote.webelement.WebElement (session=\"f1385f6d7dd5686462ea0d3cf6c57c02\", element=\"86b90086-7f7c-4c64-a9ee-abc23cef0530\")> <selenium.webdriver.remote.webelement.WebElement (session=\"f1385f6d7dd5686462ea0d3cf6c57c02\", element=\"81648475-9de3-4fe3-b8f4-c75c6ee11768\")>\n"
     ]
    }
   ],
   "source": [
    "from selenium import webdriver\n",
    "from selenium.webdriver.common.by import By\n",
    "from selenium.webdriver.support.wait import WebDriverWait\n",
    "from selenium.webdriver.support import expected_conditions as EC\n",
    "\n",
    "try:\n",
    "    chrome = webdriver.Chrome() # 获取一个webdriver\n",
    "    chrome.get('https://www.taobao.com')\n",
    "    wait = WebDriverWait(chrome, 10) # 设置等待时间\n",
    "    search_box = wait.until(EC.presence_of_element_located((By.ID, 'q'))) #设置等待条件\n",
    "    search_button = wait.until(EC.element_to_be_clickable((By.CSS_SELECTOR,'.btn-search')))\n",
    "    print(search_box, search_button)\n",
    "finally:\n",
    "    chrome.close()"
   ]
  },
  {
   "cell_type": "markdown",
   "metadata": {},
   "source": [
    "常用的条件还有：\n",
    "\n",
    "- title_is 标题是内容\n",
    "- title_contains 标题包含某内容\n",
    "- presence_element_located 元素加载出，需传入定位元组，如(By.ID, 'p')\n",
    "- visibility_of_element_located 元素可见，传入定位元素\n",
    "- visibility_of 可见，传入元素对象\n",
    "- presence_of_all_elements_located 所有元素加载出\n",
    "- text_to_be_present_in_element 某个元素文本包含某文字\n",
    "- text_to_be_present_in_element_value 某个元素值包含某文字\n",
    "- frame_to_be_avaliable_and_switch_to_it frame加载并切换\n",
    "- invisibility_of_element_located 元素不可见\n",
    "- element_to_be_clickable 元素可点击\n",
    "- staleness_of 判断一个元素是否仍在DOM，可判断页面是否已经刷新\n",
    "- element_to_be_selected 元素可选择，传入元素对象\n",
    "- element_located_to_be_selected 元素可选择，传入定位元组\n",
    "- element_selection_state_to_be 传入元素对象及状态，相等返回True，否则False\n",
    "- element_located_selection_state_to_be 传入定位元组以及状态，相等返回True，否则False\n",
    "- alert_is_present 是否出现Alert\n",
    "\n",
    "详见文档：https://selenium-python.readthedocs.io/api.html#module-selenium.webdriver.support.expected_conditions"
   ]
  },
  {
   "cell_type": "markdown",
   "metadata": {},
   "source": [
    "## 前进后退"
   ]
  },
  {
   "cell_type": "code",
   "execution_count": 40,
   "metadata": {},
   "outputs": [],
   "source": [
    "import time\n",
    "from selenium import webdriver\n",
    "\n",
    "browser = webdriver.Chrome()\n",
    "browser.get('https://www.baidu.com')\n",
    "time.sleep(2)\n",
    "browser.get('https://www.taobao.com')\n",
    "browser.back()\n",
    "browser.get('https://www.12306.cn')\n",
    "time.sleep(2)\n",
    "browser.forward()\n",
    "time.sleep(2)\n",
    "browser.close()"
   ]
  },
  {
   "cell_type": "markdown",
   "metadata": {},
   "source": [
    "## Cookies"
   ]
  },
  {
   "cell_type": "code",
   "execution_count": 50,
   "metadata": {},
   "outputs": [
    {
     "name": "stdout",
     "output_type": "stream",
     "text": [
      "[{'secure': False, 'name': 'H_PS_PSSID', 'domain': 'baidu.com', 'value': '1430_21084_29523_29519_28519_29099_29567_28830_29220_29071_22160', 'path': '/', 'httpOnly': False}, {'secure': False, 'name': 'BIDUPSID', 'domain': 'baidu.com', 'value': 'E6C848ADFF9D0AFA13DD2BEAAC04269E', 'expiry': 3711974965.322388, 'path': '/', 'httpOnly': False}, {'secure': False, 'name': 'delPer', 'domain': 'baidu.com', 'value': '0', 'path': '/', 'httpOnly': False}, {'secure': False, 'name': 'PSTM', 'domain': 'baidu.com', 'value': '1564491318', 'expiry': 3711974965.322404, 'path': '/', 'httpOnly': False}, {'secure': False, 'name': 'BDORZ', 'domain': 'baidu.com', 'value': 'B490B5EBF6F3CD402E515D22BCDA1598', 'expiry': 1564577718.643159, 'path': '/', 'httpOnly': False}, {'secure': False, 'name': 'BD_UPN', 'domain': 'www.baidu.com', 'value': '12314753', 'expiry': 1565355318, 'path': '/', 'httpOnly': False}, {'secure': False, 'name': 'BD_HOME', 'domain': 'www.baidu.com', 'value': '0', 'path': '/', 'httpOnly': False}, {'secure': False, 'name': 'BAIDUID', 'domain': 'baidu.com', 'value': 'E6C848ADFF9D0AFA13DD2BEAAC04269E:FG=1', 'expiry': 3711974965.322351, 'path': '/', 'httpOnly': False}]\n",
      "[{'secure': True, 'name': 'SuperMan', 'domain': 'baidu.com', 'value': 'YoyoCheckNow', 'path': '/', 'httpOnly': False}, {'secure': False, 'name': 'H_PS_PSSID', 'domain': 'baidu.com', 'value': '1430_21084_29523_29519_28519_29099_29567_28830_29220_29071_22160', 'path': '/', 'httpOnly': False}, {'secure': False, 'name': 'BIDUPSID', 'domain': 'baidu.com', 'value': 'E6C848ADFF9D0AFA13DD2BEAAC04269E', 'expiry': 3711974965.322388, 'path': '/', 'httpOnly': False}, {'secure': False, 'name': 'delPer', 'domain': 'baidu.com', 'value': '0', 'path': '/', 'httpOnly': False}, {'secure': False, 'name': 'PSTM', 'domain': 'baidu.com', 'value': '1564491318', 'expiry': 3711974965.322404, 'path': '/', 'httpOnly': False}, {'secure': False, 'name': 'BDORZ', 'domain': 'baidu.com', 'value': 'B490B5EBF6F3CD402E515D22BCDA1598', 'expiry': 1564577718.643159, 'path': '/', 'httpOnly': False}, {'secure': False, 'name': 'BD_UPN', 'domain': 'www.baidu.com', 'value': '12314753', 'expiry': 1565355318, 'path': '/', 'httpOnly': False}, {'secure': False, 'name': 'BD_HOME', 'domain': 'www.baidu.com', 'value': '0', 'path': '/', 'httpOnly': False}, {'secure': False, 'name': 'BAIDUID', 'domain': 'baidu.com', 'value': 'E6C848ADFF9D0AFA13DD2BEAAC04269E:FG=1', 'expiry': 3711974965.322351, 'path': '/', 'httpOnly': False}]\n",
      "[]\n"
     ]
    }
   ],
   "source": [
    "from selenium import webdriver\n",
    "\n",
    "try:\n",
    "    browser = webdriver.Chrome()\n",
    "    browser.get('https://www.baidu.com')\n",
    "    print(browser.get_cookies())\n",
    "    browser.add_cookie({'name':'SuperMan','value':'YoyoCheckNow','domain':'baidu.com'})\n",
    "    print(browser.get_cookies())\n",
    "    browser.delete_all_cookies()\n",
    "    print(browser.get_cookies())\n",
    "finally:\n",
    "    browser.close()"
   ]
  },
  {
   "cell_type": "markdown",
   "metadata": {},
   "source": [
    "## 选项卡管理"
   ]
  },
  {
   "cell_type": "code",
   "execution_count": 52,
   "metadata": {},
   "outputs": [
    {
     "name": "stdout",
     "output_type": "stream",
     "text": [
      "['CDwindow-2D25617B9CB50215C46EF4F3B69B740D', 'CDwindow-5E9E0D26A3CC9309E0C86BFD507E62EF']\n"
     ]
    }
   ],
   "source": [
    "import time\n",
    "from selenium import webdriver\n",
    "\n",
    "browser = webdriver.Chrome()\n",
    "browser.get('https://www.baidu.com')\n",
    "browser.execute_script('window.open()') # 新增一个选项卡\n",
    "print(browser.window_handles)\n",
    "browser.switch_to.window(browser.window_handles[1]) # 切换到选项卡1\n",
    "browser.get(\"https://www.jd.com\")\n",
    "time.sleep(1)\n",
    "browser.switch_to.window(browser.window_handles[0]) # 切换到选显卡0\n",
    "browser.get('https://www.taobao.com')"
   ]
  },
  {
   "cell_type": "markdown",
   "metadata": {},
   "source": [
    "## 异常处理"
   ]
  },
  {
   "cell_type": "code",
   "execution_count": 54,
   "metadata": {},
   "outputs": [
    {
     "name": "stdout",
     "output_type": "stream",
     "text": [
      "Message: no such element: Unable to locate element: {\"method\":\"css selector\",\"selector\":\"[id=\"hello\"]\"}\n",
      "  (Session info: chrome=75.0.3770.142)\n",
      "\n"
     ]
    }
   ],
   "source": [
    "from selenium import webdriver\n",
    "from selenium.common.exceptions import NoSuchElementException\n",
    "\n",
    "try:\n",
    "    browser = webdriver.Chrome()\n",
    "    browser.get('https://www.baidu.com')\n",
    "    browser.find_element_by_id('hello')\n",
    "except NoSuchElementException as e:\n",
    "    print(e)\n",
    "finally:\n",
    "    browser.close()"
   ]
  },
  {
   "cell_type": "markdown",
   "metadata": {},
   "source": [
    "更多的异常：https://selenium-python.readthedocs.io/api.html#module-selenium.common.exceptions"
   ]
  },
  {
   "cell_type": "code",
   "execution_count": null,
   "metadata": {},
   "outputs": [],
   "source": []
  }
 ],
 "metadata": {
  "kernelspec": {
   "display_name": "Python 3",
   "language": "python",
   "name": "python3"
  },
  "language_info": {
   "codemirror_mode": {
    "name": "ipython",
    "version": 3
   },
   "file_extension": ".py",
   "mimetype": "text/x-python",
   "name": "python",
   "nbconvert_exporter": "python",
   "pygments_lexer": "ipython3",
   "version": "3.5.0"
  }
 },
 "nbformat": 4,
 "nbformat_minor": 4
}
