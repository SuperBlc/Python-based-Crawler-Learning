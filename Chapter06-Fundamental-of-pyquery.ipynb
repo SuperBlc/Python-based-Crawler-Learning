{
 "cells": [
  {
   "cell_type": "markdown",
   "metadata": {},
   "source": [
    "# PyQuery\n",
    "\n",
    "本章节内容：\n",
    "\n",
    "- [初始化](#初始化)\n",
    "    - 字符串初始化\n",
    "    - url初始化\n",
    "    - 文件初始化\n",
    "- [基本CSS选择器](#基本CSS选择器)\n",
    "- [查找元素](#查找元素)\n",
    "    - 子元素\n",
    "    - 父元素\n",
    "    - 兄弟元素\n",
    "- [遍历](#遍历)\n",
    "    - 单个元素\n",
    "- [获取信息](#获取信息)\n",
    "    - 属性\n",
    "    - 文本\n",
    "    - HTML\n",
    "- [DOM操作](#DOM操作)\n",
    "## 初始化\n",
    "\n",
    "### 字符串初始化"
   ]
  },
  {
   "cell_type": "code",
   "execution_count": 5,
   "metadata": {},
   "outputs": [
    {
     "name": "stdout",
     "output_type": "stream",
     "text": [
      "<class 'pyquery.pyquery.PyQuery'>\n",
      "<li class=\"item-0\">first item</li>\n",
      "        <li class=\"item-1\"><a href=\"link2.html\"/>second item</li>\n",
      "        <li class=\"item-0 active\"><a href=\"link3.html\"><span class=\"blod\">third item</span></a></li>\n",
      "        <li class=\"item-1 active\"><a href=\"link4.html\">fourth item</a></li>\n",
      "        <li class=\"item-0\"><a href=\"link5.html\">fifth item</a></li>\n",
      "    \n"
     ]
    }
   ],
   "source": [
    "html = \"\"\"\n",
    "<div>\n",
    "    <ul>\n",
    "        <li class=\"item-0\">first item</li>\n",
    "        <li class=\"item-1\"><a href=\"link2.html\"></a>second item</li>\n",
    "        <li class=\"item-0 active\"><a href=\"link3.html\"><span class=\"blod\">third item</span></a></li>\n",
    "        <li class=\"item-1 active\"><a href=\"link4.html\">fourth item</a></li>\n",
    "        <li class=\"item-0\"><a href=\"link5.html\">fifth item</a></li>\n",
    "    </ul>\n",
    "</div>\n",
    "\"\"\"\n",
    "from pyquery import PyQuery as pq\n",
    "doc = pq(html)\n",
    "print(type(doc))\n",
    "print(doc('li'))"
   ]
  },
  {
   "cell_type": "markdown",
   "metadata": {},
   "source": [
    "### URL初始化"
   ]
  },
  {
   "cell_type": "code",
   "execution_count": 20,
   "metadata": {},
   "outputs": [
    {
     "name": "stdout",
     "output_type": "stream",
     "text": [
      "<head><meta http-equiv=\"content-type\" content=\"text/html;charset=utf-8\"/><meta http-equiv=\"X-UA-Compatible\" content=\"IE=Edge\"/><meta content=\"always\" name=\"referrer\"/><link rel=\"stylesheet\" type=\"text/css\" href=\"https://ss1.bdstatic.com/5eN1bjq8AAUYm2zgoY3K/r/www/cache/bdorz/baidu.min.css\"/><title>百度一下，你就知道</title></head> \n"
     ]
    }
   ],
   "source": [
    "from pyquery import PyQuery as pq\n",
    "# import requests\n",
    "# html = requests.get(\"https://www.baidu.com\")\n",
    "# html.encoding='utf-8'\n",
    "# doc = pq(html.text)\n",
    "doc = pq(url=\"https://www.baidu.com\",encoding=\"utf-8\") # 对于中文来说，容易出现乱码\n",
    "print(doc('head'))"
   ]
  },
  {
   "cell_type": "markdown",
   "metadata": {},
   "source": [
    "### 文件初始化"
   ]
  },
  {
   "cell_type": "code",
   "execution_count": 25,
   "metadata": {},
   "outputs": [
    {
     "name": "stdout",
     "output_type": "stream",
     "text": [
      "<li class=\"item-0\">first item</li>\n",
      "        <li class=\"item-1\"><a href=\"link2.html\"/>second item</li>\n",
      "        <li class=\"item-0 active\"><a href=\"link3.html\"><span class=\"blod\">third item</span></a></li>\n",
      "        <li class=\"item-1 active\"><a href=\"link4.html\">fourth item</a></li>\n",
      "        <li class=\"item-0 active\"><a href=\"link5.html\">fifth item</a></li>\n",
      "    \n"
     ]
    }
   ],
   "source": [
    "from pyquery import PyQuery as pq\n",
    "\n",
    "# with open(\"demo_file/books_douban.txt\", encoding='utf-8') as f:\n",
    "#     html = f.read()\n",
    "#     doc = pq(html)\n",
    "#     print(doc('img'))\n",
    "\n",
    "doc = pq(filename=\"demo_file/demo.txt\",encoding=\"utf-8\")\n",
    "print(doc(\"li\"))"
   ]
  },
  {
   "cell_type": "markdown",
   "metadata": {},
   "source": [
    "小结：PyQuery自身的初始化对中文支持不是太好，需要借助第三方将编码转换为UTF-8的才可正常识别。对于url初始，则可以通过requests库来获取到html后，再交给PyQuery处理；对于文件初始，则需要用python自带open函数将文件打开后，再交由PyQuery处理。"
   ]
  },
  {
   "cell_type": "markdown",
   "metadata": {},
   "source": [
    "## 基本CSS选择器"
   ]
  },
  {
   "cell_type": "code",
   "execution_count": 33,
   "metadata": {},
   "outputs": [
    {
     "name": "stdout",
     "output_type": "stream",
     "text": [
      "<li class=\"item-0 active\"><a href=\"link3.html\"><span class=\"blod\">third item</span></a></li>\n",
      "        <li class=\"item-1 active\"><a href=\"link4.html\">fourth item</a></li>\n",
      "        \n"
     ]
    }
   ],
   "source": [
    "html = \"\"\"\n",
    "<div id=\"container\">\n",
    "    <ul class=\"list\">\n",
    "        <li class=\"item-0\">first item</li>\n",
    "        <li class=\"item-1\"><a href=\"link2.html\"></a>second item</li>\n",
    "        <li class=\"item-0 active\"><a href=\"link3.html\"><span class=\"blod\">third item</span></a></li>\n",
    "        <li class=\"item-1 active\"><a href=\"link4.html\">fourth item</a></li>\n",
    "        <li class=\"item-0\"><a href=\"link5.html\">fifth item</a></li>\n",
    "    </ul>\n",
    "</div>\n",
    "\"\"\"\n",
    "from pyquery import PyQuery as pq\n",
    "doc = pq(html)\n",
    "print(doc('#container .list .active'))"
   ]
  },
  {
   "cell_type": "markdown",
   "metadata": {},
   "source": [
    "## 查找元素\n",
    "\n",
    "### 子元素"
   ]
  },
  {
   "cell_type": "code",
   "execution_count": 34,
   "metadata": {},
   "outputs": [
    {
     "name": "stdout",
     "output_type": "stream",
     "text": [
      "<class 'pyquery.pyquery.PyQuery'>\n",
      "<ul class=\"list\">\n",
      "        <li class=\"item-0\">first item</li>\n",
      "        <li class=\"item-1\"><a href=\"link2.html\"/>second item</li>\n",
      "        <li class=\"item-0 active\"><a href=\"link3.html\"><span class=\"blod\">third item</span></a></li>\n",
      "        <li class=\"item-1 active\"><a href=\"link4.html\">fourth item</a></li>\n",
      "        <li class=\"item-0\"><a href=\"link5.html\">fifth item</a></li>\n",
      "    </ul>\n",
      "\n",
      "<class 'pyquery.pyquery.PyQuery'>\n",
      "<li class=\"item-0\">first item</li>\n",
      "        <li class=\"item-1\"><a href=\"link2.html\"/>second item</li>\n",
      "        <li class=\"item-0 active\"><a href=\"link3.html\"><span class=\"blod\">third item</span></a></li>\n",
      "        <li class=\"item-1 active\"><a href=\"link4.html\">fourth item</a></li>\n",
      "        <li class=\"item-0\"><a href=\"link5.html\">fifth item</a></li>\n",
      "    \n"
     ]
    }
   ],
   "source": [
    "html = \"\"\"\n",
    "<div id=\"container\">\n",
    "    <ul class=\"list\">\n",
    "        <li class=\"item-0\">first item</li>\n",
    "        <li class=\"item-1\"><a href=\"link2.html\"></a>second item</li>\n",
    "        <li class=\"item-0 active\"><a href=\"link3.html\"><span class=\"blod\">third item</span></a></li>\n",
    "        <li class=\"item-1 active\"><a href=\"link4.html\">fourth item</a></li>\n",
    "        <li class=\"item-0\"><a href=\"link5.html\">fifth item</a></li>\n",
    "    </ul>\n",
    "</div>\n",
    "\"\"\"\n",
    "from pyquery import PyQuery as pq\n",
    "doc = pq(html)\n",
    "items = doc('.list')\n",
    "print(type(items))\n",
    "print(items)\n",
    "lis = items.find('li')\n",
    "print(type(lis))\n",
    "print(lis)"
   ]
  },
  {
   "cell_type": "code",
   "execution_count": 35,
   "metadata": {},
   "outputs": [
    {
     "name": "stdout",
     "output_type": "stream",
     "text": [
      "<class 'pyquery.pyquery.PyQuery'>\n",
      "<li class=\"item-0\">first item</li>\n",
      "        <li class=\"item-1\"><a href=\"link2.html\"/>second item</li>\n",
      "        <li class=\"item-0 active\"><a href=\"link3.html\"><span class=\"blod\">third item</span></a></li>\n",
      "        <li class=\"item-1 active\"><a href=\"link4.html\">fourth item</a></li>\n",
      "        <li class=\"item-0\"><a href=\"link5.html\">fifth item</a></li>\n",
      "    \n"
     ]
    }
   ],
   "source": [
    "lis2 = items.children()\n",
    "print(type(lis2))\n",
    "print(lis2)"
   ]
  },
  {
   "cell_type": "code",
   "execution_count": 36,
   "metadata": {},
   "outputs": [
    {
     "name": "stdout",
     "output_type": "stream",
     "text": [
      "<li class=\"item-0 active\"><a href=\"link3.html\"><span class=\"blod\">third item</span></a></li>\n",
      "        <li class=\"item-1 active\"><a href=\"link4.html\">fourth item</a></li>\n",
      "        \n"
     ]
    }
   ],
   "source": [
    "print(items.children('.active'))"
   ]
  },
  {
   "cell_type": "markdown",
   "metadata": {},
   "source": [
    "### 父元素\n",
    "\n"
   ]
  },
  {
   "cell_type": "code",
   "execution_count": 42,
   "metadata": {},
   "outputs": [
    {
     "name": "stdout",
     "output_type": "stream",
     "text": [
      "<class 'pyquery.pyquery.PyQuery'>\n",
      "<div id=\"container\">\n",
      "    <ul class=\"list\">\n",
      "        <li class=\"item-0\">first item</li>\n",
      "        <li class=\"item-1\"><a href=\"link2.html\"/>second item</li>\n",
      "        <li class=\"item-0 active\"><a href=\"link3.html\"><span class=\"blod\">third item</span></a></li>\n",
      "        <li class=\"item-1 active\"><a href=\"link4.html\">fourth item</a></li>\n",
      "        <li class=\"item-0\"><a href=\"link5.html\">fifth item</a></li>\n",
      "    </ul>\n",
      "</div>\n",
      "\n"
     ]
    }
   ],
   "source": [
    "html = \"\"\"\n",
    "<div id=\"wraper\">\n",
    "<div id=\"container\">\n",
    "    <ul class=\"list\">\n",
    "        <li class=\"item-0\">first item</li>\n",
    "        <li class=\"item-1\"><a href=\"link2.html\"></a>second item</li>\n",
    "        <li class=\"item-0 active\"><a href=\"link3.html\"><span class=\"blod\">third item</span></a></li>\n",
    "        <li class=\"item-1 active\"><a href=\"link4.html\">fourth item</a></li>\n",
    "        <li class=\"item-0\"><a href=\"link5.html\">fifth item</a></li>\n",
    "    </ul>\n",
    "</div>\n",
    "</div>\n",
    "\"\"\"\n",
    "from pyquery import PyQuery as pq\n",
    "doc = pq(html)\n",
    "items = doc('.list')\n",
    "parent = items.parent()\n",
    "print(type(parent))\n",
    "print(parent)\n"
   ]
  },
  {
   "cell_type": "code",
   "execution_count": 43,
   "metadata": {},
   "outputs": [
    {
     "name": "stdout",
     "output_type": "stream",
     "text": [
      "<div id=\"wraper\">\n",
      "<div id=\"container\">\n",
      "    <ul class=\"list\">\n",
      "        <li class=\"item-0\">first item</li>\n",
      "        <li class=\"item-1\"><a href=\"link2.html\"/>second item</li>\n",
      "        <li class=\"item-0 active\"><a href=\"link3.html\"><span class=\"blod\">third item</span></a></li>\n",
      "        <li class=\"item-1 active\"><a href=\"link4.html\">fourth item</a></li>\n",
      "        <li class=\"item-0\"><a href=\"link5.html\">fifth item</a></li>\n",
      "    </ul>\n",
      "</div>\n",
      "</div><div id=\"container\">\n",
      "    <ul class=\"list\">\n",
      "        <li class=\"item-0\">first item</li>\n",
      "        <li class=\"item-1\"><a href=\"link2.html\"/>second item</li>\n",
      "        <li class=\"item-0 active\"><a href=\"link3.html\"><span class=\"blod\">third item</span></a></li>\n",
      "        <li class=\"item-1 active\"><a href=\"link4.html\">fourth item</a></li>\n",
      "        <li class=\"item-0\"><a href=\"link5.html\">fifth item</a></li>\n",
      "    </ul>\n",
      "</div>\n",
      "\n"
     ]
    }
   ],
   "source": [
    "parents = items.parents()\n",
    "print(parents)"
   ]
  },
  {
   "cell_type": "code",
   "execution_count": 45,
   "metadata": {},
   "outputs": [
    {
     "name": "stdout",
     "output_type": "stream",
     "text": [
      "<div id=\"wraper\">\n",
      "<div id=\"container\">\n",
      "    <ul class=\"list\">\n",
      "        <li class=\"item-0\">first item</li>\n",
      "        <li class=\"item-1\"><a href=\"link2.html\"/>second item</li>\n",
      "        <li class=\"item-0 active\"><a href=\"link3.html\"><span class=\"blod\">third item</span></a></li>\n",
      "        <li class=\"item-1 active\"><a href=\"link4.html\">fourth item</a></li>\n",
      "        <li class=\"item-0\"><a href=\"link5.html\">fifth item</a></li>\n",
      "    </ul>\n",
      "</div>\n",
      "</div>\n"
     ]
    }
   ],
   "source": [
    "parent = items.parents('#wraper')\n",
    "print(parent)"
   ]
  },
  {
   "cell_type": "markdown",
   "metadata": {},
   "source": [
    "### 兄弟元素"
   ]
  },
  {
   "cell_type": "code",
   "execution_count": 51,
   "metadata": {},
   "outputs": [
    {
     "name": "stdout",
     "output_type": "stream",
     "text": [
      "<class 'pyquery.pyquery.PyQuery'>\n",
      "<li class=\"item-1\"><a href=\"link2.html\"/>second item</li>\n",
      "        <li class=\"item-0\">first item</li>\n",
      "        <li class=\"item-1 active\"><a href=\"link4.html\">fourth item</a></li>\n",
      "        <li class=\"item-0\"><a href=\"link5.html\">fifth item</a></li>\n",
      "    \n",
      "\n",
      "\n",
      "\n",
      " <li class=\"item-1 active\"><a href=\"link4.html\">fourth item</a></li>\n",
      "        \n"
     ]
    }
   ],
   "source": [
    "html = \"\"\"\n",
    "<div id=\"wraper\">\n",
    "<div id=\"container\">\n",
    "    <ul class=\"list\">\n",
    "        <li class=\"item-0\">first item</li>\n",
    "        <li class=\"item-1\"><a href=\"link2.html\"></a>second item</li>\n",
    "        <li class=\"item-0 active\"><a href=\"link3.html\"><span class=\"blod\">third item</span></a></li>\n",
    "        <li class=\"item-1 active\"><a href=\"link4.html\">fourth item</a></li>\n",
    "        <li class=\"item-0\"><a href=\"link5.html\">fifth item</a></li>\n",
    "    </ul>\n",
    "</div>\n",
    "</div>\n",
    "\"\"\"\n",
    "from pyquery import PyQuery as pq\n",
    "doc = pq(html)\n",
    "items = doc('.list .item-0.active')\n",
    "sibling = items.siblings()\n",
    "print(type(sibling))\n",
    "print(sibling)\n",
    "\n",
    "print('\\n\\n\\n',items.siblings('.active'))"
   ]
  },
  {
   "cell_type": "markdown",
   "metadata": {},
   "source": [
    "## 遍历\n",
    "\n",
    "### 单个元素"
   ]
  },
  {
   "cell_type": "code",
   "execution_count": 53,
   "metadata": {},
   "outputs": [
    {
     "name": "stdout",
     "output_type": "stream",
     "text": [
      "<li class=\"item-0 active\"><a href=\"link3.html\"><span class=\"blod\">third item</span></a></li>\n",
      "        \n"
     ]
    }
   ],
   "source": [
    "html = \"\"\"\n",
    "<div id=\"wraper\">\n",
    "<div id=\"container\">\n",
    "    <ul class=\"list\">\n",
    "        <li class=\"item-0\">first item</li>\n",
    "        <li class=\"item-1\"><a href=\"link2.html\"></a>second item</li>\n",
    "        <li class=\"item-0 active\"><a href=\"link3.html\"><span class=\"blod\">third item</span></a></li>\n",
    "        <li class=\"item-1 active\"><a href=\"link4.html\">fourth item</a></li>\n",
    "        <li class=\"item-0\"><a href=\"link5.html\">fifth item</a></li>\n",
    "    </ul>\n",
    "</div>\n",
    "</div>\n",
    "\"\"\"\n",
    "from pyquery import PyQuery as pq\n",
    "doc = pq(html)\n",
    "item = doc('.list .item-0.active')\n",
    "print(item)"
   ]
  },
  {
   "cell_type": "code",
   "execution_count": 75,
   "metadata": {},
   "outputs": [
    {
     "name": "stdout",
     "output_type": "stream",
     "text": [
      "<generator object PyQuery.items at 0x00000139169333B8>\n",
      "<li class=\"item-0\">first item</li>\n",
      "        \n",
      "<li class=\"item-1\"><a href=\"link2.html\"/>second item</li>\n",
      "        \n",
      "<li class=\"item-0 active\"><a href=\"link3.html\"><span class=\"blod\">third item</span></a></li>\n",
      "        \n",
      "<li class=\"item-1 active\"><a href=\"link4.html\">fourth item</a></li>\n",
      "        \n",
      "<li class=\"item-0\"><a href=\"link5.html\">fifth item</a></li>\n",
      "    \n"
     ]
    }
   ],
   "source": [
    "items = doc('li')\n",
    "print(items.items())\n",
    "for i in items.items():\n",
    "    print(i)"
   ]
  },
  {
   "cell_type": "markdown",
   "metadata": {},
   "source": [
    "## 获取信息\n",
    "\n",
    "### 属性"
   ]
  },
  {
   "cell_type": "code",
   "execution_count": 68,
   "metadata": {},
   "outputs": [
    {
     "name": "stdout",
     "output_type": "stream",
     "text": [
      "<a href=\"link3.html\"><span class=\"blod\">third item</span></a>\n",
      "link3.html\n",
      "link3.html\n"
     ]
    }
   ],
   "source": [
    "html = \"\"\"\n",
    "<div id=\"wraper\">\n",
    "<div id=\"container\">\n",
    "    <ul class=\"list\">\n",
    "        <li class=\"item-0\">first item</li>\n",
    "        <li class=\"item-1\"><a href=\"link2.html\"></a>second item</li>\n",
    "        <li class=\"item-0 active\"><a href=\"link3.html\"><span class=\"blod\">third item</span></a></li>\n",
    "        <li class=\"item-1 active\"><a href=\"link4.html\">fourth item</a></li>\n",
    "        <li class=\"item-0\"><a href=\"link5.html\">fifth item</a></li>\n",
    "    </ul>\n",
    "</div>\n",
    "</div>\n",
    "\"\"\"\n",
    "from pyquery import PyQuery as pq\n",
    "doc = pq(html)\n",
    "a = doc('.item-0.active a')\n",
    "print(a)\n",
    "print(a.attr['href'])\n",
    "print(a.attr.href)"
   ]
  },
  {
   "cell_type": "markdown",
   "metadata": {},
   "source": [
    "### 获取文本"
   ]
  },
  {
   "cell_type": "code",
   "execution_count": 78,
   "metadata": {},
   "outputs": [
    {
     "name": "stdout",
     "output_type": "stream",
     "text": [
      "third item\n",
      "<span class=\"blod\">third item</span>\n"
     ]
    }
   ],
   "source": [
    "print(a.text())\n",
    "print(a.html())"
   ]
  },
  {
   "cell_type": "markdown",
   "metadata": {},
   "source": [
    "## DOM操作\n",
    "\n",
    "### addClass, removeClass"
   ]
  },
  {
   "cell_type": "code",
   "execution_count": 80,
   "metadata": {},
   "outputs": [
    {
     "name": "stdout",
     "output_type": "stream",
     "text": [
      "<li class=\"item-0 active\"><a href=\"link3.html\"><span class=\"blod\">third item</span></a></li>\n",
      "        \n",
      "<li class=\"item-0\"><a href=\"link3.html\"><span class=\"blod\">third item</span></a></li>\n",
      "        \n",
      "<li class=\"item-0 active\"><a href=\"link3.html\"><span class=\"blod\">third item</span></a></li>\n",
      "        \n"
     ]
    }
   ],
   "source": [
    "html = \"\"\"\n",
    "<div id=\"wraper\">\n",
    "<div id=\"container\">\n",
    "    <ul class=\"list\">\n",
    "        <li class=\"item-0\">first item</li>\n",
    "        <li class=\"item-1\"><a href=\"link2.html\"></a>second item</li>\n",
    "        <li class=\"item-0 active\"><a href=\"link3.html\"><span class=\"blod\">third item</span></a></li>\n",
    "        <li class=\"item-1 active\"><a href=\"link4.html\">fourth item</a></li>\n",
    "        <li class=\"item-0\"><a href=\"link5.html\">fifth item</a></li>\n",
    "    </ul>\n",
    "</div>\n",
    "</div>\n",
    "\"\"\"\n",
    "from pyquery import PyQuery as pq\n",
    "doc = pq(html)\n",
    "li = doc('.item-0.active')\n",
    "print(li)\n",
    "li.removeClass('active')\n",
    "print(li)\n",
    "li.addClass('active')\n",
    "print(li)"
   ]
  },
  {
   "cell_type": "code",
   "execution_count": null,
   "metadata": {},
   "outputs": [],
   "source": []
  }
 ],
 "metadata": {
  "kernelspec": {
   "display_name": "Python 3",
   "language": "python",
   "name": "python3"
  },
  "language_info": {
   "codemirror_mode": {
    "name": "ipython",
    "version": 3
   },
   "file_extension": ".py",
   "mimetype": "text/x-python",
   "name": "python",
   "nbconvert_exporter": "python",
   "pygments_lexer": "ipython3",
   "version": "3.5.0"
  }
 },
 "nbformat": 4,
 "nbformat_minor": 4
}
