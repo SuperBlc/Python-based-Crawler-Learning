{
 "cells": [
  {
   "cell_type": "markdown",
   "metadata": {},
   "source": [
    "# Requests\n",
    "\n",
    "requests官方文档（语言版本：[en](https://2.python-requests.org/en/master/), [zh-CN](http://cn.python-requests.org/zh_CN/latest/)）\n",
    "\n",
    "<span style=\"color:red;\">PS: 使用的是httpbin的docker版本，在本地搭建了一个[httpbin.org](https://httpbin.org)服务</span>\n",
    "\n",
    "---\n",
    "\n",
    "以下内容列表：\n",
    "- 上手示例\n",
    "- 各种请求方法\n",
    "    - GET请求\n",
    "    - 带参数的GET请求\n",
    "    - 基本POST请求\n",
    "- json解析\n",
    "- 读取二进制数据\n",
    "- 添加headers\n",
    "- 响应 response属性\n",
    "- 高级操作\n",
    "    - 文件上传\n",
    "    - 获取cookie\n",
    "    - 会话维持\n",
    "    - 证书验证\n",
    "    - 代理设置"
   ]
  },
  {
   "cell_type": "markdown",
   "metadata": {},
   "source": [
    "## 上手示例"
   ]
  },
  {
   "cell_type": "code",
   "execution_count": null,
   "metadata": {},
   "outputs": [],
   "source": [
    "import requests\n",
    "\n",
    "url='http://localhost:8888/?token=16ae19e5fccd3b1dd53d31f6f1882d6989316e974ac87bf0'\n",
    "\n",
    "response = requests.get(url)\n",
    "print('request.get返回的类型：', type(response))\n",
    "print('状态码：', response.status_code)\n",
    "print('请求到的内容类型：', type(response.text))\n",
    "# print(response.text)\n",
    "print('Cookies：', response.cookies)"
   ]
  },
  {
   "cell_type": "markdown",
   "metadata": {},
   "source": [
    "## 各种请求方法"
   ]
  },
  {
   "cell_type": "code",
   "execution_count": null,
   "metadata": {},
   "outputs": [],
   "source": [
    "import requests\n",
    "\n",
    "post = requests.post('http://localhost/post')\n",
    "put = requests.put('http://localhost/put',data = {'key':'value'})\n",
    "delete = requests.delete('http://localhost/delete')\n",
    "head = requests.head('http://localhost/get')\n",
    "options = requests.options('http://localhost/get')\n",
    "\n",
    "print('type:',type(post),',post:',post.text)\n",
    "print('type:',type(put),',put:',put.text)\n",
    "print('type:',type(delete),',delete:',delete.text)\n",
    "print('type:',type(head),',head:',head.text, ',status_code:',head.status_code)\n",
    "print('type:',type(options),',options:',options.text,',status_code:',options.status_code)"
   ]
  },
  {
   "cell_type": "markdown",
   "metadata": {},
   "source": [
    "### GET请求"
   ]
  },
  {
   "cell_type": "code",
   "execution_count": null,
   "metadata": {},
   "outputs": [],
   "source": [
    "import requests\n",
    "\n",
    "res = requests.get(\"http://localhost/get\")\n",
    "print(res.text)"
   ]
  },
  {
   "cell_type": "markdown",
   "metadata": {},
   "source": [
    "### 带参数的GET请求"
   ]
  },
  {
   "cell_type": "code",
   "execution_count": null,
   "metadata": {},
   "outputs": [],
   "source": [
    "import requests\n",
    "\n",
    "res = requests.get(\"http://localhost/get?action=hello&message=world\")\n",
    "print(res.text)"
   ]
  },
  {
   "cell_type": "code",
   "execution_count": null,
   "metadata": {},
   "outputs": [],
   "source": [
    "import requests\n",
    "\n",
    "res = requests.get(\"http://localhost/get\", {\"action\":\"hello, world\",'times':19})\n",
    "\n",
    "# data = {\"action\":\"hello, world\",'times':19}\n",
    "# res = requests.get(\"http://localhost/get\", param=data)\n",
    "print(res.text)"
   ]
  },
  {
   "cell_type": "markdown",
   "metadata": {},
   "source": [
    "### 解析json"
   ]
  },
  {
   "cell_type": "code",
   "execution_count": null,
   "metadata": {},
   "outputs": [],
   "source": [
    "import requests\n",
    "\n",
    "res = requests.get(\"http://localhost/get\")\n",
    "print(type(res.text))\n",
    "print(res.json()) ## 方法等同于json.loads()\n",
    "print(type(res.json()))"
   ]
  },
  {
   "cell_type": "markdown",
   "metadata": {},
   "source": [
    "### 读取二进制数据"
   ]
  },
  {
   "cell_type": "code",
   "execution_count": null,
   "metadata": {},
   "outputs": [],
   "source": [
    "import requests\n",
    "url = \"http://pic-bucket.ws.126.net/photo/0001/2019-07-25/EKUOJH0500AN0001NOS.jpg\"\n",
    "response = requests.get(url)\n",
    "print('response.text:',type(response.text),'response.content:',type(response.content))\n",
    "with open(r'D:\\Users\\Asrim\\Desktop\\pic.jpg','wb') as f:\n",
    "    f.write(response.content)\n",
    "print(r'D:\\Users\\Asrim\\Desktop\\pic.jpg saved')"
   ]
  },
  {
   "cell_type": "markdown",
   "metadata": {},
   "source": [
    "### 添加headers"
   ]
  },
  {
   "cell_type": "code",
   "execution_count": 11,
   "metadata": {},
   "outputs": [
    {
     "name": "stdout",
     "output_type": "stream",
     "text": [
      "400\n",
      "<html>\n",
      "<head><title>400 Bad Request</title></head>\n",
      "<body bgcolor=\"white\">\n",
      "<center><h1>400 Bad Request</h1></center>\n",
      "<hr><center>openresty</center>\n",
      "</body>\n",
      "</html>\n",
      "\n"
     ]
    }
   ],
   "source": [
    "import requests\n",
    "\n",
    "response = requests.get('https://www.zhihu.com/question/55154790')\n",
    "print(response.status_code)\n",
    "print(response.text)"
   ]
  },
  {
   "cell_type": "code",
   "execution_count": null,
   "metadata": {},
   "outputs": [],
   "source": [
    "import requests\n",
    "\n",
    "headers = {\n",
    "    'User-Agent':'Mozilla/5.0 (Windows NT 10.0; Win64; x64) AppleWebKit/537.36 (KHTML, like Gecko) Chrome/70.0.3538.102 Safari/537.36 Edge/18.18362'\n",
    "}\n",
    "response = requests.get('https://www.zhihu.com/question/55154790',headers=headers)\n",
    "print(response.status_code)\n",
    "print(response.text)"
   ]
  },
  {
   "cell_type": "markdown",
   "metadata": {},
   "source": [
    "### 基本POST请求"
   ]
  },
  {
   "cell_type": "code",
   "execution_count": 16,
   "metadata": {},
   "outputs": [
    {
     "name": "stdout",
     "output_type": "stream",
     "text": [
      "{\n",
      "  \"args\": {}, \n",
      "  \"data\": \"\", \n",
      "  \"files\": {}, \n",
      "  \"form\": {\n",
      "    \"age\": \"20\", \n",
      "    \"name\": \"Jerry\"\n",
      "  }, \n",
      "  \"headers\": {\n",
      "    \"Accept\": \"*/*\", \n",
      "    \"Accept-Encoding\": \"gzip, deflate, br\", \n",
      "    \"Accept-Language\": \"zh-Hans-CN, zh-Hans; q=0.8, en-US; q=0.5, en; q=0.3\", \n",
      "    \"Connection\": \"keep-alive\", \n",
      "    \"Content-Length\": \"17\", \n",
      "    \"Content-Type\": \"application/x-www-form-urlencoded\", \n",
      "    \"Host\": \"localhost\", \n",
      "    \"User-Agent\": \"Mozilla/5.0 (Windows NT 10.0; Win64; x64) AppleWebKit/537.36 (KHTML, like Gecko) Chrome/70.0.3538.102 Safari/537.36 Edge/18.18362\"\n",
      "  }, \n",
      "  \"json\": null, \n",
      "  \"origin\": \"172.17.0.1\", \n",
      "  \"url\": \"http://localhost/post\"\n",
      "}\n",
      "\n"
     ]
    }
   ],
   "source": [
    "import requests\n",
    "\n",
    "data = {'name':'Jerry', 'age':20}\n",
    "headers = {\n",
    "    'User-Agent':'Mozilla/5.0 (Windows NT 10.0; Win64; x64) AppleWebKit/537.36 (KHTML, like Gecko) Chrome/70.0.3538.102 Safari/537.36 Edge/18.18362',\n",
    "    'Accept-Language':'zh-Hans-CN, zh-Hans; q=0.8, en-US; q=0.5, en; q=0.3',\n",
    "    'Accept-Encoding': 'gzip, deflate, br',\n",
    "}\n",
    "res = requests.post('http://localhost/post', data=data,headers=headers)\n",
    "print(res.text)"
   ]
  },
  {
   "cell_type": "markdown",
   "metadata": {},
   "source": [
    "## 响应\n",
    "\n",
    "### response属性"
   ]
  },
  {
   "cell_type": "code",
   "execution_count": 23,
   "metadata": {},
   "outputs": [
    {
     "name": "stdout",
     "output_type": "stream",
     "text": [
      "<class 'int'> 200\n",
      "<class 'requests.structures.CaseInsensitiveDict'> {'Vary': 'Accept-Encoding', 'EagleId': '2782894215640636908104963e', 'Cache-Control': 'max-age=0, private, must-revalidate', 'Strict-Transport-Security': 'max-age=31536000; includeSubDomains; preload', 'Set-Cookie': 'locale=zh-CN; path=/', 'X-Content-Type-Options': 'nosniff', 'Via': 'cache32.l2nu16-1[69,0], cache2.cn526[118,0]', 'Content-Encoding': 'gzip', 'Date': 'Thu, 25 Jul 2019 14:08:10 GMT', 'Timing-Allow-Origin': '*', 'Connection': 'keep-alive', 'X-XSS-Protection': '1; mode=block', 'X-Request-Id': 'acb5d800-3ffc-4fc1-a8ba-580ab9be2b6b', 'X-Frame-Options': 'DENY', 'Server': 'Tengine', 'Content-Type': 'text/html; charset=utf-8', 'X-Runtime': '0.015585', 'Transfer-Encoding': 'chunked', 'ETag': 'W/\"56ef50a808643a79f22b27c3987e8080\"'}\n",
      "<class 'requests.cookies.RequestsCookieJar'> <RequestsCookieJar[<Cookie locale=zh-CN for www.jianshu.com/>]>\n",
      "<class 'str'> https://www.jianshu.com/\n",
      "<class 'list'> []\n"
     ]
    }
   ],
   "source": [
    "import requests\n",
    "\n",
    "headers = {\n",
    "    'User-Agent':'Mozilla/5.0 (Windows NT 10.0; Win64; x64) AppleWebKit/537.36 (KHTML, like Gecko) Chrome/70.0.3538.102 Safari/537.36 Edge/18.18362'\n",
    "}\n",
    "\n",
    "response = requests.get('https://www.jianshu.com',headers=headers)\n",
    "print(type(response.status_code), response.status_code)\n",
    "print(type(response.headers), response.headers)\n",
    "print(type(response.cookies), response.cookies)\n",
    "print(type(response.url), response.url)\n",
    "print(type(response.history), response.history)"
   ]
  },
  {
   "cell_type": "markdown",
   "metadata": {},
   "source": [
    "## 高级操作\n",
    "\n",
    "### 文件上传"
   ]
  },
  {
   "cell_type": "code",
   "execution_count": null,
   "metadata": {},
   "outputs": [],
   "source": [
    "import requests\n",
    "\n",
    "file={'file': open(r'D:\\Users\\Asrim\\Desktop\\pic.jpg','rb')}\n",
    "\n",
    "res = requests.post('http://localhost/post', files=file)\n",
    "# print(res.content)"
   ]
  },
  {
   "cell_type": "markdown",
   "metadata": {},
   "source": [
    "### 获取cookie"
   ]
  },
  {
   "cell_type": "code",
   "execution_count": 10,
   "metadata": {},
   "outputs": [
    {
     "name": "stdout",
     "output_type": "stream",
     "text": [
      "headers: {'Server': 'TornadoServer/6.0.3', 'Content-Type': 'text/html; charset=UTF-8', 'Date': 'Fri, 26 Jul 2019 14:22:54 GMT', 'X-Content-Type-Options': 'nosniff', 'Content-Security-Policy': \"frame-ancestors 'self'; report-uri /api/security/csp-report\", 'Access-Control-Allow-Origin': '', 'Etag': '\"6bc282719cf83dac679ca69764d0c480ab5fb198\"', 'Content-Length': '2974', 'Set-Cookie': 'username-127-0-0-1-8888=\"2|1:0|10:1564150974|23:username-127-0-0-1-8888|44:N2Q5ODA5ZTg0OTY4NGViOGFjOWRhYWExODA5YTVjZjU=|a26bb23aaf11df612d11552961c0a3547bf43ae41f414934a4df0157ed9f2c83\"; expires=Sun, 25 Aug 2019 14:22:54 GMT; HttpOnly; Path=/, _xsrf=2|8df168f7|fef01071e971de4cf5364e288c57e7ff|1564150974; expires=Sun, 25 Aug 2019 14:22:54 GMT; Path=/'}\n",
      "==============================\n",
      "<RequestsCookieJar[<Cookie _xsrf=2|8df168f7|fef01071e971de4cf5364e288c57e7ff|1564150974 for 127.0.0.1/>, <Cookie username-127-0-0-1-8888=\"2|1:0|10:1564150974|23:username-127-0-0-1-8888|44:N2Q5ODA5ZTg0OTY4NGViOGFjOWRhYWExODA5YTVjZjU=|a26bb23aaf11df612d11552961c0a3547bf43ae41f414934a4df0157ed9f2c83\" for 127.0.0.1/>]>\n",
      "==============================\n",
      "_xsrf : 2|8df168f7|fef01071e971de4cf5364e288c57e7ff|1564150974\n",
      "username-127-0-0-1-8888 : \"2|1:0|10:1564150974|23:username-127-0-0-1-8888|44:N2Q5ODA5ZTg0OTY4NGViOGFjOWRhYWExODA5YTVjZjU=|a26bb23aaf11df612d11552961c0a3547bf43ae41f414934a4df0157ed9f2c83\"\n"
     ]
    }
   ],
   "source": [
    "import requests\n",
    "\n",
    "url=\"http://127.0.0.1:8888/?token=3ec9155141d1f08406caff6c662ff48bd4f9501c12b8bfc6\"\n",
    "response = requests.get(url)\n",
    "print(\"headers:\",response.headers)\n",
    "print(\"===\"*10)\n",
    "print(response.cookies)\n",
    "print(\"===\"*10)\n",
    "for key,value in response.cookies.items():\n",
    "    print(key+\" : \"+value)"
   ]
  },
  {
   "cell_type": "markdown",
   "metadata": {},
   "source": [
    "### 会话维持"
   ]
  },
  {
   "cell_type": "code",
   "execution_count": 12,
   "metadata": {},
   "outputs": [
    {
     "name": "stdout",
     "output_type": "stream",
     "text": [
      "{\n",
      "  \"cookies\": {}\n",
      "}\n",
      "\n"
     ]
    }
   ],
   "source": [
    "'''\n",
    "    模拟登录\n",
    "'''\n",
    "import requests\n",
    "\n",
    "#### 设置一个cookies\n",
    "# API会将设置好的cookie返回，此处不获取设置的response\n",
    "requests.get('http://localhost/cookies/set/user/Mr.William')\n",
    "# 重新发起http请求，观察是否cookie存在\n",
    "response = requests.get('http://localhost/cookies')\n",
    "print(response.text)\n",
    "'''\n",
    "结果：\n",
    "{\n",
    "  \"cookies\": {}\n",
    "}\n",
    "\n",
    "结果表明获取到的cookies为空，因为是两次请求是完全独立的\n",
    "'''"
   ]
  },
  {
   "cell_type": "code",
   "execution_count": 13,
   "metadata": {},
   "outputs": [
    {
     "name": "stdout",
     "output_type": "stream",
     "text": [
      "{\n",
      "  \"cookies\": {\n",
      "    \"user\": \"Mr.Heymax\"\n",
      "  }\n",
      "}\n",
      "\n"
     ]
    }
   ],
   "source": [
    "'''\n",
    "    如果需要保持会话，则要用到requests提供的session对象来维持两次请求状态\n",
    "'''\n",
    "import requests\n",
    "\n",
    "s = requests.Session()\n",
    "s.get('http://localhost/cookies/set/user/Mr.Heymax')\n",
    "response = s.get('http://localhost/cookies')\n",
    "print(response.text)"
   ]
  },
  {
   "cell_type": "markdown",
   "metadata": {},
   "source": [
    "### 证书验证"
   ]
  },
  {
   "cell_type": "code",
   "execution_count": null,
   "metadata": {},
   "outputs": [],
   "source": []
  }
 ],
 "metadata": {
  "kernelspec": {
   "display_name": "Python 3",
   "language": "python",
   "name": "python3"
  },
  "language_info": {
   "codemirror_mode": {
    "name": "ipython",
    "version": 3
   },
   "file_extension": ".py",
   "mimetype": "text/x-python",
   "name": "python",
   "nbconvert_exporter": "python",
   "pygments_lexer": "ipython3",
   "version": "3.6.0"
  }
 },
 "nbformat": 4,
 "nbformat_minor": 4
}
