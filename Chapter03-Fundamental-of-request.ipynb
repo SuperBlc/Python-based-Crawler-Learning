{
 "cells": [
  {
   "cell_type": "markdown",
   "metadata": {},
   "source": [
    "# Requests\n",
    "\n",
    "requests官方文档（语言版本：[en](https://2.python-requests.org/en/master/), [zh-CN](http://cn.python-requests.org/zh_CN/latest/)）\n",
    "\n",
    "<span style=\"color:red;\">PS: 使用的是httpbin的docker版本，在本地搭建了一个[httpbin.org](https://httpbin.org)服务</span>\n",
    "\n",
    "---\n",
    "\n",
    "以下内容列表：\n",
    "- 上手示例\n",
    "- 各种请求方法\n",
    "    - GET请求\n",
    "    - 带参数的GET请求\n",
    "    - 基本POST请求\n",
    "- json解析\n",
    "- 读取二进制数据\n",
    "- 添加headers\n",
    "- 响应 response属性\n",
    "- 高级操作\n",
    "    - 文件上传\n",
    "    - 获取cookie\n",
    "    - 会话维持\n",
    "    - 证书验证\n",
    "    - 代理设置\n",
    "    - 身份验证\n",
    "    - 异常处理（每小节已给出示例，不再单独列出）"
   ]
  },
  {
   "cell_type": "markdown",
   "metadata": {},
   "source": [
    "## 上手示例"
   ]
  },
  {
   "cell_type": "code",
   "execution_count": null,
   "metadata": {},
   "outputs": [],
   "source": [
    "import requests\n",
    "\n",
    "url='http://localhost:8888/?token=16ae19e5fccd3b1dd53d31f6f1882d6989316e974ac87bf0'\n",
    "\n",
    "response = requests.get(url)\n",
    "print('request.get返回的类型：', type(response))\n",
    "print('状态码：', response.status_code)\n",
    "print('请求到的内容类型：', type(response.text))\n",
    "# print(response.text)\n",
    "print('Cookies：', response.cookies)"
   ]
  },
  {
   "cell_type": "markdown",
   "metadata": {},
   "source": [
    "## 各种请求方法"
   ]
  },
  {
   "cell_type": "code",
   "execution_count": null,
   "metadata": {},
   "outputs": [],
   "source": [
    "import requests\n",
    "\n",
    "post = requests.post('http://localhost/post')\n",
    "put = requests.put('http://localhost/put',data = {'key':'value'})\n",
    "delete = requests.delete('http://localhost/delete')\n",
    "head = requests.head('http://localhost/get')\n",
    "options = requests.options('http://localhost/get')\n",
    "\n",
    "print('type:',type(post),',post:',post.text)\n",
    "print('type:',type(put),',put:',put.text)\n",
    "print('type:',type(delete),',delete:',delete.text)\n",
    "print('type:',type(head),',head:',head.text, ',status_code:',head.status_code)\n",
    "print('type:',type(options),',options:',options.text,',status_code:',options.status_code)"
   ]
  },
  {
   "cell_type": "markdown",
   "metadata": {},
   "source": [
    "### GET请求"
   ]
  },
  {
   "cell_type": "code",
   "execution_count": null,
   "metadata": {},
   "outputs": [],
   "source": [
    "import requests\n",
    "\n",
    "res = requests.get(\"http://localhost/get\")\n",
    "print(res.text)"
   ]
  },
  {
   "cell_type": "markdown",
   "metadata": {},
   "source": [
    "### 带参数的GET请求"
   ]
  },
  {
   "cell_type": "code",
   "execution_count": null,
   "metadata": {},
   "outputs": [],
   "source": [
    "import requests\n",
    "\n",
    "res = requests.get(\"http://localhost/get?action=hello&message=world\")\n",
    "print(res.text)"
   ]
  },
  {
   "cell_type": "code",
   "execution_count": null,
   "metadata": {},
   "outputs": [],
   "source": [
    "import requests\n",
    "\n",
    "res = requests.get(\"http://localhost/get\", {\"action\":\"hello, world\",'times':19})\n",
    "\n",
    "# data = {\"action\":\"hello, world\",'times':19}\n",
    "# res = requests.get(\"http://localhost/get\", param=data)\n",
    "print(res.text)"
   ]
  },
  {
   "cell_type": "markdown",
   "metadata": {},
   "source": [
    "### 解析json"
   ]
  },
  {
   "cell_type": "code",
   "execution_count": null,
   "metadata": {},
   "outputs": [],
   "source": [
    "import requests\n",
    "\n",
    "res = requests.get(\"http://localhost/get\")\n",
    "print(type(res.text))\n",
    "print(res.json()) ## 方法等同于json.loads()\n",
    "print(type(res.json()))"
   ]
  },
  {
   "cell_type": "markdown",
   "metadata": {},
   "source": [
    "### 读取二进制数据"
   ]
  },
  {
   "cell_type": "code",
   "execution_count": null,
   "metadata": {},
   "outputs": [],
   "source": [
    "import requests\n",
    "url = \"http://pic-bucket.ws.126.net/photo/0001/2019-07-25/EKUOJH0500AN0001NOS.jpg\"\n",
    "response = requests.get(url)\n",
    "print('response.text:',type(response.text),'response.content:',type(response.content))\n",
    "with open(r'D:\\Users\\Asrim\\Desktop\\pic.jpg','wb') as f:\n",
    "    f.write(response.content)\n",
    "print(r'D:\\Users\\Asrim\\Desktop\\pic.jpg saved')"
   ]
  },
  {
   "cell_type": "markdown",
   "metadata": {},
   "source": [
    "### 添加headers"
   ]
  },
  {
   "cell_type": "code",
   "execution_count": 11,
   "metadata": {},
   "outputs": [
    {
     "name": "stdout",
     "output_type": "stream",
     "text": [
      "400\n",
      "<html>\n",
      "<head><title>400 Bad Request</title></head>\n",
      "<body bgcolor=\"white\">\n",
      "<center><h1>400 Bad Request</h1></center>\n",
      "<hr><center>openresty</center>\n",
      "</body>\n",
      "</html>\n",
      "\n"
     ]
    }
   ],
   "source": [
    "import requests\n",
    "\n",
    "response = requests.get('https://www.zhihu.com/question/55154790')\n",
    "print(response.status_code)\n",
    "print(response.text)"
   ]
  },
  {
   "cell_type": "code",
   "execution_count": null,
   "metadata": {},
   "outputs": [],
   "source": [
    "import requests\n",
    "\n",
    "headers = {\n",
    "    'User-Agent':'Mozilla/5.0 (Windows NT 10.0; Win64; x64) AppleWebKit/537.36 (KHTML, like Gecko) Chrome/70.0.3538.102 Safari/537.36 Edge/18.18362'\n",
    "}\n",
    "response = requests.get('https://www.zhihu.com/question/55154790',headers=headers)\n",
    "print(response.status_code)\n",
    "print(response.text)"
   ]
  },
  {
   "cell_type": "markdown",
   "metadata": {},
   "source": [
    "### 基本POST请求"
   ]
  },
  {
   "cell_type": "code",
   "execution_count": 16,
   "metadata": {},
   "outputs": [
    {
     "name": "stdout",
     "output_type": "stream",
     "text": [
      "{\n",
      "  \"args\": {}, \n",
      "  \"data\": \"\", \n",
      "  \"files\": {}, \n",
      "  \"form\": {\n",
      "    \"age\": \"20\", \n",
      "    \"name\": \"Jerry\"\n",
      "  }, \n",
      "  \"headers\": {\n",
      "    \"Accept\": \"*/*\", \n",
      "    \"Accept-Encoding\": \"gzip, deflate, br\", \n",
      "    \"Accept-Language\": \"zh-Hans-CN, zh-Hans; q=0.8, en-US; q=0.5, en; q=0.3\", \n",
      "    \"Connection\": \"keep-alive\", \n",
      "    \"Content-Length\": \"17\", \n",
      "    \"Content-Type\": \"application/x-www-form-urlencoded\", \n",
      "    \"Host\": \"localhost\", \n",
      "    \"User-Agent\": \"Mozilla/5.0 (Windows NT 10.0; Win64; x64) AppleWebKit/537.36 (KHTML, like Gecko) Chrome/70.0.3538.102 Safari/537.36 Edge/18.18362\"\n",
      "  }, \n",
      "  \"json\": null, \n",
      "  \"origin\": \"172.17.0.1\", \n",
      "  \"url\": \"http://localhost/post\"\n",
      "}\n",
      "\n"
     ]
    }
   ],
   "source": [
    "import requests\n",
    "\n",
    "data = {'name':'Jerry', 'age':20}\n",
    "headers = {\n",
    "    'User-Agent':'Mozilla/5.0 (Windows NT 10.0; Win64; x64) AppleWebKit/537.36 (KHTML, like Gecko) Chrome/70.0.3538.102 Safari/537.36 Edge/18.18362',\n",
    "    'Accept-Language':'zh-Hans-CN, zh-Hans; q=0.8, en-US; q=0.5, en; q=0.3',\n",
    "    'Accept-Encoding': 'gzip, deflate, br',\n",
    "}\n",
    "res = requests.post('http://localhost/post', data=data,headers=headers)\n",
    "print(res.text)"
   ]
  },
  {
   "cell_type": "markdown",
   "metadata": {},
   "source": [
    "## 响应\n",
    "\n",
    "### response属性"
   ]
  },
  {
   "cell_type": "code",
   "execution_count": 24,
   "metadata": {},
   "outputs": [
    {
     "name": "stdout",
     "output_type": "stream",
     "text": [
      "<class 'int'> 200\n",
      "<class 'requests.structures.CaseInsensitiveDict'> {'Connection': 'keep-alive', 'Content-Type': 'text/html; charset=utf-8', 'X-Request-Id': 'a1ee66d9-1ac5-432e-92ee-b5e0015bf49d', 'X-Content-Type-Options': 'nosniff', 'X-Frame-Options': 'DENY', 'ETag': 'W/\"4eb9ac1dadaa2e30fa027039768daf6a\"', 'Via': 'cache36.l2nu16-1[38,0], cache19.cn2412[76,0]', 'X-Runtime': '0.011662', 'X-XSS-Protection': '1; mode=block', 'EagleId': '70130e2715641955663492724e', 'Transfer-Encoding': 'chunked', 'Strict-Transport-Security': 'max-age=31536000; includeSubDomains; preload', 'Timing-Allow-Origin': '*', 'Vary': 'Accept-Encoding', 'Content-Encoding': 'gzip', 'Cache-Control': 'max-age=0, private, must-revalidate', 'Date': 'Sat, 27 Jul 2019 02:46:06 GMT', 'Set-Cookie': 'locale=zh-CN; path=/', 'Server': 'Tengine'}\n",
      "<class 'requests.cookies.RequestsCookieJar'> <RequestsCookieJar[<Cookie locale=zh-CN for www.jianshu.com/>]>\n",
      "<class 'str'> https://www.jianshu.com/\n",
      "<class 'list'> []\n"
     ]
    }
   ],
   "source": [
    "import requests\n",
    "\n",
    "headers = {\n",
    "    'User-Agent':'Mozilla/5.0 (Windows NT 10.0; Win64; x64) AppleWebKit/537.36 (KHTML, like Gecko) Chrome/70.0.3538.102 Safari/537.36 Edge/18.18362'\n",
    "}\n",
    "\n",
    "response = requests.get('https://www.jianshu.com',headers=headers)\n",
    "print(type(response.status_code), response.status_code)\n",
    "print(type(response.headers), response.headers)\n",
    "print(type(response.cookies), response.cookies)\n",
    "print(type(response.url), response.url)\n",
    "print(type(response.history), response.history)"
   ]
  },
  {
   "cell_type": "markdown",
   "metadata": {},
   "source": [
    "### 状态码判断"
   ]
  },
  {
   "cell_type": "code",
   "execution_count": 1,
   "metadata": {},
   "outputs": [
    {
     "name": "stdout",
     "output_type": "stream",
     "text": [
      "Request Failed\n"
     ]
    }
   ],
   "source": [
    "import requests\n",
    "\n",
    "response = requests.get('http://www.jianshu.com')\n",
    "print('Request Failed') if not response.status_code == requests.codes.ok else print('Request Successfully')"
   ]
  },
  {
   "cell_type": "markdown",
   "metadata": {},
   "source": [
    "参考：\n",
    "\n",
    "1. [超文本传输协议响应状态码-RFC2068](https://tools.ietf.org/html/rfc2068#section-6.1.1)\n",
    "2. [百度百科-HTTP状态码](https://baike.baidu.com/item/HTTP状态码)"
   ]
  },
  {
   "cell_type": "code",
   "execution_count": null,
   "metadata": {},
   "outputs": [],
   "source": [
    "'''\n",
    "| \"100\"   ; Continue\n",
    "| \"101\"   ; Switching Protocols\n",
    "| \"200\"   ; OK\n",
    "| \"201\"   ; Created\n",
    "| \"202\"   ; Accepted\n",
    "| \"203\"   ; Non-Authoritative Information\n",
    "| \"204\"   ; No Content\n",
    "| \"205\"   ; Reset Content\n",
    "| \"206\"   ; Partial Content\n",
    "| \"300\"   ; Multiple Choices\n",
    "| \"301\"   ; Moved Permanently\n",
    "| \"302\"   ; Moved Temporarily\n",
    "| \"303\"   ; See Other\n",
    "| \"304\"   ; Not Modified\n",
    "| \"305\"   ; Use Proxy\n",
    "| \"400\"   ; Bad Request\n",
    "| \"401\"   ; Unauthorized\n",
    "| \"402\"   ; Payment Required\n",
    "| \"403\"   ; Forbidden\n",
    "| \"404\"   ; Not Found\n",
    "| \"405\"   ; Method Not Allowed\n",
    "| \"406\"   ; Not Acceptable\n",
    "| \"407\"   ; Proxy Authentication Required\n",
    "| \"408\"   ; Request Time-out\n",
    "| \"409\"   ; Conflict\n",
    "| \"410\"   ; Gone\n",
    "| \"411\"   ; Length Required\n",
    "| \"412\"   ; Precondition Failed\n",
    "| \"413\"   ; Request Entity Too Large\n",
    "| \"414\"   ; Request-URI Too Large\n",
    "| \"415\"   ; Unsupported Media Type\n",
    "| \"500\"   ; Internal Server Error\n",
    "| \"501\"   ; Not Implemented\n",
    "| \"502\"   ; Bad Gateway\n",
    "| \"503\"   ; Service Unavailable\n",
    "| \"504\"   ; Gateway Time-out\n",
    "| \"505\"   ; HTTP Version not supported\n",
    "'''"
   ]
  },
  {
   "cell_type": "markdown",
   "metadata": {},
   "source": [
    "## 高级操作\n",
    "\n",
    "### 文件上传"
   ]
  },
  {
   "cell_type": "code",
   "execution_count": null,
   "metadata": {},
   "outputs": [],
   "source": [
    "import requests\n",
    "\n",
    "file={'file': open(r'D:\\Users\\Asrim\\Desktop\\pic.jpg','rb')}\n",
    "\n",
    "res = requests.post('http://localhost/post', files=file)\n",
    "# print(res.content)"
   ]
  },
  {
   "cell_type": "markdown",
   "metadata": {},
   "source": [
    "### 获取cookie"
   ]
  },
  {
   "cell_type": "code",
   "execution_count": 10,
   "metadata": {},
   "outputs": [
    {
     "name": "stdout",
     "output_type": "stream",
     "text": [
      "headers: {'Server': 'TornadoServer/6.0.3', 'Content-Type': 'text/html; charset=UTF-8', 'Date': 'Fri, 26 Jul 2019 14:22:54 GMT', 'X-Content-Type-Options': 'nosniff', 'Content-Security-Policy': \"frame-ancestors 'self'; report-uri /api/security/csp-report\", 'Access-Control-Allow-Origin': '', 'Etag': '\"6bc282719cf83dac679ca69764d0c480ab5fb198\"', 'Content-Length': '2974', 'Set-Cookie': 'username-127-0-0-1-8888=\"2|1:0|10:1564150974|23:username-127-0-0-1-8888|44:N2Q5ODA5ZTg0OTY4NGViOGFjOWRhYWExODA5YTVjZjU=|a26bb23aaf11df612d11552961c0a3547bf43ae41f414934a4df0157ed9f2c83\"; expires=Sun, 25 Aug 2019 14:22:54 GMT; HttpOnly; Path=/, _xsrf=2|8df168f7|fef01071e971de4cf5364e288c57e7ff|1564150974; expires=Sun, 25 Aug 2019 14:22:54 GMT; Path=/'}\n",
      "==============================\n",
      "<RequestsCookieJar[<Cookie _xsrf=2|8df168f7|fef01071e971de4cf5364e288c57e7ff|1564150974 for 127.0.0.1/>, <Cookie username-127-0-0-1-8888=\"2|1:0|10:1564150974|23:username-127-0-0-1-8888|44:N2Q5ODA5ZTg0OTY4NGViOGFjOWRhYWExODA5YTVjZjU=|a26bb23aaf11df612d11552961c0a3547bf43ae41f414934a4df0157ed9f2c83\" for 127.0.0.1/>]>\n",
      "==============================\n",
      "_xsrf : 2|8df168f7|fef01071e971de4cf5364e288c57e7ff|1564150974\n",
      "username-127-0-0-1-8888 : \"2|1:0|10:1564150974|23:username-127-0-0-1-8888|44:N2Q5ODA5ZTg0OTY4NGViOGFjOWRhYWExODA5YTVjZjU=|a26bb23aaf11df612d11552961c0a3547bf43ae41f414934a4df0157ed9f2c83\"\n"
     ]
    }
   ],
   "source": [
    "import requests\n",
    "\n",
    "url=\"http://127.0.0.1:8888/?token=3ec9155141d1f08406caff6c662ff48bd4f9501c12b8bfc6\"\n",
    "response = requests.get(url)\n",
    "print(\"headers:\",response.headers)\n",
    "print(\"===\"*10)\n",
    "print(response.cookies)\n",
    "print(\"===\"*10)\n",
    "for key,value in response.cookies.items():\n",
    "    print(key+\" : \"+value)"
   ]
  },
  {
   "cell_type": "markdown",
   "metadata": {},
   "source": [
    "### 会话维持"
   ]
  },
  {
   "cell_type": "code",
   "execution_count": 12,
   "metadata": {},
   "outputs": [
    {
     "name": "stdout",
     "output_type": "stream",
     "text": [
      "{\n",
      "  \"cookies\": {}\n",
      "}\n",
      "\n"
     ]
    }
   ],
   "source": [
    "'''\n",
    "    模拟登录\n",
    "'''\n",
    "import requests\n",
    "\n",
    "#### 设置一个cookies\n",
    "# API会将设置好的cookie返回，此处不获取设置的response\n",
    "requests.get('http://localhost/cookies/set/user/Mr.William')\n",
    "# 重新发起http请求，观察是否cookie存在\n",
    "response = requests.get('http://localhost/cookies')\n",
    "print(response.text)\n",
    "'''\n",
    "结果：\n",
    "{\n",
    "  \"cookies\": {}\n",
    "}\n",
    "\n",
    "结果表明获取到的cookies为空，因为是两次请求是完全独立的\n",
    "'''"
   ]
  },
  {
   "cell_type": "code",
   "execution_count": 13,
   "metadata": {},
   "outputs": [
    {
     "name": "stdout",
     "output_type": "stream",
     "text": [
      "{\n",
      "  \"cookies\": {\n",
      "    \"user\": \"Mr.Heymax\"\n",
      "  }\n",
      "}\n",
      "\n"
     ]
    }
   ],
   "source": [
    "'''\n",
    "    如果需要保持会话，则要用到requests提供的session对象来维持两次请求状态\n",
    "'''\n",
    "import requests\n",
    "\n",
    "s = requests.Session()\n",
    "s.get('http://localhost/cookies/set/user/Mr.Heymax')\n",
    "response = s.get('http://localhost/cookies')\n",
    "print(response.text)"
   ]
  },
  {
   "cell_type": "markdown",
   "metadata": {},
   "source": [
    "### 证书验证"
   ]
  },
  {
   "cell_type": "code",
   "execution_count": 5,
   "metadata": {},
   "outputs": [
    {
     "name": "stdout",
     "output_type": "stream",
     "text": [
      "SSLError异常已捕获！\n",
      "异常：\n",
      " HTTPSConnectionPool(host='ubt-server16.me', port=443): Max retries exceeded with url: / (Caused by SSLError(SSLError(1, '[SSL: CERTIFICATE_VERIFY_FAILED] certificate verify failed (_ssl.c:646)'),))\n"
     ]
    }
   ],
   "source": [
    "import requests\n",
    "\n",
    "# 默认开启SSL证书校验\n",
    "\n",
    "try:\n",
    "    response = requests.get('https://ubt-server16.me')\n",
    "    print(response.status_code)\n",
    "except requests.exceptions.SSLError as sslerror:\n",
    "    print(\"SSLError异常已捕获！\")\n",
    "    print(\"异常：\\n\",sslerror)"
   ]
  },
  {
   "cell_type": "code",
   "execution_count": 12,
   "metadata": {},
   "outputs": [
    {
     "name": "stdout",
     "output_type": "stream",
     "text": [
      "200\n"
     ]
    }
   ],
   "source": [
    "import requests\n",
    "\n",
    "# 关闭urllib3 的InsecureRequestWarning\n",
    "import urllib3\n",
    "urllib3.disable_warnings()\n",
    "\n",
    "# 手动指定关闭SSL校验\n",
    "response = requests.get('https://www.12306.cn',verify=False)\n",
    "print(response.status_code)"
   ]
  },
  {
   "cell_type": "code",
   "execution_count": 13,
   "metadata": {},
   "outputs": [],
   "source": [
    "# 直接传递证书\n",
    "import requests\n",
    "\n",
    "# response = requests.get('url',cert=('path_of_server.crt','path_of_key'))"
   ]
  },
  {
   "cell_type": "markdown",
   "metadata": {},
   "source": [
    "### 代理设置"
   ]
  },
  {
   "cell_type": "code",
   "execution_count": null,
   "metadata": {},
   "outputs": [],
   "source": [
    "'''\n",
    "import requests\n",
    "\n",
    "proxies = {\n",
    "    'http':'host:port',\n",
    "    'https':'host:port'\n",
    "}\n",
    "\n",
    "response = requests.get('',proxies=proxies)\n",
    "print(response.status_code)\n",
    "'''"
   ]
  },
  {
   "cell_type": "code",
   "execution_count": null,
   "metadata": {
    "scrolled": true
   },
   "outputs": [],
   "source": [
    "'''\n",
    "import requests\n",
    "\n",
    "# 代理中带用户名和密码 \n",
    "proxies = {\n",
    "    'http':'user:password@host:port'\n",
    "}\n",
    "\n",
    "response = requests.get('',proxies=proxies)\n",
    "print(response.status_code)\n",
    "'''"
   ]
  },
  {
   "cell_type": "code",
   "execution_count": null,
   "metadata": {},
   "outputs": [],
   "source": [
    "'''\n",
    "!pip install 'requests[socks]'\n",
    "\n",
    "import requests\n",
    "\n",
    "proxies = {\n",
    "    'http':'socks5://host:port',\n",
    "    'https':'socks5://host:port'\n",
    "}\n",
    "\n",
    "response = requests.get('',proxies=proxies)\n",
    "print(response.status_code)\n",
    "'''"
   ]
  },
  {
   "cell_type": "markdown",
   "metadata": {},
   "source": [
    "### 超时设置"
   ]
  },
  {
   "cell_type": "code",
   "execution_count": 16,
   "metadata": {},
   "outputs": [
    {
     "name": "stdout",
     "output_type": "stream",
     "text": [
      "200\n"
     ]
    }
   ],
   "source": [
    "import requests\n",
    "\n",
    "try:\n",
    "    response = requests.get('http://localhost', timeout=1)\n",
    "    print(response.status_code)\n",
    "except requests.exceptions.ReadTimeout:\n",
    "    print('Timeout')"
   ]
  },
  {
   "cell_type": "markdown",
   "metadata": {},
   "source": [
    "### 认证设置"
   ]
  },
  {
   "cell_type": "code",
   "execution_count": 23,
   "metadata": {},
   "outputs": [
    {
     "name": "stdout",
     "output_type": "stream",
     "text": [
      "200\n"
     ]
    }
   ],
   "source": [
    "import requests\n",
    "from requests.auth import HTTPBasicAuth\n",
    "\n",
    "user=\"\"\n",
    "password=\"\"\n",
    "\n",
    "try:\n",
    "    r = requests.get('http://192.168.88.3', auth=HTTPBasicAuth(user,password), timeout=1)\n",
    "    '''\n",
    "        由于HTTPBasicAuth很常见，所以上面请求可以简写成：\n",
    "        r = requests.get('http://192.168.88.3', auth=(user,password), timeout=1)\n",
    "    '''\n",
    "    print(r.status_code)\n",
    "except requests.exceptions.RequestException as e:\n",
    "    print(e)"
   ]
  },
  {
   "cell_type": "markdown",
   "metadata": {},
   "source": [
    "### 异常处理\n",
    "\n",
    "![requests定义的异常](static/image/requests定义的异常.png)"
   ]
  },
  {
   "cell_type": "code",
   "execution_count": 7,
   "metadata": {},
   "outputs": [
    {
     "name": "stdout",
     "output_type": "stream",
     "text": [
      "Timeout\n"
     ]
    }
   ],
   "source": [
    "import requests\n",
    "from requests.exceptions import HTTPError, ReadTimeout,RequestException\n",
    "\n",
    "try:\n",
    "    response = requests.get('http://localhost', timeout=0.001)\n",
    "    print(response.status_code)\n",
    "except ReadTimeout:\n",
    "    print('Timeout')\n",
    "except HTTPError:\n",
    "    print('HTTP error')\n",
    "except RequestException:\n",
    "    print(\"Request Exception\")"
   ]
  },
  {
   "cell_type": "code",
   "execution_count": null,
   "metadata": {},
   "outputs": [],
   "source": []
  }
 ],
 "metadata": {
  "kernelspec": {
   "display_name": "Python 3",
   "language": "python",
   "name": "python3"
  },
  "language_info": {
   "codemirror_mode": {
    "name": "ipython",
    "version": 3
   },
   "file_extension": ".py",
   "mimetype": "text/x-python",
   "name": "python",
   "nbconvert_exporter": "python",
   "pygments_lexer": "ipython3",
   "version": "3.5.0"
  }
 },
 "nbformat": 4,
 "nbformat_minor": 4
}
