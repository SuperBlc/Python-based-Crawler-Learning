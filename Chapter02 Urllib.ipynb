{
 "cells": [
  {
   "cell_type": "markdown",
   "metadata": {},
   "source": [
    "# urllib库\n",
    "\n",
    "urllib是Python中最基本的网络请求库。可以模拟浏览器行为，向指定的服务器发送请求，并保存服务器返回的数据。\n",
    "\n",
    "## urllib中包含的模块\n",
    "\n",
    "1. urllib.request：用于发起并读取URLS\n",
    "2. urllib.error：用于处理由urllib.request抛出的异常\n",
    "3. urllib.parse： url解析\n",
    "4. urllib.robotparser： robots.txt解析\n",
    "\n",
    "## urllib.request常用函数\n",
    "\n",
    "### urlopen函数\n",
    "\n",
    "函数及参数:\n",
    "\n",
    "```python\n",
    "urllib.request.urlopen(url, data=None, [timeout, ]*, cafile=None, capath=None, cadefault=False, context=None)\n",
    "```\n",
    "\n",
    "在Python3的urllib库中，所有和网站请求相关的方法，都集成到了```urllib.request```模块中，以下是相关示例："
   ]
  },
  {
   "cell_type": "code",
   "execution_count": 6,
   "metadata": {},
   "outputs": [
    {
     "name": "stdout",
     "output_type": "stream",
     "text": [
      "状态码： 200\n",
      "\n",
      "--------------------分割线--------------------\n",
      "\n",
      "读取到的内容（不解码）：\n",
      " b'{\\n  \"args\": {}, \\n  \"headers\": {\\n    \"Accept-Encoding\": \"identity\", \\n    \"Host\": \"www.httpbin.org\", \\n    \"User-Agent\": \"Python-urllib/3.6\"\\n  }, \\n  \"origin\": \"117.173.217.207, 117.173.217.207\", \\n  \"url\": \"https://www.httpbin.org/get\"\\n}\\n'\n",
      "\n",
      "--------------------分割线--------------------\n",
      "\n",
      "读取到的内容（用utf-8解码）：\n",
      " {\n",
      "  \"args\": {}, \n",
      "  \"headers\": {\n",
      "    \"Accept-Encoding\": \"identity\", \n",
      "    \"Host\": \"www.httpbin.org\", \n",
      "    \"User-Agent\": \"Python-urllib/3.6\"\n",
      "  }, \n",
      "  \"origin\": \"117.173.217.207, 117.173.217.207\", \n",
      "  \"url\": \"https://www.httpbin.org/get\"\n",
      "}\n",
      "\n"
     ]
    }
   ],
   "source": [
    "from urllib import request\n",
    "\n",
    "# urlopen的返回对象是一个http.client.HttpResponse对象，是一个类文件句柄\n",
    "req = request.urlopen('http://www.httpbin.org/get')\n",
    "\n",
    "print('状态码：', req.getcode())\n",
    "print('\\n--------------------分割线--------------------\\n')\n",
    "text = req.read()\n",
    "print('读取到的内容（不解码）：\\n', text)\n",
    "print('\\n--------------------分割线--------------------\\n')\n",
    "print('读取到的内容（用utf-8解码）：\\n', text.decode('utf-8'))"
   ]
  },
  {
   "cell_type": "code",
   "execution_count": null,
   "metadata": {},
   "outputs": [],
   "source": []
  }
 ],
 "metadata": {
  "kernelspec": {
   "display_name": "Python 3",
   "language": "python",
   "name": "python3"
  },
  "language_info": {
   "codemirror_mode": {
    "name": "ipython",
    "version": 3
   },
   "file_extension": ".py",
   "mimetype": "text/x-python",
   "name": "python",
   "nbconvert_exporter": "python",
   "pygments_lexer": "ipython3",
   "version": "3.6.0"
  }
 },
 "nbformat": 4,
 "nbformat_minor": 4
}
