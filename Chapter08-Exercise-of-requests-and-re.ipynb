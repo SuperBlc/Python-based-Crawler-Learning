{
 "cells": [
  {
   "cell_type": "markdown",
   "metadata": {},
   "source": [
    "# Requests 和 正则表达式 爬取猫眼电影榜单"
   ]
  },
  {
   "cell_type": "markdown",
   "metadata": {},
   "source": [
    "## 测试代码"
   ]
  },
  {
   "cell_type": "code",
   "execution_count": 1,
   "metadata": {},
   "outputs": [],
   "source": [
    "import requests\n",
    "import re"
   ]
  },
  {
   "cell_type": "code",
   "execution_count": 3,
   "metadata": {},
   "outputs": [
    {
     "name": "stdout",
     "output_type": "stream",
     "text": [
      "200\n"
     ]
    }
   ],
   "source": [
    "headers = {\n",
    "    'Referer':'https://maoyan.com/board',\n",
    "    'Origin': 'https://maoyan.com',\n",
    "    'User-Agent': 'Mozilla/5.0 (Windows NT 10.0; Win64; x64) AppleWebKit/537.36 (KHTML, like Gecko) Chrome/70.0.3538.102 Safari/537.36 Edge/18.18362',\n",
    "    'Accept-Encoding': 'zip, deflate, br'\n",
    "}\n",
    "response = requests.get('https://maoyan.com/board/4?offset=0', headers=headers)\n",
    "print(response.status_code)\n",
    "with open('demo_file/maoyan.txt','w', encoding='utf-8') as f:\n",
    "    f.write(response.text)"
   ]
  },
  {
   "cell_type": "code",
   "execution_count": 10,
   "metadata": {},
   "outputs": [],
   "source": [
    "test = '''\n",
    "<dd>\n",
    "                        <i class=\"board-index board-index-1\">11231</i>\n",
    "    <a href=\"/films/1203\" title=\"霸王别姬\" class=\"image-link\" data-act=\"boarditem-click\" data-val=\"{movieId:1203}\">\n",
    "      <img src=\"//s3plus.meituan.net/v1/mss_e2821d7f0cfe4ac1bf9202ecf9590e67/cdn-prod/file:5788b470/image/loading_2.e3d934bf.png\" alt=\"\" class=\"poster-default\" />\n",
    "      <img data-src=\"https://p1.meituan.net/movie/20803f59291c47e1e116c11963ce019e68711.jpg@160w_220h_1e_1c\" alt=\"霸王别姬\" class=\"board-img\" />\n",
    "    </a>\n",
    "    <div class=\"board-item-main\">\n",
    "      <div class=\"board-item-content\">\n",
    "              <div class=\"movie-item-info\">\n",
    "        <p class=\"name\"><a href=\"/films/1203\" title=\"霸王别姬\" data-act=\"boarditem-click\" data-val=\"{movieId:1203}\">霸王别姬</a></p>\n",
    "        <p class=\"star\">\n",
    "                主演：张国荣,张丰毅,巩俐\n",
    "        </p>\n",
    "<p class=\"releasetime\">上映时间：1993-01-01</p>    </div>\n",
    "    <div class=\"movie-item-number score-num\">\n",
    "<p class=\"score\"><i class=\"integer\">9.</i><i class=\"fraction\">5</i></p>        \n",
    "    </div>\n",
    "\n",
    "      </div>\n",
    "    </div>\n",
    "\n",
    "                </dd>\n",
    "'''"
   ]
  },
  {
   "cell_type": "code",
   "execution_count": 17,
   "metadata": {},
   "outputs": [
    {
     "name": "stdout",
     "output_type": "stream",
     "text": [
      "[('11231', 'https://p1.meituan.net/movie/20803f59291c47e1e116c11963ce019e68711.jpg@160w_220h_1e_1c', '/films/1203', '霸王别姬', '主演：张国荣,张丰毅,巩俐', '上映时间：1993-01-01', '9', '5')]\n"
     ]
    }
   ],
   "source": [
    "movie_pattern = re.compile('<dd>.*?board-index.*?>(\\d+)</i>.*?<a.*?data-src=\"(.*?)\".*?name\"><a href=\"(.*?)\".*?>(.*?)</a></p>.*?star\">\\s+(.*?)\\s+</p>.*?releasetime\">(.*?)</p>.*?integer\">(\\d)\\.</i>.*?fraction\">(\\d)</i></p>.*?</dd>', re.S)\n",
    "# movie_pattern = re.compile('<dd>.*?board-index.*?>(\\d+)</i>.*data-src=\"(.*?)\".*?name\">')\n",
    "result = re.findall(movie_pattern, test)\n",
    "print(result)"
   ]
  },
  {
   "cell_type": "markdown",
   "metadata": {},
   "source": [
    "## 正式代码"
   ]
  },
  {
   "cell_type": "code",
   "execution_count": 2,
   "metadata": {},
   "outputs": [],
   "source": [
    "import requests\n",
    "from requests.exceptions import RequestException\n",
    "import re\n",
    "import os"
   ]
  },
  {
   "cell_type": "code",
   "execution_count": 18,
   "metadata": {},
   "outputs": [],
   "source": [
    "ROOT = os.path.join(os.path.realpath('.'),'demo_file','maoyan.com')\n",
    "if not os.path.isdir(ROOT):\n",
    "    os.makedirs(ROOT)\n",
    "\n",
    "movie_pattern = re.compile('<dd>.*?board-index.*?>(\\d+)</i>.*?<a.*?data-src=\"(.*?)\".*?name\"><a href=\"(.*?)\".*?>(.*?)</a></p>.*?<p class=\"star\">\\s+(.*?)\\s+</p>.*?releasetime\">(.*?)</p>.*?integer\">(\\d)\\.</i>.*?fraction\">(\\d)</i></p>.*?</dd>', re.S)\n",
    "\n",
    "def get_one_page(url,headers,save_to_file=True):\n",
    "    try:\n",
    "        # Current page\n",
    "        page = url.split('=')[-1]\n",
    "        # Originating the request\n",
    "        response = requests.get(url,headers=headers)\n",
    "        # If everything is ok, and get the response from the server\n",
    "        if response.status_code == 200:\n",
    "            # store the page to file\n",
    "            if save_to_file:\n",
    "                path = os.path.join(ROOT,\"maoyan_top100_page%s.txt\"%page)\n",
    "                print('Current file:',path)\n",
    "                with open(path, 'w', encoding='utf-8') as f:\n",
    "                    f.write(response.text)\n",
    "            # Return the page html\n",
    "            return response.text\n",
    "        return None\n",
    "    except RequestException as e: # Capture Request Exception\n",
    "        # If exception has happened, return nothing\n",
    "        print(e)\n",
    "        return None\n",
    "\n",
    "def parse_page(html):\n",
    "    result = re.findall(movie_pattern, html)\n",
    "    return result"
   ]
  },
  {
   "cell_type": "code",
   "execution_count": 19,
   "metadata": {},
   "outputs": [
    {
     "name": "stdout",
     "output_type": "stream",
     "text": [
      "Current file: E:\\MachineLearning\\Python\\Python-based-Crawler-Learning\\demo_file\\maoyan.com\\maoyan_top100_page0.txt\n",
      "Currrent page: %s https://maoyan.com/board/4?offset=0\n",
      "page 1, size:10\n",
      "\n",
      "Current file: E:\\MachineLearning\\Python\\Python-based-Crawler-Learning\\demo_file\\maoyan.com\\maoyan_top100_page10.txt\n",
      "Currrent page: %s https://maoyan.com/board/4?offset=10\n",
      "page 2, size:10\n",
      "\n",
      "Current file: E:\\MachineLearning\\Python\\Python-based-Crawler-Learning\\demo_file\\maoyan.com\\maoyan_top100_page20.txt\n",
      "Currrent page: %s https://maoyan.com/board/4?offset=20\n",
      "page 3, size:10\n",
      "\n",
      "Current file: E:\\MachineLearning\\Python\\Python-based-Crawler-Learning\\demo_file\\maoyan.com\\maoyan_top100_page30.txt\n",
      "Currrent page: %s https://maoyan.com/board/4?offset=30\n",
      "page 4, size:10\n",
      "\n",
      "Current file: E:\\MachineLearning\\Python\\Python-based-Crawler-Learning\\demo_file\\maoyan.com\\maoyan_top100_page40.txt\n",
      "Currrent page: %s https://maoyan.com/board/4?offset=40\n",
      "page 5, size:10\n",
      "\n",
      "Current file: E:\\MachineLearning\\Python\\Python-based-Crawler-Learning\\demo_file\\maoyan.com\\maoyan_top100_page50.txt\n",
      "Currrent page: %s https://maoyan.com/board/4?offset=50\n",
      "page 6, size:10\n",
      "\n",
      "Current file: E:\\MachineLearning\\Python\\Python-based-Crawler-Learning\\demo_file\\maoyan.com\\maoyan_top100_page60.txt\n",
      "Currrent page: %s https://maoyan.com/board/4?offset=60\n",
      "page 7, size:10\n",
      "\n",
      "Current file: E:\\MachineLearning\\Python\\Python-based-Crawler-Learning\\demo_file\\maoyan.com\\maoyan_top100_page70.txt\n",
      "Currrent page: %s https://maoyan.com/board/4?offset=70\n",
      "page 8, size:10\n",
      "\n",
      "Current file: E:\\MachineLearning\\Python\\Python-based-Crawler-Learning\\demo_file\\maoyan.com\\maoyan_top100_page80.txt\n",
      "Currrent page: %s https://maoyan.com/board/4?offset=80\n",
      "page 9, size:10\n",
      "\n",
      "Current file: E:\\MachineLearning\\Python\\Python-based-Crawler-Learning\\demo_file\\maoyan.com\\maoyan_top100_page90.txt\n",
      "Currrent page: %s https://maoyan.com/board/4?offset=90\n",
      "page 10, size:10\n",
      "\n",
      "all done!\n"
     ]
    }
   ],
   "source": [
    "headers = {\n",
    "    'Origin': 'https://maoyan.com',\n",
    "    'User-Agent': 'Mozilla/5.0 (Windows NT 10.0; Win64; x64) AppleWebKit/537.36 (KHTML, like Gecko) Chrome/70.0.3538.102 Safari/537.36 Edge/18.18362',\n",
    "    'Accept-Encoding': 'zip, deflate, br'\n",
    "}\n",
    "\n",
    "if __name__ == '__main__':\n",
    "    url = \"https://maoyan.com/board/4?offset={}\"\n",
    "    referer_url = 'https://maoyan.com/board'\n",
    "    with open(os.path.join(ROOT, 'result.txt'), 'a', encoding='utf-8') as f:\n",
    "        for i in range(10):\n",
    "            current_url = url.format(i*10)\n",
    "            headers['Referer'] = referer_url\n",
    "            html = get_one_page(current_url, headers)\n",
    "            result = parse_page(html)\n",
    "            referer_url = current_url\n",
    "            print('Currrent page:', current_url)\n",
    "            print('page %d, size:%d\\n'%((i+1), len(result)))\n",
    "            f.write('---'*15)\n",
    "            f.write('\\npage:%d\\n'%(i+1))\n",
    "            if len(result) > 0:\n",
    "                for line in result:\n",
    "                    f.write('No.%s, 海报链接：%s, 详细链接：https://maoyan.com%s, 片名：%s, （演员）%s, （上映时间）%s, 评分：%s.%s\\n'%line)\n",
    "            f.write('\\n')\n",
    "    print('all done!')"
   ]
  },
  {
   "cell_type": "code",
   "execution_count": null,
   "metadata": {},
   "outputs": [],
   "source": []
  }
 ],
 "metadata": {
  "kernelspec": {
   "display_name": "Python 3",
   "language": "python",
   "name": "python3"
  },
  "language_info": {
   "codemirror_mode": {
    "name": "ipython",
    "version": 3
   },
   "file_extension": ".py",
   "mimetype": "text/x-python",
   "name": "python",
   "nbconvert_exporter": "python",
   "pygments_lexer": "ipython3",
   "version": "3.5.0"
  }
 },
 "nbformat": 4,
 "nbformat_minor": 4
}
