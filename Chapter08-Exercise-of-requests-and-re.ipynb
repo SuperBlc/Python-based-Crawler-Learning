{
 "cells": [
  {
   "cell_type": "markdown",
   "metadata": {},
   "source": [
    "# Requests 和 正则表达式 爬取猫眼电影榜单"
   ]
  },
  {
   "cell_type": "code",
   "execution_count": 1,
   "metadata": {},
   "outputs": [],
   "source": [
    "import requests\n",
    "import re"
   ]
  },
  {
   "cell_type": "code",
   "execution_count": 3,
   "metadata": {},
   "outputs": [
    {
     "name": "stdout",
     "output_type": "stream",
     "text": [
      "200\n"
     ]
    }
   ],
   "source": [
    "headers = {\n",
    "    'Referer':'https://maoyan.com/board',\n",
    "    'Origin': 'https://maoyan.com',\n",
    "    'User-Agent': 'Mozilla/5.0 (Windows NT 10.0; Win64; x64) AppleWebKit/537.36 (KHTML, like Gecko) Chrome/70.0.3538.102 Safari/537.36 Edge/18.18362',\n",
    "    'Accept-Encoding': 'zip, deflate, br'\n",
    "}\n",
    "response = requests.get('https://maoyan.com/board/4?offset=0', headers=headers)\n",
    "print(response.status_code)\n",
    "with open('demo_file/maoyan.txt','w', encoding='utf-8') as f:\n",
    "    f.write(response.text)"
   ]
  },
  {
   "cell_type": "code",
   "execution_count": 10,
   "metadata": {},
   "outputs": [],
   "source": [
    "test = '''\n",
    "<dd>\n",
    "                        <i class=\"board-index board-index-1\">1</i>\n",
    "    <a href=\"/films/1203\" title=\"霸王别姬\" class=\"image-link\" data-act=\"boarditem-click\" data-val=\"{movieId:1203}\">\n",
    "      <img src=\"//s3plus.meituan.net/v1/mss_e2821d7f0cfe4ac1bf9202ecf9590e67/cdn-prod/file:5788b470/image/loading_2.e3d934bf.png\" alt=\"\" class=\"poster-default\" />\n",
    "      <img data-src=\"https://p1.meituan.net/movie/20803f59291c47e1e116c11963ce019e68711.jpg@160w_220h_1e_1c\" alt=\"霸王别姬\" class=\"board-img\" />\n",
    "    </a>\n",
    "    <div class=\"board-item-main\">\n",
    "      <div class=\"board-item-content\">\n",
    "              <div class=\"movie-item-info\">\n",
    "        <p class=\"name\"><a href=\"/films/1203\" title=\"霸王别姬\" data-act=\"boarditem-click\" data-val=\"{movieId:1203}\">霸王别姬</a></p>\n",
    "        <p class=\"star\">\n",
    "                主演：张国荣,张丰毅,巩俐\n",
    "        </p>\n",
    "<p class=\"releasetime\">上映时间：1993-01-01</p>    </div>\n",
    "    <div class=\"movie-item-number score-num\">\n",
    "<p class=\"score\"><i class=\"integer\">9.</i><i class=\"fraction\">5</i></p>        \n",
    "    </div>\n",
    "\n",
    "      </div>\n",
    "    </div>\n",
    "\n",
    "                </dd>\n",
    "'''"
   ]
  },
  {
   "cell_type": "code",
   "execution_count": 16,
   "metadata": {},
   "outputs": [
    {
     "name": "stdout",
     "output_type": "stream",
     "text": [
      "[('1', 'https://p1.meituan.net/movie/20803f59291c47e1e116c11963ce019e68711.jpg@160w_220h_1e_1c', '/films/1203', '霸王别姬', '主演：张国荣,张丰毅,巩俐', '上映时间：1993-01-01', '9', '5'), ('2', 'https://p0.meituan.net/movie/283292171619cdfd5b240c8fd093f1eb255670.jpg@160w_220h_1e_1c', '/films/1297', '肖申克的救赎', '主演：蒂姆·罗宾斯,摩根·弗里曼,鲍勃·冈顿', '上映时间：1994-09-10(加拿大)', '9', '5'), ('3', 'https://p0.meituan.net/movie/289f98ceaa8a0ae737d3dc01cd05ab052213631.jpg@160w_220h_1e_1c', '/films/2641', '罗马假日', '主演：格利高里·派克,奥黛丽·赫本,埃迪·艾伯特', '上映时间：1953-09-02(美国)', '9', '1'), ('4', 'https://p1.meituan.net/movie/6bea9af4524dfbd0b668eaa7e187c3df767253.jpg@160w_220h_1e_1c', '/films/4055', '这个杀手不太冷', '主演：让·雷诺,加里·奥德曼,娜塔莉·波特曼', '上映时间：1994-09-14(法国)', '9', '5'), ('5', 'https://p1.meituan.net/movie/b607fba7513e7f15eab170aac1e1400d878112.jpg@160w_220h_1e_1c', '/films/267', '泰坦尼克号', '主演：莱昂纳多·迪卡普里奥,凯特·温丝莱特,比利·赞恩', '上映时间：1998-04-03', '9', '5'), ('6', 'https://p0.meituan.net/movie/da64660f82b98cdc1b8a3804e69609e041108.jpg@160w_220h_1e_1c', '/films/837', '唐伯虎点秋香', '主演：周星驰,巩俐,郑佩佩', '上映时间：1993-07-01(中国香港)', '9', '1'), ('7', 'https://p0.meituan.net/movie/46c29a8b8d8424bdda7715e6fd779c66235684.jpg@160w_220h_1e_1c', '/films/2760', '魂断蓝桥', '主演：费雯·丽,罗伯特·泰勒,露塞尔·沃特森', '上映时间：1940-05-17(美国)', '9', '2'), ('8', 'https://p0.meituan.net/movie/223c3e186db3ab4ea3bb14508c709400427933.jpg@160w_220h_1e_1c', '/films/7431', '乱世佳人', '主演：费雯·丽,克拉克·盖博,奥利维娅·德哈维兰', '上映时间：1939-12-15(美国)', '9', '1'), ('9', 'https://p1.meituan.net/movie/ba1ed511668402605ed369350ab779d6319397.jpg@160w_220h_1e_1c', '/films/1228', '天空之城', '主演：寺田农,鹫尾真知子,龟山助清', '上映时间：1992', '9', '1'), ('10', 'https://p0.meituan.net/movie/b0d986a8bf89278afbb19f6abaef70f31206570.jpg@160w_220h_1e_1c', '/films/3667', '辛德勒的名单', '主演：连姆·尼森,拉尔夫·费因斯,本·金斯利', '上映时间：1993-12-15(美国)', '9', '2')]\n"
     ]
    }
   ],
   "source": [
    "movie_pattern = re.compile('<dd>.*?board-index.*?>(\\d+)</i>.*?<a.*?image-link.*?<img data-src=\"(.*?)\".*?class=\"board-img\" />.*?class=\"name\"><a href=\"(.*?)\".*?>(\\w+)</a></p>.*?<p class=\"star\">\\s+(.*?)\\s+</p>.*?<p class=\"releasetime\">(.*?)</p>.*?<i class=\"integer\">(\\d)\\.</i>.*?fraction\">(\\d)</i></p>.*?</dd>', re.S)\n",
    "# movie_pattern = re.compile('<dd>.*?board-index.*?>(\\d+)</i>.*data-src=\"(.*?)\".*?name\">')\n",
    "result = re.findall(movie_pattern, response.text)\n",
    "print(result)"
   ]
  },
  {
   "cell_type": "code",
   "execution_count": null,
   "metadata": {},
   "outputs": [],
   "source": []
  }
 ],
 "metadata": {
  "kernelspec": {
   "display_name": "Python 3",
   "language": "python",
   "name": "python3"
  },
  "language_info": {
   "codemirror_mode": {
    "name": "ipython",
    "version": 3
   },
   "file_extension": ".py",
   "mimetype": "text/x-python",
   "name": "python",
   "nbconvert_exporter": "python",
   "pygments_lexer": "ipython3",
   "version": "3.5.0"
  }
 },
 "nbformat": 4,
 "nbformat_minor": 4
}
