{
 "cells": [
  {
   "cell_type": "markdown",
   "metadata": {},
   "source": [
    "# BeautifulSoup \n",
    "\n",
    "本章节内容如下：\n",
    "\n",
    "- [基本使用](#基本使用)\n",
    "- 选择器\n",
    "    - [标签选择器](#标签选择器)\n",
    "        - 选择元素\n",
    "        - 获取标签名称\n",
    "        - 获取标签内容\n",
    "        - 嵌套选择\n",
    "        - 子节点和子孙节点\n",
    "        - 父节点和祖先节点\n",
    "        - 兄弟节点\n",
    "    - [标准选择器](#标准选择器)\n",
    "        - find_all 和 find\n",
    "        - find_*选择器\n",
    "    - [CSS选择器](#CSS选择器)\n",
    "        - 获取属性和内容\n",
    "\n",
    "## 解析库\n",
    "\n",
    "解析器 | 使用方法 | 优势 | 劣势\n",
    ":- | :- | :-| :-|\n",
    "Python标准库|BeautifulSoup(markup,\"html.parser\")|Python的内置标准库、执行速度适中、文档容错能力强|Python 2.7.3 or 3.2.2 前的版本中文容错能力差|\n",
    "lxml HTML解析器 | BeautifulSoup(markup,\"lxml\")|速度快、文档容错能力强|需要安装C语言库|\n",
    "lxml XML解析器 | BeautifulSoup(markup,\"xml\")|速度快、唯一支持XML的解析器|需要安装C语言库|\n",
    "html5lib|BeautifulSoup(markup,\"html5lib\")|最好的容错性、以浏览器的方式解析文档、生成HTML5格式的文档|速度慢、不依赖外部扩展|"
   ]
  },
  {
   "cell_type": "markdown",
   "metadata": {},
   "source": [
    "## 基本使用"
   ]
  },
  {
   "cell_type": "code",
   "execution_count": 2,
   "metadata": {},
   "outputs": [
    {
     "name": "stdout",
     "output_type": "stream",
     "text": [
      "soup.prettify():\n",
      " <html>\n",
      " <head>\n",
      "  <title>\n",
      "   The Document's stroy\n",
      "  </title>\n",
      " </head>\n",
      " <body>\n",
      "  <p class=\"title\" name=\"dromouse\">\n",
      "   <b>\n",
      "    The Dormouse's stroy\n",
      "   </b>\n",
      "  </p>\n",
      "  <p class=\"story\">\n",
      "   Once upon a time there were three little sisters; and their names were\n",
      "   <a class=\"sister\" href=\"http://www.example.com/else\" id=\"link1\">\n",
      "    <!-- Else -->\n",
      "   </a>\n",
      "   ,\n",
      "   <a class=\"sister\" href=\"http://www.example.com/lacie\" id=\"link2\">\n",
      "    Lacle\n",
      "   </a>\n",
      "   and\n",
      "   <a class=\"sister\" href=\"http://www.example.com/tillle\" id=\"link3\">\n",
      "    Tille\n",
      "   </a>\n",
      "   ;\n",
      "and they lived at the bottom of a wall.\n",
      "  </p>\n",
      "  <p class=\"story\">\n",
      "   ...\n",
      "  </p>\n",
      " </body>\n",
      "</html>\n",
      "soup.title.string: The Document's stroy\n"
     ]
    }
   ],
   "source": [
    "html=\"\"\"\n",
    "<html><head><title>The Document's stroy</title></head>\n",
    "<body>\n",
    "<p class=\"title\" name=\"dromouse\"><b>The Dormouse's stroy</b></p>\n",
    "<p class=\"story\">Once upon a time there were three little sisters; and their names were\n",
    "<a href=\"http://www.example.com/else\" class=\"sister\" id=\"link1\"><!-- Else --></a>,\n",
    "<a href=\"http://www.example.com/lacie\" class=\"sister\" id=\"link2\">Lacle</a> and\n",
    "<a href=\"http://www.example.com/tillle\" class=\"sister\" id=\"link3\">Tille</a>;\n",
    "and they lived at the bottom of a wall.</p>\n",
    "<p class=\"story\">...</p>\n",
    "\"\"\"\n",
    "from bs4 import BeautifulSoup\n",
    "soup = BeautifulSoup(html, \"lxml\")\n",
    "print(\"soup.prettify():\\n\",soup.prettify())\n",
    "print(\"soup.title.string:\",soup.title.string)"
   ]
  },
  {
   "cell_type": "markdown",
   "metadata": {},
   "source": [
    "## 标签选择器\n",
    "\n",
    "### 选择元素"
   ]
  },
  {
   "cell_type": "code",
   "execution_count": 2,
   "metadata": {},
   "outputs": [
    {
     "name": "stdout",
     "output_type": "stream",
     "text": [
      "<title>The Document's stroy</title>\n",
      "<class 'bs4.element.Tag'>\n",
      "<head><title>The Document's stroy</title></head>\n",
      "<class 'bs4.element.Tag'>\n",
      "<p class=\"title\" name=\"dromouse\"><b>The Dormouse's stroy</b></p>\n",
      "<class 'bs4.element.Tag'>\n",
      "<a class=\"sister\" href=\"http://www.example.com/else\" id=\"link1\"><!-- Else --></a>\n"
     ]
    }
   ],
   "source": [
    "html=\"\"\"\n",
    "<html><head><title>The Document's stroy</title></head>\n",
    "<body>\n",
    "<p class=\"title\" name=\"dromouse\"><b>The Dormouse's stroy</b></p>\n",
    "<p class=\"story\">Once upon a time there were three little sisters; and their names were\n",
    "<a href=\"http://www.example.com/else\" class=\"sister\" id=\"link1\"><!-- Else --></a>,\n",
    "<a href=\"http://www.example.com/lacie\" class=\"sister\" id=\"link2\">Lacle</a> and\n",
    "<a href=\"http://www.example.com/tillle\" class=\"sister\" id=\"link3\">Tille</a>;\n",
    "and they lived at the bottom of a wall.</p>\n",
    "<p class=\"story\">...</p>\n",
    "\"\"\"\n",
    "from bs4 import BeautifulSoup\n",
    "soup = BeautifulSoup(html, \"lxml\")\n",
    "print(soup.title)\n",
    "print(type(soup.title))\n",
    "print(soup.head)\n",
    "print(type(soup.head))\n",
    "print(soup.p)\n",
    "print(type(soup.p))\n",
    "print(soup.a)"
   ]
  },
  {
   "cell_type": "markdown",
   "metadata": {},
   "source": [
    "### 获取标签的名称"
   ]
  },
  {
   "cell_type": "code",
   "execution_count": 3,
   "metadata": {},
   "outputs": [
    {
     "name": "stdout",
     "output_type": "stream",
     "text": [
      "title\n"
     ]
    }
   ],
   "source": [
    "html=\"\"\"\n",
    "<html><head><title>The Document's stroy</title></head>\n",
    "<body>\n",
    "<p class=\"title\" name=\"dromouse\"><b>The Dormouse's stroy</b></p>\n",
    "<p class=\"story\">Once upon a time there were three little sisters; and their names were\n",
    "<a href=\"http://www.example.com/else\" class=\"sister\" id=\"link1\"><!-- Else --></a>,\n",
    "<a href=\"http://www.example.com/lacie\" class=\"sister\" id=\"link2\">Lacle</a> and\n",
    "<a href=\"http://www.example.com/tillle\" class=\"sister\" id=\"link3\">Tille</a>;\n",
    "and they lived at the bottom of a wall.</p>\n",
    "<p class=\"story\">...</p>\n",
    "\"\"\"\n",
    "from bs4 import BeautifulSoup\n",
    "soup = BeautifulSoup(html, \"lxml\")\n",
    "print(soup.title.name)"
   ]
  },
  {
   "cell_type": "markdown",
   "metadata": {},
   "source": [
    "### 获取标签内容"
   ]
  },
  {
   "cell_type": "code",
   "execution_count": 75,
   "metadata": {},
   "outputs": [
    {
     "name": "stdout",
     "output_type": "stream",
     "text": [
      "p.string: None\n",
      "p.text: The Dormouse's stroy\n",
      "b.string: None\n",
      "b.text: The Dormouse's stroy\n",
      "a.string:  Else,This is Comment \n",
      "a.text: \n"
     ]
    }
   ],
   "source": [
    "html=\"\"\"\n",
    "<html><head><title>The Document's stroy</title></head>\n",
    "<body>\n",
    "<p class=\"title\" name=\"dromouse\"><b>The Dormouse's stroy<!-- p comment --></b></p>\n",
    "<p class=\"story\">Once upon a time there were three little sisters; and their names were\n",
    "<a href=\"http://www.example.com/else\" class=\"sister\" id=\"link1\"><!-- Else,This is Comment --></a>,\n",
    "<a href=\"http://www.example.com/lacie\" class=\"sister\" id=\"link2\">Lacle</a> and\n",
    "<a href=\"http://www.example.com/tillle\" class=\"sister\" id=\"link3\">Tille</a>;\n",
    "and they lived at the bottom of a wall.</p>\n",
    "<p class=\"story\">...</p>\n",
    "\"\"\"\n",
    "from bs4 import BeautifulSoup\n",
    "soup = BeautifulSoup(html, \"lxml\")\n",
    "print(\"p.string:\",soup.p.string)\n",
    "print(\"p.text:\",soup.p.text)\n",
    "print(\"b.string:\",soup.b.string)\n",
    "print(\"b.text:\",soup.b.text)\n",
    "print(\"a.string:\",soup.a.string)\n",
    "print(\"a.text:\", soup.a.text)"
   ]
  },
  {
   "cell_type": "markdown",
   "metadata": {},
   "source": [
    "---\n",
    "小结：明显看出，标签.stirng和标签.text返回的内容不同。\n",
    "1. text则是返回由标签包裹的内容，且不含注释；\n",
    "2. string返回的是由标签包裹的内容。\n",
    "3. 但两者不同之处在于，string可以返回注释内的文本信息，要显示的文本和注释同时存在时，string则会返回None，text依旧返回由标签包裹其正常显示的内容"
   ]
  },
  {
   "cell_type": "markdown",
   "metadata": {},
   "source": [
    "### 嵌套选择"
   ]
  },
  {
   "cell_type": "code",
   "execution_count": 7,
   "metadata": {},
   "outputs": [
    {
     "name": "stdout",
     "output_type": "stream",
     "text": [
      "The Document's stroy\n",
      "link1\n"
     ]
    }
   ],
   "source": [
    "html=\"\"\"\n",
    "<html><head><title>The Document's stroy</title></head>\n",
    "<body>\n",
    "<p class=\"title\" name=\"dromouse\"><b>The Dormouse's stroy<!-- p comment --></b></p>\n",
    "<p class=\"story\">Once upon a time there were three little sisters; and their names were\n",
    "<a href=\"http://www.example.com/else\" class=\"sister\" id=\"link1\"><!-- Else,This is Comment --></a>,\n",
    "<a href=\"http://www.example.com/lacie\" class=\"sister\" id=\"link2\">Lacle</a> and\n",
    "<a href=\"http://www.example.com/tillle\" class=\"sister\" id=\"link3\">Tille</a>;\n",
    "and they lived at the bottom of a wall.</p>\n",
    "<p class=\"story\">...</p>\n",
    "\"\"\"\n",
    "\n",
    "from bs4 import BeautifulSoup\n",
    "soup = BeautifulSoup(html, 'lxml')\n",
    "print(soup.head.title.string)\n",
    "print(soup.body.a['id'])"
   ]
  },
  {
   "cell_type": "markdown",
   "metadata": {},
   "source": [
    "### 子节点和子孙节点"
   ]
  },
  {
   "cell_type": "code",
   "execution_count": 18,
   "metadata": {},
   "outputs": [
    {
     "name": "stdout",
     "output_type": "stream",
     "text": [
      "['Once upon a time there were three little sisters; and their names were \\n      ', <a class=\"sister\" href=\"http://www.example.com/else\" id=\"link1\">\n",
      "<span>Else</span>\n",
      "</a>, '\\n', <a class=\"sister\" href=\"http://www.example.com/lacie\" id=\"link2\">Lacle</a>, '\\n    and \\n    ', <a class=\"sister\" href=\"http://www.example.com/tillle\" id=\"link3\">Tille</a>, '\\n    and they lived at the bottom of a wall.\\n  ']\n",
      "==============================\n",
      "type of soup.p.children: <list_iterator object at 0x000001FB76091CF8>\n",
      "==============================\n",
      "0 Once upon a time there were three little sisters; and their names were \n",
      "      \n",
      "------------------------------------------------------------\n",
      "1 <a class=\"sister\" href=\"http://www.example.com/else\" id=\"link1\">\n",
      "<span>Else</span>\n",
      "</a>\n",
      "------------------------------------------------------------\n",
      "2 \n",
      "\n",
      "------------------------------------------------------------\n",
      "3 <a class=\"sister\" href=\"http://www.example.com/lacie\" id=\"link2\">Lacle</a>\n",
      "------------------------------------------------------------\n",
      "4 \n",
      "    and \n",
      "    \n",
      "------------------------------------------------------------\n",
      "5 <a class=\"sister\" href=\"http://www.example.com/tillle\" id=\"link3\">Tille</a>\n",
      "------------------------------------------------------------\n",
      "6 \n",
      "    and they lived at the bottom of a wall.\n",
      "  \n",
      "------------------------------------------------------------\n"
     ]
    }
   ],
   "source": [
    "html=\"\"\"\n",
    "<html>\n",
    " <head>\n",
    "  <title>The Document's stroy</title>\n",
    " </head> \n",
    " <body> \n",
    "  <p class=\"story\">Once upon a time there were three little sisters; and their names were \n",
    "      <a href=\"http://www.example.com/else\" class=\"sister\" id=\"link1\">\n",
    "        <span>Else</span>\n",
    "      </a>\n",
    "    <a href=\"http://www.example.com/lacie\" class=\"sister\" id=\"link2\">Lacle</a>\n",
    "    and \n",
    "    <a href=\"http://www.example.com/tillle\" class=\"sister\" id=\"link3\">Tille</a>\n",
    "    and they lived at the bottom of a wall.\n",
    "  </p> \n",
    "  <p class=\"story\">...</p>\n",
    " </body>\n",
    "</html>\n",
    "\"\"\"\n",
    "\n",
    "from bs4 import BeautifulSoup\n",
    "soup = BeautifulSoup(html, 'lxml')\n",
    "print(soup.p.contents)"
   ]
  },
  {
   "cell_type": "code",
   "execution_count": 23,
   "metadata": {},
   "outputs": [
    {
     "name": "stdout",
     "output_type": "stream",
     "text": [
      "==============================\n",
      "type of soup.p.children: <list_iterator object at 0x000001FB760DA780>\n",
      "==============================\n",
      "0 Once upon a time there were three little sisters; and their names were \n",
      "      \n",
      "------------------------------------------------------------------------\n",
      "1 <a class=\"sister\" href=\"http://www.example.com/else\" id=\"link1\">\n",
      "<span>Else</span>\n",
      "</a>\n",
      "------------------------------------------------------------------------\n",
      "2 \n",
      "\n",
      "------------------------------------------------------------------------\n",
      "3 <a class=\"sister\" href=\"http://www.example.com/lacie\" id=\"link2\">Lacle</a>\n",
      "------------------------------------------------------------------------\n",
      "4 \n",
      "    and \n",
      "    \n",
      "------------------------------------------------------------------------\n",
      "5 <a class=\"sister\" href=\"http://www.example.com/tillle\" id=\"link3\">Tille</a>\n",
      "------------------------------------------------------------------------\n",
      "6 \n",
      "    and they lived at the bottom of a wall.\n",
      "  \n",
      "------------------------------------------------------------------------\n",
      "==============================\n",
      "type of soup.p.descendants: <generator object descendants at 0x000001FB76263150>\n",
      "==============================\n",
      "0 Once upon a time there were three little sisters; and their names were \n",
      "      \n",
      "------------------------------------------------------------------------\n",
      "1 <a class=\"sister\" href=\"http://www.example.com/else\" id=\"link1\">\n",
      "<span>Else</span>\n",
      "</a>\n",
      "------------------------------------------------------------------------\n",
      "2 \n",
      "\n",
      "------------------------------------------------------------------------\n",
      "3 <span>Else</span>\n",
      "------------------------------------------------------------------------\n",
      "4 Else\n",
      "------------------------------------------------------------------------\n",
      "5 \n",
      "\n",
      "------------------------------------------------------------------------\n",
      "6 \n",
      "\n",
      "------------------------------------------------------------------------\n",
      "7 <a class=\"sister\" href=\"http://www.example.com/lacie\" id=\"link2\">Lacle</a>\n",
      "------------------------------------------------------------------------\n",
      "8 Lacle\n",
      "------------------------------------------------------------------------\n",
      "9 \n",
      "    and \n",
      "    \n",
      "------------------------------------------------------------------------\n",
      "10 <a class=\"sister\" href=\"http://www.example.com/tillle\" id=\"link3\">Tille</a>\n",
      "------------------------------------------------------------------------\n",
      "11 Tille\n",
      "------------------------------------------------------------------------\n",
      "12 \n",
      "    and they lived at the bottom of a wall.\n",
      "  \n",
      "------------------------------------------------------------------------\n"
     ]
    }
   ],
   "source": [
    "# children\n",
    "print(\"===\"*10)\n",
    "children = soup.p.children\n",
    "print(\"type of soup.p.children:\",children)\n",
    "print(\"===\"*10)\n",
    "for i,child in enumerate(children):\n",
    "    print(i,child)\n",
    "    print(\"------\"*12)\n",
    "\n",
    "# descendants\n",
    "print(\"===\"*10)\n",
    "descendants = soup.p.descendants\n",
    "print(\"type of soup.p.descendants:\",descendants)\n",
    "print(\"===\"*10)\n",
    "for i,child in enumerate(descendants):\n",
    "    print(i,child)\n",
    "    print(\"------\"*12)"
   ]
  },
  {
   "cell_type": "markdown",
   "metadata": {},
   "source": [
    "### 父节点和祖先节点"
   ]
  },
  {
   "cell_type": "code",
   "execution_count": 31,
   "metadata": {},
   "outputs": [
    {
     "name": "stdout",
     "output_type": "stream",
     "text": [
      "type of parent: <class 'bs4.element.Tag'>\n",
      "<p class=\"story\">Once upon a time there were three little sisters; and their names were \n",
      "      <a class=\"sister\" href=\"http://www.example.com/else\" id=\"link1\">\n",
      "<span>Else</span>\n",
      "</a>\n",
      "<a class=\"sister\" href=\"http://www.example.com/lacie\" id=\"link2\">Lacle</a>\n",
      "    and \n",
      "    <a class=\"sister\" href=\"http://www.example.com/tillle\" id=\"link3\">Tille</a>\n",
      "    and they lived at the bottom of a wall.\n",
      "  </p>\n",
      "----------------------------------------\n",
      "p\n",
      "body\n",
      "html\n",
      "[document]\n"
     ]
    }
   ],
   "source": [
    "html=\"\"\"\n",
    "<html>\n",
    " <head>\n",
    "  <title>The Document's stroy</title>\n",
    " </head> \n",
    " <body> \n",
    "  <p class=\"story\">Once upon a time there were three little sisters; and their names were \n",
    "      <a href=\"http://www.example.com/else\" class=\"sister\" id=\"link1\">\n",
    "        <span>Else</span>\n",
    "      </a>\n",
    "    <a href=\"http://www.example.com/lacie\" class=\"sister\" id=\"link2\">Lacle</a>\n",
    "    and \n",
    "    <a href=\"http://www.example.com/tillle\" class=\"sister\" id=\"link3\">Tille</a>\n",
    "    and they lived at the bottom of a wall.\n",
    "  </p> \n",
    "  <p class=\"story\">...</p>\n",
    " </body>\n",
    "</html>\n",
    "\"\"\"\n",
    "\n",
    "from bs4 import BeautifulSoup\n",
    "soup = BeautifulSoup(html, 'lxml')\n",
    "print(\"type of parent:\",type(soup.a.parent))\n",
    "print(soup.a.parent)\n",
    "print('----'*10)\n",
    "for p in soup.a.parents:\n",
    "    if p is None:\n",
    "        print(p)\n",
    "    else:\n",
    "        print(p.name)"
   ]
  },
  {
   "cell_type": "markdown",
   "metadata": {},
   "source": [
    "### 兄弟节点"
   ]
  },
  {
   "cell_type": "code",
   "execution_count": 40,
   "metadata": {},
   "outputs": [
    {
     "name": "stdout",
     "output_type": "stream",
     "text": [
      "----------------------------------------\n",
      "previous_sibling: Once upon a time there were three little sisters; and their names were \n",
      "      \n",
      "----------------------------------------\n",
      "next_sibling: \n",
      "\n",
      "----------------------------------------\n",
      "----------------------------------------\n",
      "previous_siblings: ['Once upon a time there were three little sisters; and their names were \\n      ']\n",
      "----------------------------------------\n",
      "next_siblings: ['\\n', <a class=\"sister\" href=\"http://www.example.com/lacie\" id=\"link2\">Lacle</a>, '\\n    and \\n    ', <a class=\"sister\" href=\"http://www.example.com/tillle\" id=\"link3\">Tille</a>, '\\n    and they lived at the bottom of a wall.\\n  ']\n",
      "----------------------------------------\n"
     ]
    }
   ],
   "source": [
    "html=\"\"\"\n",
    "<html>\n",
    " <head>\n",
    "  <title>The Document's stroy</title>\n",
    " </head> \n",
    " <body> \n",
    "  <p class=\"story\">Once upon a time there were three little sisters; and their names were \n",
    "      <a href=\"http://www.example.com/else\" class=\"sister\" id=\"link1\">\n",
    "        <span>Else</span>\n",
    "      </a>\n",
    "    <a href=\"http://www.example.com/lacie\" class=\"sister\" id=\"link2\">Lacle</a>\n",
    "    and \n",
    "    <a href=\"http://www.example.com/tillle\" class=\"sister\" id=\"link3\">Tille</a>\n",
    "    and they lived at the bottom of a wall.\n",
    "  </p> \n",
    "  <p class=\"story\">...</p>\n",
    " </body>\n",
    "</html>\n",
    "\"\"\"\n",
    "\n",
    "from bs4 import BeautifulSoup\n",
    "soup = BeautifulSoup(html, 'lxml')\n",
    "print('----'*10)\n",
    "print('previous_sibling:',soup.a.previous_sibling)\n",
    "print('----'*10)\n",
    "print('next_sibling:',soup.a.next_sibling)\n",
    "print('----'*10)\n",
    "print('----'*10)\n",
    "print('previous_siblings:',list(soup.a.previous_siblings))\n",
    "print('----'*10)\n",
    "print('next_siblings:',list(soup.a.next_siblings))\n",
    "print('----'*10)"
   ]
  },
  {
   "cell_type": "markdown",
   "metadata": {},
   "source": [
    "## 标准选择器\n",
    "\n",
    "### find_all\n",
    "\n",
    "```python\n",
    "find_all( name , attrs , recursive , text , **kwargs )\n",
    "```\n",
    "\n",
    "可根据标签名、属性、内容查找文档"
   ]
  },
  {
   "cell_type": "markdown",
   "metadata": {},
   "source": [
    "#### name"
   ]
  },
  {
   "cell_type": "code",
   "execution_count": 45,
   "metadata": {},
   "outputs": [
    {
     "name": "stdout",
     "output_type": "stream",
     "text": [
      "[<ul class=\"list\" id=\"list-1\">\n",
      "<li class=\"element\">Foo</li>\n",
      "<li class=\"element\">BAr</li>\n",
      "<li class=\"element\">Gods</li>\n",
      "</ul>, <ul class=\"list list-small\" id=\"list-2\">\n",
      "<li class=\"element\">Foo</li>\n",
      "<li class=\"element\">Gods</li>\n",
      "</ul>]\n",
      "----------------------------------------\n",
      "<class 'bs4.element.Tag'>\n",
      "----------------------------------------\n",
      "<li class=\"element\">Foo</li>\n",
      "<li class=\"element\">BAr</li>\n",
      "<li class=\"element\">Gods</li>\n",
      "<li class=\"element\">Foo</li>\n",
      "<li class=\"element\">Gods</li>\n"
     ]
    }
   ],
   "source": [
    "html = '''\n",
    "<div class=\"panel\">\n",
    "    <div class=\"panel-heading\">\n",
    "        <h4>Hello</h4>\n",
    "    <div>\n",
    "    <div class=\"panel-body\">\n",
    "        <ul class=\"list\" id=\"list-1\">\n",
    "            <li class=\"element\">Foo</li>\n",
    "            <li class=\"element\">BAr</li>\n",
    "            <li class=\"element\">Gods</li>\n",
    "        </ul>\n",
    "        \n",
    "        <ul class=\"list list-small\" id=\"list-2\">\n",
    "            <li class=\"element\">Foo</li>\n",
    "            <li class=\"element\">Gods</li>\n",
    "        </ul>\n",
    "    </div>\n",
    "</div>\n",
    "'''\n",
    "from bs4 import BeautifulSoup\n",
    "soup = BeautifulSoup(html, 'lxml')\n",
    "print(soup.find_all('ul'))\n",
    "print('----'*10)\n",
    "print(type(soup.find_all('ul')[0]))\n",
    "print('----'*10)\n",
    "for ul in soup.find_all('ul'):\n",
    "    for li in ul.find_all('li'):\n",
    "        print(li)"
   ]
  },
  {
   "cell_type": "markdown",
   "metadata": {},
   "source": [
    "#### attrs"
   ]
  },
  {
   "cell_type": "code",
   "execution_count": 46,
   "metadata": {},
   "outputs": [
    {
     "name": "stdout",
     "output_type": "stream",
     "text": [
      "[<ul class=\"list\" id=\"list-1\">\n",
      "<li class=\"element\">Foo</li>\n",
      "<li class=\"element\">BAr</li>\n",
      "<li class=\"element\">Gods</li>\n",
      "</ul>]\n"
     ]
    }
   ],
   "source": [
    "print(soup.find_all(attrs={'id':'list-1'}))"
   ]
  },
  {
   "cell_type": "code",
   "execution_count": 48,
   "metadata": {},
   "outputs": [
    {
     "name": "stdout",
     "output_type": "stream",
     "text": [
      "[<ul class=\"list\" id=\"list-1\">\n",
      "<li class=\"element\">Foo</li>\n",
      "<li class=\"element\">BAr</li>\n",
      "<li class=\"element\">Gods</li>\n",
      "</ul>]\n",
      "[<li class=\"element\">Foo</li>, <li class=\"element\">BAr</li>, <li class=\"element\">Gods</li>, <li class=\"element\">Foo</li>, <li class=\"element\">Gods</li>]\n"
     ]
    }
   ],
   "source": [
    "# 等同的写法\n",
    "\n",
    "print(soup.find_all(id='list-1'))\n",
    "\n",
    "print(soup.find_all(class_=\"element\"))"
   ]
  },
  {
   "cell_type": "markdown",
   "metadata": {},
   "source": [
    "#### text"
   ]
  },
  {
   "cell_type": "code",
   "execution_count": 49,
   "metadata": {},
   "outputs": [
    {
     "name": "stdout",
     "output_type": "stream",
     "text": [
      "['Foo', 'Foo']\n"
     ]
    }
   ],
   "source": [
    "print(soup.find_all(text=\"Foo\"))"
   ]
  },
  {
   "cell_type": "markdown",
   "metadata": {},
   "source": [
    "### find\n",
    "\n",
    "find返回单个元素\n",
    "\n",
    "```python\n",
    "find( name , attrs , recursive , text , **kwargs )\n",
    "```"
   ]
  },
  {
   "cell_type": "code",
   "execution_count": 51,
   "metadata": {},
   "outputs": [
    {
     "name": "stdout",
     "output_type": "stream",
     "text": [
      "<ul class=\"list\" id=\"list-1\">\n",
      "<li class=\"element\">Foo</li>\n",
      "<li class=\"element\">BAr</li>\n",
      "<li class=\"element\">Gods</li>\n",
      "</ul>\n",
      "<class 'bs4.element.Tag'>\n",
      "None\n"
     ]
    }
   ],
   "source": [
    "html = '''\n",
    "<div class=\"panel\">\n",
    "    <div class=\"panel-heading\">\n",
    "        <h4>Hello</h4>\n",
    "    <div>\n",
    "    <div class=\"panel-body\">\n",
    "        <ul class=\"list\" id=\"list-1\">\n",
    "            <li class=\"element\">Foo</li>\n",
    "            <li class=\"element\">BAr</li>\n",
    "            <li class=\"element\">Gods</li>\n",
    "        </ul>\n",
    "        \n",
    "        <ul class=\"list list-small\" id=\"list-2\">\n",
    "            <li class=\"element\">Foo</li>\n",
    "            <li class=\"element\">Gods</li>\n",
    "        </ul>\n",
    "    </div>\n",
    "</div>\n",
    "'''\n",
    "from bs4 import BeautifulSoup\n",
    "soup = BeautifulSoup(html, 'lxml')\n",
    "print(soup.find('ul'))\n",
    "print(type(soup.find('ul')))\n",
    "print(soup.find('page'))"
   ]
  },
  {
   "cell_type": "markdown",
   "metadata": {},
   "source": [
    "### find_parents() 和 find_parent()\n",
    "\n",
    "find_parents()返回tag所有符合条件的父节点，find_parent()返回tag第一个符合条件的父节点\n",
    "\n",
    "### find_next_siblings() 和 find_next_sibling()\n",
    "\n",
    "find_next_siblings()返回tag之后所有符合条件的兄弟节点，find_previous_sibling()返回tag之后第一个符合条件的兄弟节点\n",
    "\n",
    "### find_previous_siblings() 和 find_next_sibling()\n",
    "\n",
    "find_previous_siblings()返回tag之前所有符合条件的兄弟节点，find_previous_sibling()返回tag之前第一个符合条件的兄弟节点\n",
    "\n",
    "### find_all_next() 和 find_next()\n",
    "\n",
    "find_all_next()返回节点后所有符合条件的节点，find_next()返回第一个符合条件的节点\n",
    "\n",
    "### find_all_previous() 和 find_previous()\n",
    "\n",
    "find_all_previous()返回tag之前所有符合条件的节点，find_previous()返回tag之前第一个符合条件的节点"
   ]
  },
  {
   "cell_type": "code",
   "execution_count": 64,
   "metadata": {},
   "outputs": [
    {
     "name": "stdout",
     "output_type": "stream",
     "text": [
      "[<div class=\"panel-body\">\n",
      "<ul class=\"list\" id=\"list-1\">\n",
      "<li class=\"element\">Foo</li>\n",
      "<li class=\"element\">BAr</li>\n",
      "<li class=\"element\">Gods</li>\n",
      "</ul>\n",
      "<ul class=\"list list-small\" id=\"list-2\">\n",
      "<li class=\"element\">Foo</li>\n",
      "<li class=\"element\">Gods</li>\n",
      "</ul>\n",
      "</div>]\n",
      "--------------------\n",
      "<ul class=\"list\" id=\"list-1\">\n",
      "<li class=\"element\">Foo</li>\n",
      "<li class=\"element\">BAr</li>\n",
      "<li class=\"element\">Gods</li>\n",
      "</ul>\n"
     ]
    }
   ],
   "source": [
    "html = '''\n",
    "<div class=\"panel\">\n",
    "    <div class=\"panel-heading\">\n",
    "        <h4>Hello</h4>\n",
    "    <div>\n",
    "    <div class=\"panel-body\">\n",
    "        <ul class=\"list\" id=\"list-1\">\n",
    "            <li class=\"element\">Foo</li>\n",
    "            <li class=\"element\">BAr</li>\n",
    "            <li class=\"element\">Gods</li>\n",
    "        </ul>\n",
    "        \n",
    "        <ul class=\"list list-small\" id=\"list-2\">\n",
    "            <li class=\"element\">Foo</li>\n",
    "            <li class=\"element\">Gods</li>\n",
    "        </ul>\n",
    "    </div>\n",
    "</div>\n",
    "'''\n",
    "from bs4 import BeautifulSoup\n",
    "soup = BeautifulSoup(html, 'lxml')\n",
    "print(soup.ul.find_all_previous(class_=\"panel-body\"))\n",
    "print('--'*10)\n",
    "print(soup.li.find_previous(id='list-1'))"
   ]
  },
  {
   "cell_type": "markdown",
   "metadata": {},
   "source": [
    "## CSS选择器\n",
    "\n",
    "通过select()直接传入CSS选择器即可完成选择"
   ]
  },
  {
   "cell_type": "code",
   "execution_count": 68,
   "metadata": {},
   "outputs": [
    {
     "name": "stdout",
     "output_type": "stream",
     "text": [
      "-------------------- .panel .panel-heading --------------------\n",
      "[<div class=\"panel-heading\">\n",
      "<h4>Hello</h4>\n",
      "<div>\n",
      "<div class=\"panel-body\">\n",
      "<ul class=\"list\" id=\"list-1\">\n",
      "<li class=\"element\">Foo</li>\n",
      "<li class=\"element\">BAr</li>\n",
      "<li class=\"element\">Gods</li>\n",
      "</ul>\n",
      "<ul class=\"list list-small\" id=\"list-2\">\n",
      "<li class=\"element\">Foo</li>\n",
      "<li class=\"element\">Gods</li>\n",
      "</ul>\n",
      "</div>\n",
      "</div>\n",
      "</div>]\n",
      "-------------------- ul li --------------------\n",
      "[<li class=\"element\">Foo</li>, <li class=\"element\">BAr</li>, <li class=\"element\">Gods</li>, <li class=\"element\">Foo</li>, <li class=\"element\">Gods</li>]\n",
      "-------------------- #list-2 .element --------------------\n",
      "[<li class=\"element\">Foo</li>, <li class=\"element\">Gods</li>]\n",
      "<class 'bs4.element.Tag'>\n"
     ]
    }
   ],
   "source": [
    "html = '''\n",
    "<div class=\"panel\">\n",
    "    <div class=\"panel-heading\">\n",
    "        <h4>Hello</h4>\n",
    "    <div>\n",
    "    <div class=\"panel-body\">\n",
    "        <ul class=\"list\" id=\"list-1\">\n",
    "            <li class=\"element\">Foo</li>\n",
    "            <li class=\"element\">BAr</li>\n",
    "            <li class=\"element\">Gods</li>\n",
    "        </ul>\n",
    "        \n",
    "        <ul class=\"list list-small\" id=\"list-2\">\n",
    "            <li class=\"element\">Foo</li>\n",
    "            <li class=\"element\">Gods</li>\n",
    "        </ul>\n",
    "    </div>\n",
    "</div>\n",
    "'''\n",
    "from bs4 import BeautifulSoup\n",
    "soup = BeautifulSoup(html, 'lxml')\n",
    "print('--'*10,\".panel .panel-heading\",'--'*10)\n",
    "print(soup.select('.panel .panel-heading')) # 用class选择\n",
    "print('--'*10,\"ul li\",'--'*10)\n",
    "print(soup.select('ul li')) # 用标签选择\n",
    "print('--'*10,\"#list-2 .element\",'--'*10)\n",
    "print(soup.select('#list-2 .element')) # 用class和id来选择\n",
    "print(type(soup.select('#list-2 .element')[0]))"
   ]
  },
  {
   "cell_type": "markdown",
   "metadata": {},
   "source": [
    "### 获取属性和内容"
   ]
  },
  {
   "cell_type": "code",
   "execution_count": 73,
   "metadata": {},
   "outputs": [
    {
     "name": "stdout",
     "output_type": "stream",
     "text": [
      "['list'] list-1\n",
      "text: Foo , string: Foo , get_text: Foo\n",
      "text: BAr , string: BAr , get_text: BAr\n",
      "text: Gods , string: Gods , get_text: Gods\n",
      "['list', 'list-small'] list-2\n",
      "text: Foo , string: Foo , get_text: Foo\n",
      "text: Gods , string: Gods , get_text: Gods\n"
     ]
    }
   ],
   "source": [
    "html = '''\n",
    "<div class=\"panel\">\n",
    "    <div class=\"panel-heading\">\n",
    "        <h4>Hello</h4>\n",
    "    <div>\n",
    "    <div class=\"panel-body\">\n",
    "        <ul class=\"list\" id=\"list-1\">\n",
    "            <li class=\"element\">Foo</li>\n",
    "            <li class=\"element\">BAr</li>\n",
    "            <li class=\"element\">Gods</li>\n",
    "        </ul>\n",
    "        \n",
    "        <ul class=\"list list-small\" id=\"list-2\">\n",
    "            <li class=\"element\">Foo</li>\n",
    "            <li class=\"element\">Gods</li>\n",
    "        </ul>\n",
    "    </div>\n",
    "</div>\n",
    "'''\n",
    "from bs4 import BeautifulSoup\n",
    "soup = BeautifulSoup(html, 'lxml')\n",
    "for ul in soup.select('ul'):\n",
    "    print(ul['class'],ul.attrs['id'])\n",
    "    for li in ul.select('li'):\n",
    "        print('text:',li.text,', string:',li.string,', get_text:',li.get_text())"
   ]
  },
  {
   "cell_type": "markdown",
   "metadata": {},
   "source": [
    "## 总结\n",
    "\n",
    "- 推荐使用lxml解析库，必要时用html.parser\n",
    "- 标签选择器筛选功能弱，但速度快\n",
    "- 推荐使用find()、find_all()来匹配单个结果或多个结果\n",
    "- 对于CSS选择器较为熟悉的可以使用select()\n",
    "- 需记住常用的获取属性（tag.name_of_property或则tag.atters['name_of_property']）和文本（text,string,css选择器筛选出来的可以用get_text）的方法"
   ]
  },
  {
   "cell_type": "code",
   "execution_count": null,
   "metadata": {},
   "outputs": [],
   "source": []
  }
 ],
 "metadata": {
  "kernelspec": {
   "display_name": "Python 3",
   "language": "python",
   "name": "python3"
  },
  "language_info": {
   "codemirror_mode": {
    "name": "ipython",
    "version": 3
   },
   "file_extension": ".py",
   "mimetype": "text/x-python",
   "name": "python",
   "nbconvert_exporter": "python",
   "pygments_lexer": "ipython3",
   "version": "3.6.0"
  }
 },
 "nbformat": 4,
 "nbformat_minor": 4
}
