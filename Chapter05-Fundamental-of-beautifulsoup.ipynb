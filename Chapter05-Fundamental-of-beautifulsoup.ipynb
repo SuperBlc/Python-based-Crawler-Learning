{
 "cells": [
  {
   "cell_type": "markdown",
   "metadata": {},
   "source": [
    "# BeautifulSoup \n",
    "\n",
    "## 解析库\n",
    "\n",
    "解析器 | 使用方法 | 优势 | 劣势\n",
    ":- | :- | :-| :-|\n",
    "Python标准库|BeautifulSoup(markup,\"html.parser\")|Python的内置标准库、执行速度适中、文档容错能力强|Python 2.7.3 or 3.2.2 前的版本中文容错能力差|\n",
    "lxml HTML解析器 | BeautifulSoup(markup,\"lxml\")|速度快、文档容错能力强|需要安装C语言库|\n",
    "lxml XML解析器 | BeautifulSoup(markup,\"xml\")|速度快、唯一支持XML的解析器|需要安装C语言库|\n",
    "html5lib|BeautifulSoup(markup,\"html5lib\")|最好的容错性、以浏览器的方式解析文档、生成HTML5格式的文档|速度慢、不依赖外部扩展|"
   ]
  },
  {
   "cell_type": "markdown",
   "metadata": {},
   "source": [
    "## 基本使用"
   ]
  },
  {
   "cell_type": "code",
   "execution_count": 1,
   "metadata": {},
   "outputs": [
    {
     "name": "stdout",
     "output_type": "stream",
     "text": [
      "<html>\n",
      " <head>\n",
      "  <title>\n",
      "   The Document's stroy\n",
      "  </title>\n",
      " </head>\n",
      " <body>\n",
      "  <p class=\"title\" name=\"dromouse\">\n",
      "   <b>\n",
      "    The Dormouse's stroy\n",
      "   </b>\n",
      "  </p>\n",
      "  <p class=\"story\">\n",
      "   Once upon a time there were three little sisters; and their names were\n",
      "   <a class=\"sister\" href=\"http://www.example.com/else\" id=\"link1\">\n",
      "    <!-- Else -->\n",
      "   </a>\n",
      "   ,\n",
      "   <a class=\"sister\" href=\"http://www.example.com/lacie\" id=\"link2\">\n",
      "    Lacle\n",
      "   </a>\n",
      "   and\n",
      "   <a class=\"sister\" href=\"http://www.example.com/tillle\" id=\"link3\">\n",
      "    Tille\n",
      "   </a>\n",
      "   ;\n",
      "and they lived at the bottom of a wall.\n",
      "  </p>\n",
      "  <p class=\"story\">\n",
      "   ...\n",
      "  </p>\n",
      " </body>\n",
      "</html>\n",
      "The Document's stroy\n"
     ]
    }
   ],
   "source": [
    "html=\"\"\"\n",
    "<html><head><title>The Document's stroy</title></head>\n",
    "<body>\n",
    "<p class=\"title\" name=\"dromouse\"><b>The Dormouse's stroy</b></p>\n",
    "<p class=\"story\">Once upon a time there were three little sisters; and their names were\n",
    "<a href=\"http://www.example.com/else\" class=\"sister\" id=\"link1\"><!-- Else --></a>,\n",
    "<a href=\"http://www.example.com/lacie\" class=\"sister\" id=\"link2\">Lacle</a> and\n",
    "<a href=\"http://www.example.com/tillle\" class=\"sister\" id=\"link3\">Tille</a>;\n",
    "and they lived at the bottom of a wall.</p>\n",
    "<p class=\"story\">...</p>\n",
    "\"\"\"\n",
    "from bs4 import BeautifulSoup\n",
    "soup = BeautifulSoup(html, \"lxml\")\n",
    "print(soup.prettify())\n",
    "print(soup.title.string)"
   ]
  },
  {
   "cell_type": "markdown",
   "metadata": {},
   "source": [
    "## 标签选择器\n",
    "\n",
    "### 选择元素"
   ]
  },
  {
   "cell_type": "code",
   "execution_count": 2,
   "metadata": {},
   "outputs": [
    {
     "name": "stdout",
     "output_type": "stream",
     "text": [
      "<title>The Document's stroy</title>\n",
      "<class 'bs4.element.Tag'>\n",
      "<head><title>The Document's stroy</title></head>\n",
      "<class 'bs4.element.Tag'>\n",
      "<p class=\"title\" name=\"dromouse\"><b>The Dormouse's stroy</b></p>\n",
      "<class 'bs4.element.Tag'>\n",
      "<a class=\"sister\" href=\"http://www.example.com/else\" id=\"link1\"><!-- Else --></a>\n"
     ]
    }
   ],
   "source": [
    "html=\"\"\"\n",
    "<html><head><title>The Document's stroy</title></head>\n",
    "<body>\n",
    "<p class=\"title\" name=\"dromouse\"><b>The Dormouse's stroy</b></p>\n",
    "<p class=\"story\">Once upon a time there were three little sisters; and their names were\n",
    "<a href=\"http://www.example.com/else\" class=\"sister\" id=\"link1\"><!-- Else --></a>,\n",
    "<a href=\"http://www.example.com/lacie\" class=\"sister\" id=\"link2\">Lacle</a> and\n",
    "<a href=\"http://www.example.com/tillle\" class=\"sister\" id=\"link3\">Tille</a>;\n",
    "and they lived at the bottom of a wall.</p>\n",
    "<p class=\"story\">...</p>\n",
    "\"\"\"\n",
    "from bs4 import BeautifulSoup\n",
    "soup = BeautifulSoup(html, \"lxml\")\n",
    "print(soup.title)\n",
    "print(type(soup.title))\n",
    "print(soup.head)\n",
    "print(type(soup.head))\n",
    "print(soup.p)\n",
    "print(type(soup.p))\n",
    "print(soup.a)"
   ]
  },
  {
   "cell_type": "markdown",
   "metadata": {},
   "source": [
    "### 获取标签的名称\n"
   ]
  },
  {
   "cell_type": "code",
   "execution_count": 3,
   "metadata": {},
   "outputs": [
    {
     "name": "stdout",
     "output_type": "stream",
     "text": [
      "title\n"
     ]
    }
   ],
   "source": [
    "html=\"\"\"\n",
    "<html><head><title>The Document's stroy</title></head>\n",
    "<body>\n",
    "<p class=\"title\" name=\"dromouse\"><b>The Dormouse's stroy</b></p>\n",
    "<p class=\"story\">Once upon a time there were three little sisters; and their names were\n",
    "<a href=\"http://www.example.com/else\" class=\"sister\" id=\"link1\"><!-- Else --></a>,\n",
    "<a href=\"http://www.example.com/lacie\" class=\"sister\" id=\"link2\">Lacle</a> and\n",
    "<a href=\"http://www.example.com/tillle\" class=\"sister\" id=\"link3\">Tille</a>;\n",
    "and they lived at the bottom of a wall.</p>\n",
    "<p class=\"story\">...</p>\n",
    "\"\"\"\n",
    "from bs4 import BeautifulSoup\n",
    "soup = BeautifulSoup(html, \"lxml\")\n",
    "print(soup.title.name)"
   ]
  },
  {
   "cell_type": "code",
   "execution_count": null,
   "metadata": {},
   "outputs": [],
   "source": []
  }
 ],
 "metadata": {
  "kernelspec": {
   "display_name": "Python 3",
   "language": "python",
   "name": "python3"
  },
  "language_info": {
   "codemirror_mode": {
    "name": "ipython",
    "version": 3
   },
   "file_extension": ".py",
   "mimetype": "text/x-python",
   "name": "python",
   "nbconvert_exporter": "python",
   "pygments_lexer": "ipython3",
   "version": "3.6.0"
  }
 },
 "nbformat": 4,
 "nbformat_minor": 4
}
