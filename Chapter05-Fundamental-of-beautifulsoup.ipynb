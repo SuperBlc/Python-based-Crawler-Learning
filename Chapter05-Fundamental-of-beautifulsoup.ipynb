{
 "cells": [
  {
   "cell_type": "markdown",
   "metadata": {},
   "source": [
    "# BeautifulSoup \n",
    "\n",
    "## 解析库\n",
    "\n",
    "解析器 | 使用方法 | 优势 | 劣势\n",
    ":- | :- | :-| :-|\n",
    "Python标准库|BeautifulSoup(markup,\"html.parser\")|Python的内置标准库、执行速度适中、文档容错能力强|Python 2.7.3 or 3.2.2 前的版本中文容错能力差|\n",
    "lxml HTML解析器 | BeautifulSoup(markup,\"lxml\")|速度快、文档容错能力强|需要安装C语言库|\n",
    "lxml XML解析器 | BeautifulSoup(markup,\"xml\")|速度快、唯一支持XML的解析器|需要安装C语言库|\n",
    "html5lib|BeautifulSoup(markup,\"html5lib\")|最好的容错性、以浏览器的方式解析文档、生成HTML5格式的文档|速度慢、不依赖外部扩展|"
   ]
  },
  {
   "cell_type": "markdown",
   "metadata": {},
   "source": [
    "## 基本使用"
   ]
  },
  {
   "cell_type": "code",
   "execution_count": 2,
   "metadata": {},
   "outputs": [
    {
     "name": "stdout",
     "output_type": "stream",
     "text": [
      "soup.prettify():\n",
      " <html>\n",
      " <head>\n",
      "  <title>\n",
      "   The Document's stroy\n",
      "  </title>\n",
      " </head>\n",
      " <body>\n",
      "  <p class=\"title\" name=\"dromouse\">\n",
      "   <b>\n",
      "    The Dormouse's stroy\n",
      "   </b>\n",
      "  </p>\n",
      "  <p class=\"story\">\n",
      "   Once upon a time there were three little sisters; and their names were\n",
      "   <a class=\"sister\" href=\"http://www.example.com/else\" id=\"link1\">\n",
      "    <!-- Else -->\n",
      "   </a>\n",
      "   ,\n",
      "   <a class=\"sister\" href=\"http://www.example.com/lacie\" id=\"link2\">\n",
      "    Lacle\n",
      "   </a>\n",
      "   and\n",
      "   <a class=\"sister\" href=\"http://www.example.com/tillle\" id=\"link3\">\n",
      "    Tille\n",
      "   </a>\n",
      "   ;\n",
      "and they lived at the bottom of a wall.\n",
      "  </p>\n",
      "  <p class=\"story\">\n",
      "   ...\n",
      "  </p>\n",
      " </body>\n",
      "</html>\n",
      "soup.title.string: The Document's stroy\n"
     ]
    }
   ],
   "source": [
    "html=\"\"\"\n",
    "<html><head><title>The Document's stroy</title></head>\n",
    "<body>\n",
    "<p class=\"title\" name=\"dromouse\"><b>The Dormouse's stroy</b></p>\n",
    "<p class=\"story\">Once upon a time there were three little sisters; and their names were\n",
    "<a href=\"http://www.example.com/else\" class=\"sister\" id=\"link1\"><!-- Else --></a>,\n",
    "<a href=\"http://www.example.com/lacie\" class=\"sister\" id=\"link2\">Lacle</a> and\n",
    "<a href=\"http://www.example.com/tillle\" class=\"sister\" id=\"link3\">Tille</a>;\n",
    "and they lived at the bottom of a wall.</p>\n",
    "<p class=\"story\">...</p>\n",
    "\"\"\"\n",
    "from bs4 import BeautifulSoup\n",
    "soup = BeautifulSoup(html, \"lxml\")\n",
    "print(\"soup.prettify():\\n\",soup.prettify())\n",
    "print(\"soup.title.string:\",soup.title.string)"
   ]
  },
  {
   "cell_type": "markdown",
   "metadata": {},
   "source": [
    "## 标签选择器\n",
    "\n",
    "### 选择元素"
   ]
  },
  {
   "cell_type": "code",
   "execution_count": 2,
   "metadata": {},
   "outputs": [
    {
     "name": "stdout",
     "output_type": "stream",
     "text": [
      "<title>The Document's stroy</title>\n",
      "<class 'bs4.element.Tag'>\n",
      "<head><title>The Document's stroy</title></head>\n",
      "<class 'bs4.element.Tag'>\n",
      "<p class=\"title\" name=\"dromouse\"><b>The Dormouse's stroy</b></p>\n",
      "<class 'bs4.element.Tag'>\n",
      "<a class=\"sister\" href=\"http://www.example.com/else\" id=\"link1\"><!-- Else --></a>\n"
     ]
    }
   ],
   "source": [
    "html=\"\"\"\n",
    "<html><head><title>The Document's stroy</title></head>\n",
    "<body>\n",
    "<p class=\"title\" name=\"dromouse\"><b>The Dormouse's stroy</b></p>\n",
    "<p class=\"story\">Once upon a time there were three little sisters; and their names were\n",
    "<a href=\"http://www.example.com/else\" class=\"sister\" id=\"link1\"><!-- Else --></a>,\n",
    "<a href=\"http://www.example.com/lacie\" class=\"sister\" id=\"link2\">Lacle</a> and\n",
    "<a href=\"http://www.example.com/tillle\" class=\"sister\" id=\"link3\">Tille</a>;\n",
    "and they lived at the bottom of a wall.</p>\n",
    "<p class=\"story\">...</p>\n",
    "\"\"\"\n",
    "from bs4 import BeautifulSoup\n",
    "soup = BeautifulSoup(html, \"lxml\")\n",
    "print(soup.title)\n",
    "print(type(soup.title))\n",
    "print(soup.head)\n",
    "print(type(soup.head))\n",
    "print(soup.p)\n",
    "print(type(soup.p))\n",
    "print(soup.a)"
   ]
  },
  {
   "cell_type": "markdown",
   "metadata": {},
   "source": [
    "### 获取标签的名称"
   ]
  },
  {
   "cell_type": "code",
   "execution_count": 3,
   "metadata": {},
   "outputs": [
    {
     "name": "stdout",
     "output_type": "stream",
     "text": [
      "title\n"
     ]
    }
   ],
   "source": [
    "html=\"\"\"\n",
    "<html><head><title>The Document's stroy</title></head>\n",
    "<body>\n",
    "<p class=\"title\" name=\"dromouse\"><b>The Dormouse's stroy</b></p>\n",
    "<p class=\"story\">Once upon a time there were three little sisters; and their names were\n",
    "<a href=\"http://www.example.com/else\" class=\"sister\" id=\"link1\"><!-- Else --></a>,\n",
    "<a href=\"http://www.example.com/lacie\" class=\"sister\" id=\"link2\">Lacle</a> and\n",
    "<a href=\"http://www.example.com/tillle\" class=\"sister\" id=\"link3\">Tille</a>;\n",
    "and they lived at the bottom of a wall.</p>\n",
    "<p class=\"story\">...</p>\n",
    "\"\"\"\n",
    "from bs4 import BeautifulSoup\n",
    "soup = BeautifulSoup(html, \"lxml\")\n",
    "print(soup.title.name)"
   ]
  },
  {
   "cell_type": "markdown",
   "metadata": {},
   "source": [
    "### 获取标签内容"
   ]
  },
  {
   "cell_type": "code",
   "execution_count": 5,
   "metadata": {},
   "outputs": [
    {
     "name": "stdout",
     "output_type": "stream",
     "text": [
      "p.string: None\n",
      "p.text: The Dormouse's stroy\n",
      "b.string: None\n",
      "b.text: The Dormouse's stroy\n",
      "a.string:  Else,This is Comment \n",
      "a.text: \n"
     ]
    }
   ],
   "source": [
    "html=\"\"\"\n",
    "<html><head><title>The Document's stroy</title></head>\n",
    "<body>\n",
    "<p class=\"title\" name=\"dromouse\"><b>The Dormouse's stroy<!-- p comment --></b></p>\n",
    "<p class=\"story\">Once upon a time there were three little sisters; and their names were\n",
    "<a href=\"http://www.example.com/else\" class=\"sister\" id=\"link1\"><!-- Else,This is Comment --></a>,\n",
    "<a href=\"http://www.example.com/lacie\" class=\"sister\" id=\"link2\">Lacle</a> and\n",
    "<a href=\"http://www.example.com/tillle\" class=\"sister\" id=\"link3\">Tille</a>;\n",
    "and they lived at the bottom of a wall.</p>\n",
    "<p class=\"story\">...</p>\n",
    "\"\"\"\n",
    "from bs4 import BeautifulSoup\n",
    "soup = BeautifulSoup(html, \"lxml\")\n",
    "print(\"p.string:\",soup.p.string)\n",
    "print(\"p.text:\",soup.p.text)\n",
    "print(\"b.string:\",soup.b.string)\n",
    "print(\"b.text:\",soup.b.text)\n",
    "print(\"a.string:\",soup.a.string)\n",
    "print(\"a.text:\", soup.a.text)"
   ]
  },
  {
   "cell_type": "markdown",
   "metadata": {},
   "source": [
    "---\n",
    "小结：明显看出，标签.stirng和标签.text返回的内容不同。\n",
    "1. text则是返回由标签包裹的内容，且不含注释；\n",
    "2. string返回的是由标签包裹的内容。\n",
    "3. 但两者不同之处在于，string可以返回注释内的文本信息，要显示的文本和注释同时存在时，string则会返回None，text依旧返回由标签包裹其正常显示的内容"
   ]
  },
  {
   "cell_type": "markdown",
   "metadata": {},
   "source": [
    "### 嵌套选择"
   ]
  },
  {
   "cell_type": "code",
   "execution_count": 7,
   "metadata": {},
   "outputs": [
    {
     "name": "stdout",
     "output_type": "stream",
     "text": [
      "The Document's stroy\n",
      "link1\n"
     ]
    }
   ],
   "source": [
    "html=\"\"\"\n",
    "<html><head><title>The Document's stroy</title></head>\n",
    "<body>\n",
    "<p class=\"title\" name=\"dromouse\"><b>The Dormouse's stroy<!-- p comment --></b></p>\n",
    "<p class=\"story\">Once upon a time there were three little sisters; and their names were\n",
    "<a href=\"http://www.example.com/else\" class=\"sister\" id=\"link1\"><!-- Else,This is Comment --></a>,\n",
    "<a href=\"http://www.example.com/lacie\" class=\"sister\" id=\"link2\">Lacle</a> and\n",
    "<a href=\"http://www.example.com/tillle\" class=\"sister\" id=\"link3\">Tille</a>;\n",
    "and they lived at the bottom of a wall.</p>\n",
    "<p class=\"story\">...</p>\n",
    "\"\"\"\n",
    "\n",
    "from bs4 import BeautifulSoup\n",
    "soup = BeautifulSoup(html, 'lxml')\n",
    "print(soup.head.title.string)\n",
    "print(soup.body.a['id'])"
   ]
  },
  {
   "cell_type": "markdown",
   "metadata": {},
   "source": [
    "### 子节点和子孙节点"
   ]
  },
  {
   "cell_type": "code",
   "execution_count": 18,
   "metadata": {},
   "outputs": [
    {
     "name": "stdout",
     "output_type": "stream",
     "text": [
      "['Once upon a time there were three little sisters; and their names were \\n      ', <a class=\"sister\" href=\"http://www.example.com/else\" id=\"link1\">\n",
      "<span>Else</span>\n",
      "</a>, '\\n', <a class=\"sister\" href=\"http://www.example.com/lacie\" id=\"link2\">Lacle</a>, '\\n    and \\n    ', <a class=\"sister\" href=\"http://www.example.com/tillle\" id=\"link3\">Tille</a>, '\\n    and they lived at the bottom of a wall.\\n  ']\n",
      "==============================\n",
      "type of soup.p.children: <list_iterator object at 0x000001FB76091CF8>\n",
      "==============================\n",
      "0 Once upon a time there were three little sisters; and their names were \n",
      "      \n",
      "------------------------------------------------------------\n",
      "1 <a class=\"sister\" href=\"http://www.example.com/else\" id=\"link1\">\n",
      "<span>Else</span>\n",
      "</a>\n",
      "------------------------------------------------------------\n",
      "2 \n",
      "\n",
      "------------------------------------------------------------\n",
      "3 <a class=\"sister\" href=\"http://www.example.com/lacie\" id=\"link2\">Lacle</a>\n",
      "------------------------------------------------------------\n",
      "4 \n",
      "    and \n",
      "    \n",
      "------------------------------------------------------------\n",
      "5 <a class=\"sister\" href=\"http://www.example.com/tillle\" id=\"link3\">Tille</a>\n",
      "------------------------------------------------------------\n",
      "6 \n",
      "    and they lived at the bottom of a wall.\n",
      "  \n",
      "------------------------------------------------------------\n"
     ]
    }
   ],
   "source": [
    "html=\"\"\"\n",
    "<html>\n",
    " <head>\n",
    "  <title>The Document's stroy</title>\n",
    " </head> \n",
    " <body> \n",
    "  <p class=\"story\">Once upon a time there were three little sisters; and their names were \n",
    "      <a href=\"http://www.example.com/else\" class=\"sister\" id=\"link1\">\n",
    "        <span>Else</span>\n",
    "      </a>\n",
    "    <a href=\"http://www.example.com/lacie\" class=\"sister\" id=\"link2\">Lacle</a>\n",
    "    and \n",
    "    <a href=\"http://www.example.com/tillle\" class=\"sister\" id=\"link3\">Tille</a>\n",
    "    and they lived at the bottom of a wall.\n",
    "  </p> \n",
    "  <p class=\"story\">...</p>\n",
    " </body>\n",
    "</html>\n",
    "\"\"\"\n",
    "\n",
    "from bs4 import BeautifulSoup\n",
    "soup = BeautifulSoup(html, 'lxml')\n",
    "print(soup.p.contents)"
   ]
  },
  {
   "cell_type": "code",
   "execution_count": 23,
   "metadata": {},
   "outputs": [
    {
     "name": "stdout",
     "output_type": "stream",
     "text": [
      "==============================\n",
      "type of soup.p.children: <list_iterator object at 0x000001FB760DA780>\n",
      "==============================\n",
      "0 Once upon a time there were three little sisters; and their names were \n",
      "      \n",
      "------------------------------------------------------------------------\n",
      "1 <a class=\"sister\" href=\"http://www.example.com/else\" id=\"link1\">\n",
      "<span>Else</span>\n",
      "</a>\n",
      "------------------------------------------------------------------------\n",
      "2 \n",
      "\n",
      "------------------------------------------------------------------------\n",
      "3 <a class=\"sister\" href=\"http://www.example.com/lacie\" id=\"link2\">Lacle</a>\n",
      "------------------------------------------------------------------------\n",
      "4 \n",
      "    and \n",
      "    \n",
      "------------------------------------------------------------------------\n",
      "5 <a class=\"sister\" href=\"http://www.example.com/tillle\" id=\"link3\">Tille</a>\n",
      "------------------------------------------------------------------------\n",
      "6 \n",
      "    and they lived at the bottom of a wall.\n",
      "  \n",
      "------------------------------------------------------------------------\n",
      "==============================\n",
      "type of soup.p.descendants: <generator object descendants at 0x000001FB76263150>\n",
      "==============================\n",
      "0 Once upon a time there were three little sisters; and their names were \n",
      "      \n",
      "------------------------------------------------------------------------\n",
      "1 <a class=\"sister\" href=\"http://www.example.com/else\" id=\"link1\">\n",
      "<span>Else</span>\n",
      "</a>\n",
      "------------------------------------------------------------------------\n",
      "2 \n",
      "\n",
      "------------------------------------------------------------------------\n",
      "3 <span>Else</span>\n",
      "------------------------------------------------------------------------\n",
      "4 Else\n",
      "------------------------------------------------------------------------\n",
      "5 \n",
      "\n",
      "------------------------------------------------------------------------\n",
      "6 \n",
      "\n",
      "------------------------------------------------------------------------\n",
      "7 <a class=\"sister\" href=\"http://www.example.com/lacie\" id=\"link2\">Lacle</a>\n",
      "------------------------------------------------------------------------\n",
      "8 Lacle\n",
      "------------------------------------------------------------------------\n",
      "9 \n",
      "    and \n",
      "    \n",
      "------------------------------------------------------------------------\n",
      "10 <a class=\"sister\" href=\"http://www.example.com/tillle\" id=\"link3\">Tille</a>\n",
      "------------------------------------------------------------------------\n",
      "11 Tille\n",
      "------------------------------------------------------------------------\n",
      "12 \n",
      "    and they lived at the bottom of a wall.\n",
      "  \n",
      "------------------------------------------------------------------------\n"
     ]
    }
   ],
   "source": [
    "# children\n",
    "print(\"===\"*10)\n",
    "children = soup.p.children\n",
    "print(\"type of soup.p.children:\",children)\n",
    "print(\"===\"*10)\n",
    "for i,child in enumerate(children):\n",
    "    print(i,child)\n",
    "    print(\"------\"*12)\n",
    "\n",
    "# descendants\n",
    "print(\"===\"*10)\n",
    "descendants = soup.p.descendants\n",
    "print(\"type of soup.p.descendants:\",descendants)\n",
    "print(\"===\"*10)\n",
    "for i,child in enumerate(descendants):\n",
    "    print(i,child)\n",
    "    print(\"------\"*12)"
   ]
  },
  {
   "cell_type": "markdown",
   "metadata": {},
   "source": [
    "### 父节点和祖先节点"
   ]
  },
  {
   "cell_type": "code",
   "execution_count": 31,
   "metadata": {},
   "outputs": [
    {
     "name": "stdout",
     "output_type": "stream",
     "text": [
      "type of parent: <class 'bs4.element.Tag'>\n",
      "<p class=\"story\">Once upon a time there were three little sisters; and their names were \n",
      "      <a class=\"sister\" href=\"http://www.example.com/else\" id=\"link1\">\n",
      "<span>Else</span>\n",
      "</a>\n",
      "<a class=\"sister\" href=\"http://www.example.com/lacie\" id=\"link2\">Lacle</a>\n",
      "    and \n",
      "    <a class=\"sister\" href=\"http://www.example.com/tillle\" id=\"link3\">Tille</a>\n",
      "    and they lived at the bottom of a wall.\n",
      "  </p>\n",
      "----------------------------------------\n",
      "p\n",
      "body\n",
      "html\n",
      "[document]\n"
     ]
    }
   ],
   "source": [
    "html=\"\"\"\n",
    "<html>\n",
    " <head>\n",
    "  <title>The Document's stroy</title>\n",
    " </head> \n",
    " <body> \n",
    "  <p class=\"story\">Once upon a time there were three little sisters; and their names were \n",
    "      <a href=\"http://www.example.com/else\" class=\"sister\" id=\"link1\">\n",
    "        <span>Else</span>\n",
    "      </a>\n",
    "    <a href=\"http://www.example.com/lacie\" class=\"sister\" id=\"link2\">Lacle</a>\n",
    "    and \n",
    "    <a href=\"http://www.example.com/tillle\" class=\"sister\" id=\"link3\">Tille</a>\n",
    "    and they lived at the bottom of a wall.\n",
    "  </p> \n",
    "  <p class=\"story\">...</p>\n",
    " </body>\n",
    "</html>\n",
    "\"\"\"\n",
    "\n",
    "from bs4 import BeautifulSoup\n",
    "soup = BeautifulSoup(html, 'lxml')\n",
    "print(\"type of parent:\",type(soup.a.parent))\n",
    "print(soup.a.parent)\n",
    "print('----'*10)\n",
    "for p in soup.a.parents:\n",
    "    if p is None:\n",
    "        print(p)\n",
    "    else:\n",
    "        print(p.name)"
   ]
  },
  {
   "cell_type": "markdown",
   "metadata": {},
   "source": [
    "### 兄弟节点"
   ]
  },
  {
   "cell_type": "code",
   "execution_count": 40,
   "metadata": {},
   "outputs": [
    {
     "name": "stdout",
     "output_type": "stream",
     "text": [
      "----------------------------------------\n",
      "previous_sibling: Once upon a time there were three little sisters; and their names were \n",
      "      \n",
      "----------------------------------------\n",
      "next_sibling: \n",
      "\n",
      "----------------------------------------\n",
      "----------------------------------------\n",
      "previous_siblings: ['Once upon a time there were three little sisters; and their names were \\n      ']\n",
      "----------------------------------------\n",
      "next_siblings: ['\\n', <a class=\"sister\" href=\"http://www.example.com/lacie\" id=\"link2\">Lacle</a>, '\\n    and \\n    ', <a class=\"sister\" href=\"http://www.example.com/tillle\" id=\"link3\">Tille</a>, '\\n    and they lived at the bottom of a wall.\\n  ']\n",
      "----------------------------------------\n"
     ]
    }
   ],
   "source": [
    "html=\"\"\"\n",
    "<html>\n",
    " <head>\n",
    "  <title>The Document's stroy</title>\n",
    " </head> \n",
    " <body> \n",
    "  <p class=\"story\">Once upon a time there were three little sisters; and their names were \n",
    "      <a href=\"http://www.example.com/else\" class=\"sister\" id=\"link1\">\n",
    "        <span>Else</span>\n",
    "      </a>\n",
    "    <a href=\"http://www.example.com/lacie\" class=\"sister\" id=\"link2\">Lacle</a>\n",
    "    and \n",
    "    <a href=\"http://www.example.com/tillle\" class=\"sister\" id=\"link3\">Tille</a>\n",
    "    and they lived at the bottom of a wall.\n",
    "  </p> \n",
    "  <p class=\"story\">...</p>\n",
    " </body>\n",
    "</html>\n",
    "\"\"\"\n",
    "\n",
    "from bs4 import BeautifulSoup\n",
    "soup = BeautifulSoup(html, 'lxml')\n",
    "print('----'*10)\n",
    "print('previous_sibling:',soup.a.previous_sibling)\n",
    "print('----'*10)\n",
    "print('next_sibling:',soup.a.next_sibling)\n",
    "print('----'*10)\n",
    "print('----'*10)\n",
    "print('previous_siblings:',list(soup.a.previous_siblings))\n",
    "print('----'*10)\n",
    "print('next_siblings:',list(soup.a.next_siblings))\n",
    "print('----'*10)"
   ]
  },
  {
   "cell_type": "markdown",
   "metadata": {},
   "source": [
    "## 标准选择器\n",
    "\n",
    "### find_all\n",
    "\n",
    "```python\n",
    "find_all( name , attrs , recursive , text , **kwargs )\n",
    "```\n",
    "\n",
    "可根据标签名、属性、内容查找文档"
   ]
  },
  {
   "cell_type": "markdown",
   "metadata": {},
   "source": [
    "#### name"
   ]
  },
  {
   "cell_type": "code",
   "execution_count": 45,
   "metadata": {},
   "outputs": [
    {
     "name": "stdout",
     "output_type": "stream",
     "text": [
      "[<ul class=\"list\" id=\"list-1\">\n",
      "<li class=\"element\">Foo</li>\n",
      "<li class=\"element\">BAr</li>\n",
      "<li class=\"element\">Gods</li>\n",
      "</ul>, <ul class=\"list list-small\" id=\"list-2\">\n",
      "<li class=\"element\">Foo</li>\n",
      "<li class=\"element\">Gods</li>\n",
      "</ul>]\n",
      "----------------------------------------\n",
      "<class 'bs4.element.Tag'>\n",
      "----------------------------------------\n",
      "<li class=\"element\">Foo</li>\n",
      "<li class=\"element\">BAr</li>\n",
      "<li class=\"element\">Gods</li>\n",
      "<li class=\"element\">Foo</li>\n",
      "<li class=\"element\">Gods</li>\n"
     ]
    }
   ],
   "source": [
    "html = '''\n",
    "<div class=\"panel\">\n",
    "    <div class=\"panel-heading\">\n",
    "        <h4>Hello</h4>\n",
    "    <div>\n",
    "    <div class=\"panel-body\">\n",
    "        <ul class=\"list\" id=\"list-1\">\n",
    "            <li class=\"element\">Foo</li>\n",
    "            <li class=\"element\">BAr</li>\n",
    "            <li class=\"element\">Gods</li>\n",
    "        </ul>\n",
    "        \n",
    "        <ul class=\"list list-small\" id=\"list-2\">\n",
    "            <li class=\"element\">Foo</li>\n",
    "            <li class=\"element\">Gods</li>\n",
    "        </ul>\n",
    "    </div>\n",
    "</div>\n",
    "'''\n",
    "from bs4 import BeautifulSoup\n",
    "soup = BeautifulSoup(html, 'lxml')\n",
    "print(soup.find_all('ul'))\n",
    "print('----'*10)\n",
    "print(type(soup.find_all('ul')[0]))\n",
    "print('----'*10)\n",
    "for ul in soup.find_all('ul'):\n",
    "    for li in ul.find_all('li'):\n",
    "        print(li)"
   ]
  },
  {
   "cell_type": "markdown",
   "metadata": {},
   "source": [
    "#### attrs"
   ]
  },
  {
   "cell_type": "code",
   "execution_count": 46,
   "metadata": {},
   "outputs": [
    {
     "name": "stdout",
     "output_type": "stream",
     "text": [
      "[<ul class=\"list\" id=\"list-1\">\n",
      "<li class=\"element\">Foo</li>\n",
      "<li class=\"element\">BAr</li>\n",
      "<li class=\"element\">Gods</li>\n",
      "</ul>]\n"
     ]
    }
   ],
   "source": [
    "print(soup.find_all(attrs={'id':'list-1'}))"
   ]
  },
  {
   "cell_type": "code",
   "execution_count": 48,
   "metadata": {},
   "outputs": [
    {
     "name": "stdout",
     "output_type": "stream",
     "text": [
      "[<ul class=\"list\" id=\"list-1\">\n",
      "<li class=\"element\">Foo</li>\n",
      "<li class=\"element\">BAr</li>\n",
      "<li class=\"element\">Gods</li>\n",
      "</ul>]\n",
      "[<li class=\"element\">Foo</li>, <li class=\"element\">BAr</li>, <li class=\"element\">Gods</li>, <li class=\"element\">Foo</li>, <li class=\"element\">Gods</li>]\n"
     ]
    }
   ],
   "source": [
    "# 等同的写法\n",
    "\n",
    "print(soup.find_all(id='list-1'))\n",
    "\n",
    "print(soup.find_all(class_=\"element\"))"
   ]
  },
  {
   "cell_type": "code",
   "execution_count": null,
   "metadata": {},
   "outputs": [],
   "source": []
  }
 ],
 "metadata": {
  "kernelspec": {
   "display_name": "Python 3",
   "language": "python",
   "name": "python3"
  },
  "language_info": {
   "codemirror_mode": {
    "name": "ipython",
    "version": 3
   },
   "file_extension": ".py",
   "mimetype": "text/x-python",
   "name": "python",
   "nbconvert_exporter": "python",
   "pygments_lexer": "ipython3",
   "version": "3.5.0"
  }
 },
 "nbformat": 4,
 "nbformat_minor": 4
}
