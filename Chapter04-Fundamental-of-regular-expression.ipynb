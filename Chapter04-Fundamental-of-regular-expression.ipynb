{
 "cells": [
  {
   "cell_type": "markdown",
   "metadata": {},
   "source": [
    "# Regular Expression 正则表达式"
   ]
  },
  {
   "cell_type": "markdown",
   "metadata": {},
   "source": [
    "## 常见匹配模式\n",
    "\n",
    "模式 | 描述 |\n",
    "- | :-|\n",
    "\\w | 匹配字母数字及下划线 |\n",
    "    \\W | 匹配非字母数字下划线 | |\n",
    "    \\s | 任意空白字符，等价于[\\t\\n\\r\\f] |\n",
    "    \\S | 匹配任意非空白字符 |\n",
    "    \\d | 匹配数字，等价于[0-9] |\n",
    "  \\D | 匹配任意非数字 |\n",
    "\\A |匹配字符串开始 |\n",
    "  \\Z | 匹配字符串结束，如果是存在换行，只匹配到换行前的结束字符串 |\n",
    " \\z | 匹配字符串结束 |\n",
    "  \\G | 匹配最后匹配完成的位置 |\n",
    "\\n | 匹配一个换行符 |\n",
    "\\t | 匹配一个制表符 |\n",
    "^ | 匹配字符串的开头 |\n",
    "$ | 匹配字串的结尾 |\n",
    ". | 匹配任意字符，除了换行符。当re.DOTALL标记被指定时，则可以匹配包括换行符的任意字符 |\n",
    "[...] |匹配方括号内的一组字符 |\n",
    "[^...] |不匹配方括号内的一组字符 |\n",
    "* | 匹配0个或多个的表达式 |\n",
    "+ | 匹配1个或多个的表达式 |\n",
    "? | 匹配0个或1个前面的正则表达式片段，非贪婪模式 |\n",
    "{n} | 精确匹配n个前面表达式 |\n",
    "{n,m} | 匹配n到m次由前面的正则表达式定义的片段，贪婪模式 |\n",
    "a\\|b | 匹配a或b |\n",
    " () | 匹配括号内的表达式，也表示一个组 |\n"
   ]
  },
  {
   "cell_type": "markdown",
   "metadata": {},
   "source": [
    "## re.match\n",
    "\n",
    "re.match 尝试从字符串的起始位置匹配一个模式，如果不是起始位置匹配成功的话，match()就会返回none\n",
    "\n",
    "```python\n",
    "re.match(pattern, string, flags=0)\n",
    "```"
   ]
  },
  {
   "cell_type": "markdown",
   "metadata": {},
   "source": [
    "### 常规匹配"
   ]
  },
  {
   "cell_type": "code",
   "execution_count": 50,
   "metadata": {},
   "outputs": [
    {
     "name": "stdout",
     "output_type": "stream",
     "text": [
      "<_sre.SRE_Match object; span=(0, 39), match='Hello 1237 127 World_This_is_Regex_Demo'>\n"
     ]
    }
   ],
   "source": [
    "import re\n",
    "\n",
    "content = 'Hello 1237 127 World_This_is_Regex_Demo'\n",
    "result = re.match(r'^Hello\\s\\d{4}\\s\\d{3}\\s\\w{10}.*Demo$',content)\n",
    "\n",
    "print(result)\n",
    "# print(result.group())\n",
    "# print(result.span())"
   ]
  },
  {
   "cell_type": "markdown",
   "metadata": {},
   "source": [
    "### 范匹配"
   ]
  },
  {
   "cell_type": "code",
   "execution_count": 51,
   "metadata": {},
   "outputs": [
    {
     "name": "stdout",
     "output_type": "stream",
     "text": [
      "<_sre.SRE_Match object; span=(0, 39), match='Hello 1237 127 World_This_is_Regex_Demo'>\n",
      "Hello 1237 127 World_This_is_Regex_Demo\n",
      "(0, 39)\n"
     ]
    }
   ],
   "source": [
    "import re\n",
    "\n",
    "content = 'Hello 1237 127 World_This_is_Regex_Demo'\n",
    "result = re.match(r'^Hello.*Demo$',content)\n",
    "print(result)\n",
    "print(result.group())\n",
    "print(result.span())"
   ]
  },
  {
   "cell_type": "markdown",
   "metadata": {},
   "source": [
    "### 匹配目标"
   ]
  },
  {
   "cell_type": "code",
   "execution_count": 53,
   "metadata": {},
   "outputs": [
    {
     "name": "stdout",
     "output_type": "stream",
     "text": [
      "<_sre.SRE_Match object; span=(0, 40), match='Hello 1234567 World_This is a Regex_demo'>\n",
      "1234567\n",
      "World_This\n"
     ]
    }
   ],
   "source": [
    "import re\n",
    "\n",
    "content = \"Hello 1234567 World_This is a Regex_demo\"\n",
    "result=re.match('^Hello\\s(\\d+)\\s(\\w+).*demo$',content)\n",
    "print(result)\n",
    "print(result.group(1))\n",
    "print(result.group(2))"
   ]
  },
  {
   "cell_type": "markdown",
   "metadata": {},
   "source": [
    "### 贪婪匹配"
   ]
  },
  {
   "cell_type": "markdown",
   "metadata": {},
   "source": [
    "### 非贪婪匹配"
   ]
  },
  {
   "cell_type": "markdown",
   "metadata": {},
   "source": [
    "### 匹配模式"
   ]
  },
  {
   "cell_type": "code",
   "execution_count": 55,
   "metadata": {},
   "outputs": [
    {
     "name": "stdout",
     "output_type": "stream",
     "text": [
      "None\n",
      "==============================\n",
      "<_sre.SRE_Match object; span=(0, 40), match='Hello 1234567 World_This\\nis a Regex_demo'>\n",
      "1234567\n"
     ]
    }
   ],
   "source": [
    "import re\n",
    "\n",
    "content = '''Hello 1234567 World_This\n",
    "is a Regex_demo\n",
    "'''\n",
    "\n",
    "result = re.match('^Hello\\s(\\d+).*?demo$', content)\n",
    "print(result)\n",
    "\n",
    "print('==='*10)\n",
    "\n",
    "'''\n",
    "使用的模式\n",
    "    ^Hello\\s(\\d+).*?demo$\n",
    "解释：\n",
    "    ^Hello 以Hello开头\n",
    "    \\s 匹配空白字符\n",
    "    (\\d+) 匹配1个或多个数字\n",
    "    .*? 匹配0个或1个前面的'.*', '.*' 任意字符除了换行符\n",
    "    demo$ 以demo结尾\n",
    "    \n",
    "    re.S 模式为\n",
    "'''\n",
    "result2 = re.match('^Hello\\s(\\d+).*?demo$', content, re.S)\n",
    "print(result2)\n",
    "print(result2.group(1))"
   ]
  },
  {
   "cell_type": "markdown",
   "metadata": {},
   "source": [
    "### 转义"
   ]
  },
  {
   "cell_type": "code",
   "execution_count": 22,
   "metadata": {},
   "outputs": [
    {
     "name": "stdout",
     "output_type": "stream",
     "text": [
      "未转义的结果： None\n"
     ]
    }
   ],
   "source": [
    "import re\n",
    "\n",
    "content = 'price is $5.13'\n",
    "result = re.match('^$(\\d.\\d+)',content)\n",
    "print('未转义的结果：', result)"
   ]
  },
  {
   "cell_type": "code",
   "execution_count": 23,
   "metadata": {
    "scrolled": true
   },
   "outputs": [
    {
     "name": "stdout",
     "output_type": "stream",
     "text": [
      "匹配到的价格为：$5.13\n",
      "匹配到的价格为：$5.11231233\n",
      "匹配到的价格为：$123125.11231233\n"
     ]
    }
   ],
   "source": [
    "import re\n",
    "\n",
    "# 转义后\n",
    "pattern = '^.*\\$(\\d+\\.\\d+)'\n",
    "def get_price(content_with_price):\n",
    "    result2 = re.match(pattern,content_with_price)\n",
    "#     print(result2)\n",
    "    print('匹配到的价格为：$', result2.group(1), sep='')\n",
    "    \n",
    "get_price('price is $5.13')\n",
    "get_price('price is $5.11231233')\n",
    "get_price('price is $123125.11231233')"
   ]
  },
  {
   "cell_type": "markdown",
   "metadata": {},
   "source": [
    "总结：尽量使用（1）泛匹配；（2）使用括号得到匹配目标；（3）尽量使用非贪婪模式；（4）有换行符就用re.S"
   ]
  },
  {
   "cell_type": "markdown",
   "metadata": {},
   "source": [
    "## re.search\n",
    "\n",
    "re.search 扫描整个字符串并返回第一个成功的匹配"
   ]
  },
  {
   "cell_type": "code",
   "execution_count": 26,
   "metadata": {},
   "outputs": [
    {
     "name": "stdout",
     "output_type": "stream",
     "text": [
      "None\n"
     ]
    }
   ],
   "source": [
    "import re\n",
    "\n",
    "content = 'Extra strings Hello 1234567 World_This is a Regex Demo Extra string'\n",
    "result = re.match('Hello.*?(\\d+).*?Demo', content)\n",
    "print(result)"
   ]
  },
  {
   "cell_type": "code",
   "execution_count": 28,
   "metadata": {},
   "outputs": [
    {
     "name": "stdout",
     "output_type": "stream",
     "text": [
      "<_sre.SRE_Match object; span=(14, 54), match='Hello 1234567 World_This is a Regex Demo'>\n",
      "1234567\n"
     ]
    }
   ],
   "source": [
    "import re\n",
    "\n",
    "content = 'Extra strings Hello 1234567 World_This is a Regex Demo Extra string'\n",
    "result = re.search('Hello.*?(\\d+).*?Demo', content)\n",
    "print(result)\n",
    "print(result.group(1))"
   ]
  },
  {
   "cell_type": "markdown",
   "metadata": {},
   "source": [
    "总结：match匹配要限定头部和尾部，所以能用search的就不要用match"
   ]
  },
  {
   "cell_type": "markdown",
   "metadata": {},
   "source": [
    "### 匹配练习"
   ]
  },
  {
   "cell_type": "code",
   "execution_count": 12,
   "metadata": {},
   "outputs": [],
   "source": [
    "html = '''<div class=\"mdBox bgWrite\">\n",
    "            <div class=\"mdBoxHd\">\n",
    "                <a title=\"更多\" class=\"fr\" href=\"/laoge/70.htm\" target=\"_blank\">更多</a>\n",
    "                <h2 class=\"mdBoxHdTit\">\n",
    "                    <span>70后喜欢的80年代经典老歌</span>\n",
    "                </h2>\n",
    "            </div>\n",
    "            <div class=\"mdBoxBd\">\n",
    "                <div class=\"songList clearfix\">\n",
    "                    <ol id=\"f4\">\n",
    "                                                                    <li><input name=\"Url\" class=\"check\" type=\"checkbox\" value=\"65937@\"><span class=\"songNum  topRed\">\n",
    "                                    01.</span><a class=\"songName \" href=\"http://www.jingdianlaoge.com/play/65937.htm\" target=\"_1\">\n",
    "                                    再回首 </a>\n",
    "                            </li>\n",
    "                                                                    <li><input name=\"Url\" class=\"check\" type=\"checkbox\" value=\"66417@\"><span class=\"songNum  topRed\">\n",
    "                                    02.</span><a class=\"songName \" href=\"http://www.jingdianlaoge.com/play/66417.htm\" target=\"_1\">\n",
    "                                    爱拼才会赢 </a>\n",
    "                            </li>\n",
    "                                                                    <li><input name=\"Url\" class=\"check\" type=\"checkbox\" value=\"35721@\"><span class=\"songNum  topRed\">\n",
    "                                    03.</span><a class=\"songName \" href=\"http://www.jingdianlaoge.com/play/35721.htm\" target=\"_1\">\n",
    "                                    我只在乎你 </a>\n",
    "                            </li>\n",
    "                                                                    <li><input name=\"Url\" class=\"check\" type=\"checkbox\" value=\"81667@\"><span class=\"songNum \">\n",
    "                                    04.</span><a class=\"songName \" href=\"http://www.jingdianlaoge.com/play/81667.htm\" target=\"_1\">\n",
    "                                    千年等一回 《新白娘子传奇》电视剧主题曲 </a>\n",
    "                            </li>\n",
    "                                                                    <li><input name=\"Url\" class=\"check\" type=\"checkbox\" value=\"24865@\"><span class=\"songNum \">\n",
    "                                    05.</span><a class=\"songName \" href=\"http://www.jingdianlaoge.com/play/24865.htm\" target=\"_1\">\n",
    "                                    九百九十九朵玫瑰 </a>\n",
    "                            </li>\n",
    "                                                                    <li><input name=\"Url\" class=\"check\" type=\"checkbox\" value=\"49772@\"><span class=\"songNum \">\n",
    "                                    06.</span><a class=\"songName \" href=\"http://www.jingdianlaoge.com/play/49772.htm\" target=\"_1\">\n",
    "                                    女人花 </a>\n",
    "                            </li>\n",
    "                                                                    <li><input name=\"Url\" class=\"check\" type=\"checkbox\" value=\"82151@\"><span class=\"songNum \">\n",
    "                                    07.</span><a class=\"songName \" href=\"http://www.jingdianlaoge.com/play/82151.htm\" target=\"_1\">\n",
    "                                    走过咖啡屋 </a>\n",
    "                            </li>\n",
    "                                                                    <li><input name=\"Url\" class=\"check\" type=\"checkbox\" value=\"20753@\"><span class=\"songNum \">\n",
    "                                    08.</span><a class=\"songName \" href=\"http://www.jingdianlaoge.com/play/20753.htm\" target=\"_1\">\n",
    "                                    酒干倘卖无 </a>\n",
    "                            </li>\n",
    "                                                                    <li><input name=\"Url\" class=\"check\" type=\"checkbox\" value=\"199353@\"><span class=\"songNum \">\n",
    "                                    09.</span><a class=\"songName \" href=\"http://www.jingdianlaoge.com/play/199353.htm\" target=\"_1\">\n",
    "                                    你的柔情我永远不懂 </a>\n",
    "                            </li>\n",
    "                                                                    <li><input name=\"Url\" class=\"check\" type=\"checkbox\" value=\"2247@\"><span class=\"songNum \">\n",
    "                                    10.</span><a class=\"songName \" href=\"http://www.jingdianlaoge.com/play/2247.htm\" target=\"_1\">\n",
    "                                    红豆 </a>\n",
    "                            </li>\n",
    "                                                                    <li><input name=\"Url\" class=\"check\" type=\"checkbox\" value=\"1939@\"><span class=\"songNum \">\n",
    "                                    11.</span><a class=\"songName \" href=\"http://www.jingdianlaoge.com/play/1939.htm\" target=\"_1\">\n",
    "                                    童年 </a>\n",
    "                            </li>\n",
    "                                                                    <li><input name=\"Url\" class=\"check\" type=\"checkbox\" value=\"37778@\"><span class=\"songNum \">\n",
    "                                    12.</span><a class=\"songName \" href=\"http://www.jingdianlaoge.com/play/37778.htm\" target=\"_1\">\n",
    "                                    独角戏 </a>\n",
    "                            </li>\n",
    "                                                                    <li><input name=\"Url\" class=\"check\" type=\"checkbox\" value=\"29215@\"><span class=\"songNum \">\n",
    "                                    13.</span><a class=\"songName \" href=\"http://www.jingdianlaoge.com/play/29215.htm\" target=\"_1\">\n",
    "                                    一剪梅 </a>\n",
    "                            </li>\n",
    "                                                                    <li><input name=\"Url\" class=\"check\" type=\"checkbox\" value=\"42620@\"><span class=\"songNum \">\n",
    "                                    14.</span><a class=\"songName \" href=\"http://www.jingdianlaoge.com/play/42620.htm\" target=\"_1\">\n",
    "                                    千千阙歌 </a>\n",
    "                            </li>\n",
    "                                                                    <li><input name=\"Url\" class=\"check\" type=\"checkbox\" value=\"20823@\"><span class=\"songNum \">\n",
    "                                    15.</span><a class=\"songName \" href=\"http://www.jingdianlaoge.com/play/20823.htm\" target=\"_1\">\n",
    "                                    万水千山总是情 </a>\n",
    "                            </li>\n",
    "                                                                    <li><input name=\"Url\" class=\"check\" type=\"checkbox\" value=\"27247@\"><span class=\"songNum \">\n",
    "                                    16.</span><a class=\"songName \" href=\"http://www.jingdianlaoge.com/play/27247.htm\" target=\"_1\">\n",
    "                                    相见恨晚 </a>\n",
    "                            </li>\n",
    "                                                                    <li><input name=\"Url\" class=\"check\" type=\"checkbox\" value=\"3954@\"><span class=\"songNum \">\n",
    "                                    17.</span><a class=\"songName \" href=\"http://www.jingdianlaoge.com/play/3954.htm\" target=\"_1\">\n",
    "                                    风中有朵雨做的云 </a>\n",
    "                            </li>\n",
    "                                                                    <li><input name=\"Url\" class=\"check\" type=\"checkbox\" value=\"22985@\"><span class=\"songNum \">\n",
    "                                    18.</span><a class=\"songName \" href=\"http://www.jingdianlaoge.com/play/22985.htm\" target=\"_1\">\n",
    "                                    容易受伤的女人 </a>\n",
    "                            </li>\n",
    "                                                                    <li><input name=\"Url\" class=\"check\" type=\"checkbox\" value=\"79930@\"><span class=\"songNum \">\n",
    "                                    19.</span><a class=\"songName \" href=\"http://www.jingdianlaoge.com/play/79930.htm\" target=\"_1\">\n",
    "                                    我是不是该安静的走开 </a>\n",
    "                            </li>\n",
    "                                                                    <li><input name=\"Url\" class=\"check\" type=\"checkbox\" value=\"81655@\"><span class=\"songNum \">\n",
    "                                    20.</span><a class=\"songName \" href=\"http://www.jingdianlaoge.com/play/81655.htm\" target=\"_1\">\n",
    "                                    铁血丹心 《射雕英雄传之铁血丹心》电视剧主题曲 </a>\n",
    "                            </li>\n",
    "                                                                    <li><input name=\"Url\" class=\"check\" type=\"checkbox\" value=\"11411@\"><span class=\"songNum \">\n",
    "                                    21.</span><a class=\"songName \" href=\"http://www.jingdianlaoge.com/play/11411.htm\" target=\"_1\">\n",
    "                                    我的未来不是梦 </a>\n",
    "                            </li>\n",
    "                                                                    <li><input name=\"Url\" class=\"check\" type=\"checkbox\" value=\"64974@\"><span class=\"songNum \">\n",
    "                                    22.</span><a class=\"songName \" href=\"http://www.jingdianlaoge.com/play/64974.htm\" target=\"_1\">\n",
    "                                    粉红色的回忆 </a>\n",
    "                            </li>\n",
    "                                                                    <li><input name=\"Url\" class=\"check\" type=\"checkbox\" value=\"38248@\"><span class=\"songNum \">\n",
    "                                    23.</span><a class=\"songName \" href=\"http://www.jingdianlaoge.com/play/38248.htm\" target=\"_1\">\n",
    "                                    小城故事 </a>\n",
    "                            </li>\n",
    "                                                                    <li><input name=\"Url\" class=\"check\" type=\"checkbox\" value=\"49771@\"><span class=\"songNum \">\n",
    "                                    24.</span><a class=\"songName \" href=\"http://www.jingdianlaoge.com/play/49771.htm\" target=\"_1\">\n",
    "                                    一生爱你千百回 </a>\n",
    "                            </li>\n",
    "                                                                    <li><input name=\"Url\" class=\"check\" type=\"checkbox\" value=\"671@\"><span class=\"songNum \">\n",
    "                                    25.</span><a class=\"songName \" href=\"http://www.jingdianlaoge.com/play/671.htm\" target=\"_1\">\n",
    "                                    真的爱你 </a>\n",
    "                            </li>\n",
    "                                                                    <li><input name=\"Url\" class=\"check\" type=\"checkbox\" value=\"35504@\"><span class=\"songNum \">\n",
    "                                    26.</span><a class=\"songName \" href=\"http://www.jingdianlaoge.com/play/35504.htm\" target=\"_1\">\n",
    "                                    讲不出再见 </a>\n",
    "                            </li>\n",
    "                                                                    <li><input name=\"Url\" class=\"check\" type=\"checkbox\" value=\"45258@\"><span class=\"songNum \">\n",
    "                                    27.</span><a class=\"songName \" href=\"http://www.jingdianlaoge.com/play/45258.htm\" target=\"_1\">\n",
    "                                    又见炊烟 </a>\n",
    "                            </li>\n",
    "                                                                    <li><input name=\"Url\" class=\"check\" type=\"checkbox\" value=\"81669@\"><span class=\"songNum \">\n",
    "                                    28.</span><a class=\"songName \" href=\"http://www.jingdianlaoge.com/play/81669.htm\" target=\"_1\">\n",
    "                                    万里长城永不倒 </a>\n",
    "                            </li>\n",
    "                                                                    <li><input name=\"Url\" class=\"check\" type=\"checkbox\" value=\"188203@\"><span class=\"songNum \">\n",
    "                                    29.</span><a class=\"songName \" href=\"http://www.jingdianlaoge.com/play/188203.htm\" target=\"_1\">\n",
    "                                    爱江山更爱美人 </a>\n",
    "                            </li>\n",
    "                                                                    <li><input name=\"Url\" class=\"check\" type=\"checkbox\" value=\"81654@\"><span class=\"songNum \">\n",
    "                                    30.</span><a class=\"songName \" href=\"http://www.jingdianlaoge.com/play/81654.htm\" target=\"_1\">\n",
    "                                    梅花三弄 </a>\n",
    "                            </li>\n",
    "                                                            </ol>\n",
    "                </div>\n",
    "                <div class=\"setPlay\">\n",
    "                    <a class=\"setPlayPlay\" style=\"cursor: pointer;\" onclick=\"javascript:new_lbplay('f4');\">全部播放</a><a class=\"setPlayXuan\" style=\"cursor: pointer;\" onclick=\"javascript:quanxuan('f4');\">全选/反选</a><a class=\"setPlayAdd\" style=\"cursor: pointer;\" onclick=\"javascript:clk('playadd','f4');\">播放选中</a><a class=\"setPlaySui\" style=\"cursor: pointer;\" onclick=\"subrnd(40,'form','Url','index','rm1')\">随机播放</a>\n",
    "                </div>\n",
    "            </div>\n",
    "        </div>\n",
    "'''\n",
    "\n",
    "small_html='''<li><input name=\"Url\" class=\"check\" type=\"checkbox\" value=\"81655@\"><span class=\"songNum \">\n",
    "        20.</span><a class=\"songName \" href=\"http://www.jingdianlaoge.com/play/81655.htm\" target=\"_1\">\n",
    "        铁血丹心 《射雕英雄传之铁血丹心》电视剧主题曲 </a>\n",
    "</li>\n",
    "'''"
   ]
  },
  {
   "cell_type": "code",
   "execution_count": 29,
   "metadata": {},
   "outputs": [
    {
     "name": "stdout",
     "output_type": "stream",
     "text": [
      "<_sre.SRE_Match object; span=(207, 732), match='<span>70后喜欢的80年代经典老歌</span>\\n                </h2>\n",
      "|-->No. 01 |-->URL: http://www.jingdianlaoge.com/play/65937.htm |-->SongName: 再回首\n"
     ]
    }
   ],
   "source": [
    "import re\n",
    "\n",
    "pattern = '<span.*?songNum.*?(\\d+)\\.</span><a.*?songName.*?href=\"(.*?)\".*?([\\u4e00-\\u9fa5]+).?</a>'\n",
    "pattern2 = '<span.*?songNum.*?(\\d+)\\.</span><a.*?songName.*?href=\"(.*?)\".*?([^\\x00-\\xff]+)\\s?</a>'\n",
    "result = re.search(pattern2,html,re.S)\n",
    "print(result)\n",
    "if result != None:\n",
    "    print('|-->No.', result.group(1), '|-->URL:', result.group(2), '|-->SongName:', result.group(3))"
   ]
  },
  {
   "cell_type": "code",
   "execution_count": 35,
   "metadata": {},
   "outputs": [
    {
     "name": "stdout",
     "output_type": "stream",
     "text": [
      "|-->No. 01 |-->SongName: 再回首 |-->URL: http://www.jingdianlaoge.com/play/65937.htm\n"
     ]
    }
   ],
   "source": [
    "pattern = '<span.*?songNum.*?(\\d+)\\.</span><a.*?songName.*?href=\"(.*?)\".*?([^\\x00-\\xff]+\\s?[^\\x00-\\xff]+).?</a>'\n",
    "result = re.search(pattern,html,re.S)\n",
    "if result != None:\n",
    "    print('|-->No.', result.group(1), '|-->SongName:', result.group(3),'|-->URL:', result.group(2), )\n",
    "else:\n",
    "    print(result)"
   ]
  },
  {
   "cell_type": "markdown",
   "metadata": {},
   "source": [
    "## re.findall\n",
    "\n",
    "搜索字符串，以列表的形式返回能匹配的子串"
   ]
  },
  {
   "cell_type": "code",
   "execution_count": 40,
   "metadata": {},
   "outputs": [
    {
     "name": "stdout",
     "output_type": "stream",
     "text": [
      "Total song: 30\n",
      "==============================================================================================================\n",
      "第01首， 歌曲为《再回首》，链接：http://www.jingdianlaoge.com/play/65937.htm\n",
      "==============================================================================================================\n",
      "==============================================================================================================\n",
      "第02首， 歌曲为《爱拼才会赢》，链接：http://www.jingdianlaoge.com/play/66417.htm\n",
      "==============================================================================================================\n",
      "==============================================================================================================\n",
      "第03首， 歌曲为《我只在乎你》，链接：http://www.jingdianlaoge.com/play/35721.htm\n",
      "==============================================================================================================\n",
      "==============================================================================================================\n",
      "第04首， 歌曲为《千年等一回 《新白娘子传奇》电视剧主题曲》，链接：http://www.jingdianlaoge.com/play/81667.htm\n",
      "==============================================================================================================\n",
      "==============================================================================================================\n",
      "第05首， 歌曲为《九百九十九朵玫瑰》，链接：http://www.jingdianlaoge.com/play/24865.htm\n",
      "==============================================================================================================\n",
      "==============================================================================================================\n",
      "第06首， 歌曲为《女人花》，链接：http://www.jingdianlaoge.com/play/49772.htm\n",
      "==============================================================================================================\n",
      "==============================================================================================================\n",
      "第07首， 歌曲为《走过咖啡屋》，链接：http://www.jingdianlaoge.com/play/82151.htm\n",
      "==============================================================================================================\n",
      "==============================================================================================================\n",
      "第08首， 歌曲为《酒干倘卖无》，链接：http://www.jingdianlaoge.com/play/20753.htm\n",
      "==============================================================================================================\n",
      "==============================================================================================================\n",
      "第09首， 歌曲为《你的柔情我永远不懂》，链接：http://www.jingdianlaoge.com/play/199353.htm\n",
      "==============================================================================================================\n",
      "==============================================================================================================\n",
      "第10首， 歌曲为《红豆》，链接：http://www.jingdianlaoge.com/play/2247.htm\n",
      "==============================================================================================================\n",
      "==============================================================================================================\n",
      "第11首， 歌曲为《童年》，链接：http://www.jingdianlaoge.com/play/1939.htm\n",
      "==============================================================================================================\n",
      "==============================================================================================================\n",
      "第12首， 歌曲为《独角戏》，链接：http://www.jingdianlaoge.com/play/37778.htm\n",
      "==============================================================================================================\n",
      "==============================================================================================================\n",
      "第13首， 歌曲为《一剪梅》，链接：http://www.jingdianlaoge.com/play/29215.htm\n",
      "==============================================================================================================\n",
      "==============================================================================================================\n",
      "第14首， 歌曲为《千千阙歌》，链接：http://www.jingdianlaoge.com/play/42620.htm\n",
      "==============================================================================================================\n",
      "==============================================================================================================\n",
      "第15首， 歌曲为《万水千山总是情》，链接：http://www.jingdianlaoge.com/play/20823.htm\n",
      "==============================================================================================================\n",
      "==============================================================================================================\n",
      "第16首， 歌曲为《相见恨晚》，链接：http://www.jingdianlaoge.com/play/27247.htm\n",
      "==============================================================================================================\n",
      "==============================================================================================================\n",
      "第17首， 歌曲为《风中有朵雨做的云》，链接：http://www.jingdianlaoge.com/play/3954.htm\n",
      "==============================================================================================================\n",
      "==============================================================================================================\n",
      "第18首， 歌曲为《容易受伤的女人》，链接：http://www.jingdianlaoge.com/play/22985.htm\n",
      "==============================================================================================================\n",
      "==============================================================================================================\n",
      "第19首， 歌曲为《我是不是该安静的走开》，链接：http://www.jingdianlaoge.com/play/79930.htm\n",
      "==============================================================================================================\n",
      "==============================================================================================================\n",
      "第20首， 歌曲为《铁血丹心 《射雕英雄传之铁血丹心》电视剧主题曲》，链接：http://www.jingdianlaoge.com/play/81655.htm\n",
      "==============================================================================================================\n",
      "==============================================================================================================\n",
      "第21首， 歌曲为《我的未来不是梦》，链接：http://www.jingdianlaoge.com/play/11411.htm\n",
      "==============================================================================================================\n",
      "==============================================================================================================\n",
      "第22首， 歌曲为《粉红色的回忆》，链接：http://www.jingdianlaoge.com/play/64974.htm\n",
      "==============================================================================================================\n",
      "==============================================================================================================\n",
      "第23首， 歌曲为《小城故事》，链接：http://www.jingdianlaoge.com/play/38248.htm\n",
      "==============================================================================================================\n",
      "==============================================================================================================\n",
      "第24首， 歌曲为《一生爱你千百回》，链接：http://www.jingdianlaoge.com/play/49771.htm\n",
      "==============================================================================================================\n",
      "==============================================================================================================\n",
      "第25首， 歌曲为《真的爱你》，链接：http://www.jingdianlaoge.com/play/671.htm\n",
      "==============================================================================================================\n",
      "==============================================================================================================\n",
      "第26首， 歌曲为《讲不出再见》，链接：http://www.jingdianlaoge.com/play/35504.htm\n",
      "==============================================================================================================\n",
      "==============================================================================================================\n",
      "第27首， 歌曲为《又见炊烟》，链接：http://www.jingdianlaoge.com/play/45258.htm\n",
      "==============================================================================================================\n",
      "==============================================================================================================\n",
      "第28首， 歌曲为《万里长城永不倒》，链接：http://www.jingdianlaoge.com/play/81669.htm\n",
      "==============================================================================================================\n",
      "==============================================================================================================\n",
      "第29首， 歌曲为《爱江山更爱美人》，链接：http://www.jingdianlaoge.com/play/188203.htm\n",
      "==============================================================================================================\n",
      "==============================================================================================================\n",
      "第30首， 歌曲为《梅花三弄》，链接：http://www.jingdianlaoge.com/play/81654.htm\n",
      "==============================================================================================================\n"
     ]
    }
   ],
   "source": [
    "import re\n",
    "\n",
    "'''\n",
    "中文汉字\n",
    "[\\u4e00-\\u9fa5]\n",
    "\n",
    "\n",
    "用于匹配双字节字符\n",
    "[^\\x00-\\xff]\n",
    "\n",
    "'''\n",
    "# pattern = '<span.*?songNum.*?(\\d+)\\.</span><a.*?songName.*?href=\"(.*?)\".*?([\\u4e00-\\u9fa5]+\\s?[\\u4e00-\\u9fa5]+)\\s?</a>'\n",
    "pattern = '<span.*?songNum.*?(\\d+)\\.</span><a.*?songName.*?href=\"(.*?)\".*?([^\\x00-\\xff]+\\s?[^\\x00-\\xff]+)\\s?</a>'\n",
    "result = re.findall(pattern,html,re.S)\n",
    "# print(result)\n",
    "if result:\n",
    "    print('Total song: %d'%len(result))\n",
    "    for item in result:\n",
    "        print(\"==========\"*11)\n",
    "        print(\"第%s首， 歌曲为《%s》，链接：%s\"%(item[0],item[2],item[1]))\n",
    "        print(\"==========\"*11)"
   ]
  },
  {
   "cell_type": "markdown",
   "metadata": {},
   "source": [
    "## re.sub\n",
    "\n",
    "替换字符串中每一个匹配的子串后返回替换后的字符串\n",
    "\n",
    "```python\n",
    "re.sub(pattern, repl, string, count=0, flags=0)\n",
    "```"
   ]
  },
  {
   "cell_type": "code",
   "execution_count": 3,
   "metadata": {},
   "outputs": [
    {
     "name": "stdout",
     "output_type": "stream",
     "text": [
      "替换为空： Extra strings  World_This is a Regex Demo Extra strings\n",
      "替换为其他字符串： Extra strings $Original is number$ World_This is a Regex Demo Extra strings\n"
     ]
    }
   ],
   "source": [
    "import re\n",
    "\n",
    "content1 = \"Extra strings 123457 World_This is a Regex Demo Extra strings\"\n",
    "content1 = re.sub('\\d+', \"\", content1)\n",
    "print(\"替换为空：\", content1)\n",
    "\n",
    "content2 = \"Extra strings 123457 World_This is a Regex Demo Extra strings\"\n",
    "content2 = re.sub('\\d+', \"$Original is number$\", content2)\n",
    "print(\"替换为其他字符串：\",content2)"
   ]
  },
  {
   "cell_type": "code",
   "execution_count": 7,
   "metadata": {},
   "outputs": [
    {
     "name": "stdout",
     "output_type": "stream",
     "text": [
      "Extra strings 123457-replacement World_This is a Regex Demo Extra strings\n"
     ]
    }
   ],
   "source": [
    "import re\n",
    "\n",
    "content = \"Extra strings 123457 World_This is a Regex Demo Extra strings\"\n",
    "# \\1获取第一组的内容，依次类推\n",
    "content = re.sub('(\\d+)', r'\\1-replacement', content)\n",
    "print(content)"
   ]
  },
  {
   "cell_type": "markdown",
   "metadata": {},
   "source": [
    "## re.compile\n",
    "\n",
    "将正则字符串编译成正则表达式对象，以便于复用该匹配模式\n",
    "\n",
    "```python\n",
    "re.compile(pattern, flags=0)\n",
    "```"
   ]
  },
  {
   "cell_type": "code",
   "execution_count": 1,
   "metadata": {},
   "outputs": [
    {
     "name": "stdout",
     "output_type": "stream",
     "text": [
      "<_sre.SRE_Match object; span=(0, 40), match='Hello 1234567 World_This\\nis a Regex Demo'>\n"
     ]
    }
   ],
   "source": [
    "import re\n",
    "\n",
    "content = \"\"\"Hello 1234567 World_This\n",
    "is a Regex Demo\n",
    "\"\"\"\n",
    "# 将常用的匹配模式编译成正则表达式对象后，增加其复用性，不需要重新再写一遍正则表达式串\n",
    "pattern = re.compile(\"Hello.*?Demo\", re.S)\n",
    "result = re.match(pattern, content)\n",
    "print(result)"
   ]
  },
  {
   "cell_type": "markdown",
   "metadata": {},
   "source": [
    "## 综合示例"
   ]
  },
  {
   "cell_type": "code",
   "execution_count": 1,
   "metadata": {},
   "outputs": [],
   "source": [
    "import re\n",
    "import requests\n",
    "from requests.exceptions import RequestException, HTTPError"
   ]
  },
  {
   "cell_type": "code",
   "execution_count": 1,
   "metadata": {},
   "outputs": [
    {
     "name": "stdout",
     "output_type": "stream",
     "text": [
      "Status_code:  200\n"
     ]
    }
   ],
   "source": [
    "url = \"https://book.douban.com/\"\n",
    "html=\"\"\n",
    "headers = {\n",
    "    'Accept': 'text/html, application/xhtml+xml, application/xml; q=0.9, */*; q=0.8',\n",
    "    'Accept-Language': 'zh-Hans-CN, zh-Hans; q=0.8, en-US; q=0.5, en; q=0.3', \n",
    "    'User-Agent': 'Mozilla/5.0 (Windows NT 10.0; Win64; x64) AppleWebKit/537.36 (KHTML, like Gecko) Chrome/70.0.3538.102 Safari/537.36 Edge/18.18362',\n",
    "    'Host': 'book.douban.com'\n",
    "}\n",
    "\n",
    "try:\n",
    "    response = requests.get(url, headers=headers)\n",
    "    print(\"Status_code: \", response.status_code)\n",
    "    html = response.text\n",
    "except HTTPError as http_error:\n",
    "    print(http_error)\n",
    "except RequestException as e:\n",
    "    print(e)"
   ]
  },
  {
   "cell_type": "code",
   "execution_count": 1,
   "metadata": {},
   "outputs": [
    {
     "name": "stdout",
     "output_type": "stream",
     "text": [
      "exists\n"
     ]
    }
   ],
   "source": [
    "# print(html)\n",
    "import os\n",
    "\n",
    "demo_file = \"demo_file/books_douban.txt\"\n",
    "if not os.path.isfile(demo_file):    \n",
    "    with open(demo_file, 'w', encoding='utf-8') as f:\n",
    "        f.write(html)\n",
    "    print('ok')\n",
    "else:\n",
    "    print(\"exists\")"
   ]
  },
  {
   "cell_type": "code",
   "execution_count": 7,
   "metadata": {},
   "outputs": [
    {
     "name": "stdout",
     "output_type": "stream",
     "text": [
      "[('https://book.douban.com/subject/30259677/?icn=index-topchart-subject', 'https://img3.doubanio.com/view/subject/m/public/s30022290.jpg', '焚舟纪', '作者：[英] 安吉拉·卡特\\n     ', '英国文学&nbsp;/&nbsp;短篇小说')]\n",
      "------------------------------\n",
      "URL:https://book.douban.com/subject/30259677/?icn=index-topchart-subject, img_url:https://img3.doubanio.com/view/subject/m/public/s30022290.jpg, title:《焚舟纪》, author:作者：[英]安吉拉·卡特, book-list-classification:英国文学/短篇小说\n"
     ]
    }
   ],
   "source": [
    "# 开始匹配\n",
    "test_text = '''<h2 class=''>\n",
    "    <span class=\"\">新书速递</span>\n",
    "      <span class=\"link-more\">\n",
    "        <a class=\"\" href=\"/latest?icn=index-latestbook-all\"\n",
    "          >更多»</a>\n",
    "      </span>\n",
    "  </h2>\n",
    "'''\n",
    "\n",
    "test_text2 = \"\"\"<div class=\"hd\">\n",
    "      \n",
    "  <h2 class=''>\n",
    "    <span class=\"\">新书速递</span>\n",
    "      <span class=\"link-more\">\n",
    "        <a class=\"\" href=\"/latest?icn=index-latestbook-all\"\n",
    "          >更多»</a>\n",
    "      </span>\n",
    "  </h2>\n",
    "\"\"\"\n",
    "\n",
    "test_text3='''<li class=\"\">\n",
    "    <div class=\"cover\">\n",
    "      <a onclick=\"moreurl(this, {from:'pop_fiction'})\" href=\"https://book.douban.com/subject/30259677/?icn=index-topchart-subject\">\n",
    "        <img src=\"https://img3.doubanio.com/view/subject/m/public/s30022290.jpg\"\n",
    "          alt=\"焚舟纪\" class=\"\">\n",
    "      </a>\n",
    "    </div>\n",
    "    <div class=\"info\">\n",
    "      <h4 class=\"title\">\n",
    "        <a onclick=\"moreurl(this, {from:'pop_fiction'})\"\n",
    "          href=\"https://book.douban.com/subject/30259677/?icn=index-topchart-subject\" class=\"\">焚舟纪</a>\n",
    "      </h4>\n",
    "      <p class=\"entry-star-small\">\n",
    "        <span class=\"allstar45 star-img\">\n",
    "        </span>\n",
    "        <span class=\"average-rating\">\n",
    "          9.1\n",
    "        </span>\n",
    "      </p>\n",
    "      <p class=\"author\">\n",
    "        作者：[英] 安吉拉·卡特\n",
    "      </p>\n",
    "      <p class=\"book-list-classification\">\n",
    "        英国文学&nbsp;/&nbsp;短篇小说\n",
    "      </p>\n",
    "      <p class=\"extra-info\">\n",
    "        \n",
    "      </p>\n",
    "        \n",
    "        <p class=\"reviews\">\n",
    "          这本全集里的作品正显示我们的损失有多大。\n",
    "          (<a onclick=\"moreurl(this, {from:'pop_fiction'})\" href=\"https://book.douban.com/review/10283796/?icn=index-topchart-subject\">purplepine评论</a>)\n",
    "        </p>\n",
    "    </div>\n",
    "  </li>\n",
    "'''\n",
    "#pattern_title=re.compile('<div\\s+class=\"hd\">\\s+<h2.*?>\\s+<span.*?>(\\w+).*?</span>.*?</h2>', re.S)\n",
    "#result=re.findall(pattern_title, html)\n",
    "#print(result)\n",
    "pattern_c = re.compile('<li.*?cover.*?href=\"(.*?)\">.*?src=\"(.*?)\".*?title.*?>(\\w+)</a>\\s+</h4>.*?<p class=\"author\">\\s+(.*)\\s+</p>.*?book-list-classification.*?([^\\x00-\\xff]+.*?[^\\x00-\\xff]+).*?</p>.*?</li>', re.S)\n",
    "result2=re.findall(pattern_c, test_text3)\n",
    "print(result2)\n",
    "print('---'*10)\n",
    "for url,img_url,title,author,classification in result2:\n",
    "    print(\"URL:%s, img_url:%s, title:《%s》, author:%s, book-list-classification:%s\"%(\n",
    "        url, img_url, title, re.sub('\\s+', \"\", author), re.sub('(&nbsp;)', \"\", classification)\n",
    "    ))"
   ]
  },
  {
   "cell_type": "code",
   "execution_count": null,
   "metadata": {},
   "outputs": [],
   "source": []
  }
 ],
 "metadata": {
  "kernelspec": {
   "display_name": "Python 3",
   "language": "python",
   "name": "python3"
  },
  "language_info": {
   "codemirror_mode": {
    "name": "ipython",
    "version": 3
   },
   "file_extension": ".py",
   "mimetype": "text/x-python",
   "name": "python",
   "nbconvert_exporter": "python",
   "pygments_lexer": "ipython3",
   "version": "3.5.0"
  }
 },
 "nbformat": 4,
 "nbformat_minor": 4
}
